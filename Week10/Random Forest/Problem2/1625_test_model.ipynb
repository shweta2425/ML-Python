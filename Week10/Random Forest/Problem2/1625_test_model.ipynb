{
 "cells": [
  {
   "cell_type": "code",
   "execution_count": 1,
   "metadata": {
    "ExecuteTime": {
     "end_time": "2019-05-06T13:52:31.446475Z",
     "start_time": "2019-05-06T13:52:30.762019Z"
    }
   },
   "outputs": [],
   "source": [
    "import warnings\n",
    "warnings.filterwarnings('ignore')\n",
    "from sklearn.metrics import confusion_matrix\n",
    "import sklearn\n",
    "import pandas as pd\n",
    "import pickle\n",
    "import importlib.util\n",
    "import importlib.util"
   ]
  },
  {
   "cell_type": "code",
   "execution_count": 2,
   "metadata": {},
   "outputs": [],
   "source": [
    "# importing template file \n",
    "spec = importlib.util.spec_from_file_location(\"Template\", \"/home/admin1/PycharmProjects/ML/Week10/Template/template.py\")\n",
    "foo = importlib.util.module_from_spec(spec)\n",
    "spec.loader.exec_module(foo)\n",
    "# creating object of Template class\n",
    "temp = foo.Template()"
   ]
  },
  {
   "cell_type": "code",
   "execution_count": 3,
   "metadata": {
    "ExecuteTime": {
     "end_time": "2019-05-06T13:52:31.520480Z",
     "start_time": "2019-05-06T13:52:31.448597Z"
    }
   },
   "outputs": [
    {
     "data": {
      "text/html": [
       "<div>\n",
       "<style scoped>\n",
       "    .dataframe tbody tr th:only-of-type {\n",
       "        vertical-align: middle;\n",
       "    }\n",
       "\n",
       "    .dataframe tbody tr th {\n",
       "        vertical-align: top;\n",
       "    }\n",
       "\n",
       "    .dataframe thead th {\n",
       "        text-align: right;\n",
       "    }\n",
       "</style>\n",
       "<table border=\"1\" class=\"dataframe\">\n",
       "  <thead>\n",
       "    <tr style=\"text-align: right;\">\n",
       "      <th></th>\n",
       "      <th>A</th>\n",
       "      <th>B</th>\n",
       "      <th>C</th>\n",
       "      <th>D</th>\n",
       "      <th>E</th>\n",
       "      <th>F</th>\n",
       "      <th>G</th>\n",
       "      <th>H</th>\n",
       "      <th>flags</th>\n",
       "    </tr>\n",
       "  </thead>\n",
       "  <tbody>\n",
       "    <tr>\n",
       "      <th>0</th>\n",
       "      <td>R</td>\n",
       "      <td>E</td>\n",
       "      <td>L</td>\n",
       "      <td>R</td>\n",
       "      <td>R</td>\n",
       "      <td>Q</td>\n",
       "      <td>V</td>\n",
       "      <td>D</td>\n",
       "      <td>0</td>\n",
       "    </tr>\n",
       "    <tr>\n",
       "      <th>1</th>\n",
       "      <td>V</td>\n",
       "      <td>G</td>\n",
       "      <td>K</td>\n",
       "      <td>L</td>\n",
       "      <td>N</td>\n",
       "      <td>W</td>\n",
       "      <td>A</td>\n",
       "      <td>S</td>\n",
       "      <td>0</td>\n",
       "    </tr>\n",
       "    <tr>\n",
       "      <th>2</th>\n",
       "      <td>S</td>\n",
       "      <td>E</td>\n",
       "      <td>E</td>\n",
       "      <td>Y</td>\n",
       "      <td>P</td>\n",
       "      <td>I</td>\n",
       "      <td>M</td>\n",
       "      <td>I</td>\n",
       "      <td>1</td>\n",
       "    </tr>\n",
       "    <tr>\n",
       "      <th>3</th>\n",
       "      <td>Y</td>\n",
       "      <td>V</td>\n",
       "      <td>T</td>\n",
       "      <td>T</td>\n",
       "      <td>S</td>\n",
       "      <td>T</td>\n",
       "      <td>R</td>\n",
       "      <td>T</td>\n",
       "      <td>0</td>\n",
       "    </tr>\n",
       "    <tr>\n",
       "      <th>4</th>\n",
       "      <td>N</td>\n",
       "      <td>L</td>\n",
       "      <td>K</td>\n",
       "      <td>T</td>\n",
       "      <td>G</td>\n",
       "      <td>K</td>\n",
       "      <td>Y</td>\n",
       "      <td>A</td>\n",
       "      <td>0</td>\n",
       "    </tr>\n",
       "  </tbody>\n",
       "</table>\n",
       "</div>"
      ],
      "text/plain": [
       "   A  B  C  D  E  F  G  H  flags\n",
       "0  R  E  L  R  R  Q  V  D      0\n",
       "1  V  G  K  L  N  W  A  S      0\n",
       "2  S  E  E  Y  P  I  M  I      1\n",
       "3  Y  V  T  T  S  T  R  T      0\n",
       "4  N  L  K  T  G  K  Y  A      0"
      ]
     },
     "execution_count": 3,
     "metadata": {},
     "output_type": "execute_result"
    }
   ],
   "source": [
    "# read file\n",
    "df=temp.read_file('test_data.csv')\n",
    "df.head()"
   ]
  },
  {
   "cell_type": "code",
   "execution_count": 4,
   "metadata": {
    "ExecuteTime": {
     "end_time": "2019-05-06T13:52:31.525771Z",
     "start_time": "2019-05-06T13:52:31.522420Z"
    }
   },
   "outputs": [],
   "source": [
    "# separating features and labels of training dataset\n",
    "x_test=df.iloc[:,:-1].values\n",
    "y_test=df.iloc[:,8].values\n"
   ]
  },
  {
   "cell_type": "code",
   "execution_count": 5,
   "metadata": {
    "ExecuteTime": {
     "end_time": "2019-05-06T13:52:31.550291Z",
     "start_time": "2019-05-06T13:52:31.527577Z"
    }
   },
   "outputs": [],
   "source": [
    "# reading the pickle file\n",
    "fileObject = open('train_data.pkl','rb')\n",
    "classifier = pickle.load(fileObject)\n",
    "sc=pickle.load(fileObject)\n"
   ]
  },
  {
   "cell_type": "code",
   "execution_count": 6,
   "metadata": {
    "ExecuteTime": {
     "end_time": "2019-05-06T13:52:31.556148Z",
     "start_time": "2019-05-06T13:52:31.552343Z"
    }
   },
   "outputs": [
    {
     "data": {
      "text/plain": [
       "(488, 8)"
      ]
     },
     "execution_count": 6,
     "metadata": {},
     "output_type": "execute_result"
    }
   ],
   "source": [
    "x_test=pd.DataFrame(x_test)\n",
    "x_test.shape"
   ]
  },
  {
   "cell_type": "code",
   "execution_count": 7,
   "metadata": {
    "ExecuteTime": {
     "end_time": "2019-05-06T13:52:31.582027Z",
     "start_time": "2019-05-06T13:52:31.557856Z"
    }
   },
   "outputs": [
    {
     "data": {
      "text/plain": [
       "(488, 160)"
      ]
     },
     "execution_count": 7,
     "metadata": {},
     "output_type": "execute_result"
    }
   ],
   "source": [
    "x_test=temp.oneHotEncoding(x_test)\n",
    "x_test.shape"
   ]
  },
  {
   "cell_type": "code",
   "execution_count": 8,
   "metadata": {
    "ExecuteTime": {
     "end_time": "2019-05-06T13:52:31.591263Z",
     "start_time": "2019-05-06T13:52:31.584012Z"
    }
   },
   "outputs": [],
   "source": [
    "x_test=sc.transform(x_test)"
   ]
  },
  {
   "cell_type": "code",
   "execution_count": 9,
   "metadata": {
    "ExecuteTime": {
     "end_time": "2019-05-06T13:52:31.608539Z",
     "start_time": "2019-05-06T13:52:31.593118Z"
    }
   },
   "outputs": [
    {
     "name": "stdout",
     "output_type": "stream",
     "text": [
      "Test matrix\n",
      " [[374   4]\n",
      " [ 18  92]]\n",
      "Accuracy of test data = 91.28908128908128\n"
     ]
    }
   ],
   "source": [
    "class RandomForest:\n",
    "    \n",
    "    def get_predictions(self,x):        \n",
    "        # getting prediction values\n",
    "        y_pred = classifier.predict(x)\n",
    "        return y_pred\n",
    "    \n",
    "    def create_confusion_matrix(self,y,y_pred):\n",
    "        # making confusion matrix\n",
    "        cm= confusion_matrix(y,y_pred)\n",
    "        return cm\n",
    "    \n",
    "    def get_accuracy(self,y_train,y_pred):\n",
    "        Accuracy = sklearn.metrics.balanced_accuracy_score(y_train,y_pred)*100\n",
    "        return Accuracy\n",
    "                \n",
    "def main():\n",
    "    # creates class object \n",
    "    obj = RandomForest()\n",
    "    y_pred_test = obj.get_predictions(x_test)\n",
    "    \n",
    "    cm=obj.create_confusion_matrix(y_test,y_pred_test)\n",
    "    print(\"Test matrix\\n\",cm)\n",
    "    \n",
    "    acc_test = obj.get_accuracy(y_test,y_pred_test)\n",
    "    print(\"Accuracy of test data =\",acc_test)\n",
    "    \n",
    "#     temp.visualization(y_pred_test,x_test,y_test,classifier)\n",
    "    \n",
    "if __name__ == '__main__':\n",
    "    main()"
   ]
  },
  {
   "cell_type": "code",
   "execution_count": null,
   "metadata": {},
   "outputs": [],
   "source": []
  }
 ],
 "metadata": {
  "kernelspec": {
   "display_name": "Python 3",
   "language": "python",
   "name": "python3"
  },
  "language_info": {
   "codemirror_mode": {
    "name": "ipython",
    "version": 3
   },
   "file_extension": ".py",
   "mimetype": "text/x-python",
   "name": "python",
   "nbconvert_exporter": "python",
   "pygments_lexer": "ipython3",
   "version": "3.7.2"
  }
 },
 "nbformat": 4,
 "nbformat_minor": 2
}
