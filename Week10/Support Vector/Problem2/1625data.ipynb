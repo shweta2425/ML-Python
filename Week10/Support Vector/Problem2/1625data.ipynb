{
 "cells": [
  {
   "cell_type": "code",
   "execution_count": 1,
   "metadata": {
    "ExecuteTime": { 
     "end_time": "2019-05-06T13:59:52.633379Z",
     "start_time": "2019-05-06T13:59:51.934494Z"
    }
   },
   "outputs": [],
   "source": [
    "import pandas as pd\n",
    "from sklearn.preprocessing import LabelEncoder\n",
    "from sklearn.preprocessing import OneHotEncoder\n",
    "import numpy as np\n",
    "from collections import defaultdict\n",
    "from sklearn.svm import SVC  \n",
    "from sklearn.metrics import confusion_matrix\n",
    "from sklearn.preprocessing import StandardScaler\n",
    "import sklearn\n",
    "import pickle\n",
    "import importlib.util"
   ]
  },
  {
   "cell_type": "code",
   "execution_count": 2,
   "metadata": {},
   "outputs": [],
   "source": [
    "# importing template file \n",
    "spec = importlib.util.spec_from_file_location(\"Template\", \"/home/admin1/PycharmProjects/ML/Week10/Template/template.py\")\n",
    "foo = importlib.util.module_from_spec(spec)\n",
    "spec.loader.exec_module(foo)\n",
    "# creating object of Template class\n",
    "temp = foo.Template()"
   ]
  },
  {
   "cell_type": "code",
   "execution_count": 3,
   "metadata": {
    "ExecuteTime": {
     "end_time": "2019-05-06T13:59:52.702748Z",
     "start_time": "2019-05-06T13:59:52.635645Z"
    }
   },
   "outputs": [
    {
     "data": {
      "text/html": [
       "<div>\n",
       "<style scoped>\n",
       "    .dataframe tbody tr th:only-of-type {\n",
       "        vertical-align: middle;\n",
       "    }\n",
       "\n",
       "    .dataframe tbody tr th {\n",
       "        vertical-align: top;\n",
       "    }\n",
       "\n",
       "    .dataframe thead th {\n",
       "        text-align: right;\n",
       "    }\n",
       "</style>\n",
       "<table border=\"1\" class=\"dataframe\">\n",
       "  <thead>\n",
       "    <tr style=\"text-align: right;\">\n",
       "      <th></th>\n",
       "      <th>octamers</th>\n",
       "      <th>flags</th>\n",
       "    </tr>\n",
       "  </thead>\n",
       "  <tbody>\n",
       "    <tr>\n",
       "      <th>0</th>\n",
       "      <td>SLNLRETN</td>\n",
       "      <td>1</td>\n",
       "    </tr>\n",
       "    <tr>\n",
       "      <th>1</th>\n",
       "      <td>AECFRIFD</td>\n",
       "      <td>1</td>\n",
       "    </tr>\n",
       "    <tr>\n",
       "      <th>2</th>\n",
       "      <td>HLVEALYL</td>\n",
       "      <td>1</td>\n",
       "    </tr>\n",
       "    <tr>\n",
       "      <th>3</th>\n",
       "      <td>TQIMFETF</td>\n",
       "      <td>1</td>\n",
       "    </tr>\n",
       "    <tr>\n",
       "      <th>4</th>\n",
       "      <td>AEELAEIF</td>\n",
       "      <td>1</td>\n",
       "    </tr>\n",
       "  </tbody>\n",
       "</table>\n",
       "</div>"
      ],
      "text/plain": [
       "   octamers  flags\n",
       "0  SLNLRETN      1\n",
       "1  AECFRIFD      1\n",
       "2  HLVEALYL      1\n",
       "3  TQIMFETF      1\n",
       "4  AEELAEIF      1"
      ]
     },
     "execution_count": 3,
     "metadata": {},
     "output_type": "execute_result"
    }
   ],
   "source": [
    "# read file\n",
    "df=pd.read_csv('Data/1625Data.txt',names=['octamers','flags'])\n",
    "df.head()"
   ]
  },
  {
   "cell_type": "code",
   "execution_count": 4,
   "metadata": {
    "ExecuteTime": {
     "end_time": "2019-05-06T13:59:52.711276Z",
     "start_time": "2019-05-06T13:59:52.704675Z"
    }
   },
   "outputs": [
    {
     "data": {
      "text/plain": [
       "(1625, 2)"
      ]
     },
     "execution_count": 4,
     "metadata": {},
     "output_type": "execute_result"
    }
   ],
   "source": [
    "df.shape"
   ]
  },
  {
   "cell_type": "code",
   "execution_count": 5,
   "metadata": {
    "ExecuteTime": {
     "end_time": "2019-05-06T13:59:52.723315Z",
     "start_time": "2019-05-06T13:59:52.713766Z"
    }
   },
   "outputs": [
    {
     "name": "stdout",
     "output_type": "stream",
     "text": [
      "<class 'pandas.core.frame.DataFrame'>\n",
      "RangeIndex: 1625 entries, 0 to 1624\n",
      "Data columns (total 2 columns):\n",
      "octamers    1625 non-null object\n",
      "flags       1625 non-null int64\n",
      "dtypes: int64(1), object(1)\n",
      "memory usage: 25.5+ KB\n"
     ]
    }
   ],
   "source": [
    "df.info()"
   ]
  },
  {
   "cell_type": "code",
   "execution_count": 6,
   "metadata": {
    "ExecuteTime": {
     "end_time": "2019-05-06T13:59:52.743080Z",
     "start_time": "2019-05-06T13:59:52.725262Z"
    }
   },
   "outputs": [
    {
     "data": {
      "text/html": [
       "<div>\n",
       "<style scoped>\n",
       "    .dataframe tbody tr th:only-of-type {\n",
       "        vertical-align: middle;\n",
       "    }\n",
       "\n",
       "    .dataframe tbody tr th {\n",
       "        vertical-align: top;\n",
       "    }\n",
       "\n",
       "    .dataframe thead th {\n",
       "        text-align: right;\n",
       "    }\n",
       "</style>\n",
       "<table border=\"1\" class=\"dataframe\">\n",
       "  <thead>\n",
       "    <tr style=\"text-align: right;\">\n",
       "      <th></th>\n",
       "      <th>flags</th>\n",
       "    </tr>\n",
       "  </thead>\n",
       "  <tbody>\n",
       "    <tr>\n",
       "      <th>count</th>\n",
       "      <td>1625.000000</td>\n",
       "    </tr>\n",
       "    <tr>\n",
       "      <th>mean</th>\n",
       "      <td>-0.538462</td>\n",
       "    </tr>\n",
       "    <tr>\n",
       "      <th>std</th>\n",
       "      <td>0.842909</td>\n",
       "    </tr>\n",
       "    <tr>\n",
       "      <th>min</th>\n",
       "      <td>-1.000000</td>\n",
       "    </tr>\n",
       "    <tr>\n",
       "      <th>25%</th>\n",
       "      <td>-1.000000</td>\n",
       "    </tr>\n",
       "    <tr>\n",
       "      <th>50%</th>\n",
       "      <td>-1.000000</td>\n",
       "    </tr>\n",
       "    <tr>\n",
       "      <th>75%</th>\n",
       "      <td>-1.000000</td>\n",
       "    </tr>\n",
       "    <tr>\n",
       "      <th>max</th>\n",
       "      <td>1.000000</td>\n",
       "    </tr>\n",
       "  </tbody>\n",
       "</table>\n",
       "</div>"
      ],
      "text/plain": [
       "             flags\n",
       "count  1625.000000\n",
       "mean     -0.538462\n",
       "std       0.842909\n",
       "min      -1.000000\n",
       "25%      -1.000000\n",
       "50%      -1.000000\n",
       "75%      -1.000000\n",
       "max       1.000000"
      ]
     },
     "execution_count": 6,
     "metadata": {},
     "output_type": "execute_result"
    }
   ],
   "source": [
    "df.describe()"
   ]
  },
  {
   "cell_type": "code",
   "execution_count": 7,
   "metadata": {
    "ExecuteTime": {
     "end_time": "2019-05-06T13:59:52.750266Z",
     "start_time": "2019-05-06T13:59:52.744745Z"
    }
   },
   "outputs": [
    {
     "data": {
      "text/plain": [
       "octamers    0\n",
       "flags       0\n",
       "dtype: int64"
      ]
     },
     "execution_count": 7,
     "metadata": {},
     "output_type": "execute_result"
    }
   ],
   "source": [
    "# checks for null values\n",
    "df.isnull().sum()"
   ]
  },
  {
   "cell_type": "code",
   "execution_count": 8,
   "metadata": {
    "ExecuteTime": {
     "end_time": "2019-05-06T13:59:52.761979Z",
     "start_time": "2019-05-06T13:59:52.752103Z"
    }
   },
   "outputs": [
    {
     "data": {
      "text/plain": [
       "0"
      ]
     },
     "execution_count": 8,
     "metadata": {},
     "output_type": "execute_result"
    }
   ],
   "source": [
    "# checks for duplicate values\n",
    "df.duplicated().sum()"
   ]
  },
  {
   "cell_type": "code",
   "execution_count": 9,
   "metadata": {
    "ExecuteTime": {
     "end_time": "2019-05-06T13:59:52.778357Z",
     "start_time": "2019-05-06T13:59:52.764051Z"
    }
   },
   "outputs": [
    {
     "data": {
      "text/html": [
       "<div>\n",
       "<style scoped>\n",
       "    .dataframe tbody tr th:only-of-type {\n",
       "        vertical-align: middle;\n",
       "    }\n",
       "\n",
       "    .dataframe tbody tr th {\n",
       "        vertical-align: top;\n",
       "    }\n",
       "\n",
       "    .dataframe thead th {\n",
       "        text-align: right;\n",
       "    }\n",
       "</style>\n",
       "<table border=\"1\" class=\"dataframe\">\n",
       "  <thead>\n",
       "    <tr style=\"text-align: right;\">\n",
       "      <th></th>\n",
       "      <th>octamers</th>\n",
       "      <th>flags</th>\n",
       "    </tr>\n",
       "  </thead>\n",
       "  <tbody>\n",
       "    <tr>\n",
       "      <th>0</th>\n",
       "      <td>SLNLRETN</td>\n",
       "      <td>1</td>\n",
       "    </tr>\n",
       "    <tr>\n",
       "      <th>1</th>\n",
       "      <td>AECFRIFD</td>\n",
       "      <td>1</td>\n",
       "    </tr>\n",
       "    <tr>\n",
       "      <th>2</th>\n",
       "      <td>HLVEALYL</td>\n",
       "      <td>1</td>\n",
       "    </tr>\n",
       "    <tr>\n",
       "      <th>3</th>\n",
       "      <td>TQIMFETF</td>\n",
       "      <td>1</td>\n",
       "    </tr>\n",
       "    <tr>\n",
       "      <th>4</th>\n",
       "      <td>AEELAEIF</td>\n",
       "      <td>1</td>\n",
       "    </tr>\n",
       "  </tbody>\n",
       "</table>\n",
       "</div>"
      ],
      "text/plain": [
       "   octamers  flags\n",
       "0  SLNLRETN      1\n",
       "1  AECFRIFD      1\n",
       "2  HLVEALYL      1\n",
       "3  TQIMFETF      1\n",
       "4  AEELAEIF      1"
      ]
     },
     "execution_count": 9,
     "metadata": {},
     "output_type": "execute_result"
    }
   ],
   "source": [
    "df.replace({-1:0,1:1},inplace=True)\n",
    "df.head()"
   ]
  },
  {
   "cell_type": "code",
   "execution_count": 10,
   "metadata": {
    "ExecuteTime": {
     "end_time": "2019-05-06T13:59:52.790789Z",
     "start_time": "2019-05-06T13:59:52.780369Z"
    }
   },
   "outputs": [
    {
     "data": {
      "text/html": [
       "<div>\n",
       "<style scoped>\n",
       "    .dataframe tbody tr th:only-of-type {\n",
       "        vertical-align: middle;\n",
       "    }\n",
       "\n",
       "    .dataframe tbody tr th {\n",
       "        vertical-align: top;\n",
       "    }\n",
       "\n",
       "    .dataframe thead th {\n",
       "        text-align: right;\n",
       "    }\n",
       "</style>\n",
       "<table border=\"1\" class=\"dataframe\">\n",
       "  <thead>\n",
       "    <tr style=\"text-align: right;\">\n",
       "      <th></th>\n",
       "      <th>octamers</th>\n",
       "      <th>flags</th>\n",
       "    </tr>\n",
       "  </thead>\n",
       "  <tbody>\n",
       "    <tr>\n",
       "      <th>0</th>\n",
       "      <td>SLNLRETN</td>\n",
       "      <td>1</td>\n",
       "    </tr>\n",
       "    <tr>\n",
       "      <th>1</th>\n",
       "      <td>AECFRIFD</td>\n",
       "      <td>1</td>\n",
       "    </tr>\n",
       "    <tr>\n",
       "      <th>2</th>\n",
       "      <td>HLVEALYL</td>\n",
       "      <td>1</td>\n",
       "    </tr>\n",
       "    <tr>\n",
       "      <th>3</th>\n",
       "      <td>TQIMFETF</td>\n",
       "      <td>1</td>\n",
       "    </tr>\n",
       "    <tr>\n",
       "      <th>4</th>\n",
       "      <td>AEELAEIF</td>\n",
       "      <td>1</td>\n",
       "    </tr>\n",
       "  </tbody>\n",
       "</table>\n",
       "</div>"
      ],
      "text/plain": [
       "   octamers  flags\n",
       "0  SLNLRETN      1\n",
       "1  AECFRIFD      1\n",
       "2  HLVEALYL      1\n",
       "3  TQIMFETF      1\n",
       "4  AEELAEIF      1"
      ]
     },
     "execution_count": 10,
     "metadata": {},
     "output_type": "execute_result"
    }
   ],
   "source": [
    "df.head()"
   ]
  },
  {
   "cell_type": "code",
   "execution_count": 11,
   "metadata": {
    "ExecuteTime": {
     "end_time": "2019-05-06T13:59:52.961029Z",
     "start_time": "2019-05-06T13:59:52.792761Z"
    }
   },
   "outputs": [
    {
     "name": "stdout",
     "output_type": "stream",
     "text": [
      "[['S' 'A' 'H' ... 'Q' 'D' 'S']\n",
      " ['L' 'E' 'L' ... 'A' 'S' 'K']\n",
      " ['N' 'C' 'V' ... 'I' 'A' 'D']\n",
      " ...\n",
      " ['E' 'I' 'L' ... 'A' 'E' 'A']\n",
      " ['T' 'F' 'Y' ... 'L' 'E' 'E']\n",
      " ['N' 'D' 'L' ... 'Q' 'D' 'I']]\n"
     ]
    }
   ],
   "source": [
    "# Seperate all amino acids\n",
    "octamers = np.array([[df[\"octamers\"][i][j] for i in range(df.shape[0])] for j in range(8)])\n",
    "print(octamers)\n"
   ]
  },
  {
   "cell_type": "code",
   "execution_count": 12,
   "metadata": {
    "ExecuteTime": {
     "end_time": "2019-05-06T13:59:52.977575Z",
     "start_time": "2019-05-06T13:59:52.962836Z"
    }
   },
   "outputs": [
    {
     "name": "stdout",
     "output_type": "stream",
     "text": [
      "      A  B  C  D  E  F  G  H\n",
      "0     S  L  N  L  R  E  T  N\n",
      "1     A  E  C  F  R  I  F  D\n",
      "2     H  L  V  E  A  L  Y  L\n",
      "3     T  Q  I  M  F  E  T  F\n",
      "4     A  E  E  L  A  E  I  F\n",
      "5     P  F  I  F  E  E  E  P\n",
      "6     P  I  V  G  A  E  T  F\n",
      "7     E  T  T  A  L  V  C  D\n",
      "8     G  G  V  Y  A  T  R  S\n",
      "9     D  A  I  N  T  E  F  K\n",
      "10    D  D  L  F  F  E  A  D\n",
      "11    S  F  I  G  M  E  S  A\n",
      "12    P  T  L  L  T  E  A  P\n",
      "13    D  Q  I  L  I  E  I  C\n",
      "14    A  Q  T  F  Y  V  N  L\n",
      "15    Q  I  T  L  W  Q  R  P\n",
      "16    G  S  H  L  V  E  A  L\n",
      "17    R  E  A  F  R  V  F  D\n",
      "18    Y  E  E  F  V  Q  M  M\n",
      "19    G  Q  V  N  Y  E  E  F\n",
      "20    L  P  V  N  G  E  F  S\n",
      "21    E  L  E  F  P  E  G  G\n",
      "22    V  E  V  A  E  E  E  E\n",
      "23    D  T  V  L  E  E  M  S\n",
      "24    G  D  A  L  L  E  R  N\n",
      "25    A  A  K  F  E  R  Q  H\n",
      "26    M  D  S  S  T  S  A  A\n",
      "27    S  S  N  Y  C  N  Q  M\n",
      "28    T  P  G  S  R  N  L  C\n",
      "29    G  S  S  K  Y  P  N  C\n",
      "...  .. .. .. .. .. .. .. ..\n",
      "1595  P  S  I  N  N  E  T  P\n",
      "1596  P  D  I  V  I  Y  Q  Y\n",
      "1597  W  Y  Q  L  E  K  E  P\n",
      "1598  T  V  N  D  I  Q  K  L\n",
      "1599  F  S  V  P  L  D  E  D\n",
      "1600  I  F  Q  S  S  M  T  K\n",
      "1601  W  T  E  Y  W  Q  A  T\n",
      "1602  T  K  L  G  K  A  G  Y\n",
      "1603  E  T  K  L  G  K  A  G\n",
      "1604  T  V  P  V  K  L  K  P\n",
      "1605  P  A  I  F  Q  S  S  M\n",
      "1606  F  K  L  P  I  Q  K  E\n",
      "1607  N  Q  K  T  E  L  Q  A\n",
      "1608  K  A  G  Y  V  T  N  K\n",
      "1609  W  I  P  E  W  E  F  V\n",
      "1610  H  D  H  D  H  P  F  H\n",
      "1611  E  L  E  L  A  E  N  R\n",
      "1612  G  W  I  L  G  E  H  G\n",
      "1613  H  Y  G  F  P  T  Y  G\n",
      "1614  G  D  A  Y  F  S  V  P\n",
      "1615  L  W  M  G  Y  E  L  H\n",
      "1616  E  K  V  Y  L  A  W  V\n",
      "1617  V  E  I  C  T  E  M  E\n",
      "1618  T  Q  D  F  W  E  V  Q\n",
      "1619  L  E  V  N  I  V  T  D\n",
      "1620  Q  M  I  F  E  E  H  G\n",
      "1621  G  W  I  L  A  E  H  G\n",
      "1622  Q  A  I  Y  L  A  L  Q\n",
      "1623  D  S  A  D  A  E  E  D\n",
      "1624  S  K  D  L  I  A  E  I\n",
      "\n",
      "[1625 rows x 8 columns]\n"
     ]
    }
   ],
   "source": [
    "# Store the seperated amino acids into a dataframe\n",
    "df1=pd.DataFrame(octamers.T, columns=list('ABCDEFGH'))\n",
    "print(df1)"
   ]
  },
  {
   "cell_type": "code",
   "execution_count": 13,
   "metadata": {
    "ExecuteTime": {
     "end_time": "2019-05-06T13:59:52.997664Z",
     "start_time": "2019-05-06T13:59:52.979566Z"
    }
   },
   "outputs": [
    {
     "data": {
      "text/html": [
       "<div>\n",
       "<style scoped>\n",
       "    .dataframe tbody tr th:only-of-type {\n",
       "        vertical-align: middle;\n",
       "    }\n",
       "\n",
       "    .dataframe tbody tr th {\n",
       "        vertical-align: top;\n",
       "    }\n",
       "\n",
       "    .dataframe thead th {\n",
       "        text-align: right;\n",
       "    }\n",
       "</style>\n",
       "<table border=\"1\" class=\"dataframe\">\n",
       "  <thead>\n",
       "    <tr style=\"text-align: right;\">\n",
       "      <th></th>\n",
       "      <th>A</th>\n",
       "      <th>B</th>\n",
       "      <th>C</th>\n",
       "      <th>D</th>\n",
       "      <th>E</th>\n",
       "      <th>F</th>\n",
       "      <th>G</th>\n",
       "      <th>H</th>\n",
       "      <th>flags</th>\n",
       "    </tr>\n",
       "  </thead>\n",
       "  <tbody>\n",
       "    <tr>\n",
       "      <th>0</th>\n",
       "      <td>S</td>\n",
       "      <td>L</td>\n",
       "      <td>N</td>\n",
       "      <td>L</td>\n",
       "      <td>R</td>\n",
       "      <td>E</td>\n",
       "      <td>T</td>\n",
       "      <td>N</td>\n",
       "      <td>1</td>\n",
       "    </tr>\n",
       "    <tr>\n",
       "      <th>1</th>\n",
       "      <td>A</td>\n",
       "      <td>E</td>\n",
       "      <td>C</td>\n",
       "      <td>F</td>\n",
       "      <td>R</td>\n",
       "      <td>I</td>\n",
       "      <td>F</td>\n",
       "      <td>D</td>\n",
       "      <td>1</td>\n",
       "    </tr>\n",
       "    <tr>\n",
       "      <th>2</th>\n",
       "      <td>H</td>\n",
       "      <td>L</td>\n",
       "      <td>V</td>\n",
       "      <td>E</td>\n",
       "      <td>A</td>\n",
       "      <td>L</td>\n",
       "      <td>Y</td>\n",
       "      <td>L</td>\n",
       "      <td>1</td>\n",
       "    </tr>\n",
       "    <tr>\n",
       "      <th>3</th>\n",
       "      <td>T</td>\n",
       "      <td>Q</td>\n",
       "      <td>I</td>\n",
       "      <td>M</td>\n",
       "      <td>F</td>\n",
       "      <td>E</td>\n",
       "      <td>T</td>\n",
       "      <td>F</td>\n",
       "      <td>1</td>\n",
       "    </tr>\n",
       "    <tr>\n",
       "      <th>4</th>\n",
       "      <td>A</td>\n",
       "      <td>E</td>\n",
       "      <td>E</td>\n",
       "      <td>L</td>\n",
       "      <td>A</td>\n",
       "      <td>E</td>\n",
       "      <td>I</td>\n",
       "      <td>F</td>\n",
       "      <td>1</td>\n",
       "    </tr>\n",
       "  </tbody>\n",
       "</table>\n",
       "</div>"
      ],
      "text/plain": [
       "   A  B  C  D  E  F  G  H  flags\n",
       "0  S  L  N  L  R  E  T  N      1\n",
       "1  A  E  C  F  R  I  F  D      1\n",
       "2  H  L  V  E  A  L  Y  L      1\n",
       "3  T  Q  I  M  F  E  T  F      1\n",
       "4  A  E  E  L  A  E  I  F      1"
      ]
     },
     "execution_count": 13,
     "metadata": {},
     "output_type": "execute_result"
    }
   ],
   "source": [
    "df=pd.concat([df1,df],axis=1)\n",
    "df.drop(columns=['octamers'],inplace=True)\n",
    "df.head()"
   ]
  },
  {
   "cell_type": "code",
   "execution_count": 14,
   "metadata": {
    "ExecuteTime": {
     "end_time": "2019-05-06T13:59:53.004679Z",
     "start_time": "2019-05-06T13:59:52.999462Z"
    }
   },
   "outputs": [],
   "source": [
    "train,test=temp.split(df,0.2)"
   ]
  },
  {
   "cell_type": "code",
   "execution_count": 15,
   "metadata": {
    "ExecuteTime": {
     "end_time": "2019-05-06T13:59:53.016184Z",
     "start_time": "2019-05-06T13:59:53.006526Z"
    }
   },
   "outputs": [
    {
     "name": "stdout",
     "output_type": "stream",
     "text": [
      "train (1300, 9)\n",
      "test (325, 9)\n"
     ]
    }
   ],
   "source": [
    "print(\"train\",train.shape)\n",
    "print(\"test\",test.shape)"
   ]
  },
  {
   "cell_type": "code",
   "execution_count": 16,
   "metadata": {
    "ExecuteTime": {
     "end_time": "2019-05-06T13:59:53.035168Z",
     "start_time": "2019-05-06T13:59:53.019133Z"
    }
   },
   "outputs": [],
   "source": [
    "# saving datasets into csv filesS\n",
    "temp.save_csv(test,'test_data.csv')\n",
    "temp.save_csv(train,'train_data.csv')\n"
   ]
  },
  {
   "cell_type": "code",
   "execution_count": 17,
   "metadata": {
    "ExecuteTime": {
     "end_time": "2019-05-06T13:59:53.057499Z",
     "start_time": "2019-05-06T13:59:53.037230Z"
    }
   },
   "outputs": [
    {
     "data": {
      "text/html": [
       "<div>\n",
       "<style scoped>\n",
       "    .dataframe tbody tr th:only-of-type {\n",
       "        vertical-align: middle;\n",
       "    }\n",
       "\n",
       "    .dataframe tbody tr th {\n",
       "        vertical-align: top;\n",
       "    }\n",
       "\n",
       "    .dataframe thead th {\n",
       "        text-align: right;\n",
       "    }\n",
       "</style>\n",
       "<table border=\"1\" class=\"dataframe\">\n",
       "  <thead>\n",
       "    <tr style=\"text-align: right;\">\n",
       "      <th></th>\n",
       "      <th>A</th>\n",
       "      <th>B</th>\n",
       "      <th>C</th>\n",
       "      <th>D</th>\n",
       "      <th>E</th>\n",
       "      <th>F</th>\n",
       "      <th>G</th>\n",
       "      <th>H</th>\n",
       "      <th>flags</th>\n",
       "    </tr>\n",
       "  </thead>\n",
       "  <tbody>\n",
       "    <tr>\n",
       "      <th>0</th>\n",
       "      <td>K</td>\n",
       "      <td>Q</td>\n",
       "      <td>G</td>\n",
       "      <td>Q</td>\n",
       "      <td>G</td>\n",
       "      <td>Q</td>\n",
       "      <td>W</td>\n",
       "      <td>T</td>\n",
       "      <td>0</td>\n",
       "    </tr>\n",
       "    <tr>\n",
       "      <th>1</th>\n",
       "      <td>S</td>\n",
       "      <td>R</td>\n",
       "      <td>S</td>\n",
       "      <td>L</td>\n",
       "      <td>Y</td>\n",
       "      <td>A</td>\n",
       "      <td>S</td>\n",
       "      <td>S</td>\n",
       "      <td>1</td>\n",
       "    </tr>\n",
       "    <tr>\n",
       "      <th>2</th>\n",
       "      <td>L</td>\n",
       "      <td>W</td>\n",
       "      <td>Y</td>\n",
       "      <td>Q</td>\n",
       "      <td>L</td>\n",
       "      <td>E</td>\n",
       "      <td>K</td>\n",
       "      <td>E</td>\n",
       "      <td>0</td>\n",
       "    </tr>\n",
       "    <tr>\n",
       "      <th>3</th>\n",
       "      <td>A</td>\n",
       "      <td>S</td>\n",
       "      <td>V</td>\n",
       "      <td>N</td>\n",
       "      <td>C</td>\n",
       "      <td>A</td>\n",
       "      <td>K</td>\n",
       "      <td>K</td>\n",
       "      <td>0</td>\n",
       "    </tr>\n",
       "    <tr>\n",
       "      <th>4</th>\n",
       "      <td>E</td>\n",
       "      <td>M</td>\n",
       "      <td>E</td>\n",
       "      <td>E</td>\n",
       "      <td>N</td>\n",
       "      <td>F</td>\n",
       "      <td>A</td>\n",
       "      <td>V</td>\n",
       "      <td>0</td>\n",
       "    </tr>\n",
       "  </tbody>\n",
       "</table>\n",
       "</div>"
      ],
      "text/plain": [
       "   A  B  C  D  E  F  G  H  flags\n",
       "0  K  Q  G  Q  G  Q  W  T      0\n",
       "1  S  R  S  L  Y  A  S  S      1\n",
       "2  L  W  Y  Q  L  E  K  E      0\n",
       "3  A  S  V  N  C  A  K  K      0\n",
       "4  E  M  E  E  N  F  A  V      0"
      ]
     },
     "execution_count": 17,
     "metadata": {},
     "output_type": "execute_result"
    }
   ],
   "source": [
    "# loading training data csv file\n",
    "train_df = temp.read_file('train_data.csv')\n",
    "train_df.head()"
   ]
  },
  {
   "cell_type": "code",
   "execution_count": 18,
   "metadata": {
    "ExecuteTime": {
     "end_time": "2019-05-06T13:59:53.063826Z",
     "start_time": "2019-05-06T13:59:53.059585Z"
    }
   },
   "outputs": [],
   "source": [
    "# splitting training data into train and cross validation dataset \n",
    "train_data,cv_data=temp.split(train_df,0.2)"
   ]
  },
  {
   "cell_type": "code",
   "execution_count": 19,
   "metadata": {
    "ExecuteTime": {
     "end_time": "2019-05-06T13:59:53.077246Z",
     "start_time": "2019-05-06T13:59:53.065703Z"
    }
   },
   "outputs": [],
   "source": [
    "# saving cross validation data into csv file\n",
    "temp.save_csv(cv_data,'cv_data.csv')"
   ]
  },
  {
   "cell_type": "code",
   "execution_count": 20,
   "metadata": {
    "ExecuteTime": {
     "end_time": "2019-05-06T13:59:53.088185Z",
     "start_time": "2019-05-06T13:59:53.079062Z"
    }
   },
   "outputs": [],
   "source": [
    "# separating features and labels of training dataset\n",
    "x_train=train_data.iloc[:,:-1].values\n",
    "y_train=train_data.iloc[:,8].values"
   ]
  },
  {
   "cell_type": "code",
   "execution_count": 21,
   "metadata": {
    "ExecuteTime": {
     "end_time": "2019-05-06T13:59:53.100480Z",
     "start_time": "2019-05-06T13:59:53.089965Z"
    }
   },
   "outputs": [],
   "source": [
    "x_train=pd.DataFrame(x_train)"
   ]
  },
  {
   "cell_type": "code",
   "execution_count": 22,
   "metadata": {
    "ExecuteTime": {
     "end_time": "2019-05-06T13:59:53.129588Z",
     "start_time": "2019-05-06T13:59:53.102548Z"
    }
   },
   "outputs": [],
   "source": [
    "x_train=temp.oneHotEncoding(x_train)"
   ]
  },
  {
   "cell_type": "code",
   "execution_count": 23,
   "metadata": {
    "ExecuteTime": {
     "end_time": "2019-05-06T13:59:53.134506Z",
     "start_time": "2019-05-06T13:59:53.131565Z"
    }
   },
   "outputs": [
    {
     "name": "stdout",
     "output_type": "stream",
     "text": [
      "(1040, 160)\n"
     ]
    }
   ],
   "source": [
    "print(x_train.shape)"
   ]
  },
  {
   "cell_type": "code",
   "execution_count": 24,
   "metadata": {
    "ExecuteTime": {
     "end_time": "2019-05-06T13:59:53.153665Z",
     "start_time": "2019-05-06T13:59:53.136338Z"
    }
   },
   "outputs": [],
   "source": [
    "# feature scaling\n",
    "sc=StandardScaler()\n",
    "x_train=sc.fit_transform(x_train)\n",
    "# test=sc.transform(test)"
   ]
  },
  {
   "cell_type": "code",
   "execution_count": 25,
   "metadata": {
    "ExecuteTime": {
     "end_time": "2019-05-06T13:59:53.386043Z",
     "start_time": "2019-05-06T13:59:53.159514Z"
    }
   },
   "outputs": [
    {
     "data": {
      "text/plain": [
       "SVC(C=1.0, cache_size=200, class_weight=None, coef0=0.0,\n",
       "  decision_function_shape='ovr', degree=8, gamma='auto_deprecated',\n",
       "  kernel='poly', max_iter=-1, probability=False, random_state=None,\n",
       "  shrinking=True, tol=0.001, verbose=False)"
      ]
     },
     "execution_count": 25,
     "metadata": {},
     "output_type": "execute_result"
    }
   ],
   "source": [
    "# fit model\n",
    "\n",
    "classifier = SVC(kernel='poly', degree=8)  \n",
    "classifier.fit(x_train,y_train)"
   ]
  },
  {
   "cell_type": "code",
   "execution_count": 26,
   "metadata": {
    "ExecuteTime": {
     "end_time": "2019-05-06T13:59:53.586964Z",
     "start_time": "2019-05-06T13:59:53.387806Z"
    }
   },
   "outputs": [
    {
     "data": {
      "text/html": [
       "<div>\n",
       "<style scoped>\n",
       "    .dataframe tbody tr th:only-of-type {\n",
       "        vertical-align: middle;\n",
       "    }\n",
       "\n",
       "    .dataframe tbody tr th {\n",
       "        vertical-align: top;\n",
       "    }\n",
       "\n",
       "    .dataframe thead th {\n",
       "        text-align: right;\n",
       "    }\n",
       "</style>\n",
       "<table border=\"1\" class=\"dataframe\">\n",
       "  <thead>\n",
       "    <tr style=\"text-align: right;\">\n",
       "      <th></th>\n",
       "      <th>Actual</th>\n",
       "      <th>Predicted</th>\n",
       "    </tr>\n",
       "  </thead>\n",
       "  <tbody>\n",
       "    <tr>\n",
       "      <th>0</th>\n",
       "      <td>0</td>\n",
       "      <td>0</td>\n",
       "    </tr>\n",
       "    <tr>\n",
       "      <th>1</th>\n",
       "      <td>0</td>\n",
       "      <td>0</td>\n",
       "    </tr>\n",
       "    <tr>\n",
       "      <th>2</th>\n",
       "      <td>0</td>\n",
       "      <td>0</td>\n",
       "    </tr>\n",
       "    <tr>\n",
       "      <th>3</th>\n",
       "      <td>1</td>\n",
       "      <td>0</td>\n",
       "    </tr>\n",
       "    <tr>\n",
       "      <th>4</th>\n",
       "      <td>0</td>\n",
       "      <td>0</td>\n",
       "    </tr>\n",
       "  </tbody>\n",
       "</table>\n",
       "</div>"
      ],
      "text/plain": [
       "   Actual  Predicted\n",
       "0       0          0\n",
       "1       0          0\n",
       "2       0          0\n",
       "3       1          0\n",
       "4       0          0"
      ]
     },
     "execution_count": 26,
     "metadata": {},
     "output_type": "execute_result"
    }
   ],
   "source": [
    "y_pred = classifier.predict(x_train)\n",
    "df = pd.DataFrame({'Actual': y_train, 'Predicted': y_pred})  \n",
    "df.head()"
   ]
  },
  {
   "cell_type": "code",
   "execution_count": 27,
   "metadata": {
    "ExecuteTime": {
     "end_time": "2019-05-06T13:59:53.593773Z",
     "start_time": "2019-05-06T13:59:53.588929Z"
    }
   },
   "outputs": [
    {
     "name": "stdout",
     "output_type": "stream",
     "text": [
      "[[811   0]\n",
      " [202  27]]\n"
     ]
    }
   ],
   "source": [
    "# making confusion matrix\n",
    "cm= confusion_matrix(y_train,y_pred)\n",
    "print(cm)"
   ]
  },
  {
   "cell_type": "code",
   "execution_count": 28,
   "metadata": {
    "ExecuteTime": {
     "end_time": "2019-05-06T13:59:53.618102Z",
     "start_time": "2019-05-06T13:59:53.595563Z"
    }
   },
   "outputs": [
    {
     "data": {
      "text/html": [
       "<div>\n",
       "<style scoped>\n",
       "    .dataframe tbody tr th:only-of-type {\n",
       "        vertical-align: middle;\n",
       "    }\n",
       "\n",
       "    .dataframe tbody tr th {\n",
       "        vertical-align: top;\n",
       "    }\n",
       "\n",
       "    .dataframe thead th {\n",
       "        text-align: right;\n",
       "    }\n",
       "</style>\n",
       "<table border=\"1\" class=\"dataframe\">\n",
       "  <thead>\n",
       "    <tr style=\"text-align: right;\">\n",
       "      <th></th>\n",
       "      <th>A</th>\n",
       "      <th>B</th>\n",
       "      <th>C</th>\n",
       "      <th>D</th>\n",
       "      <th>E</th>\n",
       "      <th>F</th>\n",
       "      <th>G</th>\n",
       "      <th>H</th>\n",
       "      <th>flags</th>\n",
       "    </tr>\n",
       "  </thead>\n",
       "  <tbody>\n",
       "    <tr>\n",
       "      <th>0</th>\n",
       "      <td>P</td>\n",
       "      <td>R</td>\n",
       "      <td>V</td>\n",
       "      <td>A</td>\n",
       "      <td>L</td>\n",
       "      <td>A</td>\n",
       "      <td>M</td>\n",
       "      <td>T</td>\n",
       "      <td>1</td>\n",
       "    </tr>\n",
       "    <tr>\n",
       "      <th>1</th>\n",
       "      <td>A</td>\n",
       "      <td>R</td>\n",
       "      <td>H</td>\n",
       "      <td>L</td>\n",
       "      <td>R</td>\n",
       "      <td>E</td>\n",
       "      <td>Y</td>\n",
       "      <td>Q</td>\n",
       "      <td>0</td>\n",
       "    </tr>\n",
       "    <tr>\n",
       "      <th>2</th>\n",
       "      <td>T</td>\n",
       "      <td>K</td>\n",
       "      <td>K</td>\n",
       "      <td>L</td>\n",
       "      <td>V</td>\n",
       "      <td>V</td>\n",
       "      <td>Q</td>\n",
       "      <td>P</td>\n",
       "      <td>0</td>\n",
       "    </tr>\n",
       "    <tr>\n",
       "      <th>3</th>\n",
       "      <td>A</td>\n",
       "      <td>A</td>\n",
       "      <td>M</td>\n",
       "      <td>K</td>\n",
       "      <td>R</td>\n",
       "      <td>H</td>\n",
       "      <td>G</td>\n",
       "      <td>L</td>\n",
       "      <td>0</td>\n",
       "    </tr>\n",
       "    <tr>\n",
       "      <th>4</th>\n",
       "      <td>G</td>\n",
       "      <td>A</td>\n",
       "      <td>V</td>\n",
       "      <td>S</td>\n",
       "      <td>L</td>\n",
       "      <td>A</td>\n",
       "      <td>M</td>\n",
       "      <td>T</td>\n",
       "      <td>1</td>\n",
       "    </tr>\n",
       "  </tbody>\n",
       "</table>\n",
       "</div>"
      ],
      "text/plain": [
       "   A  B  C  D  E  F  G  H  flags\n",
       "0  P  R  V  A  L  A  M  T      1\n",
       "1  A  R  H  L  R  E  Y  Q      0\n",
       "2  T  K  K  L  V  V  Q  P      0\n",
       "3  A  A  M  K  R  H  G  L      0\n",
       "4  G  A  V  S  L  A  M  T      1"
      ]
     },
     "execution_count": 28,
     "metadata": {},
     "output_type": "execute_result"
    }
   ],
   "source": [
    "# loading cross validation dataset file\n",
    "cv_data = temp.read_file('cv_data.csv')\n",
    "cv_data.head()"
   ]
  },
  {
   "cell_type": "code",
   "execution_count": 29,
   "metadata": {
    "ExecuteTime": {
     "end_time": "2019-05-06T13:59:53.624581Z",
     "start_time": "2019-05-06T13:59:53.619841Z"
    }
   },
   "outputs": [
    {
     "data": {
      "text/plain": [
       "(260, 8)"
      ]
     },
     "execution_count": 29,
     "metadata": {},
     "output_type": "execute_result"
    }
   ],
   "source": [
    "# separating features and labels of training dataset\n",
    "x_cv=cv_data.iloc[:,:-1].values\n",
    "y_cv=cv_data.iloc[:,8].values\n",
    "x_cv.shape"
   ]
  },
  {
   "cell_type": "code",
   "execution_count": 30,
   "metadata": {
    "ExecuteTime": {
     "end_time": "2019-05-06T13:59:53.638203Z",
     "start_time": "2019-05-06T13:59:53.626320Z"
    }
   },
   "outputs": [
    {
     "data": {
      "text/plain": [
       "(260, 8)"
      ]
     },
     "execution_count": 30,
     "metadata": {},
     "output_type": "execute_result"
    }
   ],
   "source": [
    "x_cv=pd.DataFrame(x_cv)\n",
    "x_cv.shape"
   ]
  },
  {
   "cell_type": "code",
   "execution_count": 31,
   "metadata": {
    "ExecuteTime": {
     "end_time": "2019-05-06T13:59:53.660760Z",
     "start_time": "2019-05-06T13:59:53.640358Z"
    }
   },
   "outputs": [],
   "source": [
    "x_cv=temp.oneHotEncoding(x_cv)"
   ]
  },
  {
   "cell_type": "code",
   "execution_count": 32,
   "metadata": {
    "ExecuteTime": {
     "end_time": "2019-05-06T13:59:53.666989Z",
     "start_time": "2019-05-06T13:59:53.662902Z"
    }
   },
   "outputs": [
    {
     "data": {
      "text/plain": [
       "(260, 160)"
      ]
     },
     "execution_count": 32,
     "metadata": {},
     "output_type": "execute_result"
    }
   ],
   "source": [
    "x_cv.shape"
   ]
  },
  {
   "cell_type": "code",
   "execution_count": 33,
   "metadata": {
    "ExecuteTime": {
     "end_time": "2019-05-06T13:59:53.680176Z",
     "start_time": "2019-05-06T13:59:53.668911Z"
    }
   },
   "outputs": [],
   "source": [
    "# feature scaling\n",
    "x_cv=sc.fit_transform(x_cv)"
   ]
  },
  {
   "cell_type": "code",
   "execution_count": 34,
   "metadata": {
    "ExecuteTime": {
     "end_time": "2019-05-06T13:59:53.943656Z",
     "start_time": "2019-05-06T13:59:53.682135Z"
    }
   },
   "outputs": [
    {
     "name": "stdout",
     "output_type": "stream",
     "text": [
      "train matrix\n",
      " [[811   0]\n",
      " [202  27]]\n",
      "cv matrix\n",
      " [[208   0]\n",
      " [ 52   0]]\n",
      "Accuracy of train data = 55.895196506550214\n",
      "Accuracy of test data = 50.0\n"
     ]
    }
   ],
   "source": [
    "class SupportVector:\n",
    "    \n",
    "    def get_predictions(self,x):        \n",
    "        # getting prediction values\n",
    "        y_pred = classifier.predict(x)\n",
    "        return y_pred\n",
    "    \n",
    "    def create_confusion_matrix(self,y,y_pred):\n",
    "        # making confusion matrix\n",
    "        cm= confusion_matrix(y,y_pred)\n",
    "        return cm\n",
    "    \n",
    "    def get_accuracy(self,y_train,y_pred):\n",
    "        Accuracy = sklearn.metrics.balanced_accuracy_score(y_train,y_pred)*100\n",
    "        return Accuracy\n",
    "        \n",
    "def main():\n",
    "    # creates class object \n",
    "    obj = SupportVector()\n",
    "    y_pred_train = obj.get_predictions(x_train)\n",
    "    y_pred_test = obj.get_predictions(x_cv)\n",
    "    \n",
    "    cm_train=obj.create_confusion_matrix(y_train,y_pred_train)\n",
    "    print(\"train matrix\\n\",cm_train)\n",
    "    \n",
    "    cm_cv=obj.create_confusion_matrix(y_cv,y_pred_test)\n",
    "    print(\"cv matrix\\n\",cm_cv)\n",
    "    \n",
    "    acc_train = obj.get_accuracy(y_train,y_pred_train)\n",
    "    print(\"Accuracy of train data =\",acc_train)\n",
    "    \n",
    "    acc_test = obj.get_accuracy(y_cv,y_pred_test)\n",
    "    print(\"Accuracy of test data =\",acc_test)\n",
    "    \n",
    "    if acc_train >= 50 and acc_test >=  50:\n",
    "        fileObject = open(\"train_data.pkl\",'wb')\n",
    "        pickle.dump(classifier,fileObject)   \n",
    "        pickle.dump(sc,fileObject)\n",
    "        # here we close the fileObject\n",
    "        fileObject.close()\n",
    "\n",
    "        \n",
    "if __name__ == '__main__':\n",
    "    main()"
   ]
  },
  {
   "cell_type": "code",
   "execution_count": null,
   "metadata": {},
   "outputs": [],
   "source": []
  }
 ],
 "metadata": {
  "kernelspec": {
   "display_name": "Python 3",
   "language": "python",
   "name": "python3"
  },
  "language_info": {
   "codemirror_mode": {
    "name": "ipython",
    "version": 3
   },
   "file_extension": ".py",
   "mimetype": "text/x-python",
   "name": "python",
   "nbconvert_exporter": "python",
   "pygments_lexer": "ipython3",
   "version": "3.7.2"
  }
 },
 "nbformat": 4,
 "nbformat_minor": 2
}
