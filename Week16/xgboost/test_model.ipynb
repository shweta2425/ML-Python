{
 "cells": [
  {
   "cell_type": "code",
   "execution_count": 85,
   "metadata": {},
   "outputs": [],
   "source": [
    "# import all libraries\n",
    "import pickle\n",
    "import pandas as pd\n",
    "from sklearn.preprocessing import StandardScaler\n",
    "from sklearn.preprocessing import OneHotEncoder, LabelEncoder\n",
    "from sklearn.metrics import confusion_matrix,accuracy_score\n",
    "import warnings\n",
    "warnings.filterwarnings('ignore')"
   ]
  },
  {
   "cell_type": "code",
   "execution_count": 86,
   "metadata": {},
   "outputs": [
    {
     "data": {
      "text/html": [
       "<div>\n",
       "<style scoped>\n",
       "    .dataframe tbody tr th:only-of-type {\n",
       "        vertical-align: middle;\n",
       "    }\n",
       "\n",
       "    .dataframe tbody tr th {\n",
       "        vertical-align: top;\n",
       "    }\n",
       "\n",
       "    .dataframe thead th {\n",
       "        text-align: right;\n",
       "    }\n",
       "</style>\n",
       "<table border=\"1\" class=\"dataframe\">\n",
       "  <thead>\n",
       "    <tr style=\"text-align: right;\">\n",
       "      <th></th>\n",
       "      <th>RowNumber</th>\n",
       "      <th>CustomerId</th>\n",
       "      <th>Surname</th>\n",
       "      <th>CreditScore</th>\n",
       "      <th>Geography</th>\n",
       "      <th>Gender</th>\n",
       "      <th>Age</th>\n",
       "      <th>Tenure</th>\n",
       "      <th>Balance</th>\n",
       "      <th>NumOfProducts</th>\n",
       "      <th>HasCrCard</th>\n",
       "      <th>IsActiveMember</th>\n",
       "      <th>EstimatedSalary</th>\n",
       "      <th>Exited</th>\n",
       "    </tr>\n",
       "  </thead>\n",
       "  <tbody>\n",
       "    <tr>\n",
       "      <th>0</th>\n",
       "      <td>8069</td>\n",
       "      <td>15797710</td>\n",
       "      <td>Saunders</td>\n",
       "      <td>619</td>\n",
       "      <td>Germany</td>\n",
       "      <td>Male</td>\n",
       "      <td>29</td>\n",
       "      <td>4</td>\n",
       "      <td>98955.87</td>\n",
       "      <td>1</td>\n",
       "      <td>0</td>\n",
       "      <td>1</td>\n",
       "      <td>131712.51</td>\n",
       "      <td>0</td>\n",
       "    </tr>\n",
       "    <tr>\n",
       "      <th>1</th>\n",
       "      <td>6965</td>\n",
       "      <td>15569249</td>\n",
       "      <td>Howarth</td>\n",
       "      <td>576</td>\n",
       "      <td>France</td>\n",
       "      <td>Female</td>\n",
       "      <td>55</td>\n",
       "      <td>6</td>\n",
       "      <td>44582.07</td>\n",
       "      <td>3</td>\n",
       "      <td>0</td>\n",
       "      <td>1</td>\n",
       "      <td>67539.85</td>\n",
       "      <td>1</td>\n",
       "    </tr>\n",
       "    <tr>\n",
       "      <th>2</th>\n",
       "      <td>4245</td>\n",
       "      <td>15684908</td>\n",
       "      <td>Davidson</td>\n",
       "      <td>540</td>\n",
       "      <td>Germany</td>\n",
       "      <td>Male</td>\n",
       "      <td>64</td>\n",
       "      <td>1</td>\n",
       "      <td>91869.69</td>\n",
       "      <td>1</td>\n",
       "      <td>0</td>\n",
       "      <td>1</td>\n",
       "      <td>95421.00</td>\n",
       "      <td>0</td>\n",
       "    </tr>\n",
       "    <tr>\n",
       "      <th>3</th>\n",
       "      <td>896</td>\n",
       "      <td>15697000</td>\n",
       "      <td>Mello</td>\n",
       "      <td>728</td>\n",
       "      <td>Germany</td>\n",
       "      <td>Male</td>\n",
       "      <td>32</td>\n",
       "      <td>5</td>\n",
       "      <td>61825.50</td>\n",
       "      <td>1</td>\n",
       "      <td>1</td>\n",
       "      <td>1</td>\n",
       "      <td>156124.93</td>\n",
       "      <td>0</td>\n",
       "    </tr>\n",
       "    <tr>\n",
       "      <th>4</th>\n",
       "      <td>6744</td>\n",
       "      <td>15616213</td>\n",
       "      <td>Levy</td>\n",
       "      <td>555</td>\n",
       "      <td>Germany</td>\n",
       "      <td>Female</td>\n",
       "      <td>51</td>\n",
       "      <td>9</td>\n",
       "      <td>138214.50</td>\n",
       "      <td>1</td>\n",
       "      <td>1</td>\n",
       "      <td>0</td>\n",
       "      <td>198715.27</td>\n",
       "      <td>1</td>\n",
       "    </tr>\n",
       "  </tbody>\n",
       "</table>\n",
       "</div>"
      ],
      "text/plain": [
       "   RowNumber  CustomerId   Surname  CreditScore Geography  Gender  Age  \\\n",
       "0       8069    15797710  Saunders          619   Germany    Male   29   \n",
       "1       6965    15569249   Howarth          576    France  Female   55   \n",
       "2       4245    15684908  Davidson          540   Germany    Male   64   \n",
       "3        896    15697000     Mello          728   Germany    Male   32   \n",
       "4       6744    15616213      Levy          555   Germany  Female   51   \n",
       "\n",
       "   Tenure    Balance  NumOfProducts  HasCrCard  IsActiveMember  \\\n",
       "0       4   98955.87              1          0               1   \n",
       "1       6   44582.07              3          0               1   \n",
       "2       1   91869.69              1          0               1   \n",
       "3       5   61825.50              1          1               1   \n",
       "4       9  138214.50              1          1               0   \n",
       "\n",
       "   EstimatedSalary  Exited  \n",
       "0        131712.51       0  \n",
       "1         67539.85       1  \n",
       "2         95421.00       0  \n",
       "3        156124.93       0  \n",
       "4        198715.27       1  "
      ]
     },
     "execution_count": 86,
     "metadata": {},
     "output_type": "execute_result"
    }
   ],
   "source": [
    "# load test file\n",
    "df = pd.read_csv('test_file.csv')\n",
    "df.head()"
   ]
  },
  {
   "cell_type": "code",
   "execution_count": 87,
   "metadata": {},
   "outputs": [],
   "source": [
    "# load model\n",
    "fileobj=open('save_model.pkl','rb')\n",
    "classifier = pickle.load(fileobj)\n",
    "sc = pickle.load(fileobj)"
   ]
  },
  {
   "cell_type": "code",
   "execution_count": 88,
   "metadata": {},
   "outputs": [],
   "source": [
    "# seperating features and labels from dataset\n",
    "x_test = df.iloc[:,3:13].values\n",
    "# Exited\n",
    "y_test = df.iloc[:,13].values"
   ]
  },
  {
   "cell_type": "code",
   "execution_count": 89,
   "metadata": {},
   "outputs": [],
   "source": [
    "def categorical_encode(x):\n",
    "   # Encoding categorical data country\n",
    "    labelencoder_x_country = LabelEncoder()\n",
    "    x[:,1] = labelencoder_x_country.fit_transform(x[:,1])\n",
    "   # Encode categorical data gender\n",
    "    labelencoder_x_gender = LabelEncoder()\n",
    "    x[:,2]  =  labelencoder_x_gender.fit_transform(x[:,2])\n",
    "    ohe_country = OneHotEncoder(categorical_features=[1])\n",
    "    x = ohe_country.fit_transform(x).toarray()\n",
    "    x = x[:, 1:]\n",
    "    return x\n",
    "\n",
    "x_test = categorical_encode(x_test)"
   ]
  },
  {
   "cell_type": "code",
   "execution_count": 90,
   "metadata": {},
   "outputs": [],
   "source": [
    "# transform test data \n",
    "x_test = sc.transform(x_test)"
   ]
  },
  {
   "cell_type": "code",
   "execution_count": 91,
   "metadata": {},
   "outputs": [],
   "source": [
    "# predict test result\n",
    "prediction = classifier.predict(x_test)"
   ]
  },
  {
   "cell_type": "code",
   "execution_count": 92,
   "metadata": {},
   "outputs": [],
   "source": [
    "# checking how many prediction are correct predicted and how many are wrongly predicted\n",
    "cm = confusion_matrix(prediction,y_test)"
   ]
  },
  {
   "cell_type": "code",
   "execution_count": 93,
   "metadata": {},
   "outputs": [
    {
     "name": "stdout",
     "output_type": "stream",
     "text": [
      "61.5 % of cross validation data was classified correctly\n"
     ]
    }
   ],
   "source": [
    "# calculating accuracy\n",
    "print (accuracy_score(y_test,prediction)*100,'% of cross validation data was classified correctly')\n"
   ]
  },
  {
   "cell_type": "code",
   "execution_count": null,
   "metadata": {},
   "outputs": [],
   "source": []
  },
  {
   "cell_type": "code",
   "execution_count": null,
   "metadata": {},
   "outputs": [],
   "source": []
  }
 ],
 "metadata": {
  "kernelspec": {
   "display_name": "Python 3",
   "language": "python",
   "name": "python3"
  },
  "language_info": {
   "codemirror_mode": {
    "name": "ipython",
    "version": 3
   },
   "file_extension": ".py",
   "mimetype": "text/x-python",
   "name": "python",
   "nbconvert_exporter": "python",
   "pygments_lexer": "ipython3",
   "version": "3.7.2"
  }
 },
 "nbformat": 4,
 "nbformat_minor": 2
}
