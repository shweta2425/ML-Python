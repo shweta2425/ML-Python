{
 "cells": [
  {
   "cell_type": "code",
   "execution_count": 1,
   "metadata": {
    "ExecuteTime": {
     "end_time": "2019-04-15T06:20:35.235166Z",
     "start_time": "2019-04-15T06:20:34.230799Z"
    }
   },
   "outputs": [],
   "source": [
    "import pandas.api.types as ptypes\n",
    "import pandas as pd\n",
    "import numpy as np\n",
    "import seaborn as sb\n",
    "from matplotlib import pyplot as plt\n"
   ]
  },
  {
   "cell_type": "code",
   "execution_count": 2,
   "metadata": {
    "ExecuteTime": {
     "end_time": "2019-04-15T06:20:35.589017Z",
     "start_time": "2019-04-15T06:20:35.240703Z"
    }
   },
   "outputs": [
    {
     "data": {
      "text/html": [
       "<div>\n",
       "<style scoped>\n",
       "    .dataframe tbody tr th:only-of-type {\n",
       "        vertical-align: middle;\n",
       "    }\n",
       "\n",
       "    .dataframe tbody tr th {\n",
       "        vertical-align: top;\n",
       "    }\n",
       "\n",
       "    .dataframe thead th {\n",
       "        text-align: right;\n",
       "    }\n",
       "</style>\n",
       "<table border=\"1\" class=\"dataframe\">\n",
       "  <thead>\n",
       "    <tr style=\"text-align: right;\">\n",
       "      <th></th>\n",
       "      <th>Formatted Date</th>\n",
       "      <th>Summary</th>\n",
       "      <th>Precip Type</th>\n",
       "      <th>Temperature (C)</th>\n",
       "      <th>Apparent Temperature (C)</th>\n",
       "      <th>Humidity</th>\n",
       "      <th>Wind Speed (km/h)</th>\n",
       "      <th>Wind Bearing (degrees)</th>\n",
       "      <th>Visibility (km)</th>\n",
       "      <th>Loud Cover</th>\n",
       "      <th>Pressure (millibars)</th>\n",
       "      <th>Daily Summary</th>\n",
       "    </tr>\n",
       "  </thead>\n",
       "  <tbody>\n",
       "    <tr>\n",
       "      <th>0</th>\n",
       "      <td>2006-04-01 00:00:00.000 +0200</td>\n",
       "      <td>Partly Cloudy</td>\n",
       "      <td>rain</td>\n",
       "      <td>9.472222</td>\n",
       "      <td>7.388889</td>\n",
       "      <td>0.89</td>\n",
       "      <td>14.1197</td>\n",
       "      <td>251.0</td>\n",
       "      <td>15.8263</td>\n",
       "      <td>0.0</td>\n",
       "      <td>1015.13</td>\n",
       "      <td>Partly cloudy throughout the day.</td>\n",
       "    </tr>\n",
       "    <tr>\n",
       "      <th>1</th>\n",
       "      <td>2006-04-01 01:00:00.000 +0200</td>\n",
       "      <td>Partly Cloudy</td>\n",
       "      <td>rain</td>\n",
       "      <td>9.355556</td>\n",
       "      <td>7.227778</td>\n",
       "      <td>0.86</td>\n",
       "      <td>14.2646</td>\n",
       "      <td>259.0</td>\n",
       "      <td>15.8263</td>\n",
       "      <td>0.0</td>\n",
       "      <td>1015.63</td>\n",
       "      <td>Partly cloudy throughout the day.</td>\n",
       "    </tr>\n",
       "    <tr>\n",
       "      <th>2</th>\n",
       "      <td>2006-04-01 02:00:00.000 +0200</td>\n",
       "      <td>Mostly Cloudy</td>\n",
       "      <td>rain</td>\n",
       "      <td>9.377778</td>\n",
       "      <td>9.377778</td>\n",
       "      <td>0.89</td>\n",
       "      <td>3.9284</td>\n",
       "      <td>204.0</td>\n",
       "      <td>14.9569</td>\n",
       "      <td>0.0</td>\n",
       "      <td>1015.94</td>\n",
       "      <td>Partly cloudy throughout the day.</td>\n",
       "    </tr>\n",
       "    <tr>\n",
       "      <th>3</th>\n",
       "      <td>2006-04-01 03:00:00.000 +0200</td>\n",
       "      <td>Partly Cloudy</td>\n",
       "      <td>rain</td>\n",
       "      <td>8.288889</td>\n",
       "      <td>5.944444</td>\n",
       "      <td>0.83</td>\n",
       "      <td>14.1036</td>\n",
       "      <td>269.0</td>\n",
       "      <td>15.8263</td>\n",
       "      <td>0.0</td>\n",
       "      <td>1016.41</td>\n",
       "      <td>Partly cloudy throughout the day.</td>\n",
       "    </tr>\n",
       "    <tr>\n",
       "      <th>4</th>\n",
       "      <td>2006-04-01 04:00:00.000 +0200</td>\n",
       "      <td>Mostly Cloudy</td>\n",
       "      <td>rain</td>\n",
       "      <td>8.755556</td>\n",
       "      <td>6.977778</td>\n",
       "      <td>0.83</td>\n",
       "      <td>11.0446</td>\n",
       "      <td>259.0</td>\n",
       "      <td>15.8263</td>\n",
       "      <td>0.0</td>\n",
       "      <td>1016.51</td>\n",
       "      <td>Partly cloudy throughout the day.</td>\n",
       "    </tr>\n",
       "  </tbody>\n",
       "</table>\n",
       "</div>"
      ],
      "text/plain": [
       "                  Formatted Date        Summary Precip Type  Temperature (C)  \\\n",
       "0  2006-04-01 00:00:00.000 +0200  Partly Cloudy        rain         9.472222   \n",
       "1  2006-04-01 01:00:00.000 +0200  Partly Cloudy        rain         9.355556   \n",
       "2  2006-04-01 02:00:00.000 +0200  Mostly Cloudy        rain         9.377778   \n",
       "3  2006-04-01 03:00:00.000 +0200  Partly Cloudy        rain         8.288889   \n",
       "4  2006-04-01 04:00:00.000 +0200  Mostly Cloudy        rain         8.755556   \n",
       "\n",
       "   Apparent Temperature (C)  Humidity  Wind Speed (km/h)  \\\n",
       "0                  7.388889      0.89            14.1197   \n",
       "1                  7.227778      0.86            14.2646   \n",
       "2                  9.377778      0.89             3.9284   \n",
       "3                  5.944444      0.83            14.1036   \n",
       "4                  6.977778      0.83            11.0446   \n",
       "\n",
       "   Wind Bearing (degrees)  Visibility (km)  Loud Cover  Pressure (millibars)  \\\n",
       "0                   251.0          15.8263         0.0               1015.13   \n",
       "1                   259.0          15.8263         0.0               1015.63   \n",
       "2                   204.0          14.9569         0.0               1015.94   \n",
       "3                   269.0          15.8263         0.0               1016.41   \n",
       "4                   259.0          15.8263         0.0               1016.51   \n",
       "\n",
       "                       Daily Summary  \n",
       "0  Partly cloudy throughout the day.  \n",
       "1  Partly cloudy throughout the day.  \n",
       "2  Partly cloudy throughout the day.  \n",
       "3  Partly cloudy throughout the day.  \n",
       "4  Partly cloudy throughout the day.  "
      ]
     },
     "execution_count": 2,
     "metadata": {},
     "output_type": "execute_result"
    }
   ],
   "source": [
    "# read file\n",
    "df_original=pd.read_csv(\"weatherHistory.csv\")\n",
    "\n",
    "df =df_original\n",
    "df.head()"
   ]
  },
  {
   "cell_type": "code",
   "execution_count": 3,
   "metadata": {
    "ExecuteTime": {
     "end_time": "2019-04-15T06:20:35.600828Z",
     "start_time": "2019-04-15T06:20:35.594096Z"
    }
   },
   "outputs": [
    {
     "data": {
      "text/plain": [
       "Index(['Formatted Date', 'Summary', 'Precip Type', 'Temperature (C)',\n",
       "       'Apparent Temperature (C)', 'Humidity', 'Wind Speed (km/h)',\n",
       "       'Wind Bearing (degrees)', 'Visibility (km)', 'Loud Cover',\n",
       "       'Pressure (millibars)', 'Daily Summary'],\n",
       "      dtype='object')"
      ]
     },
     "execution_count": 3,
     "metadata": {},
     "output_type": "execute_result"
    }
   ],
   "source": [
    "df.columns"
   ]
  },
  {
   "cell_type": "code",
   "execution_count": 4,
   "metadata": {
    "ExecuteTime": {
     "end_time": "2019-04-15T06:20:35.610871Z",
     "start_time": "2019-04-15T06:20:35.603689Z"
    }
   },
   "outputs": [],
   "source": [
    "df.drop(['Formatted Date', 'Summary','Precip Type','Loud Cover','Daily Summary'], axis=1,inplace=True)"
   ]
  },
  {
   "cell_type": "code",
   "execution_count": 5,
   "metadata": {
    "ExecuteTime": {
     "end_time": "2019-04-15T06:20:35.624484Z",
     "start_time": "2019-04-15T06:20:35.612717Z"
    }
   },
   "outputs": [
    {
     "data": {
      "text/plain": [
       "Temperature (C)             float64\n",
       "Apparent Temperature (C)    float64\n",
       "Humidity                    float64\n",
       "Wind Speed (km/h)           float64\n",
       "Wind Bearing (degrees)      float64\n",
       "Visibility (km)             float64\n",
       "Pressure (millibars)        float64\n",
       "dtype: object"
      ]
     },
     "execution_count": 5,
     "metadata": {},
     "output_type": "execute_result"
    }
   ],
   "source": [
    "df.dtypes"
   ]
  },
  {
   "cell_type": "code",
   "execution_count": 6,
   "metadata": {
    "ExecuteTime": {
     "end_time": "2019-04-15T06:20:35.650377Z",
     "start_time": "2019-04-15T06:20:35.626209Z"
    }
   },
   "outputs": [
    {
     "data": {
      "text/html": [
       "<div>\n",
       "<style scoped>\n",
       "    .dataframe tbody tr th:only-of-type {\n",
       "        vertical-align: middle;\n",
       "    }\n",
       "\n",
       "    .dataframe tbody tr th {\n",
       "        vertical-align: top;\n",
       "    }\n",
       "\n",
       "    .dataframe thead th {\n",
       "        text-align: right;\n",
       "    }\n",
       "</style>\n",
       "<table border=\"1\" class=\"dataframe\">\n",
       "  <thead>\n",
       "    <tr style=\"text-align: right;\">\n",
       "      <th></th>\n",
       "      <th>x1</th>\n",
       "      <th>y</th>\n",
       "      <th>x2</th>\n",
       "      <th>x3</th>\n",
       "      <th>x4</th>\n",
       "      <th>x5</th>\n",
       "      <th>x6</th>\n",
       "    </tr>\n",
       "  </thead>\n",
       "  <tbody>\n",
       "    <tr>\n",
       "      <th>0</th>\n",
       "      <td>9.472222</td>\n",
       "      <td>7.388889</td>\n",
       "      <td>0.89</td>\n",
       "      <td>14.1197</td>\n",
       "      <td>251.0</td>\n",
       "      <td>15.8263</td>\n",
       "      <td>1015.13</td>\n",
       "    </tr>\n",
       "    <tr>\n",
       "      <th>1</th>\n",
       "      <td>9.355556</td>\n",
       "      <td>7.227778</td>\n",
       "      <td>0.86</td>\n",
       "      <td>14.2646</td>\n",
       "      <td>259.0</td>\n",
       "      <td>15.8263</td>\n",
       "      <td>1015.63</td>\n",
       "    </tr>\n",
       "    <tr>\n",
       "      <th>2</th>\n",
       "      <td>9.377778</td>\n",
       "      <td>9.377778</td>\n",
       "      <td>0.89</td>\n",
       "      <td>3.9284</td>\n",
       "      <td>204.0</td>\n",
       "      <td>14.9569</td>\n",
       "      <td>1015.94</td>\n",
       "    </tr>\n",
       "    <tr>\n",
       "      <th>3</th>\n",
       "      <td>8.288889</td>\n",
       "      <td>5.944444</td>\n",
       "      <td>0.83</td>\n",
       "      <td>14.1036</td>\n",
       "      <td>269.0</td>\n",
       "      <td>15.8263</td>\n",
       "      <td>1016.41</td>\n",
       "    </tr>\n",
       "    <tr>\n",
       "      <th>4</th>\n",
       "      <td>8.755556</td>\n",
       "      <td>6.977778</td>\n",
       "      <td>0.83</td>\n",
       "      <td>11.0446</td>\n",
       "      <td>259.0</td>\n",
       "      <td>15.8263</td>\n",
       "      <td>1016.51</td>\n",
       "    </tr>\n",
       "  </tbody>\n",
       "</table>\n",
       "</div>"
      ],
      "text/plain": [
       "         x1         y    x2       x3     x4       x5       x6\n",
       "0  9.472222  7.388889  0.89  14.1197  251.0  15.8263  1015.13\n",
       "1  9.355556  7.227778  0.86  14.2646  259.0  15.8263  1015.63\n",
       "2  9.377778  9.377778  0.89   3.9284  204.0  14.9569  1015.94\n",
       "3  8.288889  5.944444  0.83  14.1036  269.0  15.8263  1016.41\n",
       "4  8.755556  6.977778  0.83  11.0446  259.0  15.8263  1016.51"
      ]
     },
     "execution_count": 6,
     "metadata": {},
     "output_type": "execute_result"
    }
   ],
   "source": [
    "df.rename(columns={'Apparent Temperature (C)':'y','Temperature (C)':'x1','Humidity':'x2','Wind Speed (km/h)':'x3','Wind Bearing (degrees)':'x4','Visibility (km)':'x5','Pressure (millibars)':'x6'},inplace=True)\n",
    "df.head()"
   ]
  },
  {
   "cell_type": "code",
   "execution_count": 7,
   "metadata": {
    "ExecuteTime": {
     "end_time": "2019-04-15T06:20:35.676960Z",
     "start_time": "2019-04-15T06:20:35.655446Z"
    }
   },
   "outputs": [
    {
     "name": "stdout",
     "output_type": "stream",
     "text": [
      "<class 'pandas.core.frame.DataFrame'>\n",
      "RangeIndex: 96453 entries, 0 to 96452\n",
      "Data columns (total 7 columns):\n",
      "x1    96453 non-null float64\n",
      "y     96453 non-null float64\n",
      "x2    96453 non-null float64\n",
      "x3    96453 non-null float64\n",
      "x4    96453 non-null float64\n",
      "x5    96453 non-null float64\n",
      "x6    96453 non-null float64\n",
      "dtypes: float64(7)\n",
      "memory usage: 5.2 MB\n"
     ]
    }
   ],
   "source": [
    "df.info()"
   ]
  },
  {
   "cell_type": "code",
   "execution_count": 8,
   "metadata": {
    "ExecuteTime": {
     "end_time": "2019-04-15T06:20:35.713329Z",
     "start_time": "2019-04-15T06:20:35.682046Z"
    }
   },
   "outputs": [],
   "source": [
    "df.replace(0.0, df.median(), inplace=True)"
   ]
  },
  {
   "cell_type": "code",
   "execution_count": 9,
   "metadata": {
    "ExecuteTime": {
     "end_time": "2019-04-15T06:20:35.732628Z",
     "start_time": "2019-04-15T06:20:35.718985Z"
    }
   },
   "outputs": [
    {
     "data": {
      "text/plain": [
       "x1    -21.822222\n",
       "y     -27.716667\n",
       "x2      0.120000\n",
       "x3      0.032200\n",
       "x4      1.000000\n",
       "x5      0.016100\n",
       "x6    973.780000\n",
       "dtype: float64"
      ]
     },
     "execution_count": 9,
     "metadata": {},
     "output_type": "execute_result"
    }
   ],
   "source": [
    "df.min()"
   ]
  },
  {
   "cell_type": "code",
   "execution_count": 10,
   "metadata": {
    "ExecuteTime": {
     "end_time": "2019-04-15T06:20:35.771936Z",
     "start_time": "2019-04-15T06:20:35.737774Z"
    }
   },
   "outputs": [
    {
     "data": {
      "text/plain": [
       "73"
      ]
     },
     "execution_count": 10,
     "metadata": {},
     "output_type": "execute_result"
    }
   ],
   "source": [
    "df.duplicated().sum()"
   ]
  },
  {
   "cell_type": "code",
   "execution_count": 11,
   "metadata": {
    "ExecuteTime": {
     "end_time": "2019-04-15T06:20:35.844635Z",
     "start_time": "2019-04-15T06:20:35.777041Z"
    }
   },
   "outputs": [
    {
     "data": {
      "text/plain": [
       "0"
      ]
     },
     "execution_count": 11,
     "metadata": {},
     "output_type": "execute_result"
    }
   ],
   "source": [
    "df.drop_duplicates(keep=False,inplace=True) \n",
    "df.duplicated().sum()\n",
    "# df.describe()"
   ]
  },
  {
   "cell_type": "code",
   "execution_count": 12,
   "metadata": {
    "ExecuteTime": {
     "end_time": "2019-04-15T06:20:36.166121Z",
     "start_time": "2019-04-15T06:20:35.849752Z"
    }
   },
   "outputs": [
    {
     "data": {
      "text/plain": [
       "<matplotlib.axes._subplots.AxesSubplot at 0x7f6f5eb8d278>"
      ]
     },
     "execution_count": 12,
     "metadata": {},
     "output_type": "execute_result"
    },
    {
     "data": {
      "image/png": "[encoded data removed]",
      "text/plain": [
       "<Figure size 432x288 with 1 Axes>"
      ]
     },
     "metadata": {
      "needs_background": "light"
     },
     "output_type": "display_data"
    }
   ],
   "source": [
    "def Handling_missing_data(dataset):\n",
    "    dataset.replace(np.NaN, dataset.mean(), inplace=True)\n",
    "    return dataset\n",
    "\n",
    "dataset=Handling_missing_data(df)\n",
    "sb.boxplot(data=dataset)"
   ]
  },
  {
   "cell_type": "code",
   "execution_count": 13,
   "metadata": {
    "ExecuteTime": {
     "end_time": "2019-04-15T06:20:37.014352Z",
     "start_time": "2019-04-15T06:20:36.171166Z"
    }
   },
   "outputs": [
    {
     "data": {
      "text/plain": [
       "(96307, 7)"
      ]
     },
     "execution_count": 13,
     "metadata": {},
     "output_type": "execute_result"
    },
    {
     "data": {
      "image/png": "[encoded data removed]",
      "text/plain": [
       "<Figure size 432x288 with 1 Axes>"
      ]
     },
     "metadata": {
      "needs_background": "light"
     },
     "output_type": "display_data"
    }
   ],
   "source": [
    "# def remove_outlier(df):\n",
    "#     low = .05\n",
    "#     high = .95\n",
    "#     quant_df = df.quantile([low, high])\n",
    "#     for name in list(df.columns):\n",
    "#         if ptypes.is_numeric_dtype(df[name]):\n",
    "#             df = df[(df[name] > quant_df.loc[low, name]) & (df[name] < quant_df.loc[high, name])]\n",
    "#     return df\n",
    "def remove_outlier(df):\n",
    "    df = df[np.abs(df - df.mean()) <= (3 * df.std())]\n",
    "    sb.boxplot(df)\n",
    "remove_outlier(df)\n",
    "df.shape"
   ]
  },
  {
   "cell_type": "code",
   "execution_count": 14,
   "metadata": {
    "ExecuteTime": {
     "end_time": "2019-04-15T06:20:37.023089Z",
     "start_time": "2019-04-15T06:20:37.019574Z"
    }
   },
   "outputs": [],
   "source": [
    "# df= remove_outlier(df)\n",
    "# sb.boxplot(data=df)\n",
    "# df.shape"
   ]
  },
  {
   "cell_type": "code",
   "execution_count": 15,
   "metadata": {
    "ExecuteTime": {
     "end_time": "2019-04-15T06:20:37.034695Z",
     "start_time": "2019-04-15T06:20:37.026456Z"
    }
   },
   "outputs": [],
   "source": [
    "# def Split(data):\n",
    "#     train_set=0.70*len(data)\n",
    "#     train=int(train_set)\n",
    "# #         print(train)\n",
    "#     test_set=0.30*len(data)\n",
    "#     test=int(test_set)\n",
    "        \n",
    "#     return train,test"
   ]
  },
  {
   "cell_type": "code",
   "execution_count": 16,
   "metadata": {
    "ExecuteTime": {
     "end_time": "2019-04-15T06:20:37.046740Z",
     "start_time": "2019-04-15T06:20:37.036589Z"
    }
   },
   "outputs": [],
   "source": [
    "# train,test = Split(df)"
   ]
  },
  {
   "cell_type": "code",
   "execution_count": 17,
   "metadata": {
    "ExecuteTime": {
     "end_time": "2019-04-15T06:20:37.058325Z",
     "start_time": "2019-04-15T06:20:37.048353Z"
    }
   },
   "outputs": [],
   "source": [
    "# train_data=df.head(train)\n",
    "# test_data=df.tail(test)"
   ]
  },
  {
   "cell_type": "code",
   "execution_count": null,
   "metadata": {},
   "outputs": [],
   "source": []
  },
  {
   "cell_type": "code",
   "execution_count": 18,
   "metadata": {
    "ExecuteTime": {
     "end_time": "2019-04-15T06:20:37.070391Z",
     "start_time": "2019-04-15T06:20:37.060018Z"
    }
   },
   "outputs": [],
   "source": [
    "def Feature_Scaling(df):\n",
    "        for column in df.columns:\n",
    "            df[column] = ((df[column] - df[column].min()) /\n",
    "                             (df[column].max() - df[column].min()))\n",
    "        return df"
   ]
  },
  {
   "cell_type": "code",
   "execution_count": 19,
   "metadata": {
    "ExecuteTime": {
     "end_time": "2019-04-15T06:20:37.099338Z",
     "start_time": "2019-04-15T06:20:37.072375Z"
    }
   },
   "outputs": [],
   "source": [
    "df = Feature_Scaling(df)"
   ]
  },
  {
   "cell_type": "code",
   "execution_count": 20,
   "metadata": {
    "ExecuteTime": {
     "end_time": "2019-04-15T06:20:37.108875Z",
     "start_time": "2019-04-15T06:20:37.104711Z"
    }
   },
   "outputs": [],
   "source": [
    "def Split(data):\n",
    "    train_set=0.70*len(data)\n",
    "    train=int(train_set)\n",
    "#         print(train)\n",
    "    test_set=0.30*len(data)\n",
    "    test=int(test_set)\n",
    "        \n",
    "    return train,test"
   ]
  },
  {
   "cell_type": "code",
   "execution_count": 21,
   "metadata": {
    "ExecuteTime": {
     "end_time": "2019-04-15T06:20:37.120487Z",
     "start_time": "2019-04-15T06:20:37.113919Z"
    }
   },
   "outputs": [],
   "source": [
    " train,test = Split(df)"
   ]
  },
  {
   "cell_type": "code",
   "execution_count": 22,
   "metadata": {
    "ExecuteTime": {
     "end_time": "2019-04-15T06:20:37.132331Z",
     "start_time": "2019-04-15T06:20:37.122303Z"
    }
   },
   "outputs": [],
   "source": [
    "train_data=df.head(train)\n",
    "test_data=df.tail(test)"
   ]
  },
  {
   "cell_type": "code",
   "execution_count": null,
   "metadata": {},
   "outputs": [],
   "source": []
  },
  {
   "cell_type": "code",
   "execution_count": 23,
   "metadata": {
    "ExecuteTime": {
     "end_time": "2019-04-15T06:20:37.154681Z",
     "start_time": "2019-04-15T06:20:37.134202Z"
    }
   },
   "outputs": [
    {
     "data": {
      "text/html": [
       "<div>\n",
       "<style scoped>\n",
       "    .dataframe tbody tr th:only-of-type {\n",
       "        vertical-align: middle;\n",
       "    }\n",
       "\n",
       "    .dataframe tbody tr th {\n",
       "        vertical-align: top;\n",
       "    }\n",
       "\n",
       "    .dataframe thead th {\n",
       "        text-align: right;\n",
       "    }\n",
       "</style>\n",
       "<table border=\"1\" class=\"dataframe\">\n",
       "  <thead>\n",
       "    <tr style=\"text-align: right;\">\n",
       "      <th></th>\n",
       "      <th>x1</th>\n",
       "      <th>y</th>\n",
       "      <th>x2</th>\n",
       "      <th>x3</th>\n",
       "      <th>x4</th>\n",
       "      <th>x5</th>\n",
       "      <th>x6</th>\n",
       "    </tr>\n",
       "  </thead>\n",
       "  <tbody>\n",
       "    <tr>\n",
       "      <th>67561</th>\n",
       "      <td>0.570066</td>\n",
       "      <td>0.612625</td>\n",
       "      <td>0.943182</td>\n",
       "      <td>0.213673</td>\n",
       "      <td>0.421788</td>\n",
       "      <td>0.522523</td>\n",
       "      <td>0.517906</td>\n",
       "    </tr>\n",
       "    <tr>\n",
       "      <th>67562</th>\n",
       "      <td>0.561336</td>\n",
       "      <td>0.604590</td>\n",
       "      <td>0.988636</td>\n",
       "      <td>0.172805</td>\n",
       "      <td>0.444134</td>\n",
       "      <td>0.390390</td>\n",
       "      <td>0.508815</td>\n",
       "    </tr>\n",
       "    <tr>\n",
       "      <th>67563</th>\n",
       "      <td>0.560526</td>\n",
       "      <td>0.603844</td>\n",
       "      <td>0.988636</td>\n",
       "      <td>0.174319</td>\n",
       "      <td>0.421788</td>\n",
       "      <td>0.390390</td>\n",
       "      <td>0.499587</td>\n",
       "    </tr>\n",
       "    <tr>\n",
       "      <th>67564</th>\n",
       "      <td>0.560256</td>\n",
       "      <td>0.603595</td>\n",
       "      <td>0.988636</td>\n",
       "      <td>0.161958</td>\n",
       "      <td>0.413408</td>\n",
       "      <td>0.476476</td>\n",
       "      <td>0.492700</td>\n",
       "    </tr>\n",
       "    <tr>\n",
       "      <th>67565</th>\n",
       "      <td>0.560166</td>\n",
       "      <td>0.603513</td>\n",
       "      <td>1.000000</td>\n",
       "      <td>0.124622</td>\n",
       "      <td>0.472067</td>\n",
       "      <td>0.699700</td>\n",
       "      <td>0.487466</td>\n",
       "    </tr>\n",
       "  </tbody>\n",
       "</table>\n",
       "</div>"
      ],
      "text/plain": [
       "             x1         y        x2        x3        x4        x5        x6\n",
       "67561  0.570066  0.612625  0.943182  0.213673  0.421788  0.522523  0.517906\n",
       "67562  0.561336  0.604590  0.988636  0.172805  0.444134  0.390390  0.508815\n",
       "67563  0.560526  0.603844  0.988636  0.174319  0.421788  0.390390  0.499587\n",
       "67564  0.560256  0.603595  0.988636  0.161958  0.413408  0.476476  0.492700\n",
       "67565  0.560166  0.603513  1.000000  0.124622  0.472067  0.699700  0.487466"
      ]
     },
     "execution_count": 23,
     "metadata": {},
     "output_type": "execute_result"
    }
   ],
   "source": [
    "test_data.head()"
   ]
  },
  {
   "cell_type": "code",
   "execution_count": 24,
   "metadata": {
    "ExecuteTime": {
     "end_time": "2019-04-15T06:20:37.173331Z",
     "start_time": "2019-04-15T06:20:37.159942Z"
    }
   },
   "outputs": [
    {
     "data": {
      "text/html": [
       "<div>\n",
       "<style scoped>\n",
       "    .dataframe tbody tr th:only-of-type {\n",
       "        vertical-align: middle;\n",
       "    }\n",
       "\n",
       "    .dataframe tbody tr th {\n",
       "        vertical-align: top;\n",
       "    }\n",
       "\n",
       "    .dataframe thead th {\n",
       "        text-align: right;\n",
       "    }\n",
       "</style>\n",
       "<table border=\"1\" class=\"dataframe\">\n",
       "  <thead>\n",
       "    <tr style=\"text-align: right;\">\n",
       "      <th></th>\n",
       "      <th>x1</th>\n",
       "      <th>y</th>\n",
       "      <th>x2</th>\n",
       "      <th>x3</th>\n",
       "      <th>x4</th>\n",
       "      <th>x5</th>\n",
       "      <th>x6</th>\n",
       "    </tr>\n",
       "  </thead>\n",
       "  <tbody>\n",
       "    <tr>\n",
       "      <th>96448</th>\n",
       "      <td>0.774998</td>\n",
       "      <td>0.801259</td>\n",
       "      <td>0.352273</td>\n",
       "      <td>0.171796</td>\n",
       "      <td>0.083799</td>\n",
       "      <td>1.000000</td>\n",
       "      <td>0.558953</td>\n",
       "    </tr>\n",
       "    <tr>\n",
       "      <th>96449</th>\n",
       "      <td>0.751778</td>\n",
       "      <td>0.779886</td>\n",
       "      <td>0.409091</td>\n",
       "      <td>0.157669</td>\n",
       "      <td>0.053073</td>\n",
       "      <td>0.965966</td>\n",
       "      <td>0.569972</td>\n",
       "    </tr>\n",
       "    <tr>\n",
       "      <th>96450</th>\n",
       "      <td>0.710557</td>\n",
       "      <td>0.741944</td>\n",
       "      <td>0.500000</td>\n",
       "      <td>0.140262</td>\n",
       "      <td>0.081006</td>\n",
       "      <td>1.000000</td>\n",
       "      <td>0.576860</td>\n",
       "    </tr>\n",
       "    <tr>\n",
       "      <th>96451</th>\n",
       "      <td>0.702187</td>\n",
       "      <td>0.734239</td>\n",
       "      <td>0.545455</td>\n",
       "      <td>0.164480</td>\n",
       "      <td>0.053073</td>\n",
       "      <td>1.000000</td>\n",
       "      <td>0.580854</td>\n",
       "    </tr>\n",
       "    <tr>\n",
       "      <th>96452</th>\n",
       "      <td>0.684637</td>\n",
       "      <td>0.718085</td>\n",
       "      <td>0.556818</td>\n",
       "      <td>0.091574</td>\n",
       "      <td>0.106145</td>\n",
       "      <td>0.963964</td>\n",
       "      <td>0.583747</td>\n",
       "    </tr>\n",
       "  </tbody>\n",
       "</table>\n",
       "</div>"
      ],
      "text/plain": [
       "             x1         y        x2        x3        x4        x5        x6\n",
       "96448  0.774998  0.801259  0.352273  0.171796  0.083799  1.000000  0.558953\n",
       "96449  0.751778  0.779886  0.409091  0.157669  0.053073  0.965966  0.569972\n",
       "96450  0.710557  0.741944  0.500000  0.140262  0.081006  1.000000  0.576860\n",
       "96451  0.702187  0.734239  0.545455  0.164480  0.053073  1.000000  0.580854\n",
       "96452  0.684637  0.718085  0.556818  0.091574  0.106145  0.963964  0.583747"
      ]
     },
     "execution_count": 24,
     "metadata": {},
     "output_type": "execute_result"
    }
   ],
   "source": [
    "df.tail()"
   ]
  },
  {
   "cell_type": "code",
   "execution_count": 25,
   "metadata": {
    "ExecuteTime": {
     "end_time": "2019-04-15T06:20:37.184065Z",
     "start_time": "2019-04-15T06:20:37.178237Z"
    }
   },
   "outputs": [],
   "source": [
    "# Separating the output and the parameters data frame\n",
    "def separate(df):\n",
    "    output = df.y\n",
    "    return df.drop('y', axis=1), output\n",
    "\n",
    "train_data_x,train_data_y = separate(train_data)"
   ]
  },
  {
   "cell_type": "code",
   "execution_count": 26,
   "metadata": {
    "ExecuteTime": {
     "end_time": "2019-04-15T06:20:37.196355Z",
     "start_time": "2019-04-15T06:20:37.189110Z"
    }
   },
   "outputs": [],
   "source": [
    "test_data_x,test_data_y=separate(test_data)"
   ]
  },
  {
   "cell_type": "code",
   "execution_count": 27,
   "metadata": {
    "ExecuteTime": {
     "end_time": "2019-04-15T06:20:37.223797Z",
     "start_time": "2019-04-15T06:20:37.201181Z"
    }
   },
   "outputs": [
    {
     "data": {
      "text/html": [
       "<div>\n",
       "<style scoped>\n",
       "    .dataframe tbody tr th:only-of-type {\n",
       "        vertical-align: middle;\n",
       "    }\n",
       "\n",
       "    .dataframe tbody tr th {\n",
       "        vertical-align: top;\n",
       "    }\n",
       "\n",
       "    .dataframe thead th {\n",
       "        text-align: right;\n",
       "    }\n",
       "</style>\n",
       "<table border=\"1\" class=\"dataframe\">\n",
       "  <thead>\n",
       "    <tr style=\"text-align: right;\">\n",
       "      <th></th>\n",
       "      <th>x1</th>\n",
       "      <th>x2</th>\n",
       "      <th>x3</th>\n",
       "      <th>x4</th>\n",
       "      <th>x5</th>\n",
       "      <th>x6</th>\n",
       "    </tr>\n",
       "  </thead>\n",
       "  <tbody>\n",
       "    <tr>\n",
       "      <th>96448</th>\n",
       "      <td>0.774998</td>\n",
       "      <td>0.352273</td>\n",
       "      <td>0.171796</td>\n",
       "      <td>0.083799</td>\n",
       "      <td>1.000000</td>\n",
       "      <td>0.558953</td>\n",
       "    </tr>\n",
       "    <tr>\n",
       "      <th>96449</th>\n",
       "      <td>0.751778</td>\n",
       "      <td>0.409091</td>\n",
       "      <td>0.157669</td>\n",
       "      <td>0.053073</td>\n",
       "      <td>0.965966</td>\n",
       "      <td>0.569972</td>\n",
       "    </tr>\n",
       "    <tr>\n",
       "      <th>96450</th>\n",
       "      <td>0.710557</td>\n",
       "      <td>0.500000</td>\n",
       "      <td>0.140262</td>\n",
       "      <td>0.081006</td>\n",
       "      <td>1.000000</td>\n",
       "      <td>0.576860</td>\n",
       "    </tr>\n",
       "    <tr>\n",
       "      <th>96451</th>\n",
       "      <td>0.702187</td>\n",
       "      <td>0.545455</td>\n",
       "      <td>0.164480</td>\n",
       "      <td>0.053073</td>\n",
       "      <td>1.000000</td>\n",
       "      <td>0.580854</td>\n",
       "    </tr>\n",
       "    <tr>\n",
       "      <th>96452</th>\n",
       "      <td>0.684637</td>\n",
       "      <td>0.556818</td>\n",
       "      <td>0.091574</td>\n",
       "      <td>0.106145</td>\n",
       "      <td>0.963964</td>\n",
       "      <td>0.583747</td>\n",
       "    </tr>\n",
       "  </tbody>\n",
       "</table>\n",
       "</div>"
      ],
      "text/plain": [
       "             x1        x2        x3        x4        x5        x6\n",
       "96448  0.774998  0.352273  0.171796  0.083799  1.000000  0.558953\n",
       "96449  0.751778  0.409091  0.157669  0.053073  0.965966  0.569972\n",
       "96450  0.710557  0.500000  0.140262  0.081006  1.000000  0.576860\n",
       "96451  0.702187  0.545455  0.164480  0.053073  1.000000  0.580854\n",
       "96452  0.684637  0.556818  0.091574  0.106145  0.963964  0.583747"
      ]
     },
     "execution_count": 27,
     "metadata": {},
     "output_type": "execute_result"
    }
   ],
   "source": [
    "test_data_x.tail()"
   ]
  },
  {
   "cell_type": "code",
   "execution_count": 28,
   "metadata": {
    "ExecuteTime": {
     "end_time": "2019-04-15T06:20:37.336820Z",
     "start_time": "2019-04-15T06:20:37.229252Z"
    }
   },
   "outputs": [
    {
     "data": {
      "text/html": [
       "<div>\n",
       "<style scoped>\n",
       "    .dataframe tbody tr th:only-of-type {\n",
       "        vertical-align: middle;\n",
       "    }\n",
       "\n",
       "    .dataframe tbody tr th {\n",
       "        vertical-align: top;\n",
       "    }\n",
       "\n",
       "    .dataframe thead th {\n",
       "        text-align: right;\n",
       "    }\n",
       "</style>\n",
       "<table border=\"1\" class=\"dataframe\">\n",
       "  <thead>\n",
       "    <tr style=\"text-align: right;\">\n",
       "      <th></th>\n",
       "      <th>x1</th>\n",
       "      <th>y</th>\n",
       "      <th>x2</th>\n",
       "      <th>x3</th>\n",
       "      <th>x4</th>\n",
       "      <th>x5</th>\n",
       "      <th>x6</th>\n",
       "    </tr>\n",
       "  </thead>\n",
       "  <tbody>\n",
       "    <tr>\n",
       "      <th>count</th>\n",
       "      <td>96307.000000</td>\n",
       "      <td>96307.000000</td>\n",
       "      <td>96307.000000</td>\n",
       "      <td>96307.000000</td>\n",
       "      <td>96307.000000</td>\n",
       "      <td>96307.000000</td>\n",
       "      <td>96307.000000</td>\n",
       "    </tr>\n",
       "    <tr>\n",
       "      <th>mean</th>\n",
       "      <td>0.547611</td>\n",
       "      <td>0.575402</td>\n",
       "      <td>0.698755</td>\n",
       "      <td>0.171106</td>\n",
       "      <td>0.532757</td>\n",
       "      <td>0.645608</td>\n",
       "      <td>0.592641</td>\n",
       "    </tr>\n",
       "    <tr>\n",
       "      <th>std</th>\n",
       "      <td>0.154197</td>\n",
       "      <td>0.159352</td>\n",
       "      <td>0.221750</td>\n",
       "      <td>0.106510</td>\n",
       "      <td>0.288781</td>\n",
       "      <td>0.256659</td>\n",
       "      <td>0.106464</td>\n",
       "    </tr>\n",
       "    <tr>\n",
       "      <th>min</th>\n",
       "      <td>0.000000</td>\n",
       "      <td>0.000000</td>\n",
       "      <td>0.000000</td>\n",
       "      <td>0.000000</td>\n",
       "      <td>0.000000</td>\n",
       "      <td>0.000000</td>\n",
       "      <td>0.000000</td>\n",
       "    </tr>\n",
       "    <tr>\n",
       "      <th>25%</th>\n",
       "      <td>0.432184</td>\n",
       "      <td>0.448513</td>\n",
       "      <td>0.545455</td>\n",
       "      <td>0.095358</td>\n",
       "      <td>0.354749</td>\n",
       "      <td>0.527027</td>\n",
       "      <td>0.529063</td>\n",
       "    </tr>\n",
       "    <tr>\n",
       "      <th>50%</th>\n",
       "      <td>0.548105</td>\n",
       "      <td>0.592412</td>\n",
       "      <td>0.750000</td>\n",
       "      <td>0.155903</td>\n",
       "      <td>0.500000</td>\n",
       "      <td>0.623624</td>\n",
       "      <td>0.587741</td>\n",
       "    </tr>\n",
       "    <tr>\n",
       "      <th>75%</th>\n",
       "      <td>0.658717</td>\n",
       "      <td>0.694226</td>\n",
       "      <td>0.875000</td>\n",
       "      <td>0.220989</td>\n",
       "      <td>0.807263</td>\n",
       "      <td>0.919920</td>\n",
       "      <td>0.651653</td>\n",
       "    </tr>\n",
       "    <tr>\n",
       "      <th>max</th>\n",
       "      <td>1.000000</td>\n",
       "      <td>1.000000</td>\n",
       "      <td>1.000000</td>\n",
       "      <td>1.000000</td>\n",
       "      <td>1.000000</td>\n",
       "      <td>1.000000</td>\n",
       "      <td>1.000000</td>\n",
       "    </tr>\n",
       "  </tbody>\n",
       "</table>\n",
       "</div>"
      ],
      "text/plain": [
       "                 x1             y            x2            x3            x4  \\\n",
       "count  96307.000000  96307.000000  96307.000000  96307.000000  96307.000000   \n",
       "mean       0.547611      0.575402      0.698755      0.171106      0.532757   \n",
       "std        0.154197      0.159352      0.221750      0.106510      0.288781   \n",
       "min        0.000000      0.000000      0.000000      0.000000      0.000000   \n",
       "25%        0.432184      0.448513      0.545455      0.095358      0.354749   \n",
       "50%        0.548105      0.592412      0.750000      0.155903      0.500000   \n",
       "75%        0.658717      0.694226      0.875000      0.220989      0.807263   \n",
       "max        1.000000      1.000000      1.000000      1.000000      1.000000   \n",
       "\n",
       "                 x5            x6  \n",
       "count  96307.000000  96307.000000  \n",
       "mean       0.645608      0.592641  \n",
       "std        0.256659      0.106464  \n",
       "min        0.000000      0.000000  \n",
       "25%        0.527027      0.529063  \n",
       "50%        0.623624      0.587741  \n",
       "75%        0.919920      0.651653  \n",
       "max        1.000000      1.000000  "
      ]
     },
     "execution_count": 28,
     "metadata": {},
     "output_type": "execute_result"
    }
   ],
   "source": [
    "df.describe()"
   ]
  },
  {
   "cell_type": "code",
   "execution_count": 29,
   "metadata": {
    "ExecuteTime": {
     "end_time": "2019-04-15T06:51:37.981298Z",
     "start_time": "2019-04-15T06:51:08.373478Z"
    }
   },
   "outputs": [
    {
     "name": "stdout",
     "output_type": "stream",
     "text": [
      "accuracy is [97.66574938]\n"
     ]
    }
   ],
   "source": [
    "class MultiLinear_Regression:\n",
    "    def __init__(self):\n",
    "        # loads csv file\n",
    "        self.alpha = 0.1\n",
    "        self.epoch = 60000\n",
    "        \n",
    "    def Gradient_Descent(self, train_x_data, train_y_data,theta_vector):\n",
    "        \n",
    "        for length in range(self.epoch):\n",
    "            hypo=np.dot(theta_vector.T,train_x_data.T)\n",
    "            diff=np.subtract(hypo,train_y_data.T)\n",
    "            temp=np.dot(diff,train_x_data)\n",
    "            temp=np.divide(np.dot(self.alpha,temp),len(train_x_data))\n",
    "            theta_vector=np.subtract(theta_vector,temp.T)\n",
    "       \n",
    "        return theta_vector\n",
    "\n",
    "    def Test_data(self, test_x_data, theta_vector):\n",
    "        \n",
    "        y_predict = np.dot(theta_vector.T,test_x_data.T)\n",
    "        y_predict=y_predict.T\n",
    "        return y_predict\n",
    "    \n",
    "    def accuracy(self, y_test_data, y_predict):\n",
    "        total_error = 0\n",
    "        for i in range(0, len(y_test_data)):\n",
    "            total_error += abs((y_predict[i] - y_test_data[i]) / y_test_data[i])\n",
    "        total_error = (total_error / len(y_test_data))\n",
    "        accuracy = 1 - total_error\n",
    "        return accuracy * 100\n",
    "\n",
    "\n",
    "def main(train_data_x,train_data_y,test_data_x,test_data_y):\n",
    "    obj = MultiLinear_Regression()\n",
    "    # calling method by class object\n",
    "    list1 = []\n",
    "    \n",
    "    x_train_data = np.array(train_data_x)\n",
    "    y_train_data = np.array(train_data_y)\n",
    "    \n",
    "    x_test_data = np.array(test_data_x)\n",
    "    y_test_data = np.array(test_data_y)\n",
    "     \n",
    "    x_train_data = np.column_stack((np.ones((x_train_data.shape[0], 1)), x_train_data))\n",
    "    \n",
    "    x_test_data = np.column_stack((np.ones((x_test_data.shape[0], 1)), x_test_data))\n",
    "     \n",
    "    x_size = 6\n",
    "    theta_vector = np.full((x_size+1,1),.1)\n",
    "     \n",
    "    theta_vector = obj.Gradient_Descent(x_train_data, y_train_data,theta_vector)\n",
    "    y_predict = obj.Test_data(x_test_data, theta_vector)\n",
    "    \n",
    "    acc = obj.accuracy(y_test_data, y_predict)\n",
    "    print(\"accuracy is\", acc)\n",
    "\n",
    "if __name__ == '__main__':\n",
    "    main(train_data_x,train_data_y,test_data_x,test_data_y)\n",
    "    "
   ]
  },
  {
   "cell_type": "code",
   "execution_count": null,
   "metadata": {},
   "outputs": [],
   "source": []
  }
 ],
 "metadata": {
  "kernelspec": {
   "display_name": "Python 3",
   "language": "python",
   "name": "python3"
  },
  "language_info": {
   "codemirror_mode": {
    "name": "ipython",
    "version": 3
   },
   "file_extension": ".py",
   "mimetype": "text/x-python",
   "name": "python",
   "nbconvert_exporter": "python",
   "pygments_lexer": "ipython3",
   "version": "3.7.1"
  }
 },
 "nbformat": 4,
 "nbformat_minor": 2
}
