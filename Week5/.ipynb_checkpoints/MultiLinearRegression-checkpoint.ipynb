{
 "cells": [
  {
   "cell_type": "code",
   "execution_count": 1,
   "metadata": {},
   "outputs": [],
   "source": [
    "import os\n",
    "import pandas as pd\n",
    "import pandas.api.types as ptypes\n",
    "import numpy as np\n",
    "import seaborn as sb\n",
    "from matplotlib import pyplot as plt   "
   ]
  },
  {
   "cell_type": "code",
   "execution_count": 2,
   "metadata": {},
   "outputs": [
    {
     "data": {
      "text/html": [
       "<div>\n",
       "<style scoped>\n",
       "    .dataframe tbody tr th:only-of-type {\n",
       "        vertical-align: middle;\n",
       "    }\n",
       "\n",
       "    .dataframe tbody tr th {\n",
       "        vertical-align: top;\n",
       "    }\n",
       "\n",
       "    .dataframe thead th {\n",
       "        text-align: right;\n",
       "    }\n",
       "</style>\n",
       "<table border=\"1\" class=\"dataframe\">\n",
       "  <thead>\n",
       "    <tr style=\"text-align: right;\">\n",
       "      <th></th>\n",
       "      <th>Formatted Date</th>\n",
       "      <th>Summary</th>\n",
       "      <th>Precip Type</th>\n",
       "      <th>Temperature (C)</th>\n",
       "      <th>Apparent Temperature (C)</th>\n",
       "      <th>Humidity</th>\n",
       "      <th>Wind Speed (km/h)</th>\n",
       "      <th>Wind Bearing (degrees)</th>\n",
       "      <th>Visibility (km)</th>\n",
       "      <th>Loud Cover</th>\n",
       "      <th>Pressure (millibars)</th>\n",
       "      <th>Daily Summary</th>\n",
       "    </tr>\n",
       "  </thead>\n",
       "  <tbody>\n",
       "    <tr>\n",
       "      <th>0</th>\n",
       "      <td>2006-04-01 00:00:00.000 +0200</td>\n",
       "      <td>Partly Cloudy</td>\n",
       "      <td>rain</td>\n",
       "      <td>9.472222</td>\n",
       "      <td>7.388889</td>\n",
       "      <td>0.89</td>\n",
       "      <td>14.1197</td>\n",
       "      <td>251.0</td>\n",
       "      <td>15.8263</td>\n",
       "      <td>0.0</td>\n",
       "      <td>1015.13</td>\n",
       "      <td>Partly cloudy throughout the day.</td>\n",
       "    </tr>\n",
       "    <tr>\n",
       "      <th>1</th>\n",
       "      <td>2006-04-01 01:00:00.000 +0200</td>\n",
       "      <td>Partly Cloudy</td>\n",
       "      <td>rain</td>\n",
       "      <td>9.355556</td>\n",
       "      <td>7.227778</td>\n",
       "      <td>0.86</td>\n",
       "      <td>14.2646</td>\n",
       "      <td>259.0</td>\n",
       "      <td>15.8263</td>\n",
       "      <td>0.0</td>\n",
       "      <td>1015.63</td>\n",
       "      <td>Partly cloudy throughout the day.</td>\n",
       "    </tr>\n",
       "    <tr>\n",
       "      <th>2</th>\n",
       "      <td>2006-04-01 02:00:00.000 +0200</td>\n",
       "      <td>Mostly Cloudy</td>\n",
       "      <td>rain</td>\n",
       "      <td>9.377778</td>\n",
       "      <td>9.377778</td>\n",
       "      <td>0.89</td>\n",
       "      <td>3.9284</td>\n",
       "      <td>204.0</td>\n",
       "      <td>14.9569</td>\n",
       "      <td>0.0</td>\n",
       "      <td>1015.94</td>\n",
       "      <td>Partly cloudy throughout the day.</td>\n",
       "    </tr>\n",
       "    <tr>\n",
       "      <th>3</th>\n",
       "      <td>2006-04-01 03:00:00.000 +0200</td>\n",
       "      <td>Partly Cloudy</td>\n",
       "      <td>rain</td>\n",
       "      <td>8.288889</td>\n",
       "      <td>5.944444</td>\n",
       "      <td>0.83</td>\n",
       "      <td>14.1036</td>\n",
       "      <td>269.0</td>\n",
       "      <td>15.8263</td>\n",
       "      <td>0.0</td>\n",
       "      <td>1016.41</td>\n",
       "      <td>Partly cloudy throughout the day.</td>\n",
       "    </tr>\n",
       "    <tr>\n",
       "      <th>4</th>\n",
       "      <td>2006-04-01 04:00:00.000 +0200</td>\n",
       "      <td>Mostly Cloudy</td>\n",
       "      <td>rain</td>\n",
       "      <td>8.755556</td>\n",
       "      <td>6.977778</td>\n",
       "      <td>0.83</td>\n",
       "      <td>11.0446</td>\n",
       "      <td>259.0</td>\n",
       "      <td>15.8263</td>\n",
       "      <td>0.0</td>\n",
       "      <td>1016.51</td>\n",
       "      <td>Partly cloudy throughout the day.</td>\n",
       "    </tr>\n",
       "  </tbody>\n",
       "</table>\n",
       "</div>"
      ],
      "text/plain": [
       "                  Formatted Date        Summary Precip Type  Temperature (C)  \\\n",
       "0  2006-04-01 00:00:00.000 +0200  Partly Cloudy        rain         9.472222   \n",
       "1  2006-04-01 01:00:00.000 +0200  Partly Cloudy        rain         9.355556   \n",
       "2  2006-04-01 02:00:00.000 +0200  Mostly Cloudy        rain         9.377778   \n",
       "3  2006-04-01 03:00:00.000 +0200  Partly Cloudy        rain         8.288889   \n",
       "4  2006-04-01 04:00:00.000 +0200  Mostly Cloudy        rain         8.755556   \n",
       "\n",
       "   Apparent Temperature (C)  Humidity  Wind Speed (km/h)  \\\n",
       "0                  7.388889      0.89            14.1197   \n",
       "1                  7.227778      0.86            14.2646   \n",
       "2                  9.377778      0.89             3.9284   \n",
       "3                  5.944444      0.83            14.1036   \n",
       "4                  6.977778      0.83            11.0446   \n",
       "\n",
       "   Wind Bearing (degrees)  Visibility (km)  Loud Cover  Pressure (millibars)  \\\n",
       "0                   251.0          15.8263         0.0               1015.13   \n",
       "1                   259.0          15.8263         0.0               1015.63   \n",
       "2                   204.0          14.9569         0.0               1015.94   \n",
       "3                   269.0          15.8263         0.0               1016.41   \n",
       "4                   259.0          15.8263         0.0               1016.51   \n",
       "\n",
       "                       Daily Summary  \n",
       "0  Partly cloudy throughout the day.  \n",
       "1  Partly cloudy throughout the day.  \n",
       "2  Partly cloudy throughout the day.  \n",
       "3  Partly cloudy throughout the day.  \n",
       "4  Partly cloudy throughout the day.  "
      ]
     },
     "execution_count": 2,
     "metadata": {},
     "output_type": "execute_result"
    }
   ],
   "source": [
    "df_file= pd.read_csv(\"weatherHistory.csv\")\n",
    "df = df_file\n",
    "df.head()\n"
   ]
  },
  {
   "cell_type": "code",
   "execution_count": 3,
   "metadata": {},
   "outputs": [
    {
     "name": "stdout",
     "output_type": "stream",
     "text": [
      "\n",
      "Drop unwanted columns\n"
     ]
    },
    {
     "data": {
      "text/html": [
       "<div>\n",
       "<style scoped>\n",
       "    .dataframe tbody tr th:only-of-type {\n",
       "        vertical-align: middle;\n",
       "    }\n",
       "\n",
       "    .dataframe tbody tr th {\n",
       "        vertical-align: top;\n",
       "    }\n",
       "\n",
       "    .dataframe thead th {\n",
       "        text-align: right;\n",
       "    }\n",
       "</style>\n",
       "<table border=\"1\" class=\"dataframe\">\n",
       "  <thead>\n",
       "    <tr style=\"text-align: right;\">\n",
       "      <th></th>\n",
       "      <th>x1</th>\n",
       "      <th>x2</th>\n",
       "      <th>x3</th>\n",
       "      <th>x4</th>\n",
       "      <th>x5</th>\n",
       "      <th>x6</th>\n",
       "      <th>y</th>\n",
       "    </tr>\n",
       "  </thead>\n",
       "  <tbody>\n",
       "    <tr>\n",
       "      <th>0</th>\n",
       "      <td>9.472222</td>\n",
       "      <td>0.89</td>\n",
       "      <td>14.1197</td>\n",
       "      <td>251.0</td>\n",
       "      <td>15.8263</td>\n",
       "      <td>1015.13</td>\n",
       "      <td>7.388889</td>\n",
       "    </tr>\n",
       "    <tr>\n",
       "      <th>1</th>\n",
       "      <td>9.355556</td>\n",
       "      <td>0.86</td>\n",
       "      <td>14.2646</td>\n",
       "      <td>259.0</td>\n",
       "      <td>15.8263</td>\n",
       "      <td>1015.63</td>\n",
       "      <td>7.227778</td>\n",
       "    </tr>\n",
       "    <tr>\n",
       "      <th>2</th>\n",
       "      <td>9.377778</td>\n",
       "      <td>0.89</td>\n",
       "      <td>3.9284</td>\n",
       "      <td>204.0</td>\n",
       "      <td>14.9569</td>\n",
       "      <td>1015.94</td>\n",
       "      <td>9.377778</td>\n",
       "    </tr>\n",
       "    <tr>\n",
       "      <th>3</th>\n",
       "      <td>8.288889</td>\n",
       "      <td>0.83</td>\n",
       "      <td>14.1036</td>\n",
       "      <td>269.0</td>\n",
       "      <td>15.8263</td>\n",
       "      <td>1016.41</td>\n",
       "      <td>5.944444</td>\n",
       "    </tr>\n",
       "    <tr>\n",
       "      <th>4</th>\n",
       "      <td>8.755556</td>\n",
       "      <td>0.83</td>\n",
       "      <td>11.0446</td>\n",
       "      <td>259.0</td>\n",
       "      <td>15.8263</td>\n",
       "      <td>1016.51</td>\n",
       "      <td>6.977778</td>\n",
       "    </tr>\n",
       "  </tbody>\n",
       "</table>\n",
       "</div>"
      ],
      "text/plain": [
       "         x1    x2       x3     x4       x5       x6         y\n",
       "0  9.472222  0.89  14.1197  251.0  15.8263  1015.13  7.388889\n",
       "1  9.355556  0.86  14.2646  259.0  15.8263  1015.63  7.227778\n",
       "2  9.377778  0.89   3.9284  204.0  14.9569  1015.94  9.377778\n",
       "3  8.288889  0.83  14.1036  269.0  15.8263  1016.41  5.944444\n",
       "4  8.755556  0.83  11.0446  259.0  15.8263  1016.51  6.977778"
      ]
     },
     "execution_count": 3,
     "metadata": {},
     "output_type": "execute_result"
    }
   ],
   "source": [
    "print(\"\\nDrop unwanted columns\")\n",
    "df  = df.loc[:,['Temperature (C)','Humidity','Wind Speed (km/h)','Wind Bearing (degrees)','Visibility (km)', \n",
    "                'Pressure (millibars)','Apparent Temperature (C)',]]\n",
    "df.rename(columns = {'Temperature (C)':'x1','Humidity':'x2','Wind Speed (km/h)':'x3','Wind Bearing (degrees)':'x4',\n",
    "                     'Visibility (km)':'x5', 'Pressure (millibars)':'x6','Apparent Temperature (C)':'y'}, inplace = True)\n",
    "\n",
    "df.head()"
   ]
  },
  {
   "cell_type": "code",
   "execution_count": 4,
   "metadata": {},
   "outputs": [
    {
     "data": {
      "text/html": [
       "<div>\n",
       "<style scoped>\n",
       "    .dataframe tbody tr th:only-of-type {\n",
       "        vertical-align: middle;\n",
       "    }\n",
       "\n",
       "    .dataframe tbody tr th {\n",
       "        vertical-align: top;\n",
       "    }\n",
       "\n",
       "    .dataframe thead th {\n",
       "        text-align: right;\n",
       "    }\n",
       "</style>\n",
       "<table border=\"1\" class=\"dataframe\">\n",
       "  <thead>\n",
       "    <tr style=\"text-align: right;\">\n",
       "      <th></th>\n",
       "      <th>count</th>\n",
       "      <th>mean</th>\n",
       "      <th>std</th>\n",
       "      <th>min</th>\n",
       "      <th>25%</th>\n",
       "      <th>50%</th>\n",
       "      <th>75%</th>\n",
       "      <th>max</th>\n",
       "    </tr>\n",
       "  </thead>\n",
       "  <tbody>\n",
       "    <tr>\n",
       "      <th>x1</th>\n",
       "      <td>96453.0</td>\n",
       "      <td>11.932678</td>\n",
       "      <td>9.551546</td>\n",
       "      <td>-21.822222</td>\n",
       "      <td>4.688889</td>\n",
       "      <td>12.0000</td>\n",
       "      <td>18.838889</td>\n",
       "      <td>39.905556</td>\n",
       "    </tr>\n",
       "    <tr>\n",
       "      <th>x2</th>\n",
       "      <td>96453.0</td>\n",
       "      <td>0.734899</td>\n",
       "      <td>0.195473</td>\n",
       "      <td>0.000000</td>\n",
       "      <td>0.600000</td>\n",
       "      <td>0.7800</td>\n",
       "      <td>0.890000</td>\n",
       "      <td>1.000000</td>\n",
       "    </tr>\n",
       "    <tr>\n",
       "      <th>x3</th>\n",
       "      <td>96453.0</td>\n",
       "      <td>10.810640</td>\n",
       "      <td>6.913571</td>\n",
       "      <td>0.000000</td>\n",
       "      <td>5.828200</td>\n",
       "      <td>9.9659</td>\n",
       "      <td>14.135800</td>\n",
       "      <td>63.852600</td>\n",
       "    </tr>\n",
       "    <tr>\n",
       "      <th>x4</th>\n",
       "      <td>96453.0</td>\n",
       "      <td>187.509232</td>\n",
       "      <td>107.383428</td>\n",
       "      <td>0.000000</td>\n",
       "      <td>116.000000</td>\n",
       "      <td>180.0000</td>\n",
       "      <td>290.000000</td>\n",
       "      <td>359.000000</td>\n",
       "    </tr>\n",
       "    <tr>\n",
       "      <th>x5</th>\n",
       "      <td>96453.0</td>\n",
       "      <td>10.347325</td>\n",
       "      <td>4.192123</td>\n",
       "      <td>0.000000</td>\n",
       "      <td>8.339800</td>\n",
       "      <td>10.0464</td>\n",
       "      <td>14.812000</td>\n",
       "      <td>16.100000</td>\n",
       "    </tr>\n",
       "    <tr>\n",
       "      <th>x6</th>\n",
       "      <td>96453.0</td>\n",
       "      <td>1003.235956</td>\n",
       "      <td>116.969906</td>\n",
       "      <td>0.000000</td>\n",
       "      <td>1011.900000</td>\n",
       "      <td>1016.4500</td>\n",
       "      <td>1021.090000</td>\n",
       "      <td>1046.380000</td>\n",
       "    </tr>\n",
       "    <tr>\n",
       "      <th>y</th>\n",
       "      <td>96453.0</td>\n",
       "      <td>10.855029</td>\n",
       "      <td>10.696847</td>\n",
       "      <td>-27.716667</td>\n",
       "      <td>2.311111</td>\n",
       "      <td>12.0000</td>\n",
       "      <td>18.838889</td>\n",
       "      <td>39.344444</td>\n",
       "    </tr>\n",
       "  </tbody>\n",
       "</table>\n",
       "</div>"
      ],
      "text/plain": [
       "      count         mean         std        min          25%        50%  \\\n",
       "x1  96453.0    11.932678    9.551546 -21.822222     4.688889    12.0000   \n",
       "x2  96453.0     0.734899    0.195473   0.000000     0.600000     0.7800   \n",
       "x3  96453.0    10.810640    6.913571   0.000000     5.828200     9.9659   \n",
       "x4  96453.0   187.509232  107.383428   0.000000   116.000000   180.0000   \n",
       "x5  96453.0    10.347325    4.192123   0.000000     8.339800    10.0464   \n",
       "x6  96453.0  1003.235956  116.969906   0.000000  1011.900000  1016.4500   \n",
       "y   96453.0    10.855029   10.696847 -27.716667     2.311111    12.0000   \n",
       "\n",
       "            75%          max  \n",
       "x1    18.838889    39.905556  \n",
       "x2     0.890000     1.000000  \n",
       "x3    14.135800    63.852600  \n",
       "x4   290.000000   359.000000  \n",
       "x5    14.812000    16.100000  \n",
       "x6  1021.090000  1046.380000  \n",
       "y     18.838889    39.344444  "
      ]
     },
     "execution_count": 4,
     "metadata": {},
     "output_type": "execute_result"
    }
   ],
   "source": [
    "df.describe().T"
   ]
  },
  {
   "cell_type": "code",
   "execution_count": 5,
   "metadata": {},
   "outputs": [
    {
     "data": {
      "text/plain": [
       "x1    float64\n",
       "x2    float64\n",
       "x3    float64\n",
       "x4    float64\n",
       "x5    float64\n",
       "x6    float64\n",
       "y     float64\n",
       "dtype: object"
      ]
     },
     "execution_count": 5,
     "metadata": {},
     "output_type": "execute_result"
    }
   ],
   "source": [
    "df.dtypes"
   ]
  },
  {
   "cell_type": "code",
   "execution_count": 6,
   "metadata": {},
   "outputs": [
    {
     "data": {
      "text/plain": [
       "x1    0\n",
       "x2    0\n",
       "x3    0\n",
       "x4    0\n",
       "x5    0\n",
       "x6    0\n",
       "y     0\n",
       "dtype: int64"
      ]
     },
     "execution_count": 6,
     "metadata": {},
     "output_type": "execute_result"
    }
   ],
   "source": [
    "df.isnull().sum()"
   ]
  },
  {
   "cell_type": "code",
   "execution_count": 7,
   "metadata": {},
   "outputs": [
    {
     "data": {
      "text/plain": [
       "x1    0\n",
       "x2    0\n",
       "x3    0\n",
       "x4    0\n",
       "x5    0\n",
       "x6    0\n",
       "y     0\n",
       "dtype: int64"
      ]
     },
     "execution_count": 7,
     "metadata": {},
     "output_type": "execute_result"
    }
   ],
   "source": [
    "df.isna().sum()"
   ]
  },
  {
   "cell_type": "code",
   "execution_count": 8,
   "metadata": {},
   "outputs": [
    {
     "data": {
      "text/plain": [
       "73"
      ]
     },
     "execution_count": 8,
     "metadata": {},
     "output_type": "execute_result"
    }
   ],
   "source": [
    "df.duplicated().sum()"
   ]
  },
  {
   "cell_type": "code",
   "execution_count": 9,
   "metadata": {},
   "outputs": [
    {
     "name": "stdout",
     "output_type": "stream",
     "text": [
      "\n",
      " check for duplicate \n",
      " 0\n"
     ]
    }
   ],
   "source": [
    "df.drop_duplicates(keep=False,inplace=True)\n",
    "print(\"\\n check for duplicate \\n\",df.duplicated().sum())"
   ]
  },
  {
   "cell_type": "code",
   "execution_count": 10,
   "metadata": {},
   "outputs": [
    {
     "data": {
      "image/png": "[encoded data removed]",
      "text/plain": [
       "<Figure size 432x288 with 1 Axes>"
      ]
     },
     "metadata": {
      "needs_background": "light"
     },
     "output_type": "display_data"
    }
   ],
   "source": [
    "sb.boxplot(data=df)\n",
    "plt.show()"
   ]
  },
  {
   "cell_type": "code",
   "execution_count": 11,
   "metadata": {},
   "outputs": [
    {
     "data": {
      "text/plain": [
       "<Figure size 432x288 with 0 Axes>"
      ]
     },
     "metadata": {},
     "output_type": "display_data"
    },
    {
     "data": {
      "image/png": "[encoded data removed]",
      "text/plain": [
       "<Figure size 504x1440 with 6 Axes>"
      ]
     },
     "metadata": {
      "needs_background": "light"
     },
     "output_type": "display_data"
    }
   ],
   "source": [
    "def check_outliers():\n",
    "      \n",
    "         # Create a figure instance, and the two subplots\n",
    "       fig = plt.figure()\n",
    "       # here we show 4 axes\n",
    "       fig, (ax1, ax2, ax3, ax4, ax5, ax6) = plt.subplots(nrows=6, ncols=1, figsize=(7, 20))\n",
    "\n",
    "       sb.boxplot(df['x1'], ax = ax1)\n",
    "       ax1.set_title(\"Temprature outliers\")\n",
    "       \n",
    "       sb.boxplot(df['x2'], ax = ax2)\n",
    "       ax2.set_title(\"Humidity outliers \")\n",
    "       \n",
    "       sb.boxplot(df['x3'], ax = ax3)\n",
    "       ax3.set_title(\" Wind Speed outliers \")\n",
    "       \n",
    "       sb.boxplot(df['x4'], ax = ax4)\n",
    "       ax4.set_title(\"Wind Bearing  outliers \")\n",
    "       \n",
    "       sb.boxplot(df['x5'], ax = ax5)\n",
    "       ax5.set_title(\"Visibility outliers \")\n",
    "       \n",
    "       sb.boxplot(df['x6'], ax = ax6)\n",
    "       ax6.set_title(\"Pressure outliers \")\n",
    "       \n",
    "       plt.subplots_adjust(hspace=1)\n",
    "       plt.show()\n",
    "\n",
    "       \n",
    "check_outliers()\n"
   ]
  },
  {
   "cell_type": "code",
   "execution_count": 12,
   "metadata": {},
   "outputs": [
    {
     "data": {
      "image/png": "[encoded data removed]",
      "text/plain": [
       "<Figure size 432x288 with 1 Axes>"
      ]
     },
     "metadata": {
      "needs_background": "light"
     },
     "output_type": "display_data"
    }
   ],
   "source": [
    "def remove_outlier(df):\n",
    "    df = df[np.abs(df - df.mean()) <= (3 * df.std())]\n",
    "    sb.boxplot(df)\n",
    "remove_outlier(df)"
   ]
  },
  {
   "cell_type": "code",
   "execution_count": 13,
   "metadata": {},
   "outputs": [
    {
     "name": "stdout",
     "output_type": "stream",
     "text": [
      "\n",
      " Mean: \n",
      " x1      11.940113\n",
      "x2       0.734727\n",
      "x3      10.819275\n",
      "x4     187.521821\n",
      "x5      10.353050\n",
      "x6    1003.296306\n",
      "y       10.861837\n",
      "dtype: float64 \n",
      "\n",
      "Skew : \n",
      " x1    0.094236\n",
      "x2   -0.715681\n",
      "x3    1.113451\n",
      "x4   -0.154675\n",
      "x5   -0.498227\n",
      "x6   -8.442908\n",
      "y    -0.058157\n",
      "dtype: float64 \n",
      "\n",
      "Median: \n",
      " x1      12.011111\n",
      "x2       0.780000\n",
      "x3       9.982000\n",
      "x4     180.000000\n",
      "x5      10.046400\n",
      "x6    1016.440000\n",
      "y       12.011111\n",
      "dtype: float64\n"
     ]
    }
   ],
   "source": [
    "print(\"\\n Mean: \\n\",df.mean(), \"\\n\\nSkew : \\n\",df.skew(), \"\\n\\nMedian: \\n\", df.median())"
   ]
  },
  {
   "cell_type": "code",
   "execution_count": 14,
   "metadata": {},
   "outputs": [
    {
     "name": "stdout",
     "output_type": "stream",
     "text": [
      "         x1    x2        x3        x4     x5        x6         y\n",
      "0  0.506975  0.89  0.221130  0.699164  0.983  0.970135  0.523486\n",
      "1  0.505085  0.86  0.223399  0.721448  0.983  0.970613  0.521084\n",
      "2  0.505445  0.89  0.061523  0.568245  0.929  0.970909  0.553144\n",
      "3  0.487805  0.83  0.220877  0.749304  0.983  0.971358  0.501947\n",
      "4  0.495365  0.83  0.172970  0.721448  0.983  0.971454  0.517356\n"
     ]
    }
   ],
   "source": [
    "def feature_scaling(df):\n",
    "    for name in df.columns:\n",
    "        df[name] = (df[name] - df[name].min()) / (df[name].max()-df[name].min())\n",
    "    print(df.head())\n",
    "feature_scaling(df)"
   ]
  },
  {
   "cell_type": "code",
   "execution_count": 15,
   "metadata": {},
   "outputs": [],
   "source": [
    "# Separating the output and the parameters data frame\n",
    "def separate(df):\n",
    "    output = df.y\n",
    "    df = df.drop('y', axis=1)\n",
    "    return df, output \n",
    "df, output = separate(df)"
   ]
  },
  {
   "cell_type": "code",
   "execution_count": 16,
   "metadata": {},
   "outputs": [
    {
     "data": {
      "text/plain": [
       "(96307, 6)"
      ]
     },
     "execution_count": 16,
     "metadata": {},
     "output_type": "execute_result"
    }
   ],
   "source": [
    "df.shape"
   ]
  },
  {
   "cell_type": "code",
   "execution_count": 17,
   "metadata": {},
   "outputs": [
    {
     "name": "stdout",
     "output_type": "stream",
     "text": [
      "\n",
      "Training set\n",
      "67414\n",
      "\n",
      "Test data set\n",
      "28893\n",
      "Convert pandas dataframe into numpy\n"
     ]
    }
   ],
   "source": [
    "# split dataset into train data and test data\n",
    "def split(df,output):\n",
    "    train_per = int(0.70*len(df))\n",
    "    test_per = len(df)-train_per\n",
    "    # display data\n",
    "    print(\"\\nTraining set\")\n",
    "    print(train_per)\n",
    "    print(\"\\nTest data set\")\n",
    "    print(test_per)\n",
    "    print(\"Convert pandas dataframe into numpy\")\n",
    " \n",
    "    x_train_data = np.array(df[:train_per])   \n",
    "    x_test_data = np.array(df[:test_per])\n",
    "\n",
    " \n",
    "    train_per_y = int(0.70*len(output))\n",
    "    test_per_y = len(output)-train_per_y\n",
    "    \n",
    "    y_train_data = np.array(output[:train_per_y])\n",
    "    y_test_data = np.array(output[:test_per_y])\n",
    "    \n",
    "    return x_train_data,y_train_data,x_test_data,y_test_data\n",
    "\n",
    "x_train_data,y_train_data,x_test_data,y_test_data = split(df,output)"
   ]
  },
  {
   "cell_type": "code",
   "execution_count": 18,
   "metadata": {},
   "outputs": [
    {
     "name": "stdout",
     "output_type": "stream",
     "text": [
      "(67414, 6)\n",
      "(67414,)\n",
      "(28893, 6)\n",
      "(28893,)\n"
     ]
    }
   ],
   "source": [
    "df.shape\n",
    "print(x_train_data.shape)\n",
    "print(y_train_data.shape)\n",
    "print(x_test_data.shape)\n",
    "print(y_test_data.shape)\n"
   ]
  },
  {
   "cell_type": "code",
   "execution_count": 19,
   "metadata": {},
   "outputs": [],
   "source": [
    "class MultiLR:\n",
    "    \n",
    "    #class constructor\n",
    "    def __init__(self):\n",
    "        self.learning_rate = 0.1\n",
    "        self.epoch = 10000\n",
    "        \n",
    "\n",
    "\n",
    "    def gradient_descent(self,x_train_data, y_train_data,x_test_data):\n",
    "        x_size = len(x_train_data)\n",
    "        ncol = 6\n",
    "        theta_vector = np.full((ncol+1,1),0.1)\n",
    "        print(\"theta shape\",theta_vector.shape)\n",
    "        x_train_data = np.column_stack((np.ones((x_train_data.shape[0], 1)), x_train_data))\n",
    "        x_test_data = np.column_stack((np.ones((x_test_data.shape[0], 1)), x_test_data))\n",
    "        print(\"shape of x_train\",x_train_data.shape)\n",
    "        print(\"shape of x_test\",x_test_data.shape)\n",
    "       \n",
    "        cost_fun = 0.0\n",
    "\n",
    "        for iteration in range(self.epoch):\n",
    "            hypo = np.dot(theta_vector.T, x_train_data.T)\n",
    "        \n",
    "            error = np.subtract(hypo,y_train_data)\n",
    "                \n",
    "            cost_fun = np.dot(error,x_train_data)\n",
    "                \n",
    "            theta = np.divide(self.learning_rate,x_size)\n",
    "            temp  = np.dot(theta, cost_fun)\n",
    "            theta_0 = np.subtract(theta_vector.T,temp) \n",
    "        \n",
    "        return theta_0\n",
    "\n",
    "    def predict(self, x_test_data,theta_0):\n",
    "        n = len(x_test_data)\n",
    "        y_predict = np.dot(theta_0,x_test_data.T)\n",
    "        y_predict = y_predict.T\n",
    "        \n",
    "        print(\"xtest\" , x_test_data.shape)\n",
    "        print(\"y_pred\", y_predict.shape)\n",
    "        print(y_predict)\n",
    "        return y_predict\n",
    "\n",
    "    \n",
    "    def accuracy(self, y_test_data, y_predict):\n",
    "         \n",
    "        print(\"y\", y_test_data.shape)\n",
    "        total_error = 0\n",
    "        for i in range(0, len(y_test_data)):\n",
    "            total_error += abs((y_predict[i] - y_test_data[i]) / y_test_data[i])\n",
    "        total_error = (total_error / len(y_test_data))\n",
    "        accuracy = 1 - total_error\n",
    "        return accuracy * 100\n",
    "    \n",
    "    \n",
    "    \n",
    "        \n",
    "obj = MultiLR()"
   ]
  },
  {
   "cell_type": "code",
   "execution_count": 20,
   "metadata": {},
   "outputs": [
    {
     "name": "stdout",
     "output_type": "stream",
     "text": [
      "theta shape (7, 1)\n",
      "shape of x_train (67414, 7)\n",
      "shape of x_test (28893, 7)\n"
     ]
    }
   ],
   "source": [
    "theta_00 = obj.gradient_descent(x_train_data, y_train_data,x_test_data)"
   ]
  },
  {
   "cell_type": "code",
   "execution_count": 21,
   "metadata": {},
   "outputs": [
    {
     "name": "stdout",
     "output_type": "stream",
     "text": [
      "xtest (28893, 7)\n",
      "y_pred (28893, 1)\n",
      "[[0.57171554]\n",
      " [0.57094414]\n",
      " [0.53577551]\n",
      " ...\n",
      " [0.42648258]\n",
      " [0.42841498]\n",
      " [0.43665208]]\n",
      "(28893, 1)\n",
      "[[0.57171554]\n",
      " [0.57094414]\n",
      " [0.53577551]\n",
      " ...\n",
      " [0.42648258]\n",
      " [0.42841498]\n",
      " [0.43665208]]\n"
     ]
    }
   ],
   "source": [
    "x_test_data = np.column_stack((np.ones((x_test_data.shape[0], 1)), x_test_data))\n",
    "y_predict = obj.predict (x_test_data,theta_00)\n",
    "\n",
    "print(y_predict.shape)\n",
    "print(y_predict)"
   ]
  },
  {
   "cell_type": "code",
   "execution_count": 22,
   "metadata": {},
   "outputs": [
    {
     "name": "stdout",
     "output_type": "stream",
     "text": [
      "y (28893,)\n",
      "accuracy [75.14895015]\n"
     ]
    }
   ],
   "source": [
    "accuracy = obj.accuracy(y_test_data, y_predict)\n",
    "print(\"accuracy\", accuracy)"
   ]
  },
  {
   "cell_type": "code",
   "execution_count": null,
   "metadata": {},
   "outputs": [],
   "source": []
  }
 ],
 "metadata": {
  "kernelspec": {
   "display_name": "Python 3",
   "language": "python",
   "name": "python3"
  },
  "language_info": {
   "codemirror_mode": {
    "name": "ipython",
    "version": 3
   },
   "file_extension": ".py",
   "mimetype": "text/x-python",
   "name": "python",
   "nbconvert_exporter": "python",
   "pygments_lexer": "ipython3",
   "version": "3.7.2"
  }
 },
 "nbformat": 4,
 "nbformat_minor": 2
}
