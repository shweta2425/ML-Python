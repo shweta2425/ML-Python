{
 "cells": [
  {
   "cell_type": "code",
   "execution_count": 3,
   "metadata": {},
   "outputs": [
    {
     "name": "stdin",
     "output_type": "stream",
     "text": [
      "enter a file name data_preprocessing.csv\n"
     ]
    },
    {
     "name": "stdout",
     "output_type": "stream",
     "text": [
      "type of data <class 'pandas.core.frame.DataFrame'>\n",
      "original data is\n",
      "    Country   Age   Salary Purchased\n",
      "0   France  44.0  72000.0        No\n",
      "1    Spain  27.0  48000.0       Yes\n",
      "2  Germany  30.0  54000.0        No\n",
      "3    Spain  38.0  61000.0        No\n",
      "4  Germany  40.0      NaN       Yes\n",
      "5   France  35.0  58000.0       Yes\n",
      "6    Spain   NaN  52000.0        No\n",
      "7   France  48.0  79000.0       Yes\n",
      "8  Germany  50.0  83000.0        No\n",
      "9   France  37.0  67000.0       Yes\n",
      "\n",
      "sum of NaN values column wise are\n",
      " Country      0\n",
      "Age          1\n",
      "Salary       1\n",
      "Purchased    0\n",
      "dtype: int64\n",
      "\n",
      "\n",
      "some basic statistical details\n",
      "\n",
      "              Age        Salary\n",
      "count   9.000000      9.000000\n",
      "mean   38.777778  63777.777778\n",
      "std     7.693793  12265.579662\n",
      "min    27.000000  48000.000000\n",
      "25%    35.000000  54000.000000\n",
      "50%    38.000000  61000.000000\n",
      "75%    44.000000  72000.000000\n",
      "max    50.000000  83000.000000\n",
      "\n",
      "replacing NaN values of columns by mean values\n",
      "\n",
      "\n",
      "   Country        Age        Salary Purchased\n",
      "0   France  44.000000  72000.000000        No\n",
      "1    Spain  27.000000  48000.000000       Yes\n",
      "2  Germany  30.000000  54000.000000        No\n",
      "3    Spain  38.000000  61000.000000        No\n",
      "4  Germany  40.000000  63777.777778       Yes\n",
      "5   France  35.000000  58000.000000       Yes\n",
      "6    Spain  38.777778  52000.000000        No\n",
      "7   France  48.000000  79000.000000       Yes\n",
      "8  Germany  50.000000  83000.000000        No\n",
      "9   France  37.000000  67000.000000       Yes\n"
     ]
    }
   ],
   "source": [
    "import pandas as pd\n",
    "import numpy as np\n",
    "\n",
    "# data_preprocessing.csv\n",
    "\n",
    "class DataPreprocessing: \n",
    "    \n",
    "    def __init__(self):\n",
    "        #accept file name         \n",
    "        self.fname=input(\"enter a file name\")\n",
    "        \n",
    "    def Handling_missing_data(self):\n",
    "        \n",
    "        # loads csv file\n",
    "        data = pd.read_csv(self.fname)\n",
    "        print(\"type of data\",type(data))\n",
    "\n",
    "        print(\"original data is\\n\",data)\n",
    "\n",
    "        # print sum of Na values column wise\n",
    "        print(\"\\nsum of NaN values column wise are\\n\",data.isnull().sum())\n",
    "        print(\"\\n\\nsome basic statistical details\\n\\n\",data.describe())\n",
    "        #replacing null values by mean \n",
    "        print(\"\\nreplacing NaN values of columns by mean values\\n\\n\")\n",
    "        data.replace(np.NaN,data.mean(),inplace=True)\n",
    "        print(data)\n",
    "    \n",
    "    def \n",
    "\n",
    "# creates class object    \n",
    "obj = DataPreprocessing()\n",
    "# calling method by class object\n",
    "obj.Handling_missing_data()"
   ]
  },
  {
   "cell_type": "code",
   "execution_count": null,
   "metadata": {},
   "outputs": [],
   "source": []
  }
 ],
 "metadata": {
  "kernelspec": {
   "display_name": "Python 3",
   "language": "python",
   "name": "python3"
  },
  "language_info": {
   "codemirror_mode": {
    "name": "ipython",
    "version": 3
   },
   "file_extension": ".py",
   "mimetype": "text/x-python",
   "name": "python",
   "nbconvert_exporter": "python",
   "pygments_lexer": "ipython3",
   "version": "3.7.2"
  }
 },
 "nbformat": 4,
 "nbformat_minor": 2
}
