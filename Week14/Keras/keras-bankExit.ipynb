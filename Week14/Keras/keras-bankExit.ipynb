{ 
 "cells": [
  {
   "cell_type": "code",
   "execution_count": 1,
   "metadata": {},
   "outputs": [],
   "source": [
    "import tensorflow as tf \n",
    "import pandas.api.types as ptypes\n",
    "import pandas as pd\n",
    "import numpy as np\n",
    "import math\n",
    "import seaborn as sb\n",
    "from matplotlib import pyplot as plt\n",
    "from sklearn.model_selection import train_test_split\n",
    "from sklearn.preprocessing import LabelEncoder, OneHotEncoder\n",
    "from sklearn.preprocessing import StandardScaler\n",
    "from sklearn.metrics import confusion_matrix,accuracy_score\n",
    "import warnings\n",
    "warnings.filterwarnings('ignore')"
   ]
  },
  {
   "cell_type": "code",
   "execution_count": 2,
   "metadata": {},
   "outputs": [
    {
     "data": {
      "text/html": [
       "<div>\n",
       "<style scoped>\n",
       "    .dataframe tbody tr th:only-of-type {\n",
       "        vertical-align: middle;\n",
       "    }\n",
       "\n",
       "    .dataframe tbody tr th {\n",
       "        vertical-align: top;\n",
       "    }\n",
       "\n",
       "    .dataframe thead th {\n",
       "        text-align: right;\n",
       "    }\n",
       "</style>\n",
       "<table border=\"1\" class=\"dataframe\">\n",
       "  <thead>\n",
       "    <tr style=\"text-align: right;\">\n",
       "      <th></th>\n",
       "      <th>RowNumber</th>\n",
       "      <th>CustomerId</th>\n",
       "      <th>Surname</th>\n",
       "      <th>CreditScore</th>\n",
       "      <th>Geography</th>\n",
       "      <th>Gender</th>\n",
       "      <th>Age</th>\n",
       "      <th>Tenure</th>\n",
       "      <th>Balance</th>\n",
       "      <th>NumOfProducts</th>\n",
       "      <th>HasCrCard</th>\n",
       "      <th>IsActiveMember</th>\n",
       "      <th>EstimatedSalary</th>\n",
       "      <th>Exited</th>\n",
       "    </tr>\n",
       "  </thead>\n",
       "  <tbody>\n",
       "    <tr>\n",
       "      <th>0</th>\n",
       "      <td>1</td>\n",
       "      <td>15634602</td>\n",
       "      <td>Hargrave</td>\n",
       "      <td>619</td>\n",
       "      <td>France</td>\n",
       "      <td>Female</td>\n",
       "      <td>42</td>\n",
       "      <td>2</td>\n",
       "      <td>0.00</td>\n",
       "      <td>1</td>\n",
       "      <td>1</td>\n",
       "      <td>1</td>\n",
       "      <td>101348.88</td>\n",
       "      <td>1</td>\n",
       "    </tr>\n",
       "    <tr>\n",
       "      <th>1</th>\n",
       "      <td>2</td>\n",
       "      <td>15647311</td>\n",
       "      <td>Hill</td>\n",
       "      <td>608</td>\n",
       "      <td>Spain</td>\n",
       "      <td>Female</td>\n",
       "      <td>41</td>\n",
       "      <td>1</td>\n",
       "      <td>83807.86</td>\n",
       "      <td>1</td>\n",
       "      <td>0</td>\n",
       "      <td>1</td>\n",
       "      <td>112542.58</td>\n",
       "      <td>0</td>\n",
       "    </tr>\n",
       "    <tr>\n",
       "      <th>2</th>\n",
       "      <td>3</td>\n",
       "      <td>15619304</td>\n",
       "      <td>Onio</td>\n",
       "      <td>502</td>\n",
       "      <td>France</td>\n",
       "      <td>Female</td>\n",
       "      <td>42</td>\n",
       "      <td>8</td>\n",
       "      <td>159660.80</td>\n",
       "      <td>3</td>\n",
       "      <td>1</td>\n",
       "      <td>0</td>\n",
       "      <td>113931.57</td>\n",
       "      <td>1</td>\n",
       "    </tr>\n",
       "    <tr>\n",
       "      <th>3</th>\n",
       "      <td>4</td>\n",
       "      <td>15701354</td>\n",
       "      <td>Boni</td>\n",
       "      <td>699</td>\n",
       "      <td>France</td>\n",
       "      <td>Female</td>\n",
       "      <td>39</td>\n",
       "      <td>1</td>\n",
       "      <td>0.00</td>\n",
       "      <td>2</td>\n",
       "      <td>0</td>\n",
       "      <td>0</td>\n",
       "      <td>93826.63</td>\n",
       "      <td>0</td>\n",
       "    </tr>\n",
       "    <tr>\n",
       "      <th>4</th>\n",
       "      <td>5</td>\n",
       "      <td>15737888</td>\n",
       "      <td>Mitchell</td>\n",
       "      <td>850</td>\n",
       "      <td>Spain</td>\n",
       "      <td>Female</td>\n",
       "      <td>43</td>\n",
       "      <td>2</td>\n",
       "      <td>125510.82</td>\n",
       "      <td>1</td>\n",
       "      <td>1</td>\n",
       "      <td>1</td>\n",
       "      <td>79084.10</td>\n",
       "      <td>0</td>\n",
       "    </tr>\n",
       "  </tbody>\n",
       "</table>\n",
       "</div>"
      ],
      "text/plain": [
       "   RowNumber  CustomerId   Surname  CreditScore Geography  Gender  Age  \\\n",
       "0          1    15634602  Hargrave          619    France  Female   42   \n",
       "1          2    15647311      Hill          608     Spain  Female   41   \n",
       "2          3    15619304      Onio          502    France  Female   42   \n",
       "3          4    15701354      Boni          699    France  Female   39   \n",
       "4          5    15737888  Mitchell          850     Spain  Female   43   \n",
       "\n",
       "   Tenure    Balance  NumOfProducts  HasCrCard  IsActiveMember  \\\n",
       "0       2       0.00              1          1               1   \n",
       "1       1   83807.86              1          0               1   \n",
       "2       8  159660.80              3          1               0   \n",
       "3       1       0.00              2          0               0   \n",
       "4       2  125510.82              1          1               1   \n",
       "\n",
       "   EstimatedSalary  Exited  \n",
       "0        101348.88       1  \n",
       "1        112542.58       0  \n",
       "2        113931.57       1  \n",
       "3         93826.63       0  \n",
       "4         79084.10       0  "
      ]
     },
     "execution_count": 2,
     "metadata": {},
     "output_type": "execute_result"
    }
   ],
   "source": [
    "# loads and read csv file\n",
    "df_original=pd.read_csv(\"Data/Churn_Modelling.csv\",delimiter=\",\")\n",
    "df =df_original\n",
    "df.head()"
   ]
  },
  {
   "cell_type": "code",
   "execution_count": 3,
   "metadata": {},
   "outputs": [
    {
     "name": "stdout",
     "output_type": "stream",
     "text": [
      "<class 'pandas.core.frame.DataFrame'>\n",
      "RangeIndex: 10000 entries, 0 to 9999\n",
      "Data columns (total 14 columns):\n",
      "RowNumber          10000 non-null int64\n",
      "CustomerId         10000 non-null int64\n",
      "Surname            10000 non-null object\n",
      "CreditScore        10000 non-null int64\n",
      "Geography          10000 non-null object\n",
      "Gender             10000 non-null object\n",
      "Age                10000 non-null int64\n",
      "Tenure             10000 non-null int64\n",
      "Balance            10000 non-null float64\n",
      "NumOfProducts      10000 non-null int64\n",
      "HasCrCard          10000 non-null int64\n",
      "IsActiveMember     10000 non-null int64\n",
      "EstimatedSalary    10000 non-null float64\n",
      "Exited             10000 non-null int64\n",
      "dtypes: float64(2), int64(9), object(3)\n",
      "memory usage: 1.1+ MB\n"
     ]
    }
   ],
   "source": [
    "df.info()"
   ]
  },
  {
   "cell_type": "code",
   "execution_count": 4,
   "metadata": {},
   "outputs": [
    {
     "data": {
      "text/html": [
       "<div>\n",
       "<style scoped>\n",
       "    .dataframe tbody tr th:only-of-type {\n",
       "        vertical-align: middle;\n",
       "    }\n",
       "\n",
       "    .dataframe tbody tr th {\n",
       "        vertical-align: top;\n",
       "    }\n",
       "\n",
       "    .dataframe thead th {\n",
       "        text-align: right;\n",
       "    }\n",
       "</style>\n",
       "<table border=\"1\" class=\"dataframe\">\n",
       "  <thead>\n",
       "    <tr style=\"text-align: right;\">\n",
       "      <th></th>\n",
       "      <th>RowNumber</th>\n",
       "      <th>CustomerId</th>\n",
       "      <th>CreditScore</th>\n",
       "      <th>Age</th>\n",
       "      <th>Tenure</th>\n",
       "      <th>Balance</th>\n",
       "      <th>NumOfProducts</th>\n",
       "      <th>HasCrCard</th>\n",
       "      <th>IsActiveMember</th>\n",
       "      <th>EstimatedSalary</th>\n",
       "      <th>Exited</th>\n",
       "    </tr>\n",
       "  </thead>\n",
       "  <tbody>\n",
       "    <tr>\n",
       "      <th>count</th>\n",
       "      <td>10000.00000</td>\n",
       "      <td>1.000000e+04</td>\n",
       "      <td>10000.000000</td>\n",
       "      <td>10000.000000</td>\n",
       "      <td>10000.000000</td>\n",
       "      <td>10000.000000</td>\n",
       "      <td>10000.000000</td>\n",
       "      <td>10000.00000</td>\n",
       "      <td>10000.000000</td>\n",
       "      <td>10000.000000</td>\n",
       "      <td>10000.000000</td>\n",
       "    </tr>\n",
       "    <tr>\n",
       "      <th>mean</th>\n",
       "      <td>5000.50000</td>\n",
       "      <td>1.569094e+07</td>\n",
       "      <td>650.528800</td>\n",
       "      <td>38.921800</td>\n",
       "      <td>5.012800</td>\n",
       "      <td>76485.889288</td>\n",
       "      <td>1.530200</td>\n",
       "      <td>0.70550</td>\n",
       "      <td>0.515100</td>\n",
       "      <td>100090.239881</td>\n",
       "      <td>0.203700</td>\n",
       "    </tr>\n",
       "    <tr>\n",
       "      <th>std</th>\n",
       "      <td>2886.89568</td>\n",
       "      <td>7.193619e+04</td>\n",
       "      <td>96.653299</td>\n",
       "      <td>10.487806</td>\n",
       "      <td>2.892174</td>\n",
       "      <td>62397.405202</td>\n",
       "      <td>0.581654</td>\n",
       "      <td>0.45584</td>\n",
       "      <td>0.499797</td>\n",
       "      <td>57510.492818</td>\n",
       "      <td>0.402769</td>\n",
       "    </tr>\n",
       "    <tr>\n",
       "      <th>min</th>\n",
       "      <td>1.00000</td>\n",
       "      <td>1.556570e+07</td>\n",
       "      <td>350.000000</td>\n",
       "      <td>18.000000</td>\n",
       "      <td>0.000000</td>\n",
       "      <td>0.000000</td>\n",
       "      <td>1.000000</td>\n",
       "      <td>0.00000</td>\n",
       "      <td>0.000000</td>\n",
       "      <td>11.580000</td>\n",
       "      <td>0.000000</td>\n",
       "    </tr>\n",
       "    <tr>\n",
       "      <th>25%</th>\n",
       "      <td>2500.75000</td>\n",
       "      <td>1.562853e+07</td>\n",
       "      <td>584.000000</td>\n",
       "      <td>32.000000</td>\n",
       "      <td>3.000000</td>\n",
       "      <td>0.000000</td>\n",
       "      <td>1.000000</td>\n",
       "      <td>0.00000</td>\n",
       "      <td>0.000000</td>\n",
       "      <td>51002.110000</td>\n",
       "      <td>0.000000</td>\n",
       "    </tr>\n",
       "    <tr>\n",
       "      <th>50%</th>\n",
       "      <td>5000.50000</td>\n",
       "      <td>1.569074e+07</td>\n",
       "      <td>652.000000</td>\n",
       "      <td>37.000000</td>\n",
       "      <td>5.000000</td>\n",
       "      <td>97198.540000</td>\n",
       "      <td>1.000000</td>\n",
       "      <td>1.00000</td>\n",
       "      <td>1.000000</td>\n",
       "      <td>100193.915000</td>\n",
       "      <td>0.000000</td>\n",
       "    </tr>\n",
       "    <tr>\n",
       "      <th>75%</th>\n",
       "      <td>7500.25000</td>\n",
       "      <td>1.575323e+07</td>\n",
       "      <td>718.000000</td>\n",
       "      <td>44.000000</td>\n",
       "      <td>7.000000</td>\n",
       "      <td>127644.240000</td>\n",
       "      <td>2.000000</td>\n",
       "      <td>1.00000</td>\n",
       "      <td>1.000000</td>\n",
       "      <td>149388.247500</td>\n",
       "      <td>0.000000</td>\n",
       "    </tr>\n",
       "    <tr>\n",
       "      <th>max</th>\n",
       "      <td>10000.00000</td>\n",
       "      <td>1.581569e+07</td>\n",
       "      <td>850.000000</td>\n",
       "      <td>92.000000</td>\n",
       "      <td>10.000000</td>\n",
       "      <td>250898.090000</td>\n",
       "      <td>4.000000</td>\n",
       "      <td>1.00000</td>\n",
       "      <td>1.000000</td>\n",
       "      <td>199992.480000</td>\n",
       "      <td>1.000000</td>\n",
       "    </tr>\n",
       "  </tbody>\n",
       "</table>\n",
       "</div>"
      ],
      "text/plain": [
       "         RowNumber    CustomerId   CreditScore           Age        Tenure  \\\n",
       "count  10000.00000  1.000000e+04  10000.000000  10000.000000  10000.000000   \n",
       "mean    5000.50000  1.569094e+07    650.528800     38.921800      5.012800   \n",
       "std     2886.89568  7.193619e+04     96.653299     10.487806      2.892174   \n",
       "min        1.00000  1.556570e+07    350.000000     18.000000      0.000000   \n",
       "25%     2500.75000  1.562853e+07    584.000000     32.000000      3.000000   \n",
       "50%     5000.50000  1.569074e+07    652.000000     37.000000      5.000000   \n",
       "75%     7500.25000  1.575323e+07    718.000000     44.000000      7.000000   \n",
       "max    10000.00000  1.581569e+07    850.000000     92.000000     10.000000   \n",
       "\n",
       "             Balance  NumOfProducts    HasCrCard  IsActiveMember  \\\n",
       "count   10000.000000   10000.000000  10000.00000    10000.000000   \n",
       "mean    76485.889288       1.530200      0.70550        0.515100   \n",
       "std     62397.405202       0.581654      0.45584        0.499797   \n",
       "min         0.000000       1.000000      0.00000        0.000000   \n",
       "25%         0.000000       1.000000      0.00000        0.000000   \n",
       "50%     97198.540000       1.000000      1.00000        1.000000   \n",
       "75%    127644.240000       2.000000      1.00000        1.000000   \n",
       "max    250898.090000       4.000000      1.00000        1.000000   \n",
       "\n",
       "       EstimatedSalary        Exited  \n",
       "count     10000.000000  10000.000000  \n",
       "mean     100090.239881      0.203700  \n",
       "std       57510.492818      0.402769  \n",
       "min          11.580000      0.000000  \n",
       "25%       51002.110000      0.000000  \n",
       "50%      100193.915000      0.000000  \n",
       "75%      149388.247500      0.000000  \n",
       "max      199992.480000      1.000000  "
      ]
     },
     "execution_count": 4,
     "metadata": {},
     "output_type": "execute_result"
    }
   ],
   "source": [
    "df.describe()"
   ]
  },
  {
   "cell_type": "code",
   "execution_count": 5,
   "metadata": {},
   "outputs": [
    {
     "data": {
      "text/plain": [
       "RowNumber            int64\n",
       "CustomerId           int64\n",
       "Surname             object\n",
       "CreditScore          int64\n",
       "Geography           object\n",
       "Gender              object\n",
       "Age                  int64\n",
       "Tenure               int64\n",
       "Balance            float64\n",
       "NumOfProducts        int64\n",
       "HasCrCard            int64\n",
       "IsActiveMember       int64\n",
       "EstimatedSalary    float64\n",
       "Exited               int64\n",
       "dtype: object"
      ]
     },
     "execution_count": 5,
     "metadata": {},
     "output_type": "execute_result"
    }
   ],
   "source": [
    "# checks data types of columns\n",
    "df.dtypes"
   ]
  },
  {
   "cell_type": "code",
   "execution_count": 6,
   "metadata": {},
   "outputs": [
    {
     "data": {
      "text/plain": [
       "RowNumber          0\n",
       "CustomerId         0\n",
       "Surname            0\n",
       "CreditScore        0\n",
       "Geography          0\n",
       "Gender             0\n",
       "Age                0\n",
       "Tenure             0\n",
       "Balance            0\n",
       "NumOfProducts      0\n",
       "HasCrCard          0\n",
       "IsActiveMember     0\n",
       "EstimatedSalary    0\n",
       "Exited             0\n",
       "dtype: int64"
      ]
     },
     "execution_count": 6,
     "metadata": {},
     "output_type": "execute_result"
    }
   ],
   "source": [
    "# checks for null values\n",
    "df.isnull().sum()"
   ]
  },
  {
   "cell_type": "code",
   "execution_count": 7,
   "metadata": {},
   "outputs": [
    {
     "data": {
      "text/plain": [
       "0"
      ]
     },
     "execution_count": 7,
     "metadata": {},
     "output_type": "execute_result"
    }
   ],
   "source": [
    "# checks for duplicate values\n",
    "df.duplicated().sum()"
   ]
  },
  {
   "cell_type": "code",
   "execution_count": 8,
   "metadata": {},
   "outputs": [
    {
     "data": {
      "text/plain": [
       "Index(['RowNumber', 'CustomerId', 'Surname', 'CreditScore', 'Geography',\n",
       "       'Gender', 'Age', 'Tenure', 'Balance', 'NumOfProducts', 'HasCrCard',\n",
       "       'IsActiveMember', 'EstimatedSalary', 'Exited'],\n",
       "      dtype='object')"
      ]
     },
     "execution_count": 8,
     "metadata": {},
     "output_type": "execute_result"
    }
   ],
   "source": [
    "# display column names\n",
    "df.columns"
   ]
  },
  {
   "cell_type": "code",
   "execution_count": 9,
   "metadata": {},
   "outputs": [
    {
     "data": {
      "text/plain": [
       "(10000, 14)"
      ]
     },
     "execution_count": 9,
     "metadata": {},
     "output_type": "execute_result"
    }
   ],
   "source": [
    "# display shape of the dataframe\n",
    "df.shape"
   ]
  },
  {
   "cell_type": "code",
   "execution_count": 10,
   "metadata": {},
   "outputs": [
    {
     "data": {
      "text/plain": [
       "<matplotlib.axes._subplots.AxesSubplot at 0x7f9e1125ba90>"
      ]
     },
     "execution_count": 10,
     "metadata": {},
     "output_type": "execute_result"
    },
    {
     "data": {
      "image/png": "[encoded data removed]",
      "text/plain": [
       "<Figure size 432x288 with 2 Axes>"
      ]
     },
     "metadata": {
      "needs_background": "light"
     },
     "output_type": "display_data"
    }
   ],
   "source": [
    "# checks correlation with all columns\n",
    "corr=df.corr()\n",
    "sb.heatmap(corr,annot=True)"
   ]
  },
  {
   "cell_type": "code",
   "execution_count": 11,
   "metadata": {},
   "outputs": [
    {
     "name": "stdout",
     "output_type": "stream",
     "text": [
      "IsActiveMember    -0.156128\n",
      "NumOfProducts     -0.047820\n",
      "CreditScore       -0.027094\n",
      "RowNumber         -0.016571\n",
      "Tenure            -0.014001\n",
      "HasCrCard         -0.007138\n",
      "CustomerId        -0.006248\n",
      "EstimatedSalary    0.012097\n",
      "Balance            0.118533\n",
      "Age                0.285323\n",
      "Exited             1.000000\n",
      "Name: Exited, dtype: float64\n"
     ]
    }
   ],
   "source": [
    "# checks correlation with all columns\n",
    "print(corr['Exited'].sort_values(ascending=True)[:])"
   ]
  },
  {
   "cell_type": "code",
   "execution_count": 12,
   "metadata": {},
   "outputs": [
    {
     "data": {
      "text/plain": [
       "0    7963\n",
       "1    2037\n",
       "Name: Exited, dtype: int64"
      ]
     },
     "execution_count": 12,
     "metadata": {},
     "output_type": "execute_result"
    }
   ],
   "source": [
    "df['Exited'].value_counts()"
   ]
  },
  {
   "cell_type": "code",
   "execution_count": 13,
   "metadata": {},
   "outputs": [
    {
     "data": {
      "text/plain": [
       "<matplotlib.axes._subplots.AxesSubplot at 0x7f9dcfbb81d0>"
      ]
     },
     "execution_count": 13,
     "metadata": {},
     "output_type": "execute_result"
    },
    {
     "data": {
      "image/png": "[encoded data removed]",
      "text/plain": [
       "<Figure size 432x288 with 1 Axes>"
      ]
     },
     "metadata": {
      "needs_background": "light"
     },
     "output_type": "display_data"
    }
   ],
   "source": [
    "sb.countplot(x='Exited',data=df,palette='hls')"
   ]
  },
  {
   "cell_type": "code",
   "execution_count": 14,
   "metadata": {},
   "outputs": [
    {
     "data": {
      "text/plain": [
       "(10000, 14)"
      ]
     },
     "execution_count": 14,
     "metadata": {},
     "output_type": "execute_result"
    }
   ],
   "source": [
    "df.shape"
   ]
  },
  {
   "cell_type": "code",
   "execution_count": 15,
   "metadata": {},
   "outputs": [
    {
     "data": {
      "text/html": [
       "<div>\n",
       "<style scoped>\n",
       "    .dataframe tbody tr th:only-of-type {\n",
       "        vertical-align: middle;\n",
       "    }\n",
       "\n",
       "    .dataframe tbody tr th {\n",
       "        vertical-align: top;\n",
       "    }\n",
       "\n",
       "    .dataframe thead th {\n",
       "        text-align: right;\n",
       "    }\n",
       "</style>\n",
       "<table border=\"1\" class=\"dataframe\">\n",
       "  <thead>\n",
       "    <tr style=\"text-align: right;\">\n",
       "      <th></th>\n",
       "      <th>RowNumber</th>\n",
       "      <th>CustomerId</th>\n",
       "      <th>Surname</th>\n",
       "      <th>CreditScore</th>\n",
       "      <th>Geography</th>\n",
       "      <th>Gender</th>\n",
       "      <th>Age</th>\n",
       "      <th>Tenure</th>\n",
       "      <th>Balance</th>\n",
       "      <th>NumOfProducts</th>\n",
       "      <th>HasCrCard</th>\n",
       "      <th>IsActiveMember</th>\n",
       "      <th>EstimatedSalary</th>\n",
       "      <th>Exited</th>\n",
       "    </tr>\n",
       "  </thead>\n",
       "  <tbody>\n",
       "    <tr>\n",
       "      <th>0</th>\n",
       "      <td>1</td>\n",
       "      <td>15634602</td>\n",
       "      <td>Hargrave</td>\n",
       "      <td>619</td>\n",
       "      <td>France</td>\n",
       "      <td>Female</td>\n",
       "      <td>42</td>\n",
       "      <td>2</td>\n",
       "      <td>0.00</td>\n",
       "      <td>1</td>\n",
       "      <td>1</td>\n",
       "      <td>1</td>\n",
       "      <td>101348.88</td>\n",
       "      <td>1</td>\n",
       "    </tr>\n",
       "    <tr>\n",
       "      <th>1</th>\n",
       "      <td>2</td>\n",
       "      <td>15647311</td>\n",
       "      <td>Hill</td>\n",
       "      <td>608</td>\n",
       "      <td>Spain</td>\n",
       "      <td>Female</td>\n",
       "      <td>41</td>\n",
       "      <td>1</td>\n",
       "      <td>83807.86</td>\n",
       "      <td>1</td>\n",
       "      <td>0</td>\n",
       "      <td>1</td>\n",
       "      <td>112542.58</td>\n",
       "      <td>0</td>\n",
       "    </tr>\n",
       "    <tr>\n",
       "      <th>2</th>\n",
       "      <td>3</td>\n",
       "      <td>15619304</td>\n",
       "      <td>Onio</td>\n",
       "      <td>502</td>\n",
       "      <td>France</td>\n",
       "      <td>Female</td>\n",
       "      <td>42</td>\n",
       "      <td>8</td>\n",
       "      <td>159660.80</td>\n",
       "      <td>3</td>\n",
       "      <td>1</td>\n",
       "      <td>0</td>\n",
       "      <td>113931.57</td>\n",
       "      <td>1</td>\n",
       "    </tr>\n",
       "    <tr>\n",
       "      <th>3</th>\n",
       "      <td>4</td>\n",
       "      <td>15701354</td>\n",
       "      <td>Boni</td>\n",
       "      <td>699</td>\n",
       "      <td>France</td>\n",
       "      <td>Female</td>\n",
       "      <td>39</td>\n",
       "      <td>1</td>\n",
       "      <td>0.00</td>\n",
       "      <td>2</td>\n",
       "      <td>0</td>\n",
       "      <td>0</td>\n",
       "      <td>93826.63</td>\n",
       "      <td>0</td>\n",
       "    </tr>\n",
       "    <tr>\n",
       "      <th>4</th>\n",
       "      <td>5</td>\n",
       "      <td>15737888</td>\n",
       "      <td>Mitchell</td>\n",
       "      <td>850</td>\n",
       "      <td>Spain</td>\n",
       "      <td>Female</td>\n",
       "      <td>43</td>\n",
       "      <td>2</td>\n",
       "      <td>125510.82</td>\n",
       "      <td>1</td>\n",
       "      <td>1</td>\n",
       "      <td>1</td>\n",
       "      <td>79084.10</td>\n",
       "      <td>0</td>\n",
       "    </tr>\n",
       "  </tbody>\n",
       "</table>\n",
       "</div>"
      ],
      "text/plain": [
       "   RowNumber  CustomerId   Surname  CreditScore Geography  Gender  Age  \\\n",
       "0          1    15634602  Hargrave          619    France  Female   42   \n",
       "1          2    15647311      Hill          608     Spain  Female   41   \n",
       "2          3    15619304      Onio          502    France  Female   42   \n",
       "3          4    15701354      Boni          699    France  Female   39   \n",
       "4          5    15737888  Mitchell          850     Spain  Female   43   \n",
       "\n",
       "   Tenure    Balance  NumOfProducts  HasCrCard  IsActiveMember  \\\n",
       "0       2       0.00              1          1               1   \n",
       "1       1   83807.86              1          0               1   \n",
       "2       8  159660.80              3          1               0   \n",
       "3       1       0.00              2          0               0   \n",
       "4       2  125510.82              1          1               1   \n",
       "\n",
       "   EstimatedSalary  Exited  \n",
       "0        101348.88       1  \n",
       "1        112542.58       0  \n",
       "2        113931.57       1  \n",
       "3         93826.63       0  \n",
       "4         79084.10       0  "
      ]
     },
     "execution_count": 15,
     "metadata": {},
     "output_type": "execute_result"
    }
   ],
   "source": [
    "df.head()"
   ]
  },
  {
   "cell_type": "code",
   "execution_count": 16,
   "metadata": {},
   "outputs": [],
   "source": [
    "# split dataset into train and test\n",
    "train,test = train_test_split(df,test_size=0.2)\n"
   ]
  },
  {
   "cell_type": "code",
   "execution_count": 17,
   "metadata": {},
   "outputs": [],
   "source": [
    "# saving test data into csv file\n",
    "test.to_csv('test_file.csv',index=False,encoding='utf-8')"
   ]
  },
  {
   "cell_type": "code",
   "execution_count": 18,
   "metadata": {},
   "outputs": [],
   "source": [
    "# split train data into train and cross validation dataset\n",
    "train_data,cross_val = train_test_split(train,test_size=0.2,random_state=0)"
   ]
  },
  {
   "cell_type": "code",
   "execution_count": 19,
   "metadata": {},
   "outputs": [],
   "source": [
    "# seperating features and labels from dataset\n",
    "# Credit Score through Estimated Salary\n",
    "x_train = train_data.iloc[:,3:13].values\n",
    "# Exited\n",
    "y_train = train_data.iloc[:,13].values\n"
   ]
  },
  {
   "cell_type": "code",
   "execution_count": 20,
   "metadata": {},
   "outputs": [
    {
     "data": {
      "text/plain": [
       "((6400, 10), (6400,))"
      ]
     },
     "execution_count": 20,
     "metadata": {},
     "output_type": "execute_result"
    }
   ],
   "source": [
    "x_train.shape,y_train.shape"
   ]
  },
  {
   "cell_type": "code",
   "execution_count": 21,
   "metadata": {},
   "outputs": [],
   "source": [
    "\n",
    "def categorical_encode(x):\n",
    "   # Encoding categorical data country\n",
    "    labelencoder_x_country = LabelEncoder()\n",
    "    x[:,1] = labelencoder_x_country.fit_transform(x[:,1])\n",
    "    # Encode categorical data gender\n",
    "    labelencoder_x_gender = LabelEncoder()\n",
    "    x[:,2]  =  labelencoder_x_gender.fit_transform(x[:,2])\n",
    "    \n",
    "    # Converting the string features into their own dimensions\n",
    "    # Gender doesn't matter here because its binary\n",
    "    OneHot_country = OneHotEncoder(categorical_features=[1]) # 1 is the country column\n",
    "    x = OneHot_country.fit_transform(x).toarray()\n",
    "    x = x[:, 1:]\n",
    "    return x\n",
    "\n",
    "# Encoding categorical (string based) data.\n",
    "x_train = categorical_encode(x_train)"
   ]
  },
  {
   "cell_type": "code",
   "execution_count": 22,
   "metadata": {},
   "outputs": [],
   "source": [
    "# seperating features and labels from dataset of cross validation dataset\n",
    "# Credit Score through Estimated Salary\n",
    "x_cv = cross_val.iloc[:,3:13].values\n",
    "# Exited\n",
    "y_cv = cross_val.iloc[:,13].values\n"
   ]
  },
  {
   "cell_type": "code",
   "execution_count": 23,
   "metadata": {},
   "outputs": [],
   "source": [
    "# # Encoding categorical (string based) data.\n",
    "x_cv = categorical_encode(x_cv)"
   ]
  },
  {
   "cell_type": "code",
   "execution_count": 24,
   "metadata": {},
   "outputs": [],
   "source": [
    "# Feature Scaling on independent variables\n",
    "from sklearn.preprocessing import StandardScaler\n",
    "sc=StandardScaler()\n",
    "x_train = sc.fit_transform(x_train)\n",
    "x_cv = sc.transform(x_cv)"
   ]
  },
  {
   "cell_type": "code",
   "execution_count": 25,
   "metadata": {},
   "outputs": [
    {
     "data": {
      "text/plain": [
       "((6400, 11), (6400,), (1600, 11), (1600,))"
      ]
     },
     "execution_count": 25,
     "metadata": {},
     "output_type": "execute_result"
    }
   ],
   "source": [
    "x_train.shape,y_train.shape,x_cv.shape,y_cv.shape"
   ]
  },
  {
   "cell_type": "code",
   "execution_count": 26,
   "metadata": {},
   "outputs": [
    {
     "name": "stderr",
     "output_type": "stream",
     "text": [
      "Using TensorFlow backend.\n"
     ]
    }
   ],
   "source": [
    "import keras"
   ]
  },
  {
   "cell_type": "code",
   "execution_count": 27,
   "metadata": {},
   "outputs": [],
   "source": [
    "from keras.models import Sequential\n",
    "from keras.layers import Dense"
   ]
  },
  {
   "cell_type": "code",
   "execution_count": 28,
   "metadata": {},
   "outputs": [],
   "source": [
    "# Initializing the ANN\n",
    "classifier = Sequential()"
   ]
  },
  {
   "cell_type": "code",
   "execution_count": 29,
   "metadata": {},
   "outputs": [
    {
     "name": "stdout",
     "output_type": "stream",
     "text": [
      "WARNING:tensorflow:From /home/admin1/anaconda3/envs/venv/lib/python3.7/site-packages/tensorflow/python/framework/op_def_library.py:263: colocate_with (from tensorflow.python.framework.ops) is deprecated and will be removed in a future version.\n",
      "Instructions for updating:\n",
      "Colocations handled automatically by placer.\n"
     ]
    }
   ],
   "source": [
    "# This adds the input layer (by specifying input dimension) AND the first hidden layer (units)\n",
    "classifier.add(Dense(activation = 'relu', input_dim = 11, units=6, kernel_initializer='uniform'))"
   ]
  },
  {
   "cell_type": "code",
   "execution_count": 30,
   "metadata": {},
   "outputs": [],
   "source": [
    "# Adding the second hidden layer\n",
    "# Notice that we do not need to specify input dim. \n",
    "classifier.add(Dense(activation = 'relu', units=6, kernel_initializer='uniform')) \n"
   ]
  },
  {
   "cell_type": "code",
   "execution_count": 31,
   "metadata": {},
   "outputs": [],
   "source": [
    "# Adding the output layer\n",
    "# Notice that we do not need to specify input dim. \n",
    "# we have an output of 1 node, which is the the desired dimensions of our output (stay with the bank or not)\n",
    "# We use the sigmoid because we want probability outcomes\n",
    "classifier.add(Dense(activation = 'sigmoid', units=1, kernel_initializer='uniform')) "
   ]
  },
  {
   "cell_type": "code",
   "execution_count": 32,
   "metadata": {},
   "outputs": [],
   "source": [
    "# Compiling the Neural Network\n",
    "classifier.compile(optimizer='adam', loss = 'binary_crossentropy', metrics=['accuracy'])"
   ]
  },
  {
   "cell_type": "code",
   "execution_count": 33,
   "metadata": {},
   "outputs": [
    {
     "name": "stdout",
     "output_type": "stream",
     "text": [
      "WARNING:tensorflow:From /home/admin1/anaconda3/envs/venv/lib/python3.7/site-packages/tensorflow/python/ops/math_ops.py:3066: to_int32 (from tensorflow.python.ops.math_ops) is deprecated and will be removed in a future version.\n",
      "Instructions for updating:\n",
      "Use tf.cast instead.\n",
      "Epoch 1/100\n",
      "6400/6400 [==============================] - 1s 114us/step - loss: 0.5044 - acc: 0.7942\n",
      "Epoch 2/100\n",
      "6400/6400 [==============================] - 0s 75us/step - loss: 0.4303 - acc: 0.7947\n",
      "Epoch 3/100\n",
      "6400/6400 [==============================] - 0s 77us/step - loss: 0.4246 - acc: 0.7989\n",
      "Epoch 4/100\n",
      "6400/6400 [==============================] - 1s 79us/step - loss: 0.4184 - acc: 0.8289\n",
      "Epoch 5/100\n",
      "6400/6400 [==============================] - 0s 74us/step - loss: 0.4126 - acc: 0.8309\n",
      "Epoch 6/100\n",
      "6400/6400 [==============================] - 0s 77us/step - loss: 0.4084 - acc: 0.8330\n",
      "Epoch 7/100\n",
      "6400/6400 [==============================] - 0s 75us/step - loss: 0.4049 - acc: 0.8364\n",
      "Epoch 8/100\n",
      "6400/6400 [==============================] - 0s 78us/step - loss: 0.4033 - acc: 0.8339\n",
      "Epoch 9/100\n",
      "6400/6400 [==============================] - 0s 75us/step - loss: 0.4011 - acc: 0.8370\n",
      "Epoch 10/100\n",
      "6400/6400 [==============================] - 0s 75us/step - loss: 0.3997 - acc: 0.8367\n",
      "Epoch 11/100\n",
      "6400/6400 [==============================] - 0s 75us/step - loss: 0.3986 - acc: 0.8370\n",
      "Epoch 12/100\n",
      "6400/6400 [==============================] - 0s 76us/step - loss: 0.3979 - acc: 0.8402\n",
      "Epoch 13/100\n",
      "6400/6400 [==============================] - 0s 74us/step - loss: 0.3969 - acc: 0.8377\n",
      "Epoch 14/100\n",
      "6400/6400 [==============================] - 0s 76us/step - loss: 0.3963 - acc: 0.8370\n",
      "Epoch 15/100\n",
      "6400/6400 [==============================] - 0s 77us/step - loss: 0.3962 - acc: 0.8373\n",
      "Epoch 16/100\n",
      "6400/6400 [==============================] - 0s 75us/step - loss: 0.3956 - acc: 0.8387\n",
      "Epoch 17/100\n",
      "6400/6400 [==============================] - 0s 77us/step - loss: 0.3951 - acc: 0.8403\n",
      "Epoch 18/100\n",
      "6400/6400 [==============================] - 0s 73us/step - loss: 0.3948 - acc: 0.8394\n",
      "Epoch 19/100\n",
      "6400/6400 [==============================] - 0s 74us/step - loss: 0.3946 - acc: 0.8398\n",
      "Epoch 20/100\n",
      "6400/6400 [==============================] - 0s 75us/step - loss: 0.3943 - acc: 0.8394\n",
      "Epoch 21/100\n",
      "6400/6400 [==============================] - 0s 74us/step - loss: 0.3940 - acc: 0.8383\n",
      "Epoch 22/100\n",
      "6400/6400 [==============================] - 0s 75us/step - loss: 0.3934 - acc: 0.8381\n",
      "Epoch 23/100\n",
      "6400/6400 [==============================] - 0s 74us/step - loss: 0.3934 - acc: 0.8394\n",
      "Epoch 24/100\n",
      "6400/6400 [==============================] - 0s 75us/step - loss: 0.3933 - acc: 0.8395\n",
      "Epoch 25/100\n",
      "6400/6400 [==============================] - 0s 75us/step - loss: 0.3931 - acc: 0.8389\n",
      "Epoch 26/100\n",
      "6400/6400 [==============================] - 0s 72us/step - loss: 0.3925 - acc: 0.8395\n",
      "Epoch 27/100\n",
      "6400/6400 [==============================] - 0s 76us/step - loss: 0.3927 - acc: 0.8397\n",
      "Epoch 28/100\n",
      "6400/6400 [==============================] - 0s 75us/step - loss: 0.3922 - acc: 0.8420\n",
      "Epoch 29/100\n",
      "6400/6400 [==============================] - 0s 76us/step - loss: 0.3923 - acc: 0.8419\n",
      "Epoch 30/100\n",
      "6400/6400 [==============================] - 0s 77us/step - loss: 0.3923 - acc: 0.8403\n",
      "Epoch 31/100\n",
      "6400/6400 [==============================] - 0s 74us/step - loss: 0.3923 - acc: 0.8411\n",
      "Epoch 32/100\n",
      "6400/6400 [==============================] - 0s 76us/step - loss: 0.3922 - acc: 0.8414\n",
      "Epoch 33/100\n",
      "6400/6400 [==============================] - 0s 73us/step - loss: 0.3917 - acc: 0.8420\n",
      "Epoch 34/100\n",
      "6400/6400 [==============================] - 0s 72us/step - loss: 0.3918 - acc: 0.8422\n",
      "Epoch 35/100\n",
      "6400/6400 [==============================] - 0s 74us/step - loss: 0.3919 - acc: 0.8405\n",
      "Epoch 36/100\n",
      "6400/6400 [==============================] - 0s 76us/step - loss: 0.3916 - acc: 0.8417\n",
      "Epoch 37/100\n",
      "6400/6400 [==============================] - 1s 79us/step - loss: 0.3916 - acc: 0.8408\n",
      "Epoch 38/100\n",
      "6400/6400 [==============================] - 0s 76us/step - loss: 0.3914 - acc: 0.8412\n",
      "Epoch 39/100\n",
      "6400/6400 [==============================] - 0s 75us/step - loss: 0.3915 - acc: 0.8398\n",
      "Epoch 40/100\n",
      "6400/6400 [==============================] - 0s 76us/step - loss: 0.3915 - acc: 0.8423\n",
      "Epoch 41/100\n",
      "6400/6400 [==============================] - 0s 77us/step - loss: 0.3915 - acc: 0.8400\n",
      "Epoch 42/100\n",
      "6400/6400 [==============================] - 0s 74us/step - loss: 0.3916 - acc: 0.8405\n",
      "Epoch 43/100\n",
      "6400/6400 [==============================] - 0s 73us/step - loss: 0.3913 - acc: 0.8442\n",
      "Epoch 44/100\n",
      "6400/6400 [==============================] - 0s 76us/step - loss: 0.3918 - acc: 0.8411\n",
      "Epoch 45/100\n",
      "6400/6400 [==============================] - 0s 75us/step - loss: 0.3913 - acc: 0.8431\n",
      "Epoch 46/100\n",
      "6400/6400 [==============================] - 0s 73us/step - loss: 0.3917 - acc: 0.8406\n",
      "Epoch 47/100\n",
      "6400/6400 [==============================] - 0s 75us/step - loss: 0.3913 - acc: 0.8417\n",
      "Epoch 48/100\n",
      "6400/6400 [==============================] - 1s 79us/step - loss: 0.3916 - acc: 0.8405\n",
      "Epoch 49/100\n",
      "6400/6400 [==============================] - 0s 75us/step - loss: 0.3910 - acc: 0.8419\n",
      "Epoch 50/100\n",
      "6400/6400 [==============================] - 0s 74us/step - loss: 0.3913 - acc: 0.8395\n",
      "Epoch 51/100\n",
      "6400/6400 [==============================] - 0s 74us/step - loss: 0.3912 - acc: 0.8411\n",
      "Epoch 52/100\n",
      "6400/6400 [==============================] - 0s 75us/step - loss: 0.3907 - acc: 0.8420\n",
      "Epoch 53/100\n",
      "6400/6400 [==============================] - 0s 77us/step - loss: 0.3912 - acc: 0.8420\n",
      "Epoch 54/100\n",
      "6400/6400 [==============================] - 0s 73us/step - loss: 0.3911 - acc: 0.8416\n",
      "Epoch 55/100\n",
      "6400/6400 [==============================] - 0s 74us/step - loss: 0.3912 - acc: 0.8405\n",
      "Epoch 56/100\n",
      "6400/6400 [==============================] - 0s 74us/step - loss: 0.3910 - acc: 0.8414\n",
      "Epoch 57/100\n",
      "6400/6400 [==============================] - 0s 73us/step - loss: 0.3914 - acc: 0.8395\n",
      "Epoch 58/100\n",
      "6400/6400 [==============================] - 1s 81us/step - loss: 0.3910 - acc: 0.8408\n",
      "Epoch 59/100\n",
      "6400/6400 [==============================] - 0s 77us/step - loss: 0.3907 - acc: 0.8428\n",
      "Epoch 60/100\n",
      "6400/6400 [==============================] - 0s 74us/step - loss: 0.3913 - acc: 0.8403\n",
      "Epoch 61/100\n",
      "6400/6400 [==============================] - 0s 73us/step - loss: 0.3912 - acc: 0.8445\n",
      "Epoch 62/100\n",
      "6400/6400 [==============================] - 1s 79us/step - loss: 0.3910 - acc: 0.8423\n",
      "Epoch 63/100\n",
      "6400/6400 [==============================] - 0s 74us/step - loss: 0.3912 - acc: 0.8419\n",
      "Epoch 64/100\n",
      "6400/6400 [==============================] - 0s 75us/step - loss: 0.3910 - acc: 0.8420\n",
      "Epoch 65/100\n",
      "6400/6400 [==============================] - 0s 77us/step - loss: 0.3906 - acc: 0.8417\n",
      "Epoch 66/100\n",
      "6400/6400 [==============================] - 0s 74us/step - loss: 0.3908 - acc: 0.8408\n",
      "Epoch 67/100\n",
      "6400/6400 [==============================] - 0s 74us/step - loss: 0.3906 - acc: 0.8411\n",
      "Epoch 68/100\n",
      "6400/6400 [==============================] - 0s 77us/step - loss: 0.3907 - acc: 0.8428\n",
      "Epoch 69/100\n",
      "6400/6400 [==============================] - 0s 75us/step - loss: 0.3907 - acc: 0.8419\n",
      "Epoch 70/100\n",
      "6400/6400 [==============================] - 0s 77us/step - loss: 0.3907 - acc: 0.8409\n",
      "Epoch 71/100\n",
      "6400/6400 [==============================] - 0s 74us/step - loss: 0.3904 - acc: 0.8409\n",
      "Epoch 72/100\n",
      "6400/6400 [==============================] - 0s 77us/step - loss: 0.3909 - acc: 0.8420\n",
      "Epoch 73/100\n",
      "6400/6400 [==============================] - 0s 75us/step - loss: 0.3904 - acc: 0.8419\n",
      "Epoch 74/100\n",
      "6400/6400 [==============================] - 0s 76us/step - loss: 0.3909 - acc: 0.8394\n",
      "Epoch 75/100\n",
      "6400/6400 [==============================] - 0s 75us/step - loss: 0.3906 - acc: 0.8425\n",
      "Epoch 76/100\n",
      "6400/6400 [==============================] - 0s 75us/step - loss: 0.3907 - acc: 0.8422\n",
      "Epoch 77/100\n",
      "6400/6400 [==============================] - 0s 75us/step - loss: 0.3899 - acc: 0.8400\n",
      "Epoch 78/100\n",
      "6400/6400 [==============================] - 0s 78us/step - loss: 0.3909 - acc: 0.8412\n",
      "Epoch 79/100\n",
      "6400/6400 [==============================] - 0s 74us/step - loss: 0.3908 - acc: 0.8416\n",
      "Epoch 80/100\n",
      "6400/6400 [==============================] - 0s 76us/step - loss: 0.3908 - acc: 0.8419\n",
      "Epoch 81/100\n",
      "6400/6400 [==============================] - 0s 74us/step - loss: 0.3908 - acc: 0.8409\n",
      "Epoch 82/100\n",
      "6400/6400 [==============================] - 0s 72us/step - loss: 0.3901 - acc: 0.8427\n",
      "Epoch 83/100\n",
      "6400/6400 [==============================] - 0s 73us/step - loss: 0.3899 - acc: 0.8412\n",
      "Epoch 84/100\n",
      "6400/6400 [==============================] - 0s 75us/step - loss: 0.3904 - acc: 0.8419\n",
      "Epoch 85/100\n",
      "6400/6400 [==============================] - 0s 75us/step - loss: 0.3906 - acc: 0.8417\n",
      "Epoch 86/100\n",
      "6400/6400 [==============================] - 0s 74us/step - loss: 0.3903 - acc: 0.8430\n",
      "Epoch 87/100\n",
      "6400/6400 [==============================] - 0s 74us/step - loss: 0.3903 - acc: 0.8412\n",
      "Epoch 88/100\n",
      "6400/6400 [==============================] - 0s 73us/step - loss: 0.3905 - acc: 0.8405\n",
      "Epoch 89/100\n",
      "6400/6400 [==============================] - 0s 74us/step - loss: 0.3902 - acc: 0.8420\n",
      "Epoch 90/100\n",
      "6400/6400 [==============================] - 0s 77us/step - loss: 0.3902 - acc: 0.8405\n",
      "Epoch 91/100\n",
      "6400/6400 [==============================] - 0s 72us/step - loss: 0.3904 - acc: 0.8408\n",
      "Epoch 92/100\n",
      "6400/6400 [==============================] - 0s 72us/step - loss: 0.3905 - acc: 0.8425\n",
      "Epoch 93/100\n",
      "6400/6400 [==============================] - 0s 72us/step - loss: 0.3903 - acc: 0.8416\n",
      "Epoch 94/100\n",
      "6400/6400 [==============================] - 0s 73us/step - loss: 0.3903 - acc: 0.8409\n",
      "Epoch 95/100\n",
      "6400/6400 [==============================] - 0s 75us/step - loss: 0.3904 - acc: 0.8431\n",
      "Epoch 96/100\n",
      "6400/6400 [==============================] - 0s 74us/step - loss: 0.3898 - acc: 0.8403\n",
      "Epoch 97/100\n",
      "6400/6400 [==============================] - 0s 77us/step - loss: 0.3901 - acc: 0.8414\n",
      "Epoch 98/100\n",
      "6400/6400 [==============================] - 0s 73us/step - loss: 0.3900 - acc: 0.8408\n",
      "Epoch 99/100\n",
      "6400/6400 [==============================] - 0s 74us/step - loss: 0.3903 - acc: 0.8411\n",
      "Epoch 100/100\n",
      "6400/6400 [==============================] - 0s 73us/step - loss: 0.3904 - acc: 0.8419\n"
     ]
    },
    {
     "data": {
      "text/plain": [
       "<keras.callbacks.History at 0x7f9dcd63ea90>"
      ]
     },
     "execution_count": 33,
     "metadata": {},
     "output_type": "execute_result"
    }
   ],
   "source": [
    "# Fitting the Neural Network\n",
    "classifier.fit(x_train, y_train, batch_size=10, epochs=100)"
   ]
  },
  {
   "cell_type": "markdown",
   "metadata": {},
   "source": [
    "# Predicting on the Cross Validation dataset result\n",
    "Testing the ANN"
   ]
  },
  {
   "cell_type": "code",
   "execution_count": 34,
   "metadata": {},
   "outputs": [
    {
     "name": "stdout",
     "output_type": "stream",
     "text": [
      "[[0.15060598]\n",
      " [0.0414083 ]\n",
      " [0.08369362]\n",
      " ...\n",
      " [0.4527338 ]\n",
      " [0.1075027 ]\n",
      " [0.02370316]]\n"
     ]
    }
   ],
   "source": [
    "y_pred = classifier.predict(x_cv)\n",
    "print(y_pred)"
   ]
  },
  {
   "cell_type": "markdown",
   "metadata": {},
   "source": [
    "To use the confusion Matrix, we need to convert the probabilities that a customer will leave the bank into the form true or false.\n",
    "So we will use the cutoff value 0.5 to indicate whether they are likely to exit or not."
   ]
  },
  {
   "cell_type": "code",
   "execution_count": 35,
   "metadata": {},
   "outputs": [
    {
     "name": "stdout",
     "output_type": "stream",
     "text": [
      "[[False]\n",
      " [False]\n",
      " [False]\n",
      " ...\n",
      " [False]\n",
      " [False]\n",
      " [False]]\n"
     ]
    }
   ],
   "source": [
    "y_pred = (y_pred > 0.5)\n",
    "print(y_pred)"
   ]
  },
  {
   "cell_type": "code",
   "execution_count": 36,
   "metadata": {},
   "outputs": [
    {
     "name": "stdout",
     "output_type": "stream",
     "text": [
      "[[1223   54]\n",
      " [ 217  106]]\n"
     ]
    }
   ],
   "source": [
    "# Making the Confusion Matrix\n",
    "from sklearn.metrics import confusion_matrix\n",
    "cm = confusion_matrix(y_cv, y_pred)\n",
    "print(cm)"
   ]
  },
  {
   "cell_type": "code",
   "execution_count": 37,
   "metadata": {},
   "outputs": [
    {
     "name": "stdout",
     "output_type": "stream",
     "text": [
      "83.0625 % of testing data was classified correctly\n"
     ]
    }
   ],
   "source": [
    "print (((cm[0][0]+cm[1][1])*100)/(cm[0][0]+cm[1][1]+cm[0][1]+cm[1][0]), '% of testing data was classified correctly')"
   ]
  },
  {
   "cell_type": "code",
   "execution_count": 38,
   "metadata": {},
   "outputs": [
    {
     "name": "stdout",
     "output_type": "stream",
     "text": [
      "83.0625 % of cross validation data was classified correctly\n"
     ]
    }
   ],
   "source": [
    "# calculating accuracy\n",
    "print (accuracy_score(y_cv,y_pred)*100,'% of cross validation data was classified correctly')\n"
   ]
  },
  {
   "cell_type": "code",
   "execution_count": 39,
   "metadata": {},
   "outputs": [],
   "source": [
    "# save model in pickle file\n",
    "import pickle\n",
    "fileobj=open('save_model.pkl','wb')\n",
    "pickle.dump(classifier,fileobj)\n",
    "pickle.dump(sc,fileobj)\n",
    "fileobj.close()"
   ]
  },
  {
   "cell_type": "code",
   "execution_count": null,
   "metadata": {},
   "outputs": [],
   "source": []
  },
  {
   "cell_type": "code",
   "execution_count": null,
   "metadata": {},
   "outputs": [],
   "source": []
  }
 ],
 "metadata": {
  "kernelspec": {
   "display_name": "Python 3",
   "language": "python",
   "name": "python3"
  },
  "language_info": {
   "codemirror_mode": {
    "name": "ipython",
    "version": 3
   },
   "file_extension": ".py",
   "mimetype": "text/x-python",
   "name": "python",
   "nbconvert_exporter": "python",
   "pygments_lexer": "ipython3",
   "version": "3.7.2"
  }
 },
 "nbformat": 4,
 "nbformat_minor": 2
}
