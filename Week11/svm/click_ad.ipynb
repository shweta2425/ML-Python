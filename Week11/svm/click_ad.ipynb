 {
 "cells": [
  {
   "cell_type": "code",
   "execution_count": 1,
   "metadata": {
    "ExecuteTime": {
     "end_time": "2019-05-05T18:50:21.813673Z",
     "start_time": "2019-05-05T18:50:21.809395Z"
    }
   },
   "outputs": [],
   "source": [
    "# import libraries\n",
    "import pandas as pd\n",
    "import numpy as np\n",
    "import seaborn as sb\n",
    "from matplotlib import pyplot as plt\n",
    "from sklearn.model_selection import train_test_split \n",
    "import pickle\n",
    "import sklearn\n",
    "from sklearn.preprocessing import StandardScaler\n",
    "from sklearn.metrics import mean_absolute_error\n",
    "from sklearn.preprocessing import PolynomialFeatures\n",
    "from sklearn.linear_model import LogisticRegression\n",
    "import warnings\n",
    "warnings.filterwarnings('ignore')\n",
    "from sklearn.metrics import confusion_matrix\n",
    "from matplotlib.colors import ListedColormap\n",
    "from sklearn.svm import SVC  \n",
    "import importlib.util\n",
    "from sklearn.model_selection import KFold\n",
    "from sklearn.model_selection import learning_curve, GridSearchCV\n",
    "\n",
    "from sklearn.metrics import explained_variance_score, make_scorer\n",
    "from matplotlib import pyplot as plt\n"
   ]
  },
  {
   "cell_type": "code",
   "execution_count": 2,
   "metadata": {},
   "outputs": [],
   "source": [
    "# importing template file \n",
    "spec = importlib.util.spec_from_file_location(\"Template\", \"/home/admin1/PycharmProjects/ML/Week10/Template/template.py\")\n",
    "foo = importlib.util.module_from_spec(spec)\n",
    "spec.loader.exec_module(foo)\n",
    "# creating object of Template class\n",
    "temp = foo.Template()"
   ]
  },
  {
   "cell_type": "code",
   "execution_count": 3,
   "metadata": {
    "ExecuteTime": {
     "end_time": "2019-05-05T18:50:21.837566Z",
     "start_time": "2019-05-05T18:50:21.818571Z"
    }
   },
   "outputs": [
    {
     "data": {
      "text/html": [
       "<div>\n",
       "<style scoped>\n",
       "    .dataframe tbody tr th:only-of-type {\n",
       "        vertical-align: middle;\n",
       "    }\n",
       "\n",
       "    .dataframe tbody tr th {\n",
       "        vertical-align: top;\n",
       "    }\n",
       "\n",
       "    .dataframe thead th {\n",
       "        text-align: right;\n",
       "    }\n",
       "</style>\n",
       "<table border=\"1\" class=\"dataframe\">\n",
       "  <thead>\n",
       "    <tr style=\"text-align: right;\">\n",
       "      <th></th>\n",
       "      <th>User ID</th>\n",
       "      <th>Gender</th>\n",
       "      <th>Age</th>\n",
       "      <th>EstimatedSalary</th>\n",
       "      <th>Purchased</th>\n",
       "    </tr>\n",
       "  </thead>\n",
       "  <tbody>\n",
       "    <tr>\n",
       "      <th>0</th>\n",
       "      <td>15624510</td>\n",
       "      <td>Male</td>\n",
       "      <td>19</td>\n",
       "      <td>19000</td>\n",
       "      <td>0</td>\n",
       "    </tr>\n",
       "    <tr>\n",
       "      <th>1</th>\n",
       "      <td>15810944</td>\n",
       "      <td>Male</td>\n",
       "      <td>35</td>\n",
       "      <td>20000</td>\n",
       "      <td>0</td>\n",
       "    </tr>\n",
       "    <tr>\n",
       "      <th>2</th>\n",
       "      <td>15668575</td>\n",
       "      <td>Female</td>\n",
       "      <td>26</td>\n",
       "      <td>43000</td>\n",
       "      <td>0</td>\n",
       "    </tr>\n",
       "    <tr>\n",
       "      <th>3</th>\n",
       "      <td>15603246</td>\n",
       "      <td>Female</td>\n",
       "      <td>27</td>\n",
       "      <td>57000</td>\n",
       "      <td>0</td>\n",
       "    </tr>\n",
       "    <tr>\n",
       "      <th>4</th>\n",
       "      <td>15804002</td>\n",
       "      <td>Male</td>\n",
       "      <td>19</td>\n",
       "      <td>76000</td>\n",
       "      <td>0</td>\n",
       "    </tr>\n",
       "  </tbody>\n",
       "</table>\n",
       "</div>"
      ],
      "text/plain": [
       "    User ID  Gender  Age  EstimatedSalary  Purchased\n",
       "0  15624510    Male   19            19000          0\n",
       "1  15810944    Male   35            20000          0\n",
       "2  15668575  Female   26            43000          0\n",
       "3  15603246  Female   27            57000          0\n",
       "4  15804002    Male   19            76000          0"
      ]
     },
     "execution_count": 3,
     "metadata": {},
     "output_type": "execute_result"
    }
   ],
   "source": [
    "# read file\n",
    "df=temp.read_file('Data/Social_Network_Ads.csv')\n",
    "df.head()"
   ]
  },
  {
   "cell_type": "code",
   "execution_count": 4,
   "metadata": {
    "ExecuteTime": {
     "end_time": "2019-05-05T18:50:21.846931Z",
     "start_time": "2019-05-05T18:50:21.840076Z"
    }
   },
   "outputs": [
    {
     "data": {
      "text/plain": [
       "(400, 5)"
      ]
     },
     "execution_count": 4,
     "metadata": {},
     "output_type": "execute_result"
    }
   ],
   "source": [
    "df.shape"
   ]
  },
  {
   "cell_type": "code",
   "execution_count": 5,
   "metadata": {
    "ExecuteTime": {
     "end_time": "2019-05-05T18:50:21.866548Z",
     "start_time": "2019-05-05T18:50:21.848734Z"
    }
   },
   "outputs": [
    {
     "name": "stdout",
     "output_type": "stream",
     "text": [
      "<class 'pandas.core.frame.DataFrame'>\n",
      "RangeIndex: 400 entries, 0 to 399\n",
      "Data columns (total 5 columns):\n",
      "User ID            400 non-null int64\n",
      "Gender             400 non-null object\n",
      "Age                400 non-null int64\n",
      "EstimatedSalary    400 non-null int64\n",
      "Purchased          400 non-null int64\n",
      "dtypes: int64(4), object(1)\n",
      "memory usage: 15.7+ KB\n"
     ]
    }
   ],
   "source": [
    "df.info()"
   ]
  },
  {
   "cell_type": "code",
   "execution_count": 6,
   "metadata": {
    "ExecuteTime": {
     "end_time": "2019-05-05T18:50:21.901865Z",
     "start_time": "2019-05-05T18:50:21.868682Z"
    }
   },
   "outputs": [
    {
     "data": {
      "text/html": [
       "<div>\n",
       "<style scoped>\n",
       "    .dataframe tbody tr th:only-of-type {\n",
       "        vertical-align: middle;\n",
       "    }\n",
       "\n",
       "    .dataframe tbody tr th {\n",
       "        vertical-align: top;\n",
       "    }\n",
       "\n",
       "    .dataframe thead th {\n",
       "        text-align: right;\n",
       "    }\n",
       "</style>\n",
       "<table border=\"1\" class=\"dataframe\">\n",
       "  <thead>\n",
       "    <tr style=\"text-align: right;\">\n",
       "      <th></th>\n",
       "      <th>User ID</th>\n",
       "      <th>Age</th>\n",
       "      <th>EstimatedSalary</th>\n",
       "      <th>Purchased</th>\n",
       "    </tr>\n",
       "  </thead>\n",
       "  <tbody>\n",
       "    <tr>\n",
       "      <th>count</th>\n",
       "      <td>4.000000e+02</td>\n",
       "      <td>400.000000</td>\n",
       "      <td>400.000000</td>\n",
       "      <td>400.000000</td>\n",
       "    </tr>\n",
       "    <tr>\n",
       "      <th>mean</th>\n",
       "      <td>1.569154e+07</td>\n",
       "      <td>37.655000</td>\n",
       "      <td>69742.500000</td>\n",
       "      <td>0.357500</td>\n",
       "    </tr>\n",
       "    <tr>\n",
       "      <th>std</th>\n",
       "      <td>7.165832e+04</td>\n",
       "      <td>10.482877</td>\n",
       "      <td>34096.960282</td>\n",
       "      <td>0.479864</td>\n",
       "    </tr>\n",
       "    <tr>\n",
       "      <th>min</th>\n",
       "      <td>1.556669e+07</td>\n",
       "      <td>18.000000</td>\n",
       "      <td>15000.000000</td>\n",
       "      <td>0.000000</td>\n",
       "    </tr>\n",
       "    <tr>\n",
       "      <th>25%</th>\n",
       "      <td>1.562676e+07</td>\n",
       "      <td>29.750000</td>\n",
       "      <td>43000.000000</td>\n",
       "      <td>0.000000</td>\n",
       "    </tr>\n",
       "    <tr>\n",
       "      <th>50%</th>\n",
       "      <td>1.569434e+07</td>\n",
       "      <td>37.000000</td>\n",
       "      <td>70000.000000</td>\n",
       "      <td>0.000000</td>\n",
       "    </tr>\n",
       "    <tr>\n",
       "      <th>75%</th>\n",
       "      <td>1.575036e+07</td>\n",
       "      <td>46.000000</td>\n",
       "      <td>88000.000000</td>\n",
       "      <td>1.000000</td>\n",
       "    </tr>\n",
       "    <tr>\n",
       "      <th>max</th>\n",
       "      <td>1.581524e+07</td>\n",
       "      <td>60.000000</td>\n",
       "      <td>150000.000000</td>\n",
       "      <td>1.000000</td>\n",
       "    </tr>\n",
       "  </tbody>\n",
       "</table>\n",
       "</div>"
      ],
      "text/plain": [
       "            User ID         Age  EstimatedSalary   Purchased\n",
       "count  4.000000e+02  400.000000       400.000000  400.000000\n",
       "mean   1.569154e+07   37.655000     69742.500000    0.357500\n",
       "std    7.165832e+04   10.482877     34096.960282    0.479864\n",
       "min    1.556669e+07   18.000000     15000.000000    0.000000\n",
       "25%    1.562676e+07   29.750000     43000.000000    0.000000\n",
       "50%    1.569434e+07   37.000000     70000.000000    0.000000\n",
       "75%    1.575036e+07   46.000000     88000.000000    1.000000\n",
       "max    1.581524e+07   60.000000    150000.000000    1.000000"
      ]
     },
     "execution_count": 6,
     "metadata": {},
     "output_type": "execute_result"
    }
   ],
   "source": [
    "df.describe()"
   ]
  },
  {
   "cell_type": "code",
   "execution_count": 7,
   "metadata": {
    "ExecuteTime": {
     "end_time": "2019-05-05T18:50:21.908893Z",
     "start_time": "2019-05-05T18:50:21.903614Z"
    }
   },
   "outputs": [
    {
     "data": {
      "text/plain": [
       "User ID            0\n",
       "Gender             0\n",
       "Age                0\n",
       "EstimatedSalary    0\n",
       "Purchased          0\n",
       "dtype: int64"
      ]
     },
     "execution_count": 7,
     "metadata": {},
     "output_type": "execute_result"
    }
   ],
   "source": [
    "# checks for null values\n",
    "df.isnull().sum()"
   ]
  },
  {
   "cell_type": "code",
   "execution_count": 8,
   "metadata": {
    "ExecuteTime": {
     "end_time": "2019-05-05T18:50:21.921226Z",
     "start_time": "2019-05-05T18:50:21.910844Z"
    }
   },
   "outputs": [
    {
     "data": {
      "text/plain": [
       "0"
      ]
     },
     "execution_count": 8,
     "metadata": {},
     "output_type": "execute_result"
    }
   ],
   "source": [
    "# checks for duplicate values\n",
    "df.duplicated().sum()"
   ]
  },
  {
   "cell_type": "code",
   "execution_count": 9,
   "metadata": {
    "ExecuteTime": {
     "end_time": "2019-05-05T18:50:21.934440Z",
     "start_time": "2019-05-05T18:50:21.923053Z"
    }
   },
   "outputs": [
    {
     "data": {
      "text/plain": [
       "Index(['User ID', 'Gender', 'Age', 'EstimatedSalary', 'Purchased'], dtype='object')"
      ]
     },
     "execution_count": 9,
     "metadata": {},
     "output_type": "execute_result"
    }
   ],
   "source": [
    "df.columns"
   ]
  },
  {
   "cell_type": "code",
   "execution_count": 10,
   "metadata": {
    "ExecuteTime": {
     "end_time": "2019-05-05T18:50:21.946051Z",
     "start_time": "2019-05-05T18:50:21.938980Z"
    }
   },
   "outputs": [],
   "source": [
    "df = df[['Age','EstimatedSalary','Purchased']]"
   ]
  },
  {
   "cell_type": "code",
   "execution_count": 11,
   "metadata": {
    "ExecuteTime": {
     "end_time": "2019-05-05T18:50:21.958898Z",
     "start_time": "2019-05-05T18:50:21.953663Z"
    }
   },
   "outputs": [],
   "source": [
    "train,test=temp.split(df,0.3)"
   ]
  },
  {
   "cell_type": "code",
   "execution_count": 12,
   "metadata": {
    "ExecuteTime": {
     "end_time": "2019-05-05T18:50:21.997438Z",
     "start_time": "2019-05-05T18:50:21.993949Z"
    }
   },
   "outputs": [
    {
     "name": "stdout",
     "output_type": "stream",
     "text": [
      "train (280, 3)\n",
      "test (120, 3)\n"
     ]
    }
   ],
   "source": [
    "print(\"train\",train.shape)\n",
    "print(\"test\",test.shape)"
   ]
  },
  {
   "cell_type": "code",
   "execution_count": 13,
   "metadata": {
    "ExecuteTime": {
     "end_time": "2019-05-05T18:50:22.217034Z",
     "start_time": "2019-05-05T18:50:22.209344Z"
    }
   },
   "outputs": [],
   "source": [
    "# saving datasets into csv filesS\n",
    "temp.save_csv(test,'test_data.csv')\n",
    "temp.save_csv(train,'train_data.csv')\n"
   ]
  },
  {
   "cell_type": "code",
   "execution_count": 14,
   "metadata": {
    "ExecuteTime": {
     "end_time": "2019-05-05T18:50:22.233980Z",
     "start_time": "2019-05-05T18:50:22.219036Z"
    }
   },
   "outputs": [
    {
     "data": {
      "text/html": [
       "<div>\n",
       "<style scoped>\n",
       "    .dataframe tbody tr th:only-of-type {\n",
       "        vertical-align: middle;\n",
       "    }\n",
       "\n",
       "    .dataframe tbody tr th {\n",
       "        vertical-align: top;\n",
       "    }\n",
       "\n",
       "    .dataframe thead th {\n",
       "        text-align: right;\n",
       "    }\n",
       "</style>\n",
       "<table border=\"1\" class=\"dataframe\">\n",
       "  <thead>\n",
       "    <tr style=\"text-align: right;\">\n",
       "      <th></th>\n",
       "      <th>Age</th>\n",
       "      <th>EstimatedSalary</th>\n",
       "      <th>Purchased</th>\n",
       "    </tr>\n",
       "  </thead>\n",
       "  <tbody>\n",
       "    <tr>\n",
       "      <th>0</th>\n",
       "      <td>37</td>\n",
       "      <td>144000</td>\n",
       "      <td>1</td>\n",
       "    </tr>\n",
       "    <tr>\n",
       "      <th>1</th>\n",
       "      <td>41</td>\n",
       "      <td>63000</td>\n",
       "      <td>0</td>\n",
       "    </tr>\n",
       "    <tr>\n",
       "      <th>2</th>\n",
       "      <td>43</td>\n",
       "      <td>112000</td>\n",
       "      <td>1</td>\n",
       "    </tr>\n",
       "    <tr>\n",
       "      <th>3</th>\n",
       "      <td>59</td>\n",
       "      <td>76000</td>\n",
       "      <td>1</td>\n",
       "    </tr>\n",
       "    <tr>\n",
       "      <th>4</th>\n",
       "      <td>23</td>\n",
       "      <td>48000</td>\n",
       "      <td>0</td>\n",
       "    </tr>\n",
       "  </tbody>\n",
       "</table>\n",
       "</div>"
      ],
      "text/plain": [
       "   Age  EstimatedSalary  Purchased\n",
       "0   37           144000          1\n",
       "1   41            63000          0\n",
       "2   43           112000          1\n",
       "3   59            76000          1\n",
       "4   23            48000          0"
      ]
     },
     "execution_count": 14,
     "metadata": {},
     "output_type": "execute_result"
    }
   ],
   "source": [
    "# loading training data csv file\n",
    "train_df = temp.read_file('train_data.csv')\n",
    "train_df.head()"
   ]
  },
  {
   "cell_type": "code",
   "execution_count": null,
   "metadata": {},
   "outputs": [],
   "source": []
  },
  {
   "cell_type": "code",
   "execution_count": 15,
   "metadata": {
    "ExecuteTime": {
     "end_time": "2019-05-05T18:50:22.241204Z",
     "start_time": "2019-05-05T18:50:22.235849Z"
    }
   },
   "outputs": [],
   "source": [
    "# splitting training data into train and cross validation dataset \n",
    "train_data,cv_data=temp.split(train_df,0.3)"
   ]
  },
  {
   "cell_type": "code",
   "execution_count": 16,
   "metadata": {
    "ExecuteTime": {
     "end_time": "2019-05-05T18:50:22.255211Z",
     "start_time": "2019-05-05T18:50:22.243146Z"
    }
   },
   "outputs": [],
   "source": [
    "# saving cross validation data into csv file\n",
    "temp.save_csv(cv_data,'cv_data.csv')"
   ]
  },
  {
   "cell_type": "code",
   "execution_count": 17,
   "metadata": {},
   "outputs": [],
   "source": [
    "size = len(train_data)\n",
    "cv = KFold(size, shuffle=True)"
   ]
  },
  {
   "cell_type": "code",
   "execution_count": 18,
   "metadata": {
    "ExecuteTime": {
     "end_time": "2019-05-05T18:50:22.276003Z",
     "start_time": "2019-05-05T18:50:22.257196Z"
    }
   },
   "outputs": [],
   "source": [
    "# separating features and labels of training dataset\n",
    "x_train=train_data.iloc[:,[0,1]].values\n",
    "y_train=train_data.iloc[:,2].values\n"
   ]
  },
  {
   "cell_type": "code",
   "execution_count": 19,
   "metadata": {
    "ExecuteTime": {
     "end_time": "2019-05-05T18:50:22.289180Z",
     "start_time": "2019-05-05T18:50:22.277785Z"
    }
   },
   "outputs": [],
   "source": [
    "# feature scaling\n",
    "sc=StandardScaler()\n",
    "x_train=sc.fit_transform(x_train)"
   ]
  },
  {
   "cell_type": "code",
   "execution_count": 20,
   "metadata": {
    "ExecuteTime": {
     "end_time": "2019-05-05T18:50:22.306042Z",
     "start_time": "2019-05-05T18:50:22.292911Z"
    }
   },
   "outputs": [
    {
     "data": {
      "text/plain": [
       "SVC(C=1.0, cache_size=200, class_weight=None, coef0=0.0,\n",
       "  decision_function_shape='ovr', degree=3, gamma='auto_deprecated',\n",
       "  kernel='linear', max_iter=-1, probability=True, random_state=None,\n",
       "  shrinking=True, tol=0.001, verbose=False)"
      ]
     },
     "execution_count": 20,
     "metadata": {},
     "output_type": "execute_result"
    }
   ],
   "source": [
    "# fit model\n",
    "classifier = SVC(kernel='linear',probability=True)  \n",
    "classifier.fit(x_train,y_train)"
   ]
  },
  {
   "cell_type": "code",
   "execution_count": 21,
   "metadata": {
    "ExecuteTime": {
     "end_time": "2019-05-05T18:50:22.321540Z",
     "start_time": "2019-05-05T18:50:22.310690Z"
    }
   },
   "outputs": [
    {
     "data": {
      "text/html": [
       "<div>\n",
       "<style scoped>\n",
       "    .dataframe tbody tr th:only-of-type {\n",
       "        vertical-align: middle;\n",
       "    }\n",
       "\n",
       "    .dataframe tbody tr th {\n",
       "        vertical-align: top;\n",
       "    }\n",
       "\n",
       "    .dataframe thead th {\n",
       "        text-align: right;\n",
       "    }\n",
       "</style>\n",
       "<table border=\"1\" class=\"dataframe\">\n",
       "  <thead>\n",
       "    <tr style=\"text-align: right;\">\n",
       "      <th></th>\n",
       "      <th>Actual</th>\n",
       "      <th>Predicted</th>\n",
       "    </tr>\n",
       "  </thead>\n",
       "  <tbody>\n",
       "    <tr>\n",
       "      <th>0</th>\n",
       "      <td>0</td>\n",
       "      <td>0</td>\n",
       "    </tr>\n",
       "    <tr>\n",
       "      <th>1</th>\n",
       "      <td>0</td>\n",
       "      <td>0</td>\n",
       "    </tr>\n",
       "    <tr>\n",
       "      <th>2</th>\n",
       "      <td>1</td>\n",
       "      <td>0</td>\n",
       "    </tr>\n",
       "    <tr>\n",
       "      <th>3</th>\n",
       "      <td>0</td>\n",
       "      <td>0</td>\n",
       "    </tr>\n",
       "    <tr>\n",
       "      <th>4</th>\n",
       "      <td>0</td>\n",
       "      <td>0</td>\n",
       "    </tr>\n",
       "  </tbody>\n",
       "</table>\n",
       "</div>"
      ],
      "text/plain": [
       "   Actual  Predicted\n",
       "0       0          0\n",
       "1       0          0\n",
       "2       1          0\n",
       "3       0          0\n",
       "4       0          0"
      ]
     },
     "execution_count": 21,
     "metadata": {},
     "output_type": "execute_result"
    }
   ],
   "source": [
    "y_pred = classifier.predict(x_train)\n",
    "df = pd.DataFrame({'Actual': y_train, 'Predicted': y_pred})  \n",
    "df.head()"
   ]
  },
  {
   "cell_type": "code",
   "execution_count": 22,
   "metadata": {
    "ExecuteTime": {
     "end_time": "2019-05-05T18:50:22.336052Z",
     "start_time": "2019-05-05T18:50:22.323389Z"
    }
   },
   "outputs": [
    {
     "name": "stdout",
     "output_type": "stream",
     "text": [
      "[[120   6]\n",
      " [ 21  49]]\n"
     ]
    }
   ],
   "source": [
    "# making confusion matrix\n",
    "cm= confusion_matrix(y_train,y_pred)\n",
    "print(cm)"
   ]
  },
  {
   "cell_type": "code",
   "execution_count": 23,
   "metadata": {
    "ExecuteTime": {
     "end_time": "2019-05-05T18:50:22.355053Z",
     "start_time": "2019-05-05T18:50:22.337811Z"
    }
   },
   "outputs": [
    {
     "data": {
      "text/html": [
       "<div>\n",
       "<style scoped>\n",
       "    .dataframe tbody tr th:only-of-type {\n",
       "        vertical-align: middle;\n",
       "    }\n",
       "\n",
       "    .dataframe tbody tr th {\n",
       "        vertical-align: top;\n",
       "    }\n",
       "\n",
       "    .dataframe thead th {\n",
       "        text-align: right;\n",
       "    }\n",
       "</style>\n",
       "<table border=\"1\" class=\"dataframe\">\n",
       "  <thead>\n",
       "    <tr style=\"text-align: right;\">\n",
       "      <th></th>\n",
       "      <th>Age</th>\n",
       "      <th>EstimatedSalary</th>\n",
       "      <th>Purchased</th>\n",
       "    </tr>\n",
       "  </thead>\n",
       "  <tbody>\n",
       "    <tr>\n",
       "      <th>0</th>\n",
       "      <td>26</td>\n",
       "      <td>72000</td>\n",
       "      <td>0</td>\n",
       "    </tr>\n",
       "    <tr>\n",
       "      <th>1</th>\n",
       "      <td>31</td>\n",
       "      <td>71000</td>\n",
       "      <td>0</td>\n",
       "    </tr>\n",
       "    <tr>\n",
       "      <th>2</th>\n",
       "      <td>32</td>\n",
       "      <td>120000</td>\n",
       "      <td>1</td>\n",
       "    </tr>\n",
       "    <tr>\n",
       "      <th>3</th>\n",
       "      <td>34</td>\n",
       "      <td>112000</td>\n",
       "      <td>1</td>\n",
       "    </tr>\n",
       "    <tr>\n",
       "      <th>4</th>\n",
       "      <td>18</td>\n",
       "      <td>68000</td>\n",
       "      <td>0</td>\n",
       "    </tr>\n",
       "  </tbody>\n",
       "</table>\n",
       "</div>"
      ],
      "text/plain": [
       "   Age  EstimatedSalary  Purchased\n",
       "0   26            72000          0\n",
       "1   31            71000          0\n",
       "2   32           120000          1\n",
       "3   34           112000          1\n",
       "4   18            68000          0"
      ]
     },
     "execution_count": 23,
     "metadata": {},
     "output_type": "execute_result"
    }
   ],
   "source": [
    "# loading cross validation dataset file\n",
    "cv_data = temp.read_file('cv_data.csv')\n",
    "cv_data.head()"
   ]
  },
  {
   "cell_type": "code",
   "execution_count": 24,
   "metadata": {
    "ExecuteTime": {
     "end_time": "2019-05-05T18:50:22.365618Z",
     "start_time": "2019-05-05T18:50:22.359569Z"
    }
   },
   "outputs": [],
   "source": [
    "# separate labels and features of cross validation dataset\n",
    "x_cv=cv_data.iloc[:,[0,1]].values\n",
    "y_cv=cv_data.iloc[:,2].values"
   ]
  },
  {
   "cell_type": "code",
   "execution_count": 25,
   "metadata": {
    "ExecuteTime": {
     "end_time": "2019-05-05T18:50:22.402366Z",
     "start_time": "2019-05-05T18:50:22.399117Z"
    }
   },
   "outputs": [],
   "source": [
    "# feature scaling\n",
    "x_cv=sc.fit_transform(x_cv)"
   ]
  },
  {
   "cell_type": "code",
   "execution_count": 26,
   "metadata": {
    "ExecuteTime": {
     "end_time": "2019-05-05T18:50:23.563772Z",
     "start_time": "2019-05-05T18:50:22.569671Z"
    }
   },
   "outputs": [
    {
     "name": "stdout",
     "output_type": "stream",
     "text": [
      "train matrix\n",
      " [[120   6]\n",
      " [ 21  49]]\n",
      "cv matrix\n",
      " [[48  3]\n",
      " [16 17]]\n",
      "Accuracy of train data = 82.61904761904762\n",
      "Accuracy of test data = 72.81639928698752\n"
     ]
    },
    {
     "name": "stderr",
     "output_type": "stream",
     "text": [
      "'c' argument looks like a single numeric RGB or RGBA sequence, which should be avoided as value-mapping will have precedence in case its length matches with 'x' & 'y'.  Please use a 2-D array with a single row if you really want to specify the same RGB or RGBA value for all points.\n",
      "'c' argument looks like a single numeric RGB or RGBA sequence, which should be avoided as value-mapping will have precedence in case its length matches with 'x' & 'y'.  Please use a 2-D array with a single row if you really want to specify the same RGB or RGBA value for all points.\n"
     ]
    },
    {
     "data": {
      "image/png": "iVBORw0KGgoAAAANSUhEUgAAAYQAAAEWCAYAAABmE+CbAAAABHNCSVQICAgIfAhkiAAAAAlwSFlzAAALEgAACxIB0t1+/AAAADl0RVh0U29mdHdhcmUAbWF0cGxvdGxpYiB2ZXJzaW9uIDMuMC4zLCBodHRwOi8vbWF0cGxvdGxpYi5vcmcvnQurowAAIABJREFUeJztnXuYHGWVuN/TM8kkJCHRSCYJJJlEISBeAkZkIGxGRhTQKBh1yaJyixFYhEVYVLKu16AiysIPbyErFwmDF5QVhVUcmZFA5BbxgiGRTSYhJJlAIIHcJpnp8/ujqpO+VHVXdXV3dU+f93n6memvqr86VV39nfrOdy6iqhiGYRhGIm4BDMMwjOrAFIJhGIYBmEIwDMMwXEwhGIZhGIApBMMwDMPFFIJhGIYBmEIoKyJyq4h81f3/JBFZFbdMlUBEvi8in3f/bxORDWnbekTkXSH7axERFZFG9/39InJOgM+FPlbaZzPkriTp900tICLvEZF7StxnoO84YF9Vfz1FpElEnhGRQ+KUwxRChVDVh1R1eqH9RORcEVlWCZnKhapeqKpfKWP/p6nqbaXs01U4byhln4ONPPfmIuDraftFvpbl+I6DICJdIjK/0sdR1T7gh8Bny33sfJhCCEjq6bReqLfzHYxU4jsUkbcDo1X1jyE+Y/eWN3cC54hIU1wC1LVCcE0KnxORv4vIyyJyi4gMc7e1icgGEfmMiGwGbnHb3yciT4nINhF5RETektbfMSKyQkReFZEfA8PStmWbTiaJyM9F5AUR2SoiN4nIUcD3gVYR2SEi2/LI/a60918UkTvc/4eJyB1un9tE5HERaXa3jRaR/xaRTSLyvIh8VUQa3G3nisjDInK9iGwFvph1zGEisltEXue+Xygi/SJysPv+KyLyX+7/RU3RRWS4iHxLRNaJyHYRWSYiwz32y3i6EpFPiMhK97r/XUSO9fjMUSKyVkTmeWz7g/vvn93r/s9p264QkS3uNTsvrb1JRK4TkfUi0iuOmSxHVnff14vI793v5EURWSoiY9K2+943Hn0lROQ/3Gu0RURuF5HR7raUae0CEVkP/N7j86n72u+8Rrt9vuAe4z/cY/rdm6cB3fmupddvSUReIyK/co/zsvv/YWn97P+O3XtzmXu9X3a/x9PyXKN8v0Pf44rIIuAk4CZX9pvc9htE5DkReUVEnhSRk9L6O05EnnC39YrIt9O2HS/OGLFNRP4sIm35jqOqG4CXgeP9zq3sqGrdvoAe4G/AJOC1wMPAV91tbUA/8A2gCRgOHANsAd4BNADnuH00AUOBdcDlwBDgQ8C+rP42uP83AH8GrgdG4Nyws9xt5wLLAsj9rrT3XwTucP//JHAvcJB7nLcBB7vbfgH8wD3mOOAx4JNpx+0HPgU0AsM9jvsHYK77/2+B/wNOS9t2pvv/rV7n7SV7Vv/fAbqAQ13ZT3CvbQugQKO7Xxcw3/3/w8DzwNsBAd4ATEk/FnAssB54X55rqsAb0t6nvv8vu9/n6cAu4DXu9uuBX+LcN6Pca/41n77fAJzinssh7rX6L3db3vvGo6/zgWeBacBI4OfAj9xtqet0u/sde32Hhc7rduB/3HNqAVYDF/jdm8BPgX8PeC3Tf0tjgbk49+kot5970j6T/h2f616TT7j3xUXARkA8zq/Q7zDwcdPaPup+rhG4AtgMDHO3LQc+5v4/Ejje/f9QYKt7fRPu978VOMTvOG77L4FLYxsT4zpwNbxwBowL096fDvxf2k28N/XFu23fA76S1ccqYDbwT9k3KfAI3gqhFXgBd4DL6i/nR+cjt59CON897luyPtMM9JE2SADzgAfTjru+wHG/Atzo/jA2A5fh2I6HAbuBse5+t3qdt5fsae0Jt4+3emxrwV8h/Aa4LM91+hKwAWgrcG5eg9ju9O8I52HgeBzFsxN4fdq2VmBtwPvuDOBP7v957xuPz3YCF6e9n44z4DWmXadpeY6d77wacO75N6Zt+yTQ5XdvAg+Q9hvKcy0zfksecs0AXk57n/4dnws8m7btIPcY4z36CXs9fY+bR9aXU/cpjnL/EvC6rH0+g6uo09p+A5yT7zjAUuA/g9xH5XjVtcnI5bm0/9cBE9Pev6Cqe9LeTwGucKeA29xp8yT3MxOB59X9VtP682ISsE5V+6OLn8OPcG68u0Rko4hcKyJDXNmHAJvSZP8BzkwhxXO53WXQjfPjPhb4K85gMBtnMHlWVbdGkPt1OIrl/0J+blKBz1wIPKKqXUXItDXrO9qF8xR4CM6g9GTatfxftz0HEWkWkbvEMdO9AtyBc74Q7r5J7Z++fR2OMmhOayv0Pfqd1+tw7pHs/g/N09fLOE/ahcj4LYnIQSLyA9cs9QrOwDpGXBOmB5tT/6jqLvffkR775b2eRRwXEblSHJPkdve7Hs2B7+8C4AjgGXHMs+9z26cAH84aK2YBE/yO4zIK8DQVVwJTCM6AkmIyztNFiuxUsM8Bi1R1TNrrIFXtADYBh4qIZPXnxXPAZPFeXAuSfnYnzoCUYvz+D6vuU9UvqeobcUwu7wM+7h6zD+dJJiX7wap6dIhjP4LzRHom0K2qf8c5x9NJsyMXyYvAHuD1IT/3XIHPXIhzra8vVjAPXsR5yj467VqOVlWvAQrgGpxr+2ZVPRjHBJG6T8LcN+Dcn1Oy9u0HetPaik1h/CLObCO7/+fz9PsXnAGxENmfvQLnXnqHe03+yW0XolHoehY6boac7nrBVcBHcMxqY4Dtqf1V9R+qOg/nweobwM9EZATOffmjrLFihKp+3es4aRyFY06OBVMI8K8icpiIvBZYCPw4z743AxeKyDvEYYSIvFdERuHYEvuBS0VkiIh8EDjOp5/HcG7cr7t9DBORE91tvcBhIjI0jxxPAWe5x5mJYycFQETeKSJvdp94XsH5gSdVdROO3f9bInKwu1D4ehGZXeD67Md9MnsS+FcOKIBHcAbdSApBVZM4bnffFpGJItIgIq1S2ONiCXCliLzN/U7eICLpA9qrwKnAP4nI1727AJzrPi2ErDcD14vIOAAROVRE3uPzkVHADmC7iBwK/HvatjD3DUAHcLmITBWRkTjK5selmG2q6gDwE2CRiIxyr+OncWY04H1v3oczS0wnyLUchaNUt7m/vS9Eld+l0PUsdNxs2Ue5/b0ANIrIfwIHpzaKyEdF5BD3nkg92SdxrtkccWI0GtzfeJscWDjPuUbuvfFaILDHVqkxheC4ev0WWINjevD1jlHVJ3AWtm7CmSo/i2PfRFX3Ah90378E/DPOgp9XPwPAHJzFxvU4Nu6UZ8vvgaeBzSLyoo8on8d5Kn4Zx355Z9q28cDPcJTBSpyB+kfuto/jLLr93f3szyg8hc2mG8es8Fja+1E4U++oXIljinoc5xp+gwL3qKr+FMcP/k6cwf8enB9V+j7bcBb1ThMRv/iILwK3udP7jwSQ9TM43/8fXdPD73CePL34Eo6ZbTvwa9LuizD3jcsPcb7PPwBrcWZVnwogb1A+hTMDXQMsw7muP3S35dybqroCR9G9I62PL1L4Wv4XzuLyizgD4P+WQvgA17PQcW8APiSOB9KNOObX/8VZXF+Hc73TTXKnAk+LyA73s2ep6m5VfQ74AHA1jjJ5DudBIOFzHIB/AW5TJyYhFiTT1FZfiEgPzsLO7+KWxTBqFRF5N85C9xlxy1KruDPhPwP/pKpb4pLDAkQMw4iEqv4WZ5ZtFIk7KzgybjnMZGQYhmEAdW4yMgzDMA5gMwTDMAwDqLE1hNcNGaItw3zTvBguT47awcgmP5d4wzDqjR09O15U1YKptWtKIbQMG8YTM2fGLUbVM+SkLnYmdjB6+BhmjJ8RtziGYcRM17ld+aLf92Mmo0HIvofaaEjC9t3bWLa+pksrGIZRQUwhDFL2PdTG7HXCwEA/T21+Km5xDMOoAWJTCG4o92Pi5Al/WkS+FJcsg5UHe2aTXNTI9t2x5coyDKOGiHMNoQ84WVV3uNk4l4nI/Rqi8pIRgFmzmL2um266mD21LW5pDKMmGdkwkrMmn8WE4RNIVKlhJUmSTbs3cdf6u9gxsKOoPmJTCG562pTUQ9yXBUWUgQd7ZvOa5i6615pSMIxiOGvyWbzpsDfRNKqJzESq1YOqMvbVsZzFWSxZu6SoPmJVdW4WwKdwCnQ8oKqPeuyzQJwSdU+8sG9f5YUcJLz8aBuj90D32i5bUzCMkEwYPqGqlQGAiNA0qokJw8PmqzxArApBVQdUdQZwGHCciLzJY5/FqjpTVWceMmRI5YUcRKSUgnkfGUY4EiSqWhmkEJFIJq2qMIa56YkfxEkla5SRlx894H3U3RO1po1hGIOJOL2MDhGRMe7/w3Hy1T8Tlzz1RMr7CFVTCoZRQzzU+RCnHn8q7377u1l8w+KS9x/nDGEC8KCI/AWnIMoDqvqrGOWpL2bNInnDGFA185Fh1AADAwN8+bNf5ua7buZXD/+KX//i1zy76tmSHiM2haCqf1HVY1T1Lar6JlX9clyy1C0zZpBc1GjBa4ZRYu792ShOPmYaR407gpOPmca9PxsVuc+/rPgLk1smM6llEkOHDuX0M06n8/7OEkh7gKpYQzBiZNYsC14zjBJy789G8flPj2fjhiGoChs3DOHznx4fWSn0buplwqEHPIjGTxxP76beqOJmYArBcIPXhO61XXFLYhg1z/WLDmHP7syhdc/uBNcvKphsNHZMIRiAs9CcilMwxWAYxbPpee94X7/2oDRPaGbT85v2v9+8cTPNE5oj9ZmNKQRjPy8/2uZ4H4EpBcMokgmH9odqD8qbj3kz69auY8O6Dezdu5f77rmPk089OVKf2ZhCMDKZNYtkdxtgSsEwiuHyhS8wbHgyo23Y8CSXL3whUr+NjY18/muf54KPXMB7T3wvp73/NA4/8vBIfeYco6S9GYOGZHcbidlddPd0M7tldtziGEbNMOdDrwLOWsKm5xuZcGg/ly98YX97FGafMpvZp5Tv92gKwfAlpRSWrV/GrMmz4hbHMGqGOR96tSQKoNKYycjIS/KGMRanYBh1gikEIz9u8Nr23dtMKRjGIMcUglEYN07BgtcMY3BjCsEIxIM9sy14zTAGOaYQjMBY8JphDG5MIRihePnRNotTMIyYuPrSqznhqBOYc9KcsvRvCsEoiv1KweopGEbFOPOsM7n5rpvL1r8pBKNokt1tVmTHMDwYNfRepr3mZI4YexTTXnMyo4beW5J+337C2xn9mtEl6csLUwhGJKzIjmFkMmrovYwf9XmGNGxERBnSsJHxoz5fMqVQTkwhGNGYMcOC1wwjjUNGXE9C9mS0JWQPh4y4PiaJgmMKwYhOWvCazRSMeqcxsSlUezVhCsEoDW7w2sBAv60pGHVNf3JCqPZqwhSCUTJSwWuomkuqUbe8sPNykjosoy2pw3hh5+WR+/70gk8z77R5rH12LbPfMpuf3fGzyH2mY9lOjZLyYM9suGMZiYX9dK/tYvbUtrhFMoyK8ureOfCqs5bQmNhEf3ICL+y83GmPyLcXf7sEEvpjCsEoPbNmkbzhKRKXbTOlUKe0T+1l/rFrGDeijy07m1iyYhqda0tb7rGaeXXvnJIogEpjCsEoDzNmkOym7EV26n3gqUbap/Zy5QmrGNboVA0bP7KPK09YBWDfTZVjawhGWUkFry1bv4z2qb10zF1O58e76Ji7nPapvZH6Tg0840f2kZADA0/Ufo1ozD92zX5lkGJYY5L5x66JSaLoJEmiqnGLURBVJUmy8I4+2AzBKDvJG8Zw9pJtXH78SkYMddpK8dSYb+Dx6tNmE5Vh3Ii+UO21wKbdmxj76liaRjUhInGL44mq0vdqH5t2F+/eagrBKD8zZrB0ZhcMzWzON3gHIczAE9aMYcqjeLbsbGL8yNzvYMvOphikKQ13rb+LsziLCcMnkKhSw0qSJJt2b+Ku9XcV3YcpBKMyTPJujvLUGGbgCTObMBt4NJasmJZx/QD29CdYsmJajFJFY8fADpasXRK3GGXHFIJRGbY0wfjSPjWGGXjyzSY65i7PmAmENUXVEpWY+aT6sxlW7RGbQhCRScDtQDOgwGJVvSEueYwys2QaXLkKhh0YaHfuJdJTY5iBx282AexvT80EhjZ4L8rVsg0cKjvz6VzbbKa4GiTOGUI/cIWqrhCRUcCTIvKAqv49RpmMctHp/ujnr4FxfbCliQUP99Hx15XMnlr8gOA38GTjNZtIKiSy1geHNSbxcyZJVr+TSV7invmYKa76iW11RFU3qeoK9/9XgZXAoXHJY1SAzmaY1wrtbTCvlaU3tQGVqbzWubaZ6x6ZzuYdTSQVNu9oIqyvSEN1OpcEJm7vn8HojjrYqIo1BBFpAY4BHvXYtgBYADC5qXa9FAxvkt1tZQ9eS5E9m+iYu9zTjDSg0Ogx+PfWsJcMhFuEL4dpJ26FZBQmdv8pERkJ3A38m6q+kr1dVRer6kxVnXnIkCGVF9AoO/srr1U4Id6SFdPY05/5E9jTn+DeVRM922vZSwb8zzf7vMoV8OfnQFDL7qiDjVgVgogMwVEGS1X153HKYsTL/hrNFVQKXmak6x6Zzo2PHeHZXut2br/zzT6vcpl2giokIz4krnBsccL9bgNeUtV/C/KZmaNG6RMzZ5ZXMCNWErO7ACwhXgXJNg+NG9GXs9gOzqJ6++1tRfWZMjmZl1E8dJ3b9aSqFhw841xDOBH4GPBXEUnVXrxaVe+LUSYjZvavKViW1Irg5fnj500V1LRTyJvIFED1EqeX0TJVFVV9i6rOcF+mDIxYzEf1ipd5KCG5LrZhTDvmTVS7VIWXkVHHtPdmxCawZBp0NnvOFMzcUHr8PHwEZ42hmGtt3kS1iykEIz7aezOjl8f3Oe8hRyl8+eSjqjaoqZYVlZ8rau/OJubd3VrSPs2bqPqJ3e3UqGPmr8lIZQE47+cfMC2kzEcffcvKqjRD1HpNhuXPjc2JzFZ12oulnN5Epa6pYWRiCsGIj3E+JoSs9mR3G5NH++wasxmi1u3lrZO2kp3eX8RpL5ag7q1hqXXlWwuYyciID58MqGzJNS0knhOYnOv+ErcZohrs5VFMVuWSvxzeRHHnYqoHTCEY8eGRAZU9Cac9m9uPzNm3GoKa4raXR00Y90pfI2OG9Xu2x4mXkiuF8qrl9Z5KYCYjIz46m+G66bC5CZI4f6+bfiAzqs++SYWebVRF9HDc0bfRTVZ+ganxpXb1Mw290tfguX/Y+AgzOfljMwQjXjqbvRVAnn0TwLTZXUC01NmlIO5iMFGfmg9uGgjVXgn8lNye/kb29CeKrsRmJqfCmEIwapJqimiOM/o2qskqbpOXF37K7OCmfq556KiqWy8ZTJjJyKhZLKI5uskqbpOXF/myonaubWbe3a20397GvLtbQyliy7ZaGFMIRk0TVSnUul97VBfPcrmIRqFcSqoalV+1EVu202KwbKeGH8VkSW2f2stVJ65kaNpa5d4BuPbho8ymHDOXHreaOdM30iBOwaJ7V03kxseOiNxvvXoZ1UK2U8MoGcWsKVxy3OoMZQAwtMFpr4dBolppn9rLaYdvptF9mG8UOO3wzTz9wujI34tlW82PmYyMQUNY89FoH08av3ajMtR69HctYwrBGFTEsdBc6+sQ1YZ5A8WHKQRj0BFUKWz3icb1a/fCgp1Kj3kDxYcpBGNQEkQp3PTY4ewdyMzstndAuOmxwwMfx8wbpce8geLDFIIxaCmkFDrXNnPtw0dmuFxe+/CRoRYdzbxReqrRFbZeMC8jIzBLe9tZuGY+6/vGMblpC4umLeHs5s7yHMynklpYCnkfRfU6qcZI38GAeQPFQ8EZgojMERGbSdQ5S3vbWbDqStb1jUdJsK5vPAtWXcnS3vbSHyxVSW18n3OHupXUls18HS3LO0h0ddKyvCPwscu50Fyt5g1b6DaKIchA/8/AP0TkWhE5stwCGdXJwjXz2ZUcltG2KzmMhWvmR+p3aW977iDvU0lt8iWPFq2QyqUUqtG8YQvdRrEEilQWkYOBecB5OHlxbwE6VPXV8oqXiUUqx0eiqxP1eH4QkiTbipslpGYd6YrmoMQeduwbjtecNJkUGhoyFcWUps30tM7z7NvLvFVMRHOt0TF3uacZa/OO4uskG7VN0EjlQKYgVX0F+BlwFzABOBNYISKfiiSlUTNMbtoSqj0IfrOO5587zHP/9esn57b1jctpy2feqoeEeLbQbRRLkDWED4jIL4AuYAhwnKqeBrwVuKK84hnVwqJpSzgosSej7aDEHhZNW1J0n16DOcBnPvc1p3JaGrt2Dufqqxfl7OulkAqZt4pVCrVil8/nx18r52DEQ5AZwpnA9ar6ZlX9pqpuAVDVXcAFZZXOqBrObu5k8fTrmNK0GSHJlKbNLJ5+XSQvI7/ZxcM/f1dOJbUVX3wv//PjuRn7+SkkP0WT3h5WKbRP7eWKdzybYZe/4h3PVuWA6rfQvfy5sba2YOQlr0IQkQZgiqr+wWu7qpbJ59CoRs5u7qSndR7JtnZ6WudFdjnNO+vobIZ5rdDeBvNamfXEi4EVUlDzVhilcN7RGxnetC+jbXjTPs47emPBz1Yav4Xu1klbLYjOyEveOARVHRCRpIiMVtXtlRLKqA9Sg3nQ2IazmzsDKaFF05Z4LlZ7zSaCZkmd8JpXQrXHjZcf/9UnrfTc19YWjBRBAtN2AH8VkQeAnalGVb20bFIZdUPQQT5snxBc0QRRCuvXT6KlZb1ne61gQXRGIYKsIfwc+DzwB+DJtFdkROSHIrJFRP5Wiv4MI0VY81Yh89EXrvkMO3celNG2c+dBfOGaz5RC3IpQrUF0RvVQUCGo6m1erxId/1bg1BL1ZRh58QyCSyOfUnhcXmLBRd+hp2cKyaTQ0zOFBRd9h8flpQpIXhqqMYgOasd7qx4oGJgmIocDXwPeCOw3yqpqSR4rRKQF+JWqvqnQvhaYNggpUc6iQvgFwXktTPsFr/U+0s6au+fTt3UcTWO3MG3uEppPML+KKKSiqtMXu/f0J6pCUQ0mggamBVEIy4AvANcDc3CilROq+p+lELSQQhCRBcACgMlNTW9b12qRloOGVM6i9DQVexKOy2mJlULL8g7W9Y3PafeLdA4T0VyvdXpLgUVVV4ZSRioPd91LRVXXqeoXgfdGFTAoqrpYVWeq6sxDhgyp1GGNSuCTs4j5pXeDDBKbkE5Ql9RayxtUbeYZi6quLoJ4GfW52U7/ISKXAM8DI8srllEXjPP50fu1R2By0xbPGUK+1BtBvI/yFciptllCtnkmpbyAismaPZt6pa+RMcP6c/Yzz6d4CDJDuAw4CLgUeBvwMeCccgpl1AlbfH70fu0RKDb1RqGZQi094cZd3c1rNjVyaD/ZVmtVWP7c2IrIZGQSxMvocVXdoaobVPU8Vf2gqv6xFAcXkQ5gOTBdRDaIiKXCqCeWTMvJWcSehNNeYqKk3sinFGqp/m/cystLITUmQDKrmCICrZO2VkQmIxNfk5GI3IuT6toTVX1/1IOrau5qnlE/pBaOK+BlBNGC4JLdbQw5Kdd8tGTFNE8vmWr07Y87MC2M4qnGGVY9kG8N4bqKSWHUL53NZVMApWbfQ7lKIWV7rwUvo7iVl59C8tvXqDy+CkFVuyspiGHEQsg4iH0P5S4010r937iVl5dC2jsAIAxtOGCMqNYZVj1Q0Muo3IFphhEb2XEQbu1mIK9SCJoQrxqJU3n5KSSvtlpQsIOR2APTwmCRykYksmcDw/phzEDufpubnNTbBaiHcpzG4GDQBKYZRklIzQbG9zl3/fg+GO2hDCBwHEQ9lOM06gsLTDOiUaFcRJHxiooW713DxEEku9s4+5IuFrV3MXk0VWPysLxLRjEEUQjpgWlfAU7GAtMMKNoGHwt+T/1KpmIIGwfR3svS9yb2X4M4on+z6X2knVW3Xklyr7Pk17d1PKtuvRLAlIKRl1CBaTg1lM8tVWCaUeNUMBdRZPye+rc3ZtRuDp1Yz+MaxF2Wcs3d8/crgxTJvcNYc/f8mCQyaoUgXkZ3AhcCA8DjwMEicoOqfrPcwhlVTgVzEUVmyTTvzKo3HR5tNuNzrnEGVvVt9U7Y59duGCmCLCq/UVVfAc4A7gem4uQzMuqdCuYiikxns/P0H2U24IXPua6PsQJ501jvhH1+7YaRIohCGCIiQ3AUwi9VdR95UloYdUQFcxFVLT7XYGFnfN5H0+YuITE0M5FfYugeps3Nn8jPMIIsKv8A6AH+DPxBRKYAr5RTKKNG6Gxm2fajabnkj0yc9DwbnzuUnpuOZ9YTL8YtWS7lWgD3yce0tLOZjpiC11ILx0G9jKzAj5GiYGBazgdEBGhQ1dwk5mXGAtNKz9Ledhaumc/6vnFMbtrComlLAieA8ytLec74+7lva2ugPv2OH0UuTzqWO0ogm4BBaMVS7cFrfiUs7//HeFonbTUlMUgoWQnNasIUQi7lGNCDpoX2K0spJNE0a6Rfn/kUym2bTytaLk86u7wNpEmgva24PgMSh1II+tTvV8JSNTMt9d4B4dqHj6x5pVCvs6FSRiobVUpqQF3XNx4lwbq+8SxYdSVLe9sDfX7hmvkZgy7AruQwFq4J5p64rs/7h6RZt5Vfn37HX7xxTiS5vNixaXSo9lKSimieOLKrIuUrw5T19POGyq5RMLRBueS4f5RD3IpRa+VO48AUQsws7W2nZXkHia5OWpZ3+A7mXvtFHdDD1hnOlkFIeu7nxTqPPv2OM0BDKLmCcPXV17Bz50EZbTt3HsTVV19TdJ9hSDYexeI5VGQwClMZLUya6dFNFbcSl5S4K8bVAr4KQUQ+mO9VSSEHK0Gf8P3283tCDzpw+tUT9mr3kiF7JpCPBg/l4Xf8BrxzDOWrf1yIm26/kE98YjE9PVNIJoWenil84hOLuen2C4vuMxTz1zBiaGZTuQajMJXRlqyYxp7+zO+xhqzIoYi7YlwtkO8XPcd9XQD8N3C2+1oCnF9+0QY/QZ/w/faLOnCGqTPsJYN/MqBcvJ76/Y6/YOK9RdU/zsfkpi10dJzN1Kk9NDQkmTq1h46OsyMpmVBUMIAtTFnPzrXNXPfIdDbvaCKpsHlHk69CSNa4oqjiHIjQAAAfsklEQVSlcqdx4asQ3PrJ5wFDcILT5qrqXOBot82ISFCTjb9pJRFp4AxTZ9h/1pE9SniPGl7Ky+/43z3ixqLrH/sRRvmVBZ8AtnIMRl5P/fmKznSubWbe3a20397GvLtbc9YPUiSC6/+qZMmKaezuyxy6dvcNYflzYyuytlMLBIlDmKSqm9Le9wKTyyRPXTG5aYunl072U6vfflNcr6Io7plB6wz7yTC2cTsjG/bsP76zVpA7cgz4PHv4HT9K/WO/4wCldWUNg0fqjJ174YrflH6GELUyWq9PqcveEiivOL187lz6L6xcchiLvvxFJk9ez/r1k/n1/e/h/PNvYXjTPqA6khPGSZACOTcBhwMdbtM/A8+q6qfKLFsOg83t9OLVl/K9jWeQOYAqF028h+8eceP+lqjuoaUgqAx+rqhTmjbT0zqvIrJWLR6pwhP9K4HqilPwi0247pHpkQbJcvUblOVXdNC3NfPeXLu2hZaWdTn7bt7RxLy7yxefUmlK5naqqpcA3wfe6r4Wx6EMBiP3bW0l92la3PYDhDHtQHDPpTCc3dzJOePvp4F+QGmgn3PG358jQ+ymmWqms9kJgmtvc/52NldlkR2vdYVSDNpxe/l4JfebPHm95771utAcxGQEsAJ4VVV/JyIHicgoVX21nILVA2HcPoOaULKf5FMeSak+guAV7AZw86Y5DLi3zACN3LxpDieOfjqj33ymmZJHH5eRi1dfyuKNcxiggQYGWDDxXk4c/XQk+f3O/0c/+Qof3fhRurZPrppiNuWovRy3l0/T2C05M4T16yd7zhDqdaE5SPrrTwALgNcCrwcOxZkxRH/srHOCriGEIZ/nUlCFcv4zV7FXHR/JdX3jOf+Zq0ig9Gvm7dKvjVy4+tORFNXD248OnOaiUmSb8gZo5Hsbz+DmTXP2X4OwinZpbzvnrbyKfRy4ruetvIqHtx/NbZtPg2TxxWxqpTraFp+1iUoNvtPmLskoHASw8D+/yJKbF+xfQ4D8C/CDnSCO5P8KnIib0E5V/wFYYvUSUA7zSthgs2wu+8cl+5VBir06lD1ZbSl2DAzPeO8XM3HZ6ks8FdX3N36g6EjrcrF44xzmzbuTtWtbGBhIsHZtC/Pm3ZmjEPMFAWab7T75zOX7lUGKfQzl+xvfn3NdwhSzSVVHc558E/sVSu8j1fe8Ftb7qdQ0n9DJ9HOvo2nsZiBJ09jN/Gn4Br716BtKbh6rVQLVVFbVveL6oolII5b+uiSUw/Ml6qxja3+0VA5+M5RdeD8F+qW5KMcsIajJ6iPzfszNNy9gxIhdALS0rOPmmxcA0NFxdsa+6/vG5fR7+tjlGbmYnO/D+yfjF9wXtJhNvupo1TZLiOr9VAqaT+jMuS7lMI/VKkG8jK4FtgEfBz4FXAz8XVUXll+8TAabl1E5iOqRJF2/xzvgLLv4sLs/AyTb3rX/faKr02eQ8/68pwwkSbaV9gk3zHVZd8saprTkLjb29Exh6tSejLaxjdvYnRyW0W92cr/8+FyX0T3Iv00t6H3UdW4nfln72m6tvllC3Fhyu/wEuWs/C7wA/BX4JHBfqZSBiJwqIqtE5FkR+Wwp+qx3wnokZTO2wbvU11D68ApCu3DiLzNa/GYiYxu3M4S9Wa3euZDKET3sN3O5bPUlOR5ZkyY/5y1XlkfKQYk9oOT0Gyalx8iG3QyVzOsyVPZyx8Q7AMf76KnNT/l+3qqjBceS2xUmyJ37KVW9WVU/rKofUtWbReSyqAcWkQbgO8BpwBuBeSLyxqj9Go5S6GmdR7KtnZ7WeaHMLzcccVPOwD2EvfzwqOu4aOI9GW6n2fES4L8u8pFxD+ZEwDZKMudYqTWUUrvOeiXXA9g6MDpnDWP9+kme+65fPylH0b40cHAIKTIV6lDZy8eaf5OTKiL1PtndRkMStu/exrL1yzx7LFd1tN5H2ll+RQdd53ay/IqOqlyTCEvcbq+1QBCFcI5H27klOPZxOAFua1R1L3AX8IES9GtE4OzmTm456tqMge+Wo67l7OZOvnvEjfS3nYK2nUx/2yk5yiD1ea8Zyn1bW3MWq/u1kYMbd+XsC0RK6+2FV3I9h0wttSs5jIVXf9UzM+o1n/+PHEUbZjYzQjLP9YdHXst9W1s9F5tTi9X7Hmpj9B4YGOj3VApeC6XTz70u0vpBLS1UhyFut9dawHdRWUTmAf8CTBWRdLvAKOClEhz7UCB9br4BeEcJ+jUiEjVthNfnP7byas99X+o/mBdnnZnR1rK8I5LrrBd+KbW9uLPjoygJrrlm4f4UB1dfvYjf/uS9LD7pzox9Tx+73DPa3GtdYKcOZ09fE4qwoe91PLz96EBeYS8/2sY7W7rpntLPU5ufYsb4GRn7ei2URqGcC9Vx2vDjdnutBfJ5GT0CbAJeB3wrrf1V4C/lFCodEVmAEwfB5Cb74mqVMN5PUV1nvZjS1Ot5fD86Os7O8SgCpWV5R4aXkl+0uTeSEdj3vY1nMEJ2sVNH5OyZfV0e7JkNdywjsXBb4HMoFj8Pp6CeT35kp66odN6gJSumeabOqNeYAy/yZTtdp6pdqtqqqt1prxUlqqf8PJBurD3MbcuWY7GqzlTVmYcMqY8kq+VIPRE3YWIuwtRpCMrpY5fjtSjurIlkyuS3sC5o4JoU3llgcxXHLh3uuWbjGYsyaxaz10nZ01yUa6E6bht+uVJyDCYKriGIyPEi8riI7BCRvSIyICKvlODYjwOHi8hUERkKnAX8ssBnBj1Ry2JWK2G8n8oRsOf3JD+mYUeOTDcccVPO8b1cSXPrQxwg4faX6tcPRXIW2/3ST4MzUxi9p7y5j8q1UF0NNvzsVN+mDDIJEph2E85g/VNgJk48whFRD6yq/SJyCfAboAH4oao+HbXfWidq6olqJujaxNnNnTy8/eiMXEJeifTC4GduemngYF486UzPbenBZn5eSn4kkYzsrk58hzdekeH5vu+XH21jyElddK/tKkuW1NQ6QanTYZgNv/oJlNxOVZ8VkQZVHQBuEZE/AZ+LenBVvQ+4L2o/g4ly2M9rjaW97dy2+bQMe/ttm0/LSaQXhrAR3NnKyy+tdwMD++VMZ0pWv35rBX4U+r73PdRGYnZ5lUKpI53Nhl/9BHE73eWadJ4SkWtF5PKAnzOKoBz281ojaGnRMEQ1Q0Ut9/mDI68nkbVekaCfsY3e6xVBvu/01NndPd0F948bs+FXP0FmCB/DMelcAlyOsxA8t5xC1TOLpi3xTLFQT/UEyjFLipo3Kt/ng6TF9vs8EOn7Tna3wVNPkbjMCV6bNXlWoM/FheUNqm4KKgRVTSUL3w18qbziGLGXeqwCXtvwClsHxni2x0mYcp9+ifS8Pn/LpvfQue1AmpnWg/8a7vueMYPkDY5S8IpTMIygBPEyep+I/ElEXhKRV0Tk1RJ5GRk+REk9MSjwd+Mvmkp6b4U51sWrL3WVgex/dW6bycWrLw130BkzSC5qZPvubXlzHxlGPoKsBfwXTvqKsap6sKqOUtUwCVwMIxQv9XvfXn7tQfBNbveP3OR2UQmzBvKDje/Hyx3WaQ+JG6ewfXf5g9eMwUkQhfAc8DctlCfbMIrAKwivHAvrfusPW/tzk9tFVQph1kCSPj9Bv/ZCVCJOwRi8BLnrrgLuE5HPicinU69yC2YMfvxMK6ePXV7ywDR/ZeKR3C5gFbSU4shuf22jt0W1Up5iLz/aZkrBKIogCmERsAsYhpPYLvUyjEj4mVbu29oaOKo5aJoPv9QVXng9yfspr4tXX5rT/kr/QTkpMfzSUYyQXZ4y+LUH5eVHndTZphSMMARxO52oqm8quyRG3ZHPtBIkqjm7Clq+wvc/6X0nQZPQeT3J+ykvJ5o682fkpLPOVDYqCR7efnSO59EPjryej6/8LMm0PhL084Mjr/c77UAs7W3n0Gs7WNc3jq7R6xl+6ld5x2n/F6lPY/ATZIZwn4i8u+ySGDVJlER8UdcKwizebh3wqxWdOXD7mab8ktj5p9XOVDb96mQ3zZ5hANx+1NczZkO3H/X1SJ5l6bMZSMD2Fnb//Aa67z2s6D6N+iDIDOEi4EoR6QP24dzpap5GRpgndC+iBuGVKoBtStPmnHiB7DiCBEmSIWoqeOO9XlFq12IvRcm+EejvvsKytx5e9cFrRnwECUyz9QLDk6iJ+KIG4YXNT+RHehI68FZ0fusN4CixzOvgXSDHi3LkqPLrU7ZPZmDAu8iOYUAek5GIHOn+PdbrVTkRjXJy8epLaex6AOn6PY1dD4QKiPIbeNb1NQc2I0UJwitHmmzwecL2GeCnNPXmLICHoRyeR/lMcangNcPwIt8M4dM4lcq+5bFNgZPLIpFRMS5efWlG+cdUFS/As15yNn5P6KlCMhDejBSGMDOMsQ3bPdNhjJBdOVXQ/FNdZz/5K6ePXZ6zAO6f6jrz8+XKUZXXFNc8i9nruummPFlSjdpGCsWbicgwVd1TqK0SzBw1Sp+YObPwjkYgGrse8Ezd3EA//W2nFPx8tmkFvAvJgGOnzzbNVJKlve053jwwwFAZyKhHcFBiD3uSQwKvF3idl991FQaY3PRCRXJU+eVSSvGad3SxfRiMHj7GzEd1QNe5XU+qasHBM4iX0SMB24wiiLNcpp+HjF97tqxAjrnE7/GiGuo5NEoyqyWRU5xmV3JYqChhr/NaMPFevGIeLpz4y4rlqCpkiksFr23f7WRJNQzIv4YwXkTeBgwXkWPS1g/agIMqJuEgJu5ymQ0MBG73kxXIGHiyC8OkiLuew8I183MG/0jZ8ly8zuu7R9zIRRPvcYPTnLrNF028J5AZrpK8/Ggbs9cJAwP9NVFPwSg/+R6F3gNcBxyGs46Qen0auLr8og1+ylEIJgx+T7JOeyZBZS3XQq8fQWdYYWYoCZI55zBU9uYUuPGLPgZHKfS3nYK2nUx/2ynVowzae6FjOXR2QcdyHnz9kSQXNYKqKQXDXyGo6m2q+k7gXFU9WVXf6b7er6o/r6CMg5a4y2WGeZINKuvZzZ2B005EJcwMK8wMJUki5xwumPDrHJOTRJ9gVJb2XrhyFYzvc3754/uc9184nOQNY0DVzEd1TpBF5cuAW4BXgZuBY4HPqupvyy9eJoNtUdmvTm/cC7BelEvWQoufpZLJawEckng9E41t2MaLJ51Z9LGqlo7ljhLIZnMTzGvdX3nNFpoHH6VcVD5fVV8B3g2MxSmp+fWI8hlUr3nFi3LIGnUNJcwMy2vmMrLBx1HO48k/7tlcSRjnoQzS263ITt0TRCGkfh6nA7er6tOUYjXOqFrzSqVkjbqGEjYXUrbnzc6B7OAzB69CPOWo0VBxtjQVbk8rslPr5qP2qb10zF1O58e76Ji7nPapvXGLVPUEUQhPishvcRTCb0RkFM5c2ygBlSqXWYoF7FLLGvWpO+qsJcwgX+nZXFlYMg32ZP3k9ySc9jQe7Jl9wPuoRtNnt0/t5coTVjF+ZB8JgfEj+7jyhFWmFAoQRCFcAHwWeLuq7gKGAueVVSqj5FSjySPqU3fUWUuYQb6Ss7my0dkM10131gySOH+vm+60Z/Fgz2zH+4jarKkw/9g1DGvMfG4d1phk/rFrYpKoNgiS7VSBNwLvA74MjMAplmPUEKVKBFdKomY7BQLVTcj3WQieXC/KsaqGzmZPBeDJrFkkb3AWmrvXOqkueh9pZ83d8+nbOo6msVuYNncJzSdU3zUZN8J7vcSv3XAIMkP4LtAKpFwpXgW+UzaJjLJQCpNHqaOqS/HUHbSspZ+slTLZVQuhv8MZM0h2twHQ9cuJrLr1Svq2OnUW+raOZ9WtV9L7SOWi64OyZaf3eolfu+EQxO10haoeKyJ/UtVj3LY/q+pbKyJhGoPN7bTSRHHx9HLbPCixJ1aziZ9M54y/n9s2n1YxWaNc10oS9TuUP90C21ty2pvGbqb1W9XleptaQ0g3G+3pT3DdI9PpXJs5Q7r0uNXMmb6RBoEBhXtXTeTGx46otMhlJajbaRCF8ChwAvC4qxgOAX6bUg6VxBRCfFSjH76fTA30eyaXK4es1agoAScIbf4ax6V0SxMsmUbLV38f6TtMdHV6Ji6EJG23Vt8soX1qL/OPXcO4EX1s2dnEkhXTPJXBGUduzAgyVIV7nhlcSqGUcQg3Ar8AxonIImAZcE0U4UTkwyLytIgkRcRG+BqgGhel/Y7tl5yvHLLGnX7EE5+I5BM/+DvP3YNeF7/1pqax1el627m2mXl3t9J+exvz7m7NUQYAc6ZvzIk4F3Ha65GCCkFVlwJXAV8DNgFnqOpPIx73b8AHgT9E7MeoENXoh+93bL+kfeWQtZKKMrD9f/4aGJblGT4syTe+9jnP3T2vS1bOI9p7PdehEkP3MG1uDbneZtHgE1Hl1z7YCZTnV1WfUdXvqOpNqroy6kFVdaWqroraj1E5qtEP30+mBRPv9Ww/fezykqcar5SiDBVY6BORfOikDcG+Q58Zxtn/cud+JwBIwugeku8739PLqFaCwgZ8LOZ+7YOd4InfjbqmGv3w/WT67hE35rSnFppLnWq8UooylGnKJyJZtjQF+w59ZhjMX7PfK0vb2tFjzkPe3JETp1BLQWH3rppI9jKqugvL9UjBReWiOxb5HZC7ggULVfV/3H26gCtV9Yk8/SzAKeXJ5Kamt61rbS2DtMZgp5yL4pXwMvJb0BWSJNuylFrqCT99UN+T8A1Cy6Gzy/tRMQm0t+XKNrsLYH9Jzo65yxk/MneWsnlHE/Purr7fr3kZHSBIYFpRqOq7StTPYmAxOF5GpejTqD/KaeuvRMBaqMDC1KCf5WUUOCBtS5N3VlSfmUeyu43E7K79wWu1FhR242NHDDoFUCxmMjLqgmpcFA9DaNNUZ7OT0rq9zfkbVBlA4JxH6aSC17p7ui0orIaJRSGIyJkisgEnAvrXIvKbOOQw6odqXBQPQ0XXcELkPEon2d0Gqvz7b/eypz9zaNnTn2DJCn+FYlQHZTMZ5UNVf4ET22AYFSFs3qJqjD4um2nq0tUwZyM0AAPAvRPhxiPCzSpckjeMIXHZNgC++e6mvEFhRvVRtkXlcmCRykYlqNro4zB4RCp7DvCXroYzNmZWOFHgHlcpFMOyZSQW9lvltSqilJHKhlFXVGX0cRj8aie3e7h9ztmYW+5K3PZimTVrf+W1Wi+yU2+YQjCMLKoxTUco8sQR5OCd5cO/PShu5bVaLrJTj5hCMIwsat0jqWDt5HT8ah+WoCbigz2zD3gfVYlSqJUI6rgwhWAYWdS6R1Kg2skp+n2S9vi1F0G1KIVaiqCOC1MIg5AwRVBKXfSmmglTNKfa0nSEIkwcwVAfpxK/9iKpBqVgZTULE4vbqVE+sj1kUjl7gJwBLcy+tU7Yc62pcpleHkXXTS8+UrlM7I9o7ulmdsvs/e1B6haUglqLoI4DmyFUIVGe2sN4yNS8N00IBu25+nkUQbBI5e0+q8d+7RFJBa9193QDlTXjWAR1YUwhVBmh0hx7EMZDpua9aUKwrs97QPRrrxnCeBR5cdMRsDerba/bXiaSN4xxlMLaroqacZasmGYR1AUwhVBl+D3JXrb6kkCzhjAeMjXvTRMCv6I5fu01QxiPIsgtfANw7VGZaSquPaq85qUZM0gucqzV5TTjZHsUAVz3yHQ272giqU72Va8ay/WMKYQqw+/pfOvA6ECzhjAeMn77lqOQTNwM+Nzqfu01QxiPoqjmpVIyaxbJG8awfrv35qhmHD9TFFCwrGY9U+O/hsGH/9N5phugn/07jIeM177lKiQTN1N8rqtfe80QxqMoqnkpDB4lOHOYMYOWm45iZ5bJqhRmHPMoKg7zMqoyTh+7nO9tPIPc5DK5fuF+s4kwHjLZ+7Ys7/BdfK0ZrxsPFk1b4pmfqGZiC/wIU/sgrHmpWLIL9KTPRLLl6mxmBNBzyUomj6ZkXkbmUVQcphCqjPu2tuKdXCaXaigaX41ZQb0Im+20puhsDmbmCVn4pmjyzUS85OxspqWz2a281sfsqdHNOFt2NnlWbTOPovyYyajK8PfwyQwUKtfTbZiF5qgeUZUmVQ842dZOT+u8waEMwlBE4ZuiKHImUsrgNfMoKg5TCFWG34A8tnF74MjZKHEMYRaly+nb73UOF6++lMauB5Cu39PY9QAXr7408nHqiiIL34QmzEJ3FqVSCp1rm82jqAisHkKVETUXfyly+Qc1A4Uq/B4Cr3NolH76tYHstZWLJt7Dd4+4sehjGWUgew0BnJlICOXjmI9g9tS20stXhwSth2AKoQqJYpdvWd7hWYx9StNmelrnlVSuF/eOYqeOyNlvbMM2XjzpzKKP43cOXjTQT3/bKUUfyygTQQv05MGUQukIqhBsUbkKiZJHp1zRx0t72zln5WcZcG8ZZ8D2eZiImCgzjKwDkRP3G2Uh6EJ3HvbnPlrbZUqhQtgawiCjXNHHn3zm8v3K4ADeI/9L/QdHOtZrG18JvG/NRxobeamGLKn1hCmEQUa5cvnv1IMC7xvZHdbXipm9QVkw8d5oxzKqHlMKlcMUwiCj8rn8S+8O+9KA/wyjgX5AaaDfFpTrCFMKlcHWEAYh5cjlnyBJ0tNer0xp6i1psNfkpi0+C+O9kRfGjdrF1hTKj80QjEB8cuIv8TLZXDTxf0oe7FXzJSyNsmEzhfJiCsEIxHePuJGLJt5TEZNNzZewNMqKKYXyYXEIhmHUJBanEJygcQg2QzAMoyaxmULpMYVgGEbNYkqhtMSiEETkmyLyjIj8RUR+ISJj4pDDMIzax5RC6YhrhvAA8CZVfQuwGvhcTHIYhjEIMKVQGmJRCKr6W1Xtd9/+ETgsDjkMwxg8mFKITjWsIZwP3O+3UUQWiMgTIvLEC/v2VVAswzBqDVMK0SibQhCR34nI3zxeH0jbZyHQDyz160dVF6vqTFWdeciQIeUS1zCMQYIpheIpW+oKVX1Xvu0ici7wPqBdaykYwjCMqsfSXBRHXF5GpwJXAe9X1V1xyGAYxuDGZgrhiWsN4SZgFPCAiDwlIt+PSQ7DMAYxphTCEZeX0RtUdZKqznBfF8Yhh2EYgx9TCsGpBi8jwzCMsmJKIRimEAzDqAtMKRTGFIJhGHWDKYX8mEIwDKOuMKXgjykEwzDqDlMK3phCMAyjLjGlkIspBMMw6hZTCpmYQjAMo64xpXAAUwiGYdQ9phQcTCEYhmFgSgFMIRiGYeyn3pWCKQTDMIw06lkpmEIwDMPIol6VgikEwzAMD+pRKZhCMAzD8KHelIIpBMMwjDzUk1IwhWAYhlGAelEKphAMwzACUA9KwRSCYRhGQAa7UjCFYBiGEYLBrBRMIRiGYYQk2d1GQ3LwKQVR1bhlCIyIvACsi1uOEvE64MW4hSgTdm61iZ1b7RH0vKao6iGFdqophTCYEJEnVHVm3HKUAzu32sTOrfYo9XmZycgwDMMATCEYhmEYLqYQ4mNx3AKUETu32sTOrfYo6XnZGoJhGIYB2AzBMAzDcDGFYBiGYQCmEGJFRL4pIs+IyF9E5BciMiZumUqFiHxYRJ4WkaSI1Ly7n4icKiKrRORZEfls3PKUEhH5oYhsEZG/xS1LKRGRSSLyoIj83b0XL4tbplIhIsNE5DER+bN7bl8qRb+mEOLlAeBNqvoWYDXwuZjlKSV/Az4I/CFuQaIiIg3Ad4DTgDcC80TkjfFKVVJuBU6NW4gy0A9coapvBI4H/nUQfW99wMmq+lZgBnCqiBwftVNTCDGiqr9V1X737R+Bw+KUp5So6kpVXRW3HCXiOOBZVV2jqnuBu4APxCxTyVDVPwAvxS1HqVHVTaq6wv3/VWAlcGi8UpUGddjhvh3iviJ7CJlCqB7OB+6PWwjDk0OB59Leb2CQDCz1goi0AMcAj8YrSekQkQYReQrYAjygqpHPrTG6WEY+ROR3wHiPTQtV9X/cfRbiTG+XVlK2qAQ5N8OIGxEZCdwN/JuqvhK3PKVCVQeAGe7a4y9E5E2qGmkdyBRCmVHVd+XbLiLnAu8D2rXGgkIKndsg4nlgUtr7w9w2o8oRkSE4ymCpqv48bnnKgapuE5EHcdaBIikEMxnFiIicClwFvF9Vd8Utj+HL48DhIjJVRIYCZwG/jFkmowAiIsB/AytV9dtxy1NKROSQlFeiiAwHTgGeidqvKYR4uQkYBTwgIk+JyPfjFqhUiMiZIrIBaAV+LSK/iVumYnEX/i8BfoOzMPkTVX06XqlKh4h0AMuB6SKyQUQuiFumEnEi8DHgZPf39ZSInB63UCViAvCgiPwF54HlAVX9VdROLXWFYRiGAdgMwTAMw3AxhWAYhmEAphAMwzAMF1MIhmEYBmAKwTAMw3AxhWAYARGRM0REReTIuGUxjHJgCsEwgjMPWOb+NYxBhykEwwiAmw9nFnABTqQyIpIQke+6NS0eEJH7RORD7ra3iUi3iDwpIr8RkQkxim8YgTCFYBjB+ADwv6q6GtgqIm/DqffQglMj4WM4Udmp/Dn/D/iQqr4N+CGwKA6hDSMMltzOMIIxD7jB/f8u930j8FNVTQKb3QRjANOBN+GkJAFoADZVVlzDCI8pBMMogIi8FjgZeLOIKM4Ar8Av/D4CPK2qrRUS0TBKgpmMDKMwHwJ+pKpTVLVFVScBa3GqjM111xKagTZ3/1XAISKy34QkIkfHIbhhhMEUgmEUZh65s4G7cYoDbQD+DtwBrAC2u2U2PwR8Q0T+DDwFnFA5cQ2jOCzbqWFEQERGquoOERkLPAacqKqb45bLMIrB1hAMIxq/cguVDAW+YsrAqGVshmAYhmEAtoZgGIZhuJhCMAzDMABTCIZhGIaLKQTDMAwDMIVgGIZhuPx/7mHciliFAYoAAAAASUVORK5CYII=\n",
      "text/plain": [
       "<Figure size 432x288 with 1 Axes>"
      ]
     },
     "metadata": {
      "needs_background": "light"
     },
     "output_type": "display_data"
    },
    {
     "name": "stderr",
     "output_type": "stream",
     "text": [
      "'c' argument looks like a single numeric RGB or RGBA sequence, which should be avoided as value-mapping will have precedence in case its length matches with 'x' & 'y'.  Please use a 2-D array with a single row if you really want to specify the same RGB or RGBA value for all points.\n",
      "'c' argument looks like a single numeric RGB or RGBA sequence, which should be avoided as value-mapping will have precedence in case its length matches with 'x' & 'y'.  Please use a 2-D array with a single row if you really want to specify the same RGB or RGBA value for all points.\n"
     ]
    },
    {
     "data": {
      "image/png": "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\n",
      "text/plain": [
       "<Figure size 432x288 with 1 Axes>"
      ]
     },
     "metadata": {
      "needs_background": "light"
     },
     "output_type": "display_data"
    }
   ],
   "source": [
    "class SupportVector:\n",
    "    \n",
    "    def get_predictions(self,x):        \n",
    "        # getting prediction values\n",
    "        y_pred = classifier.predict(x)\n",
    "        return y_pred\n",
    "    \n",
    "    def create_confusion_matrix(self,y,y_pred):\n",
    "        # making confusion matrix\n",
    "        cm= confusion_matrix(y,y_pred)\n",
    "        return cm\n",
    "    \n",
    "    def get_accuracy(self,y_train,y_pred):\n",
    "        Accuracy = sklearn.metrics.balanced_accuracy_score(y_train,y_pred)*100\n",
    "        return Accuracy\n",
    "        \n",
    "    def visualize(self,y_pred,x,y):\n",
    "        # visualizing the training set result\n",
    "        \n",
    "        x1,x2=np.meshgrid(np.arange(start=x[:,0].min()-1,stop=x[:,0].max()+1,step=0.01),np.arange(start=x[:,1].min()-1,stop=x[:,1].max()+1,step=0.01 ))\n",
    "        plt.contourf(x1,x2,classifier.predict(np.array([x1.ravel(),x2.ravel()]).T).reshape(x1.shape),alpha=0.75,cmap=ListedColormap(('red','green')))\n",
    "        plt.xlim(x1.min(),x1.max())\n",
    "        plt.ylim(x2.min(),x2.max())\n",
    "        \n",
    "        for i,j in enumerate(np.unique(y)):\n",
    "            plt.scatter(x[y==j,0],x[y==j,1],c=ListedColormap(('red','green'))(i),label=j)\n",
    "        \n",
    "        plt.title('predict user will click the ad or not(train dataset)')\n",
    "        plt.xlabel('Age')\n",
    "        plt.ylabel('estimated salary')\n",
    "        plt.show()\n",
    "     \n",
    "    \n",
    "    \n",
    "    \n",
    "        \n",
    "def main():\n",
    "    # creates class object \n",
    "    obj = SupportVector()\n",
    "    y_pred_train = obj.get_predictions(x_train)\n",
    "    y_pred_test = obj.get_predictions(x_cv)\n",
    "    \n",
    "    cm_train=obj.create_confusion_matrix(y_train,y_pred_train)\n",
    "    print(\"train matrix\\n\",cm_train)\n",
    "    \n",
    "    cm_cv=obj.create_confusion_matrix(y_cv,y_pred_test)\n",
    "    print(\"cv matrix\\n\",cm_cv)\n",
    "    \n",
    "    acc_train = obj.get_accuracy(y_train,y_pred_train)\n",
    "    print(\"Accuracy of train data =\",acc_train)\n",
    "    \n",
    "    acc_test = obj.get_accuracy(y_cv,y_pred_test)\n",
    "    print(\"Accuracy of test data =\",acc_test)\n",
    "    \n",
    "    if acc_train >= 70 and acc_test >=  60:\n",
    "        fileObject = open(\"train_data.pkl\",'wb')\n",
    "        pickle.dump(classifier,fileObject)   \n",
    "        pickle.dump(sc,fileObject)\n",
    "        # here we close the fileObject\n",
    "        fileObject.close()\n",
    "\n",
    "    temp.visualization(y_pred_train,x_train,y_train,classifier)\n",
    "    temp.visualization(y_pred,x_cv,y_cv,classifier)\n",
    "    \n",
    "    \n",
    "if __name__ == '__main__':\n",
    "    main()"
   ]
  },
  {
   "cell_type": "code",
   "execution_count": 27,
   "metadata": {},
   "outputs": [
    {
     "data": {
      "image/png": "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
