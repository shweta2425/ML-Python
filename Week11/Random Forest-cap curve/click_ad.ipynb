 {
 "cells": [
  {
   "cell_type": "code",
   "execution_count": 36,
   "metadata": {
    "ExecuteTime": {
     "end_time": "2019-05-06T04:41:56.233513Z",
     "start_time": "2019-05-06T04:41:56.229099Z"
    }
   },
   "outputs": [],
   "source": [
    "# import libraries\n",
    "import pandas as pd\n",
    "import numpy as np\n",
    "from matplotlib import pyplot as plt\n",
    "from sklearn.model_selection import train_test_split \n",
    "import pickle\n",
    "import sklearn\n",
    "from sklearn.preprocessing import StandardScaler\n",
    "import warnings\n",
    "warnings.filterwarnings('ignore')\n",
    "from sklearn.metrics import confusion_matrix\n",
    "from matplotlib.colors import ListedColormap\n",
    "import importlib.util\n",
    "from sklearn.ensemble import RandomForestClassifier"
   ]
  },
  {
   "cell_type": "code",
   "execution_count": 37,
   "metadata": {
    "ExecuteTime": {
     "end_time": "2019-05-06T04:45:07.002977Z",
     "start_time": "2019-05-06T04:45:06.981492Z"
    }
   },
   "outputs": [],
   "source": [
    "# importing template file \n",
    "spec = importlib.util.spec_from_file_location(\"Template\", \"/home/admin1/PycharmProjects/ML/Week10/Template/template.py\")\n",
    "foo = importlib.util.module_from_spec(spec)\n",
    "spec.loader.exec_module(foo)\n",
    "# creating object of Template class\n",
    "temp = foo.Template()"
   ]
  },
  {
   "cell_type": "code",
   "execution_count": 38,
   "metadata": {
    "ExecuteTime": {
     "end_time": "2019-05-06T04:40:50.610564Z",
     "start_time": "2019-05-06T04:40:50.536875Z"
    }
   },
   "outputs": [
    {
     "data": {
      "text/html": [
       "<div>\n",
       "<style scoped>\n",
       "    .dataframe tbody tr th:only-of-type {\n",
       "        vertical-align: middle;\n",
       "    }\n",
       "\n",
       "    .dataframe tbody tr th {\n",
       "        vertical-align: top;\n",
       "    }\n",
       "\n",
       "    .dataframe thead th {\n",
       "        text-align: right;\n",
       "    }\n",
       "</style>\n",
       "<table border=\"1\" class=\"dataframe\">\n",
       "  <thead>\n",
       "    <tr style=\"text-align: right;\">\n",
       "      <th></th>\n",
       "      <th>User ID</th>\n",
       "      <th>Gender</th>\n",
       "      <th>Age</th>\n",
       "      <th>EstimatedSalary</th>\n",
       "      <th>Purchased</th>\n",
       "    </tr>\n",
       "  </thead>\n",
       "  <tbody>\n",
       "    <tr>\n",
       "      <th>0</th>\n",
       "      <td>15624510</td>\n",
       "      <td>Male</td>\n",
       "      <td>19</td>\n",
       "      <td>19000</td>\n",
       "      <td>0</td>\n",
       "    </tr>\n",
       "    <tr>\n",
       "      <th>1</th>\n",
       "      <td>15810944</td>\n",
       "      <td>Male</td>\n",
       "      <td>35</td>\n",
       "      <td>20000</td>\n",
       "      <td>0</td>\n",
       "    </tr>\n",
       "    <tr>\n",
       "      <th>2</th>\n",
       "      <td>15668575</td>\n",
       "      <td>Female</td>\n",
       "      <td>26</td>\n",
       "      <td>43000</td>\n",
       "      <td>0</td>\n",
       "    </tr>\n",
       "    <tr>\n",
       "      <th>3</th>\n",
       "      <td>15603246</td>\n",
       "      <td>Female</td>\n",
       "      <td>27</td>\n",
       "      <td>57000</td>\n",
       "      <td>0</td>\n",
       "    </tr>\n",
       "    <tr>\n",
       "      <th>4</th>\n",
       "      <td>15804002</td>\n",
       "      <td>Male</td>\n",
       "      <td>19</td>\n",
       "      <td>76000</td>\n",
       "      <td>0</td>\n",
       "    </tr>\n",
       "  </tbody>\n",
       "</table>\n",
       "</div>"
      ],
      "text/plain": [
       "    User ID  Gender  Age  EstimatedSalary  Purchased\n",
       "0  15624510    Male   19            19000          0\n",
       "1  15810944    Male   35            20000          0\n",
       "2  15668575  Female   26            43000          0\n",
       "3  15603246  Female   27            57000          0\n",
       "4  15804002    Male   19            76000          0"
      ]
     },
     "execution_count": 38,
     "metadata": {},
     "output_type": "execute_result"
    }
   ],
   "source": [
    "# read file\n",
    "df=temp.read_file('Data/Social_Network_Ads.csv')\n",
    "df.head()"
   ]
  },
  {
   "cell_type": "code",
   "execution_count": 39,
   "metadata": {
    "ExecuteTime": {
     "end_time": "2019-05-06T04:40:50.620362Z",
     "start_time": "2019-05-06T04:40:50.612511Z"
    }
   },
   "outputs": [
    {
     "data": {
      "text/plain": [
       "(400, 5)"
      ]
     },
     "execution_count": 39,
     "metadata": {},
     "output_type": "execute_result"
    }
   ],
   "source": [
    "df.shape"
   ]
  },
  {
   "cell_type": "code",
   "execution_count": 40,
   "metadata": {
    "ExecuteTime": {
     "end_time": "2019-05-06T04:40:50.631315Z",
     "start_time": "2019-05-06T04:40:50.622129Z"
    }
   },
   "outputs": [
    {
     "name": "stdout",
     "output_type": "stream",
     "text": [
      "<class 'pandas.core.frame.DataFrame'>\n",
      "RangeIndex: 400 entries, 0 to 399\n",
      "Data columns (total 5 columns):\n",
      "User ID            400 non-null int64\n",
      "Gender             400 non-null object\n",
      "Age                400 non-null int64\n",
      "EstimatedSalary    400 non-null int64\n",
      "Purchased          400 non-null int64\n",
      "dtypes: int64(4), object(1)\n",
      "memory usage: 15.7+ KB\n"
     ]
    }
   ],
   "source": [
    "df.info()"
   ]
  },
  {
   "cell_type": "code",
   "execution_count": 41,
   "metadata": {
    "ExecuteTime": {
     "end_time": "2019-05-06T04:40:50.663180Z",
     "start_time": "2019-05-06T04:40:50.633013Z"
    }
   },
   "outputs": [
    {
     "data": {
      "text/html": [
       "<div>\n",
       "<style scoped>\n",
       "    .dataframe tbody tr th:only-of-type {\n",
       "        vertical-align: middle;\n",
       "    }\n",
       "\n",
       "    .dataframe tbody tr th {\n",
       "        vertical-align: top;\n",
       "    }\n",
       "\n",
       "    .dataframe thead th {\n",
       "        text-align: right;\n",
       "    }\n",
       "</style>\n",
       "<table border=\"1\" class=\"dataframe\">\n",
       "  <thead>\n",
       "    <tr style=\"text-align: right;\">\n",
       "      <th></th>\n",
       "      <th>User ID</th>\n",
       "      <th>Age</th>\n",
       "      <th>EstimatedSalary</th>\n",
       "      <th>Purchased</th>\n",
       "    </tr>\n",
       "  </thead>\n",
       "  <tbody>\n",
       "    <tr>\n",
       "      <th>count</th>\n",
       "      <td>4.000000e+02</td>\n",
       "      <td>400.000000</td>\n",
       "      <td>400.000000</td>\n",
       "      <td>400.000000</td>\n",
       "    </tr>\n",
       "    <tr>\n",
       "      <th>mean</th>\n",
       "      <td>1.569154e+07</td>\n",
       "      <td>37.655000</td>\n",
       "      <td>69742.500000</td>\n",
       "      <td>0.357500</td>\n",
       "    </tr>\n",
       "    <tr>\n",
       "      <th>std</th>\n",
       "      <td>7.165832e+04</td>\n",
       "      <td>10.482877</td>\n",
       "      <td>34096.960282</td>\n",
       "      <td>0.479864</td>\n",
       "    </tr>\n",
       "    <tr>\n",
       "      <th>min</th>\n",
       "      <td>1.556669e+07</td>\n",
       "      <td>18.000000</td>\n",
       "      <td>15000.000000</td>\n",
       "      <td>0.000000</td>\n",
       "    </tr>\n",
       "    <tr>\n",
       "      <th>25%</th>\n",
       "      <td>1.562676e+07</td>\n",
       "      <td>29.750000</td>\n",
       "      <td>43000.000000</td>\n",
       "      <td>0.000000</td>\n",
       "    </tr>\n",
       "    <tr>\n",
       "      <th>50%</th>\n",
       "      <td>1.569434e+07</td>\n",
       "      <td>37.000000</td>\n",
       "      <td>70000.000000</td>\n",
       "      <td>0.000000</td>\n",
       "    </tr>\n",
       "    <tr>\n",
       "      <th>75%</th>\n",
       "      <td>1.575036e+07</td>\n",
       "      <td>46.000000</td>\n",
       "      <td>88000.000000</td>\n",
       "      <td>1.000000</td>\n",
       "    </tr>\n",
       "    <tr>\n",
       "      <th>max</th>\n",
       "      <td>1.581524e+07</td>\n",
       "      <td>60.000000</td>\n",
       "      <td>150000.000000</td>\n",
       "      <td>1.000000</td>\n",
       "    </tr>\n",
       "  </tbody>\n",
       "</table>\n",
       "</div>"
      ],
      "text/plain": [
       "            User ID         Age  EstimatedSalary   Purchased\n",
       "count  4.000000e+02  400.000000       400.000000  400.000000\n",
       "mean   1.569154e+07   37.655000     69742.500000    0.357500\n",
       "std    7.165832e+04   10.482877     34096.960282    0.479864\n",
       "min    1.556669e+07   18.000000     15000.000000    0.000000\n",
       "25%    1.562676e+07   29.750000     43000.000000    0.000000\n",
       "50%    1.569434e+07   37.000000     70000.000000    0.000000\n",
       "75%    1.575036e+07   46.000000     88000.000000    1.000000\n",
       "max    1.581524e+07   60.000000    150000.000000    1.000000"
      ]
     },
     "execution_count": 41,
     "metadata": {},
     "output_type": "execute_result"
    }
   ],
   "source": [
    "df.describe()"
   ]
  },
  {
   "cell_type": "code",
   "execution_count": 42,
   "metadata": {
    "ExecuteTime": {
     "end_time": "2019-05-06T04:40:50.671693Z",
     "start_time": "2019-05-06T04:40:50.664798Z"
    }
   },
   "outputs": [
    {
     "data": {
      "text/plain": [
       "User ID            0\n",
       "Gender             0\n",
       "Age                0\n",
       "EstimatedSalary    0\n",
       "Purchased          0\n",
       "dtype: int64"
      ]
     },
     "execution_count": 42,
     "metadata": {},
     "output_type": "execute_result"
    }
   ],
   "source": [
    "# checks for null values\n",
    "df.isnull().sum()"
   ]
  },
  {
   "cell_type": "code",
   "execution_count": 43,
   "metadata": {
    "ExecuteTime": {
     "end_time": "2019-05-06T04:40:50.684226Z",
     "start_time": "2019-05-06T04:40:50.673595Z"
    }
   },
   "outputs": [
    {
     "data": {
      "text/plain": [
       "0"
      ]
     },
     "execution_count": 43,
     "metadata": {},
     "output_type": "execute_result"
    }
   ],
   "source": [
    "# checks for duplicate values\n",
    "df.duplicated().sum()"
   ]
  },
  {
   "cell_type": "code",
   "execution_count": 44,
   "metadata": {
    "ExecuteTime": {
     "end_time": "2019-05-06T04:40:50.696392Z",
     "start_time": "2019-05-06T04:40:50.686200Z"
    }
   },
   "outputs": [
    {
     "data": {
      "text/plain": [
       "Index(['User ID', 'Gender', 'Age', 'EstimatedSalary', 'Purchased'], dtype='object')"
      ]
     },
     "execution_count": 44,
     "metadata": {},
     "output_type": "execute_result"
    }
   ],
   "source": [
    "df.columns"
   ]
  },
  {
   "cell_type": "code",
   "execution_count": 45,
   "metadata": {
    "ExecuteTime": {
     "end_time": "2019-05-06T04:40:50.707517Z",
     "start_time": "2019-05-06T04:40:50.697958Z"
    }
   },
   "outputs": [],
   "source": [
    "df = df[['Age','EstimatedSalary','Purchased']]"
   ]
  },
  {
   "cell_type": "code",
   "execution_count": 46,
   "metadata": {
    "ExecuteTime": {
     "end_time": "2019-05-06T04:40:50.721050Z",
     "start_time": "2019-05-06T04:40:50.709353Z"
    }
   },
   "outputs": [],
   "source": [
    "train,test=temp.split(df,0.3)"
   ]
  },
  {
   "cell_type": "code",
   "execution_count": 47,
   "metadata": {
    "ExecuteTime": {
     "end_time": "2019-05-06T04:40:50.737991Z",
     "start_time": "2019-05-06T04:40:50.722985Z"
    }
   },
   "outputs": [
    {
     "name": "stdout",
     "output_type": "stream",
     "text": [
      "train (280, 3)\n",
      "test (120, 3)\n"
     ]
    }
   ],
   "source": [
    "print(\"train\",train.shape)\n",
    "print(\"test\",test.shape)"
   ]
  },
  {
   "cell_type": "code",
   "execution_count": 48,
   "metadata": {
    "ExecuteTime": {
     "end_time": "2019-05-06T04:40:50.783180Z",
     "start_time": "2019-05-06T04:40:50.770365Z"
    }
   },
   "outputs": [],
   "source": [
    "# saving datasets into csv filesS\n",
    "temp.save_csv(test,'test_data.csv')\n",
    "temp.save_csv(train,'train_data.csv')\n"
   ]
  },
  {
   "cell_type": "code",
   "execution_count": 49,
   "metadata": {
    "ExecuteTime": {
     "end_time": "2019-05-06T04:40:50.798290Z",
     "start_time": "2019-05-06T04:40:50.784971Z"
    }
   },
   "outputs": [
    {
     "data": {
      "text/html": [
       "<div>\n",
       "<style scoped>\n",
       "    .dataframe tbody tr th:only-of-type {\n",
       "        vertical-align: middle;\n",
       "    }\n",
       "\n",
       "    .dataframe tbody tr th {\n",
       "        vertical-align: top;\n",
       "    }\n",
       "\n",
       "    .dataframe thead th {\n",
       "        text-align: right;\n",
       "    }\n",
       "</style>\n",
       "<table border=\"1\" class=\"dataframe\">\n",
       "  <thead>\n",
       "    <tr style=\"text-align: right;\">\n",
       "      <th></th>\n",
       "      <th>Age</th>\n",
       "      <th>EstimatedSalary</th>\n",
       "      <th>Purchased</th>\n",
       "    </tr>\n",
       "  </thead>\n",
       "  <tbody>\n",
       "    <tr>\n",
       "      <th>0</th>\n",
       "      <td>40</td>\n",
       "      <td>57000</td>\n",
       "      <td>0</td>\n",
       "    </tr>\n",
       "    <tr>\n",
       "      <th>1</th>\n",
       "      <td>59</td>\n",
       "      <td>76000</td>\n",
       "      <td>1</td>\n",
       "    </tr>\n",
       "    <tr>\n",
       "      <th>2</th>\n",
       "      <td>58</td>\n",
       "      <td>101000</td>\n",
       "      <td>1</td>\n",
       "    </tr>\n",
       "    <tr>\n",
       "      <th>3</th>\n",
       "      <td>40</td>\n",
       "      <td>65000</td>\n",
       "      <td>0</td>\n",
       "    </tr>\n",
       "    <tr>\n",
       "      <th>4</th>\n",
       "      <td>29</td>\n",
       "      <td>28000</td>\n",
       "      <td>0</td>\n",
       "    </tr>\n",
       "  </tbody>\n",
       "</table>\n",
       "</div>"
      ],
      "text/plain": [
       "   Age  EstimatedSalary  Purchased\n",
       "0   40            57000          0\n",
       "1   59            76000          1\n",
       "2   58           101000          1\n",
       "3   40            65000          0\n",
       "4   29            28000          0"
      ]
     },
     "execution_count": 49,
     "metadata": {},
     "output_type": "execute_result"
    }
   ],
   "source": [
    "# loading training data csv file\n",
    "train_df = temp.read_file('train_data.csv')\n",
    "train_df.head()"
   ]
  },
  {
   "cell_type": "code",
   "execution_count": 50,
   "metadata": {
    "ExecuteTime": {
     "end_time": "2019-05-06T04:40:50.804809Z",
     "start_time": "2019-05-06T04:40:50.800323Z"
    }
   },
   "outputs": [],
   "source": [
    "# splitting training data into train and cross validation dataset \n",
    "train_data,cv_data=temp.split(train_df,0.3)"
   ]
  },
  {
   "cell_type": "code",
   "execution_count": 51,
   "metadata": {
    "ExecuteTime": {
     "end_time": "2019-05-06T04:40:50.820722Z",
     "start_time": "2019-05-06T04:40:50.806667Z"
    }
   },
   "outputs": [],
   "source": [
    "# saving cross validation data into csv file\n",
    "temp.save_csv(cv_data,'cv_data.csv')"
   ]
  },
  {
   "cell_type": "code",
   "execution_count": 52,
   "metadata": {
    "ExecuteTime": {
     "end_time": "2019-05-06T04:40:50.841397Z",
     "start_time": "2019-05-06T04:40:50.822737Z"
    }
   },
   "outputs": [],
   "source": [
    "# separating features and labels of training dataset\n",
    "x_train=train_data.iloc[:,[0,1]].values\n",
    "y_train=train_data.iloc[:,2].values\n"
   ]
  },
  {
   "cell_type": "code",
   "execution_count": 53,
   "metadata": {
    "ExecuteTime": {
     "end_time": "2019-05-06T04:40:50.857525Z",
     "start_time": "2019-05-06T04:40:50.845295Z"
    }
   },
   "outputs": [],
   "source": [
    "# feature scaling\n",
    "sc=StandardScaler()\n",
    "x_train=sc.fit_transform(x_train)"
   ]
  },
  {
   "cell_type": "code",
   "execution_count": 54,
   "metadata": {
    "ExecuteTime": {
     "end_time": "2019-05-06T04:40:50.895564Z",
     "start_time": "2019-05-06T04:40:50.861417Z"
    }
   },
   "outputs": [
    {
     "data": {
      "text/plain": [
       "RandomForestClassifier(bootstrap=True, class_weight=None, criterion='entropy',\n",
       "            max_depth=None, max_features='auto', max_leaf_nodes=None,\n",
       "            min_impurity_decrease=0.0, min_impurity_split=None,\n",
       "            min_samples_leaf=1, min_samples_split=2,\n",
       "            min_weight_fraction_leaf=0.0, n_estimators=20, n_jobs=None,\n",
       "            oob_score=False, random_state=0, verbose=0, warm_start=False)"
      ]
     },
     "execution_count": 54,
     "metadata": {},
     "output_type": "execute_result"
    }
   ],
   "source": [
    "# fit model\n",
    "classifier = RandomForestClassifier(n_estimators=20,criterion='entropy',random_state=0)  \n",
    "classifier.fit(x_train,y_train)"
   ]
  },
  {
   "cell_type": "code",
   "execution_count": 55,
   "metadata": {
    "ExecuteTime": {
     "end_time": "2019-05-06T04:40:50.914529Z",
     "start_time": "2019-05-06T04:40:50.899853Z"
    }
   },
   "outputs": [
    {
     "data": {
      "text/html": [
       "<div>\n",
       "<style scoped>\n",
       "    .dataframe tbody tr th:only-of-type {\n",
       "        vertical-align: middle;\n",
       "    }\n",
       "\n",
       "    .dataframe tbody tr th {\n",
       "        vertical-align: top;\n",
       "    }\n",
       "\n",
       "    .dataframe thead th {\n",
       "        text-align: right;\n",
       "    }\n",
       "</style>\n",
       "<table border=\"1\" class=\"dataframe\">\n",
       "  <thead>\n",
       "    <tr style=\"text-align: right;\">\n",
       "      <th></th>\n",
       "      <th>Actual</th>\n",
       "      <th>Predicted</th>\n",
       "    </tr>\n",
       "  </thead>\n",
       "  <tbody>\n",
       "    <tr>\n",
       "      <th>0</th>\n",
       "      <td>1</td>\n",
       "      <td>1</td>\n",
       "    </tr>\n",
       "    <tr>\n",
       "      <th>1</th>\n",
       "      <td>0</td>\n",
       "      <td>0</td>\n",
       "    </tr>\n",
       "    <tr>\n",
       "      <th>2</th>\n",
       "      <td>0</td>\n",
       "      <td>0</td>\n",
       "    </tr>\n",
       "    <tr>\n",
       "      <th>3</th>\n",
       "      <td>0</td>\n",
       "      <td>0</td>\n",
       "    </tr>\n",
       "    <tr>\n",
       "      <th>4</th>\n",
       "      <td>0</td>\n",
       "      <td>0</td>\n",
       "    </tr>\n",
       "  </tbody>\n",
       "</table>\n",
       "</div>"
      ],
      "text/plain": [
       "   Actual  Predicted\n",
       "0       1          1\n",
       "1       0          0\n",
       "2       0          0\n",
       "3       0          0\n",
       "4       0          0"
      ]
     },
     "execution_count": 55,
     "metadata": {},
     "output_type": "execute_result"
    }
   ],
   "source": [
    "y_pred = classifier.predict(x_train)\n",
    "df = pd.DataFrame({'Actual': y_train, 'Predicted': y_pred})  \n",
    "df.head()"
   ]
  },
  {
   "cell_type": "code",
   "execution_count": 56,
   "metadata": {
    "ExecuteTime": {
     "end_time": "2019-05-06T04:40:50.925767Z",
     "start_time": "2019-05-06T04:40:50.918435Z"
    }
   },
   "outputs": [
    {
     "name": "stdout",
     "output_type": "stream",
     "text": [
      "[[119   0]\n",
      " [  0  77]]\n"
     ]
    }
   ],
   "source": [
    "# making confusion matrix\n",
    "cm= confusion_matrix(y_train,y_pred)\n",
    "print(cm)"
   ]
  },
  {
   "cell_type": "code",
   "execution_count": 57,
   "metadata": {
    "ExecuteTime": {
     "end_time": "2019-05-06T04:40:50.944475Z",
     "start_time": "2019-05-06T04:40:50.929615Z"
    }
   },
   "outputs": [
    {
     "data": {
      "text/html": [
       "<div>\n",
       "<style scoped>\n",
       "    .dataframe tbody tr th:only-of-type {\n",
       "        vertical-align: middle;\n",
       "    }\n",
       "\n",
       "    .dataframe tbody tr th {\n",
       "        vertical-align: top;\n",
       "    }\n",
       "\n",
       "    .dataframe thead th {\n",
       "        text-align: right;\n",
       "    }\n",
       "</style>\n",
       "<table border=\"1\" class=\"dataframe\">\n",
       "  <thead>\n",
       "    <tr style=\"text-align: right;\">\n",
       "      <th></th>\n",
       "      <th>Age</th>\n",
       "      <th>EstimatedSalary</th>\n",
       "      <th>Purchased</th>\n",
       "    </tr>\n",
       "  </thead>\n",
       "  <tbody>\n",
       "    <tr>\n",
       "      <th>0</th>\n",
       "      <td>28</td>\n",
       "      <td>79000</td>\n",
       "      <td>0</td>\n",
       "    </tr>\n",
       "    <tr>\n",
       "      <th>1</th>\n",
       "      <td>27</td>\n",
       "      <td>88000</td>\n",
       "      <td>0</td>\n",
       "    </tr>\n",
       "    <tr>\n",
       "      <th>2</th>\n",
       "      <td>28</td>\n",
       "      <td>89000</td>\n",
       "      <td>0</td>\n",
       "    </tr>\n",
       "    <tr>\n",
       "      <th>3</th>\n",
       "      <td>26</td>\n",
       "      <td>30000</td>\n",
       "      <td>0</td>\n",
       "    </tr>\n",
       "    <tr>\n",
       "      <th>4</th>\n",
       "      <td>44</td>\n",
       "      <td>39000</td>\n",
       "      <td>0</td>\n",
       "    </tr>\n",
       "  </tbody>\n",
       "</table>\n",
       "</div>"
      ],
      "text/plain": [
       "   Age  EstimatedSalary  Purchased\n",
       "0   28            79000          0\n",
       "1   27            88000          0\n",
       "2   28            89000          0\n",
       "3   26            30000          0\n",
       "4   44            39000          0"
      ]
     },
     "execution_count": 57,
     "metadata": {},
     "output_type": "execute_result"
    }
   ],
   "source": [
    "# loading cross validation dataset file\n",
    "cv_data = temp.read_file('cv_data.csv')\n",
    "cv_data.head()"
   ]
  },
  {
   "cell_type": "code",
   "execution_count": 58,
   "metadata": {
    "ExecuteTime": {
     "end_time": "2019-05-06T04:40:50.950401Z",
     "start_time": "2019-05-06T04:40:50.946496Z"
    }
   },
   "outputs": [],
   "source": [
    "# separate labels and features of cross validation dataset\n",
    "x_cv=cv_data.iloc[:,[0,1]].values\n",
    "y_cv=cv_data.iloc[:,2].values"
   ]
  },
  {
   "cell_type": "code",
   "execution_count": 59,
   "metadata": {
    "ExecuteTime": {
     "end_time": "2019-05-06T04:40:50.962524Z",
     "start_time": "2019-05-06T04:40:50.952429Z"
    }
   },
   "outputs": [],
   "source": [
    "# feature scaling\n",
    "x_cv=sc.fit_transform(x_cv)"
   ]
  },
  {
   "cell_type": "code",
   "execution_count": 60,
   "metadata": {
    "ExecuteTime": {
     "end_time": "2019-05-06T04:40:52.270381Z",
     "start_time": "2019-05-06T04:40:50.966200Z"
    }
   },
   "outputs": [
    {
     "name": "stdout",
     "output_type": "stream",
     "text": [
      "train matrix\n",
      " [[119   0]\n",
      " [  0  77]]\n",
      "cv matrix\n",
      " [[48 12]\n",
      " [ 2 22]]\n",
      "Accuracy of train data = 100.0\n",
      "Accuracy of test data = 85.83333333333334\n"
     ]
    },
    {
     "name": "stderr",
     "output_type": "stream",
     "text": [
      "'c' argument looks like a single numeric RGB or RGBA sequence, which should be avoided as value-mapping will have precedence in case its length matches with 'x' & 'y'.  Please use a 2-D array with a single row if you really want to specify the same RGB or RGBA value for all points.\n",
      "'c' argument looks like a single numeric RGB or RGBA sequence, which should be avoided as value-mapping will have precedence in case its length matches with 'x' & 'y'.  Please use a 2-D array with a single row if you really want to specify the same RGB or RGBA value for all points.\n"
     ]
    },
    {
     "data": {
      "image/png": "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\n",
      "text/plain": [
       "<Figure size 432x288 with 1 Axes>"
      ]
     },
     "metadata": {
      "needs_background": "light"
     },
     "output_type": "display_data"
    },
    {
     "name": "stderr",
     "output_type": "stream",
     "text": [
      "'c' argument looks like a single numeric RGB or RGBA sequence, which should be avoided as value-mapping will have precedence in case its length matches with 'x' & 'y'.  Please use a 2-D array with a single row if you really want to specify the same RGB or RGBA value for all points.\n",
      "'c' argument looks like a single numeric RGB or RGBA sequence, which should be avoided as value-mapping will have precedence in case its length matches with 'x' & 'y'.  Please use a 2-D array with a single row if you really want to specify the same RGB or RGBA value for all points.\n"
     ]
    },
    {
     "data": {
      "image/png": "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\n",
      "text/plain": [
       "<Figure size 432x288 with 1 Axes>"
      ]
     },
     "metadata": {
      "needs_background": "light"
     },
     "output_type": "display_data"
    }
   ],
   "source": [
    "class RandomForest:\n",
    "    \n",
    "    def get_predictions(self,x):        \n",
    "        # getting prediction values\n",
    "        y_pred = classifier.predict(x)\n",
    "        return y_pred\n",
    "    \n",
    "    def create_confusion_matrix(self,y,y_pred):\n",
    "        # making confusion matrix\n",
    "        cm= confusion_matrix(y,y_pred)\n",
    "        return cm\n",
    "    \n",
    "    def get_accuracy(self,y_train,y_pred):\n",
    "        Accuracy = sklearn.metrics.balanced_accuracy_score(y_train,y_pred)*100\n",
    "        return Accuracy\n",
    "        \n",
    "    def visualize(self,y_pred,x,y):\n",
    "        # visualizing the training set result\n",
    "        \n",
    "        x1,x2=np.meshgrid(np.arange(start=x[:,0].min()-1,stop=x[:,0].max()+1,step=0.01),np.arange(start=x[:,1].min()-1,stop=x[:,1].max()+1,step=0.01 ))\n",
    "        plt.contourf(x1,x2,classifier.predict(np.array([x1.ravel(),x2.ravel()]).T).reshape(x1.shape),alpha=0.75,cmap=ListedColormap(('red','green')))\n",
    "        plt.xlim(x1.min(),x1.max())\n",
    "        plt.ylim(x2.min(),x2.max())\n",
    "        \n",
    "        for i,j in enumerate(np.unique(y)):\n",
    "            plt.scatter(x[y==j,0],x[y==j,1],c=ListedColormap(('pink','green'))(i),label=j)\n",
    "        \n",
    "        plt.title('predict user will click the ad or not(train dataset)')\n",
    "        plt.xlabel('Age')\n",
    "        plt.ylabel('estimated salary')\n",
    "        plt.show()\n",
    "        temp\n",
    "        \n",
    "def main():\n",
    "    # creates class object \n",
    "    obj = RandomForest()\n",
    "    y_pred_train = obj.get_predictions(x_train)\n",
    "    y_pred_test = obj.get_predictions(x_cv)\n",
    "    \n",
    "    cm_train=obj.create_confusion_matrix(y_train,y_pred_train)\n",
    "    print(\"train matrix\\n\",cm_train)\n",
    "    \n",
    "    cm_cv=obj.create_confusion_matrix(y_cv,y_pred_test)\n",
    "    print(\"cv matrix\\n\",cm_cv)\n",
    "    \n",
    "    acc_train = obj.get_accuracy(y_train,y_pred_train)\n",
    "    print(\"Accuracy of train data =\",acc_train)\n",
    "    \n",
    "    acc_test = obj.get_accuracy(y_cv,y_pred_test)\n",
    "    print(\"Accuracy of test data =\",acc_test)\n",
    "    \n",
    "    if acc_train >= 70 and acc_test >=  60:\n",
    "        fileObject = open(\"train_data.pkl\",'wb')\n",
    "        pickle.dump(classifier,fileObject)   \n",
    "        pickle.dump(sc,fileObject)\n",
    "        # here we close the fileObject\n",
    "        fileObject.close()\n",
    "\n",
    "    temp.visualization(y_pred_train,x_train,y_train,classifier)\n",
    "    temp.visualization(y_pred,x_cv,y_cv,classifier)\n",
    "    \n",
    "    \n",
    "    \n",
    "if __name__ == '__main__':\n",
    "    main()"
   ]
  },
  {
   "cell_type": "code",
   "execution_count": 61,
   "metadata": {},
   "outputs": [
    {
     "data": {
      "text/plain": [
       "[<matplotlib.lines.Line2D at 0x7f1ecf0537f0>]"
      ]
     },
     "execution_count": 61,
     "metadata": {},
     "output_type": "execute_result"
    },
    {
     "data": {
      "image/png": "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
