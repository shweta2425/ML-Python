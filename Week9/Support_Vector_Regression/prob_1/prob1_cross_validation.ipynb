{
 "cells": [
  {
   "cell_type": "code",
   "execution_count": 40,
   "metadata": {},
   "outputs": [],
   "source": [
    "import os\n",
    "import pandas as pd\n",
    "import pandas.api.types as ptypes\n",
    "import numpy as np\n",
    "import seaborn as sb\n",
    "from matplotlib import pyplot as plt\n",
    "from sklearn.preprocessing import StandardScaler\n",
    "from sklearn.model_selection import train_test_split\n",
    "from sklearn.svm import SVR\n",
    "import warnings\n",
    "warnings.filterwarnings('ignore')\n",
    "from sklearn.metrics import *\n",
    "import pickle\n",
    "import csv\n",
    "from sklearn.metrics import accuracy_score"
   ]
  },
  {
   "cell_type": "code",
   "execution_count": 41,
   "metadata": {},
   "outputs": [
    {
     "data": {
      "text/html": [
       "<div>\n",
       "<style scoped>\n",
       "    .dataframe tbody tr th:only-of-type {\n",
       "        vertical-align: middle;\n",
       "    }\n",
       "\n",
       "    .dataframe tbody tr th {\n",
       "        vertical-align: top;\n",
       "    }\n",
       "\n",
       "    .dataframe thead th {\n",
       "        text-align: right;\n",
       "    }\n",
       "</style>\n",
       "<table border=\"1\" class=\"dataframe\">\n",
       "  <thead>\n",
       "    <tr style=\"text-align: right;\">\n",
       "      <th></th>\n",
       "      <th>x</th>\n",
       "      <th>y</th>\n",
       "    </tr>\n",
       "  </thead>\n",
       "  <tbody>\n",
       "    <tr>\n",
       "      <th>0</th>\n",
       "      <td>0.174078</td>\n",
       "      <td>-0.350339</td>\n",
       "    </tr>\n",
       "    <tr>\n",
       "      <th>1</th>\n",
       "      <td>0.870388</td>\n",
       "      <td>0.177810</td>\n",
       "    </tr>\n",
       "    <tr>\n",
       "      <th>2</th>\n",
       "      <td>0.522233</td>\n",
       "      <td>-0.174289</td>\n",
       "    </tr>\n",
       "  </tbody>\n",
       "</table>\n",
       "</div>"
      ],
      "text/plain": [
       "          x         y\n",
       "0  0.174078 -0.350339\n",
       "1  0.870388  0.177810\n",
       "2  0.522233 -0.174289"
      ]
     },
     "execution_count": 41,
     "metadata": {},
     "output_type": "execute_result"
    }
   ],
   "source": [
    "dataset1 = pd.read_csv(\"CSV_file/cv_data.csv\")\n",
    "x =dataset1.iloc[:,:-1].values\n",
    "y =dataset1.iloc[:,1].values\n",
    "dataset1.head()"
   ]
  },
  {
   "cell_type": "code",
   "execution_count": 42,
   "metadata": {},
   "outputs": [
    {
     "name": "stdout",
     "output_type": "stream",
     "text": [
      "The train data has 3 rows and 2 columns\n"
     ]
    }
   ],
   "source": [
    "# check for num of rows and cols\n",
    "\n",
    "print ('The train data has {0} rows and {1} columns'.format(dataset1.shape[0],dataset1.shape[1]))"
   ]
  },
  {
   "cell_type": "code",
   "execution_count": 43,
   "metadata": {},
   "outputs": [
    {
     "name": "stdout",
     "output_type": "stream",
     "text": [
      "pred_cv [-0.36617206  0.28557658 -0.14115569]\n",
      "Accuracy Train 94.08579187489256\n"
     ]
    }
   ],
   "source": [
    "class cross_validation_svm():\n",
    "\n",
    "    def load(self):\n",
    "        # dump train model pickle file\n",
    "        file = open('trainmodel.pkl', 'rb')\n",
    "        pickle_in = pickle.load(file)\n",
    "    \n",
    "    def predict(self,x):\n",
    "        # predicting the test set result and train set result\n",
    "\n",
    "        y_pred = pickle_in.predict(x)\n",
    "        print(\"pred_cv\",y_pred)\n",
    "        \n",
    "    def accuracy(self,y,y_pred):\n",
    "        Accuracy = r2_score(y_pred_cv,y)*100\n",
    "        print(\"Accuracy Train\",Accuracy)\n",
    "    \n",
    "        \n",
    "def main(x,y):\n",
    "    \n",
    "    object_SVM =  cross_validation_svm()\n",
    "    \n",
    "    object_SVM.load()    \n",
    "      \n",
    "    y_pred = object_SVM.predict(x)\n",
    "        \n",
    "    Accuracy = object_SVM.accuracy(y,y_pred)\n",
    "    \n",
    "        \n",
    "    \n",
    "main(x,y)\n",
    "    \n",
    "\n",
    "        "
   ]
  },
  {
   "cell_type": "code",
   "execution_count": 44,
   "metadata": {},
   "outputs": [
    {
     "name": "stdout",
     "output_type": "stream",
     "text": [
      "\n",
      " visualising using SVR \n",
      " \n"
     ]
    },
    {
     "data": {
      "image/png": "[encoded data removed]",
      "text/plain": [
       "<Figure size 432x288 with 1 Axes>"
      ]
     },
     "metadata": {
      "needs_background": "light"
     },
     "output_type": "display_data"
    },
    {
     "name": "stdout",
     "output_type": "stream",
     "text": [
      "\n",
      " visualising Regression Model \n",
      " \n"
     ]
    },
    {
     "data": {
      "image/png": "[encoded data removed]",
      "text/plain": [
       "<Figure size 432x288 with 1 Axes>"
      ]
     },
     "metadata": {
      "needs_background": "light"
     },
     "output_type": "display_data"
    }
   ],
   "source": [
    "# visualising the training set results\n",
    "\n",
    "print(\"\\n visualising using SVR \\n \")\n",
    "plt.scatter(x, y , color = 'pink')\n",
    "plt.plot(x, y_pred_cv, color = 'red')\n",
    "plt.title(\"Truth or Bulff(SVR)\")\n",
    "plt.xlabel(\"Position Level\")\n",
    "plt.ylabel(\"Salary\")\n",
    "plt.show()\n",
    "        \n",
    "print(\"\\n visualising Regression Model \\n \")\n",
    "plt.scatter(x, y, color ='red')\n",
    "plt.plot(x, y_pred_cv, color ='green')\n",
    "plt.title('Truth or Bluff (Reg Model)')\n",
    "plt.xlabel('Position level')\n",
    "plt.ylabel('Salary')\n",
    "plt.show()"
   ]
  },
  {
   "cell_type": "code",
   "execution_count": null,
   "metadata": {},
   "outputs": [],
   "source": []
  },
  {
   "cell_type": "code",
   "execution_count": null,
   "metadata": {},
   "outputs": [],
   "source": []
  }
 ],
 "metadata": {
  "kernelspec": {
   "display_name": "Python 3",
   "language": "python",
   "name": "python3"
  },
  "language_info": {
   "codemirror_mode": {
    "name": "ipython",
    "version": 3
   },
   "file_extension": ".py",
   "mimetype": "text/x-python",
   "name": "python",
   "nbconvert_exporter": "python",
   "pygments_lexer": "ipython3",
   "version": "3.7.2"
  }
 },
 "nbformat": 4,
 "nbformat_minor": 2
}
