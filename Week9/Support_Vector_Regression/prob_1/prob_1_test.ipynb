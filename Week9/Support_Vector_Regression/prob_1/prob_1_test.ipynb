{
 "cells": [
  {
   "cell_type": "code",
   "execution_count": 1,
   "metadata": {},
   "outputs": [],
   "source": [
    "import os\n",
    "import pandas as pd\n",
    "import pandas.api.types as ptypes\n",
    "import numpy as np\n",
    "import seaborn as sb\n",
    "from matplotlib import pyplot as plt\n",
    "from sklearn.preprocessing import Imputer\n",
    "from sklearn.model_selection import train_test_split\n",
    "from sklearn.linear_model import LinearRegression\n",
    "from sklearn.metrics import *\n",
    "import pickle\n",
    "import csv\n",
    "\n",
    "\n",
    "\n",
    "from sklearn.metrics import accuracy_score"
   ]
  },
  {
   "cell_type": "code",
   "execution_count": 2,
   "metadata": {},
   "outputs": [
    {
     "data": {
      "text/html": [
       "<div>\n",
       "<style scoped>\n",
       "    .dataframe tbody tr th:only-of-type {\n",
       "        vertical-align: middle;\n",
       "    }\n",
       "\n",
       "    .dataframe tbody tr th {\n",
       "        vertical-align: top;\n",
       "    }\n",
       "\n",
       "    .dataframe thead th {\n",
       "        text-align: right;\n",
       "    }\n",
       "</style>\n",
       "<table border=\"1\" class=\"dataframe\">\n",
       "  <thead>\n",
       "    <tr style=\"text-align: right;\">\n",
       "      <th></th>\n",
       "      <th>x</th>\n",
       "      <th>y</th>\n",
       "    </tr>\n",
       "  </thead>\n",
       "  <tbody>\n",
       "    <tr>\n",
       "      <th>0</th>\n",
       "      <td>-0.870388</td>\n",
       "      <td>-0.667228</td>\n",
       "    </tr>\n",
       "    <tr>\n",
       "      <th>1</th>\n",
       "      <td>1.218544</td>\n",
       "      <td>0.882008</td>\n",
       "    </tr>\n",
       "    <tr>\n",
       "      <th>2</th>\n",
       "      <td>-0.174078</td>\n",
       "      <td>-0.491178</td>\n",
       "    </tr>\n",
       "    <tr>\n",
       "      <th>3</th>\n",
       "      <td>1.566699</td>\n",
       "      <td>2.642503</td>\n",
       "    </tr>\n",
       "  </tbody>\n",
       "</table>\n",
       "</div>"
      ],
      "text/plain": [
       "          x         y\n",
       "0 -0.870388 -0.667228\n",
       "1  1.218544  0.882008\n",
       "2 -0.174078 -0.491178\n",
       "3  1.566699  2.642503"
      ]
     },
     "execution_count": 2,
     "metadata": {},
     "output_type": "execute_result"
    }
   ],
   "source": [
    "# splitting x y data\n",
    "\n",
    "dataset1 = pd.read_csv(\"CSV_file/test_data.csv\")\n",
    "x =dataset1.iloc[:,:-1].values\n",
    "y =dataset1.iloc[:,1].values\n",
    "dataset1.head()"
   ]
  },
  {
   "cell_type": "code",
   "execution_count": 3,
   "metadata": {},
   "outputs": [
    {
     "name": "stdout",
     "output_type": "stream",
     "text": [
      "The train data has 4 rows and 2 columns\n"
     ]
    }
   ],
   "source": [
    "# check for num of rows and cols\n",
    "\n",
    "print ('The train data has {0} rows and {1} columns'.format(dataset1.shape[0],dataset1.shape[1]))"
   ]
  },
  {
   "cell_type": "code",
   "execution_count": 4,
   "metadata": {},
   "outputs": [
    {
     "name": "stdout",
     "output_type": "stream",
     "text": [
      "x train data shape (4, 1)\n",
      "y train data shape (4,)\n"
     ]
    }
   ],
   "source": [
    "#shape of x train and y train \n",
    "\n",
    "print(\"x train data shape\",x.shape)\n",
    "print(\"y train data shape\",y.shape)"
   ]
  },
  {
   "cell_type": "code",
   "execution_count": 5,
   "metadata": {},
   "outputs": [],
   "source": [
    "# load pickle file\n",
    "\n",
    "file = open('trainmodel.pkl', 'rb')\n",
    "pickle_in = pickle.load(file)"
   ]
  },
  {
   "cell_type": "code",
   "execution_count": 6,
   "metadata": {},
   "outputs": [
    {
     "name": "stdout",
     "output_type": "stream",
     "text": [
      "pred_cv [-0.56788994  0.78226531 -0.44690338  1.08559794]\n",
      "\n",
      " visualising using SVR \n",
      " \n"
     ]
    },
    {
     "data": {
      "image/png": "[encoded data removed]",
      "text/plain": [
       "<Figure size 432x288 with 1 Axes>"
      ]
     },
     "metadata": {
      "needs_background": "light"
     },
     "output_type": "display_data"
    },
    {
     "name": "stdout",
     "output_type": "stream",
     "text": [
      "\n",
      " visualising Regression Model \n",
      " \n"
     ]
    },
    {
     "data": {
      "image/png": "[encoded data removed]",
      "text/plain": [
       "<Figure size 432x288 with 1 Axes>"
      ]
     },
     "metadata": {
      "needs_background": "light"
     },
     "output_type": "display_data"
    },
    {
     "name": "stdout",
     "output_type": "stream",
     "text": [
      "\n",
      "\n",
      " ACCURACY \n",
      "\n",
      "\n",
      "\n",
      " Accuracy of explained_variance_score : 12.077409471328004\n",
      "\n",
      " Accuracy of mean_absolute_error : 54.9934852259518\n"
     ]
    }
   ],
   "source": [
    "class Test_Support_Vector_Regression:\n",
    "    # predicting the test set result and train set result\n",
    "\n",
    "    def predict(self,x,pickle_in):\n",
    "        y_pred = pickle_in.predict(x)\n",
    "        print(\"pred_cv\",y_pred)\n",
    "        return y_pred\n",
    "    \n",
    "    # visualising the training set results\n",
    "    \n",
    "    def visualising(self,x,y,y_pred):\n",
    "        print(\"\\n visualising using SVR \\n \")\n",
    "        plt.scatter(x, y , color = 'pink')\n",
    "        plt.plot(x, y_pred, color = 'red')\n",
    "        plt.title(\"Truth or Bulff(SVR)\")\n",
    "        plt.xlabel(\"Position Level\")\n",
    "        plt.ylabel(\"Salary\")\n",
    "        plt.show()\n",
    "        \n",
    "        print(\"\\n visualising Regression Model \\n \")\n",
    "        plt.scatter(x, y, color ='red')\n",
    "        plt.plot(x, y_pred, color ='green')\n",
    "        plt.title('Truth or Bluff (Reg Model)')\n",
    "        plt.xlabel('Position level')\n",
    "        plt.ylabel('Salary')\n",
    "        plt.show()\n",
    "    \n",
    "    # Accuracy for train and test\n",
    "    \n",
    "    def Accuracy(self,y,y_pred):\n",
    "        \n",
    "        print(\"\\n\\n ACCURACY \\n\\n\")\n",
    "        Accuracy1 = explained_variance_score(y_pred,y) * 100# -4\n",
    "        print(\"\\n Accuracy of explained_variance_score :\", Accuracy1)\n",
    "       \n",
    "        error = mean_absolute_error(y, y_pred) # 125\n",
    "        Accuracy2 = (1 -error) * 100\n",
    "        print(\"\\n Accuracy of mean_absolute_error :\", Accuracy2)\n",
    "        \n",
    "        return Accuracy1,Accuracy2\n",
    "    \n",
    "def main(dataset1,x,y):\n",
    "    obj = Test_Support_Vector_Regression()\n",
    "    \n",
    "    y_pred = obj.predict(x,pickle_in)\n",
    "    \n",
    "    obj.visualising(x,y,y_pred)\n",
    "    \n",
    "    Accuracy1,Accuracy2 = obj.Accuracy(y,y_pred)\n",
    "    \n",
    "main(dataset1,x,y)\n",
    "        \n",
    "        \n",
    "        "
   ]
  },
  {
   "cell_type": "code",
   "execution_count": null,
   "metadata": {},
   "outputs": [],
   "source": []
  },
  {
   "cell_type": "code",
   "execution_count": null,
   "metadata": {},
   "outputs": [],
   "source": []
  }
 ],
 "metadata": {
  "kernelspec": {
   "display_name": "Python 3",
   "language": "python",
   "name": "python3"
  },
  "language_info": {
   "codemirror_mode": {
    "name": "ipython",
    "version": 3
   },
   "file_extension": ".py",
   "mimetype": "text/x-python",
   "name": "python",
   "nbconvert_exporter": "python",
   "pygments_lexer": "ipython3",
   "version": "3.7.2"
  }
 },
 "nbformat": 4,
 "nbformat_minor": 2
}
