{
 "cells": [
  {
   "cell_type": "code",
   "execution_count": 16,
   "metadata": {},
   "outputs": [],
   "source": [
    "import os\n",
    "import pandas as pd\n",
    "import pandas.api.types as ptypes\n",
    "import numpy as np\n",
    "import seaborn as sb\n",
    "from matplotlib import pyplot as plt\n",
    "from sklearn.preprocessing import StandardScaler\n",
    "from sklearn.model_selection import train_test_split\n",
    "from sklearn.svm import SVR\n",
    "import warnings\n",
    "warnings.filterwarnings('ignore')\n",
    "from sklearn.metrics import *\n",
    "import pickle\n",
    "import csv\n",
    "from sklearn.metrics import accuracy_score"
   ]
  },
  {
   "cell_type": "code",
   "execution_count": 17,
   "metadata": {},
   "outputs": [
    {
     
     "data": {
      "text/html": [
       "<div>\n",
       "<style scoped>\n",
       "    .dataframe tbody tr th:only-of-type {\n",
       "        vertical-align: middle;\n",
       "    }\n",
       "\n",
       "    .dataframe tbody tr th {\n",
       "        vertical-align: top;\n",
       "    }\n",
       "\n",
       "    .dataframe thead th {\n",
       "        text-align: right;\n",
       "    }\n",
       "</style>\n",
       "<table border=\"1\" class=\"dataframe\">\n",
       "  <thead>\n",
       "    <tr style=\"text-align: right;\">\n",
       "      <th></th>\n",
       "      <th>Position</th>\n",
       "      <th>Level</th>\n",
       "      <th>Salary</th>\n",
       "    </tr>\n",
       "  </thead>\n",
       "  <tbody>\n",
       "    <tr>\n",
       "      <th>0</th>\n",
       "      <td>Business Analyst</td>\n",
       "      <td>1</td>\n",
       "      <td>45000</td>\n",
       "    </tr>\n",
       "    <tr>\n",
       "      <th>1</th>\n",
       "      <td>Junior Consultant</td>\n",
       "      <td>2</td>\n",
       "      <td>50000</td>\n",
       "    </tr>\n",
       "    <tr>\n",
       "      <th>2</th>\n",
       "      <td>Senior Consultant</td>\n",
       "      <td>3</td>\n",
       "      <td>60000</td>\n",
       "    </tr>\n",
       "    <tr>\n",
       "      <th>3</th>\n",
       "      <td>Manager</td>\n",
       "      <td>4</td>\n",
       "      <td>80000</td>\n",
       "    </tr>\n",
       "    <tr>\n",
       "      <th>4</th>\n",
       "      <td>Country Manager</td>\n",
       "      <td>5</td>\n",
       "      <td>110000</td>\n",
       "    </tr>\n",
       "  </tbody>\n",
       "</table>\n",
       "</div>"
      ],
      "text/plain": [
       "            Position  Level  Salary\n",
       "0   Business Analyst      1   45000\n",
       "1  Junior Consultant      2   50000\n",
       "2  Senior Consultant      3   60000\n",
       "3            Manager      4   80000\n",
       "4    Country Manager      5  110000"
      ]
     },
     "execution_count": 17,
     "metadata": {},
     "output_type": "execute_result"
    }
   ],
   "source": [
    "# Import dataset\n",
    "\n",
    "dataset = pd.read_csv(\"Position_Salaries.csv\")\n",
    "dataset.head()"
   ]
  },
  {
   "cell_type": "code",
   "execution_count": 18,
   "metadata": {},
   "outputs": [],
   "source": [
    "# Divide data into features and label\n",
    "\n",
    "y_data_set = np.array(pd.DataFrame(dataset.Salary))\n",
    "x_data_set = np.array(dataset[\"Level\"])"
   ]
  },
  {
   "cell_type": "code",
   "execution_count": 19,
   "metadata": {},
   "outputs": [],
   "source": [
    "sc_x = StandardScaler()\n",
    "sc_y = StandardScaler()\n",
    "\n",
    "x = sc_x.fit_transform(x_data_set.reshape(-1, 1) )\n",
    "y = sc_y.fit_transform(y_data_set.reshape(-1, 1) )"
   ]
  },
  {
   "cell_type": "code",
   "execution_count": 20,
   "metadata": {},
   "outputs": [
    {
     "name": "stdout",
     "output_type": "stream",
     "text": [
      "shape of x data (10, 1)\n",
      "shape of y data (10, 1)\n"
     ]
    }
   ],
   "source": [
    "print(\"shape of x data\",x.shape)\n",
    "print(\"shape of y data\",y.shape)"
   ]
  },
  {
   "cell_type": "code",
   "execution_count": 21,
   "metadata": {},
   "outputs": [],
   "source": [
    "os.mkdir(\"CSV_file\")\n",
    "def csv_file(x_train_data,y_train_data,file_name):\n",
    "    #load data to csv file\n",
    "    myData = x_train_data\n",
    "   \n",
    "    myFile = open('CSV_file/'+file_name, 'w')  \n",
    "    with myFile:\n",
    "        writer = csv.writer(myFile)\n",
    "        writer.writerows(myData)\n",
    "   \n",
    "    colnames=['x'] \n",
    "    df = pd.read_csv('CSV_file/'+file_name, names=colnames, header=None)\n",
    "    # inserting column with static value in data frame \n",
    "    df.insert(1, \"y\", y_train_data)\n",
    "   \n",
    "    df.to_csv('CSV_file/'+file_name, index =  False)"
   ]
  },
  {
   "cell_type": "code",
   "execution_count": 22,
   "metadata": {},
   "outputs": [],
   "source": [
    "def splitdata(x, y):\n",
    "    \n",
    "    x_train_data,x_test_data,y_train_data,y_test_data = train_test_split(x,y,test_size = 1/3, random_state=0)\n",
    "    \n",
    "    csv_file(x_test_data,y_test_data,'test_data.csv')\n",
    "\n",
    "    x_train_data, x_cv_data, y_train_data, y_cv_data = train_test_split(x_train_data,y_train_data,test_size = 0.40,random_state=0)\n",
    "    \n",
    "    csv_file(x_train_data,y_train_data,'train_data.csv')\n",
    "    csv_file(x_cv_data,y_cv_data,'cv_data.csv') \n",
    "#     return x_train_data,x_test_data,y_train_data,y_test_data,x_cv_data,y_cv_data\n",
    "splitdata(x, y)"
   ]
  },
  {
   "cell_type": "code",
   "execution_count": 23,
   "metadata": {},
   "outputs": [
    {
     "data": {
      "text/plain": [
       "(3, 2)"
      ]
     },
     "execution_count": 23,
     "metadata": {},
     "output_type": "execute_result"
    }
   ],
   "source": [
    "dataset1 = pd.read_csv(\"CSV_file/train_data.csv\")\n",
    "\n",
    "dataset1.shape"
   ]
  },
  {
   "cell_type": "code",
   "execution_count": 24,
   "metadata": {},
   "outputs": [
    {
     "name": "stdout",
     "output_type": "stream",
     "text": [
      "x_train shape (10, 1)\n",
      "y_train shape (10, 1)\n"
     ]
    }
   ],
   "source": [
    "print(\"x_train shape\",x.shape)\n",
    "print(\"y_train shape\",y.shape)"
   ]
  },
  {
   "cell_type": "code",
   "execution_count": 25,
   "metadata": {},
   "outputs": [],
   "source": [
    "# regressor = SVR(kernel= 'rbf')\n",
    "# regressor.fit(x,y)"
   ]
  },
  {
   "cell_type": "code",
   "execution_count": 26,
   "metadata": {},
   "outputs": [
    {
     "name": "stdout",
     "output_type": "stream",
     "text": [
      "\n",
      " Regressor :  SVR(C=1.0, cache_size=200, coef0=0.0, degree=3, epsilon=0.1,\n",
      "  gamma='auto_deprecated', kernel='rbf', max_iter=-1, shrinking=True,\n",
      "  tol=0.001, verbose=False)\n",
      "\n",
      "\n",
      " Prediction \n",
      "\n",
      " \n",
      "\n",
      " prediction of y train data :  [-0.6197853  -0.62924694 -0.56788994 -0.49732233 -0.44690338 -0.36617206\n",
      " -0.14115569  0.28557658  0.78226531  1.08559794]\n",
      "\n",
      "\n",
      " ACCURACY \n",
      "\n",
      "\n",
      "\n",
      " Accuracy of explained_variance_score : 31.6301491644453\n",
      "\n",
      " Accuracy of mean_absolute_error : 77.70072590426558\n",
      "\n",
      " visualising using SVR \n",
      " \n"
     ]
    },
    {
     "data": {
      "image/png": "[encoded data removed]",
      "text/plain": [
       "<Figure size 432x288 with 1 Axes>"
      ]
     },
     "metadata": {
      "needs_background": "light"
     },
     "output_type": "display_data"
    },
    {
     "name": "stdout",
     "output_type": "stream",
     "text": [
      "\n",
      " visualising Regression Model \n",
      " \n"
     ]
    },
    {
     "data": {
      "image/png": "[encoded data removed]",
      "text/plain": [
       "<Figure size 432x288 with 1 Axes>"
      ]
     },
     "metadata": {
      "needs_background": "light"
     },
     "output_type": "display_data"
    }
   ],
   "source": [
    "class Support_Vector_Regression:\n",
    "    \n",
    "    # fitting Support_Vector_Regression to the training set\n",
    "    \n",
    "    def model_train(self,x,y):  \n",
    "        regressor = SVR(kernel= 'rbf')\n",
    "        regressor.fit(x,y)\n",
    "        return regressor\n",
    "    \n",
    "    # dump train model pickle file\n",
    "    \n",
    "    def pickel_file(self,regressor):\n",
    "        \n",
    "       \n",
    "        file = open('trainmodel.pkl', 'wb')\n",
    "        pickle.dump(regressor,file)\n",
    "        file.close()\n",
    "    \n",
    "    # predicting the test set result and train set result\n",
    "    \n",
    "    def prediction(self,x,regressor):\n",
    "        print(\"\\n\\n Prediction \\n\\n \")\n",
    "        # prediction for only 6.5\n",
    "        y_pred_train = sc_y.inverse_transform(regressor.predict(sc_x.transform(np.array([[6.5]]))))\n",
    "        \n",
    "        # prediction for all data x\n",
    "        y_pred_train = regressor.predict(x)\n",
    "        return y_pred_train\n",
    "\n",
    "    # Accuracy for train and test\n",
    "    \n",
    "    \n",
    "    def accuracy(self,y,y_pred_train):\n",
    "        \n",
    "\n",
    "        print(\"\\n\\n ACCURACY \\n\\n\")\n",
    "        Accuracy1 = explained_variance_score(y_pred_train,y) * 100# -4\n",
    "        print(\"\\n Accuracy of explained_variance_score :\", Accuracy1)\n",
    "       \n",
    "        error = mean_absolute_error(y, y_pred_train) # 125\n",
    "        Accuracy2 = (1 -error) * 100\n",
    "        print(\"\\n Accuracy of mean_absolute_error :\", Accuracy2)\n",
    "        \n",
    "        return Accuracy1,Accuracy2\n",
    "    \n",
    "    \n",
    "    # visualising the training set results\n",
    "    def plotting(self,x, y,regressor):\n",
    "        print(\"\\n visualising using SVR \\n \")\n",
    "        plt.scatter(x, y , color = 'pink')\n",
    "        plt.plot(x, regressor.predict(x), color = 'red')\n",
    "        plt.title(\"Truth or Bulff(SVR)\")\n",
    "        plt.xlabel(\"Position Level\")\n",
    "        plt.ylabel(\"Salary\")\n",
    "        plt.show()\n",
    "        \n",
    "        print(\"\\n visualising Regression Model \\n \")\n",
    "        plt.scatter(x, y, color ='red')\n",
    "        plt.plot(x, regressor.predict(x), color ='green')\n",
    "        plt.title('Truth or Bluff (Reg Model)')\n",
    "        plt.xlabel('Position level')\n",
    "        plt.ylabel('Salary')\n",
    "        plt.show()\n",
    " \n",
    "        \n",
    "def main(dataset,x,y):\n",
    "    \n",
    "    object_SVM = Support_Vector_Regression()\n",
    "    \n",
    "    regressor = object_SVM.model_train(x,y)\n",
    "    print(\"\\n Regressor : \", regressor)\n",
    "    \n",
    "    object_SVM.pickel_file(regressor)\n",
    "    \n",
    "  \n",
    "    \n",
    "    y_pred_train = object_SVM.prediction(x,regressor)\n",
    "    print(\"\\n prediction of y train data : \",y_pred_train)\n",
    "    \n",
    "    Accuracy1,Accuracy2 = object_SVM.accuracy(y,y_pred_train)\n",
    "    \n",
    "    \n",
    "    \n",
    "    \n",
    "    object_SVM.plotting(x,y,regressor)\n",
    "    \n",
    "    \n",
    "    \n",
    "    \n",
    "    \n",
    "main(dataset,x,y)\n",
    "    \n"
   ]
  },
  {
   "cell_type": "code",
   "execution_count": null,
   "metadata": {},
   "outputs": [],
   "source": []
  },
  {
   "cell_type": "code",
   "execution_count": null,
   "metadata": {},
   "outputs": [],
   "source": []
  }
 ],
 "metadata": {
  "kernelspec": {
   "display_name": "Python 3",
   "language": "python",
   "name": "python3"
  },
  "language_info": {
   "codemirror_mode": {
    "name": "ipython",
    "version": 3
   },
   "file_extension": ".py",
   "mimetype": "text/x-python",
   "name": "python",
   "nbconvert_exporter": "python",
   "pygments_lexer": "ipython3",
   "version": "3.7.2"
  }
 },
 "nbformat": 4,
 "nbformat_minor": 2
}
