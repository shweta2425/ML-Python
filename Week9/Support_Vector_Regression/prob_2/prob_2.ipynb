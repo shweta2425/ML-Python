{
 "cells": [
  {
   "cell_type": "code",
   "execution_count": 2,
   "metadata": {},
   "outputs": [],
   "source": [
    "import os\n",
    "import pandas as pd\n",
    "import pandas.api.types as ptypes\n",
    "import numpy as np\n",
    "import seaborn as sb\n",
    "from matplotlib import pyplot as plt\n",
    "from sklearn.preprocessing import StandardScaler\n",
    "from sklearn.model_selection import train_test_split\n",
    "from sklearn.svm import SVR\n",
    "import warnings\n",
    "warnings.filterwarnings('ignore')\n",
    "from sklearn.metrics import *\n",
    "import pickle\n",
    "import csv\n",
    "from sklearn.metrics import accuracy_score"
   ]
  },
  {
   "cell_type": "code",
   "execution_count": 3,
   "metadata": {},
   "outputs": [
    {
     "data": {
      "text/html": [
       "<div>\n",
       "<style scoped>\n",
       "    .dataframe tbody tr th:only-of-type {\n",
       "        vertical-align: middle;\n",
       "    }\n",
       "\n",
       "    .dataframe tbody tr th {\n",
       "        vertical-align: top;\n",
       "    }\n",
       "\n",
       "    .dataframe thead th {\n",
       "        text-align: right;\n",
       "    }\n",
       "</style>\n",
       "<table border=\"1\" class=\"dataframe\">\n",
       "  <thead>\n",
       "    <tr style=\"text-align: right;\">\n",
       "      <th></th>\n",
       "      <th>instant</th>\n",
       "      <th>dteday</th>\n",
       "      <th>season</th>\n",
       "      <th>yr</th>\n",
       "      <th>mnth</th>\n",
       "      <th>hr</th>\n",
       "      <th>holiday</th>\n",
       "      <th>weekday</th>\n",
       "      <th>workingday</th>\n",
       "      <th>weathersit</th>\n",
       "      <th>temp</th>\n",
       "      <th>atemp</th>\n",
       "      <th>hum</th>\n",
       "      <th>windspeed</th>\n",
       "      <th>casual</th>\n",
       "      <th>registered</th>\n",
       "      <th>cnt</th>\n",
       "    </tr>\n",
       "  </thead>\n",
       "  <tbody>\n",
       "    <tr>\n",
       "      <th>0</th>\n",
       "      <td>1</td>\n",
       "      <td>2011-01-01</td>\n",
       "      <td>1</td>\n",
       "      <td>0</td>\n",
       "      <td>1</td>\n",
       "      <td>0</td>\n",
       "      <td>0</td>\n",
       "      <td>6</td>\n",
       "      <td>0</td>\n",
       "      <td>1</td>\n",
       "      <td>0.24</td>\n",
       "      <td>0.2879</td>\n",
       "      <td>0.81</td>\n",
       "      <td>0.0</td>\n",
       "      <td>3</td>\n",
       "      <td>13</td>\n",
       "      <td>16</td>\n",
       "    </tr>\n",
       "    <tr>\n",
       "      <th>1</th>\n",
       "      <td>2</td>\n",
       "      <td>2011-01-01</td>\n",
       "      <td>1</td>\n",
       "      <td>0</td>\n",
       "      <td>1</td>\n",
       "      <td>1</td>\n",
       "      <td>0</td>\n",
       "      <td>6</td>\n",
       "      <td>0</td>\n",
       "      <td>1</td>\n",
       "      <td>0.22</td>\n",
       "      <td>0.2727</td>\n",
       "      <td>0.80</td>\n",
       "      <td>0.0</td>\n",
       "      <td>8</td>\n",
       "      <td>32</td>\n",
       "      <td>40</td>\n",
       "    </tr>\n",
       "    <tr>\n",
       "      <th>2</th>\n",
       "      <td>3</td>\n",
       "      <td>2011-01-01</td>\n",
       "      <td>1</td>\n",
       "      <td>0</td>\n",
       "      <td>1</td>\n",
       "      <td>2</td>\n",
       "      <td>0</td>\n",
       "      <td>6</td>\n",
       "      <td>0</td>\n",
       "      <td>1</td>\n",
       "      <td>0.22</td>\n",
       "      <td>0.2727</td>\n",
       "      <td>0.80</td>\n",
       "      <td>0.0</td>\n",
       "      <td>5</td>\n",
       "      <td>27</td>\n",
       "      <td>32</td>\n",
       "    </tr>\n",
       "    <tr>\n",
       "      <th>3</th>\n",
       "      <td>4</td>\n",
       "      <td>2011-01-01</td>\n",
       "      <td>1</td>\n",
       "      <td>0</td>\n",
       "      <td>1</td>\n",
       "      <td>3</td>\n",
       "      <td>0</td>\n",
       "      <td>6</td>\n",
       "      <td>0</td>\n",
       "      <td>1</td>\n",
       "      <td>0.24</td>\n",
       "      <td>0.2879</td>\n",
       "      <td>0.75</td>\n",
       "      <td>0.0</td>\n",
       "      <td>3</td>\n",
       "      <td>10</td>\n",
       "      <td>13</td>\n",
       "    </tr>\n",
       "    <tr>\n",
       "      <th>4</th>\n",
       "      <td>5</td>\n",
       "      <td>2011-01-01</td>\n",
       "      <td>1</td>\n",
       "      <td>0</td>\n",
       "      <td>1</td>\n",
       "      <td>4</td>\n",
       "      <td>0</td>\n",
       "      <td>6</td>\n",
       "      <td>0</td>\n",
       "      <td>1</td>\n",
       "      <td>0.24</td>\n",
       "      <td>0.2879</td>\n",
       "      <td>0.75</td>\n",
       "      <td>0.0</td>\n",
       "      <td>0</td>\n",
       "      <td>1</td>\n",
       "      <td>1</td>\n",
       "    </tr>\n",
       "  </tbody>\n",
       "</table>\n",
       "</div>"
      ],
      "text/plain": [
       "   instant      dteday  season  yr  mnth  hr  holiday  weekday  workingday  \\\n",
       "0        1  2011-01-01       1   0     1   0        0        6           0   \n",
       "1        2  2011-01-01       1   0     1   1        0        6           0   \n",
       "2        3  2011-01-01       1   0     1   2        0        6           0   \n",
       "3        4  2011-01-01       1   0     1   3        0        6           0   \n",
       "4        5  2011-01-01       1   0     1   4        0        6           0   \n",
       "\n",
       "   weathersit  temp   atemp   hum  windspeed  casual  registered  cnt  \n",
       "0           1  0.24  0.2879  0.81        0.0       3          13   16  \n",
       "1           1  0.22  0.2727  0.80        0.0       8          32   40  \n",
       "2           1  0.22  0.2727  0.80        0.0       5          27   32  \n",
       "3           1  0.24  0.2879  0.75        0.0       3          10   13  \n",
       "4           1  0.24  0.2879  0.75        0.0       0           1    1  "
      ]
     },
     "execution_count": 3,
     "metadata": {},
     "output_type": "execute_result"
    }
   ],
   "source": [
    "# Import dataset\n",
    "\n",
    "dataset = pd.read_csv(\"bike_sharing.csv\")\n",
    "dataset.head()"
   ]
  },
  {
   "cell_type": "code",
   "execution_count": 4,
   "metadata": {},
   "outputs": [
    {
     "data": {
      "text/plain": [
       "temp    float64\n",
       "cnt       int64\n",
       "dtype: object"
      ]
     },
     "execution_count": 4,
     "metadata": {},
     "output_type": "execute_result"
    }
   ],
   "source": [
    "dataset = dataset.loc[:,['temp','cnt']]\n",
    "dataset.dtypes"
   ]
  },
  {
   "cell_type": "code",
   "execution_count": 6,
   "metadata": {},
   "outputs": [],
   "source": [
    "# Divide data into features and label\n",
    "\n",
    "y_data_set = np.array(pd.DataFrame(dataset.temp))\n",
    "x_data_set = np.array(dataset[\"cnt\"])"
   ]
  },
  {
   "cell_type": "code",
   "execution_count": 7,
   "metadata": {},
   "outputs": [],
   "source": [
    "sc_x = StandardScaler()\n",
    "sc_y = StandardScaler()\n",
    "\n",
    "x = sc_x.fit_transform(x_data_set.reshape(-1, 1) )\n",
    "y = sc_y.fit_transform(y_data_set.reshape(-1, 1) )"
   ]
  },
  {
   "cell_type": "code",
   "execution_count": 26,
   "metadata": {},
   "outputs": [
    {
     "name": "stdout",
     "output_type": "stream",
     "text": [
      "shape of x data (17379, 1)\n",
      "shape of y data (17379, 1)\n"
     ]
    }
   ],
   "source": [
    "print(\"shape of x data\",x.shape)\n",
    "print(\"shape of y data\",y.shape)"
   ]
  },
  {
   "cell_type": "code",
   "execution_count": 27,
   "metadata": {},
   "outputs": [],
   "source": [
    "os.mkdir(\"CSV\")\n",
    "# def csv_file(x_train_data,y_train_data,file_name):\n",
    "#     #load data to csv file\n",
    "#     myData = x_train_data\n",
    "   \n",
    "#     myFile = open('CSV_file/'+file_name, 'w')  \n",
    "#     with myFile:\n",
    "#         writer = csv.writer(myFile)\n",
    "#         writer.writerows(myData)\n",
    "   \n",
    "#     colnames=['x'] \n",
    "#     df = pd.read_csv('CSV_file/'+file_name, names=colnames, header=None)\n",
    "#     # inserting column with static value in data frame \n",
    "#     df.insert(1, \"y\", y_train_data)\n",
    "   \n",
    "#     df.to_csv('CSV_file/'+file_name, index =  False)"
   ]
  },
  {
   "cell_type": "code",
   "execution_count": 28,
   "metadata": {},
   "outputs": [],
   "source": [
    "# def splitdata(x, y):\n",
    "    \n",
    "#     x_train_data,x_test_data,y_train_data,y_test_data = train_test_split(x,y,test_size = 20, random_state=0)\n",
    "    \n",
    "#     csv_file(x_test_data,y_test_data,'test_data.csv')\n",
    "\n",
    "#     x_train_data, x_cv_data, y_train_data, y_cv_data = train_test_split(x_train_data,y_train_data,test_size = 0.40,random_state=0)\n",
    "    \n",
    "#     csv_file(x_train_data,y_train_data,'train_data.csv')\n",
    "#     csv_file(x_cv_data,y_cv_data,'cv_data.csv') \n",
    "# #     return x_train_data,x_test_data,y_train_data,y_test_data,x_cv_data,y_cv_data\n",
    "# splitdata(x, y)"
   ]
  },
  {
   "cell_type": "code",
   "execution_count": 29,
   "metadata": {},
   "outputs": [
    {
     "name": "stdout",
     "output_type": "stream",
     "text": [
      "train :  (11296, 2)  test :  (6083, 2)\n",
      "train_data :  (6777, 2)  crossV_data :  (4519, 2)\n"
     ]
    }
   ],
   "source": [
    "def splitdata(dataset):\n",
    "    # split train and test data\n",
    "    train, test = train_test_split(dataset,test_size = 0.35, random_state=0)\n",
    "    print(\"train : \", train.shape, \" test : \", test.shape)\n",
    "    #     print(\"y_train : \", y_train.shape, \" y_test : \", y_test.shape)\n",
    "    \n",
    "    # saving datasets into csv files\n",
    "    test.to_csv('CSV/test_file.csv',index=False,encoding='utf-8')\n",
    "    \n",
    "    \n",
    "    # divide train data into train and cross validation \n",
    "    train_data, crossV_data = train_test_split(train,test_size = 0.40,random_state=0)\n",
    "    \n",
    "    train_data.to_csv('CSV/train_file.csv',index=False,encoding='utf-8')\n",
    "    crossV_data.to_csv('CSV/crossV_file.csv',index=False,encoding='utf-8')\n",
    "   \n",
    "    \n",
    "    \n",
    "    print(\"train_data : \", train_data.shape, \" crossV_data : \", crossV_data.shape)\n",
    "    \n",
    "    #     return x_train_data, x_cv, y_train_data, y_cv \n",
    "\n",
    "splitdata(dataset)"
   ]
  },
  {
   "cell_type": "code",
   "execution_count": 30,
   "metadata": {},
   "outputs": [
    {
     "data": {
      "text/plain": [
       "(10415, 2)"
      ]
     },
     "execution_count": 30,
     "metadata": {},
     "output_type": "execute_result"
    }
   ],
   "source": [
    "dataset1 = pd.read_csv(\"CSV_file/train_data.csv\")\n",
    "\n",
    "dataset1.shape"
   ]
  },
  {
   "cell_type": "code",
   "execution_count": 31,
   "metadata": {},
   "outputs": [
    {
     "data": {
      "text/plain": [
       "temp    0.02\n",
       "cnt     1.00\n",
       "dtype: float64"
      ]
     },
     "execution_count": 31,
     "metadata": {},
     "output_type": "execute_result"
    }
   ],
   "source": [
    "dataset.min()"
   ]
  },
  {
   "cell_type": "code",
   "execution_count": 32,
   "metadata": {},
   "outputs": [],
   "source": [
    "# Handle Missing data\n",
    "def handle_min_values(dataset):\n",
    "    # replace min values by mean\n",
    "    dataset.replace(0, dataset.mean(), inplace=True)\n",
    "    return dataset\n",
    "\n",
    "dataset = handle_min_values(dataset)"
   ]
  },
  {
   "cell_type": "code",
   "execution_count": 33,
   "metadata": {},
   "outputs": [
    {
     "name": "stdout",
     "output_type": "stream",
     "text": [
      "x_train shape (17379, 1)\n",
      "y_train shape (17379, 1)\n"
     ]
    }
   ],
   "source": [
    "print(\"x_train shape\",x.shape)\n",
    "print(\"y_train shape\",y.shape)"
   ]
  },
  {
   "cell_type": "code",
   "execution_count": 34,
   "metadata": {},
   "outputs": [],
   "source": [
    "# regressor = SVR(kernel= 'rbf')\n",
    "# regressor.fit(x,y)"
   ]
  },
  {
   "cell_type": "code",
   "execution_count": 42,
   "metadata": {},
   "outputs": [
    {
     "name": "stdout",
     "output_type": "stream",
     "text": [
      "\n",
      " Regressor :  SVR(C=1.0, cache_size=200, coef0=0.0, degree=3, epsilon=0.1,\n",
      "  gamma='auto_deprecated', kernel='rbf', max_iter=-1, shrinking=True,\n",
      "  tol=0.001, verbose=False)\n",
      "\n",
      "\n",
      " Prediction \n",
      "\n",
      " \n",
      "\n",
      " prediction of y train data :  [-0.57082912 -0.61478852 -0.60356528 ... -0.52774916 -0.61573166\n",
      " -0.62093886]\n",
      "\n",
      "\n",
      " ACCURACY \n",
      "\n",
      "\n",
      "\n",
      " Accuracy train data acc_r2 :  81.94857963782383\n",
      "\n",
      " Accuracy train data median_ab_error :  69.43292101485514\n",
      "\n",
      " visualising using SVR \n",
      " \n"
     ]
    },
    {
     "data": {
      "image/png": "[encoded data removed]",
      "text/plain": [
       "<Figure size 432x288 with 1 Axes>"
      ]
     },
     "metadata": {
      "needs_background": "light"
     },
     "output_type": "display_data"
    },
    {
     "name": "stdout",
     "output_type": "stream",
     "text": [
      "\n",
      " visualising Regression Model \n",
      " \n"
     ]
    },
    {
     "data": {
      "image/png": "[encoded data removed]",
      "text/plain": [
       "<Figure size 432x288 with 1 Axes>"
      ]
     },
     "metadata": {
      "needs_background": "light"
     },
     "output_type": "display_data"
    }
   ],
   "source": [
    "class Support_Vector_Regression:\n",
    "    \n",
    "    # fitting Support_Vector_Regression to the training set\n",
    "    \n",
    "    def model_train(self,x,y):  \n",
    "        regressor = SVR(kernel= 'rbf')\n",
    "        regressor.fit(x,y)\n",
    "        return regressor\n",
    "    \n",
    "    # dump train model pickle file\n",
    "    \n",
    "    def pickel_file(self,regressor):\n",
    "        \n",
    "       \n",
    "        file = open('trainmodel.pkl', 'wb')\n",
    "        pickle.dump(regressor,file)\n",
    "        file.close()\n",
    "    \n",
    "    # predicting the test set result and train set result\n",
    "    \n",
    "    def prediction(self,x,regressor):\n",
    "        print(\"\\n\\n Prediction \\n\\n \")\n",
    "        # prediction for only 6.5\n",
    "#         y_pred_train = sc_y.inverse_transform(regressor.predict(sc_x.transform(np.array([[6.5]]))))\n",
    "        \n",
    "        # prediction for all data x\n",
    "        y_pred_train = regressor.predict(x)\n",
    "        return y_pred_train\n",
    "\n",
    "    # Accuracy for train and test\n",
    "    \n",
    "    \n",
    "    def accuracy(self,y,y_pred_train):\n",
    "        \n",
    "\n",
    "        print(\"\\n\\n ACCURACY \\n\\n\")\n",
    "\n",
    "        # acc using r2\n",
    "        error = r2_score(y, y_pred_train)      \n",
    "        acc_r2 = (1-error)*100\n",
    "       \n",
    "        # using median_ab_error\n",
    "        median_ab_error = median_absolute_error(y, y_pred_train)*100\n",
    "        return acc_r2, median_ab_error\n",
    "        \n",
    "\n",
    "    \n",
    "    \n",
    "    # visualising the training set results\n",
    "\n",
    "    def plotting(self,x, y,regressor):\n",
    "        print(\"\\n visualising using SVR \\n \")\n",
    "        plt.scatter(x, y , color = 'pink')\n",
    "        plt.plot(x, regressor.predict(x), color = 'red')\n",
    "        plt.title(\"Truth or Bulff(SVR)\")\n",
    "        plt.xlabel(\"Position Level\")\n",
    "        plt.ylabel(\"Salary\")\n",
    "        plt.show()\n",
    "        \n",
    "        print(\"\\n visualising Regression Model \\n \")\n",
    "        plt.scatter(x, y, color ='red')\n",
    "        plt.plot(x, regressor.predict(x), color ='green')\n",
    "        plt.title('Truth or Bluff (Reg Model)')\n",
    "        plt.xlabel('Position level')\n",
    "        plt.ylabel('Salary')\n",
    "        plt.show()\n",
    " \n",
    "        \n",
    "def main(dataset,x,y):\n",
    "    \n",
    "    object_SVM = Support_Vector_Regression()\n",
    "    \n",
    "    regressor = object_SVM.model_train(x,y)\n",
    "    print(\"\\n Regressor : \", regressor)\n",
    "    \n",
    "    object_SVM.pickel_file(regressor)\n",
    "    \n",
    "  \n",
    "    \n",
    "    y_pred_train = object_SVM.prediction(x,regressor)\n",
    "    print(\"\\n prediction of y train data : \",y_pred_train)\n",
    "    \n",
    "    acc_r2,median_ab_error = object_SVM.accuracy(y,y_pred_train)\n",
    "    print(\"\\n Accuracy train data acc_r2 : \", acc_r2)\n",
    "    print(\"\\n Accuracy train data median_ab_error : \",  median_ab_error)\n",
    "    \n",
    "    \n",
    "    \n",
    "    \n",
    "    object_SVM.plotting(x,y,regressor)\n",
    "    \n",
    "    \n",
    "    \n",
    "    \n",
    "    \n",
    "main(dataset,x,y)\n",
    "    \n"
   ]
  },
  {
   "cell_type": "code",
   "execution_count": null,
   "metadata": {},
   "outputs": [],
   "source": []
  },
  {
   "cell_type": "code",
   "execution_count": null,
   "metadata": {},
   "outputs": [],
   "source": []
  }
 ],
 "metadata": {
  "kernelspec": {
   "display_name": "Python 3",
   "language": "python",
   "name": "python3"
  },
  "language_info": {
   "codemirror_mode": {
    "name": "ipython",
    "version": 3
   },
   "file_extension": ".py",
   "mimetype": "text/x-python",
   "name": "python",
   "nbconvert_exporter": "python",
   "pygments_lexer": "ipython3",
   "version": "3.7.2"
  }
 },
 "nbformat": 4,
 "nbformat_minor": 2
}
