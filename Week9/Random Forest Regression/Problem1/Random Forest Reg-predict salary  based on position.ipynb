{
 "cells": [
  {
   "cell_type": "code",
   "execution_count": 1,
   "metadata": {
    "ExecuteTime": {
     "end_time": "2019-05-01T19:13:08.258880Z",
     "start_time": "2019-05-01T19:13:08.255275Z"
    }
   },
   "outputs": [
    {
     "data": {
      "text/plain": [
       "'\\nRandom Forest Regression\\n\\t1. Build a machine learning model to predict salary  based on position for a given dataset\\n'"
      ]
     },
     "execution_count": 1,
     "metadata": {},
     "output_type": "execute_result"
    }
   ],
   "source": [
    "\"\"\"\n",
    "Random Forest Regression\n",
    "\t1. Build a machine learning model to predict salary  based on position for a given dataset\n",
    "\"\"\""
   ]
  },
  {
   "cell_type": "code",
   "execution_count": 3,
   "metadata": {
    "ExecuteTime": {
     "end_time": "2019-05-02T04:36:47.171260Z",
     "start_time": "2019-05-02T04:36:46.145758Z"
    }
   },
   "outputs": [],
   "source": [
    "#importing the libraries\n",
    "import numpy as np\n",
    "import matplotlib.pyplot as plt\n",
    "from matplotlib import pyplot as plt  \n",
    "import pandas as pd\n",
    "#imputer to handle missing data \n",
    "from sklearn.preprocessing import Imputer\n",
    "from sklearn.model_selection import train_test_split\n",
    "# handle categorical data\n",
    "from sklearn.preprocessing import LabelEncoder, OneHotEncoder\n",
    "\n",
    "#regression librarry\n",
    "from sklearn.ensemble import RandomForestRegressor\n",
    "#o check accuracy\n",
    "from sklearn.metrics import accuracy_score\n",
    "# to check accuracy\n",
    "from sklearn.metrics import *\n",
    "\n",
    "import pickle \n",
    "import os, sys\n",
    "import csv\n",
    "\n",
    "# ignore warnings\n",
    "import warnings\n",
    "warnings.filterwarnings('ignore')\n",
    "\n"
   ]
  },
  {
   "cell_type": "code",
   "execution_count": 4,
   "metadata": {
    "ExecuteTime": {
     "end_time": "2019-05-02T04:37:32.246995Z",
     "start_time": "2019-05-02T04:37:32.200913Z"
    }
   },
   "outputs": [
    {
     "data": {
      "text/html": [
       "<div>\n",
       "<style scoped>\n",
       "    .dataframe tbody tr th:only-of-type {\n",
       "        vertical-align: middle;\n",
       "    }\n",
       "\n",
       "    .dataframe tbody tr th {\n",
       "        vertical-align: top;\n",
       "    }\n",
       "\n",
       "    .dataframe thead th {\n",
       "        text-align: right;\n",
       "    }\n",
       "</style>\n",
       "<table border=\"1\" class=\"dataframe\">\n",
       "  <thead>\n",
       "    <tr style=\"text-align: right;\">\n",
       "      <th></th>\n",
       "      <th>Position</th>\n",
       "      <th>Level</th>\n",
       "      <th>Salary</th>\n",
       "    </tr>\n",
       "  </thead>\n",
       "  <tbody>\n",
       "    <tr>\n",
       "      <th>0</th>\n",
       "      <td>Business Analyst</td>\n",
       "      <td>1</td>\n",
       "      <td>45000</td>\n",
       "    </tr>\n",
       "    <tr>\n",
       "      <th>1</th>\n",
       "      <td>Junior Consultant</td>\n",
       "      <td>2</td>\n",
       "      <td>50000</td>\n",
       "    </tr>\n",
       "    <tr>\n",
       "      <th>2</th>\n",
       "      <td>Senior Consultant</td>\n",
       "      <td>3</td>\n",
       "      <td>60000</td>\n",
       "    </tr>\n",
       "    <tr>\n",
       "      <th>3</th>\n",
       "      <td>Manager</td>\n",
       "      <td>4</td>\n",
       "      <td>80000</td>\n",
       "    </tr>\n",
       "    <tr>\n",
       "      <th>4</th>\n",
       "      <td>Country Manager</td>\n",
       "      <td>5</td>\n",
       "      <td>110000</td>\n",
       "    </tr>\n",
       "  </tbody>\n",
       "</table>\n",
       "</div>"
      ],
      "text/plain": [
       "            Position  Level  Salary\n",
       "0   Business Analyst      1   45000\n",
       "1  Junior Consultant      2   50000\n",
       "2  Senior Consultant      3   60000\n",
       "3            Manager      4   80000\n",
       "4    Country Manager      5  110000"
      ]
     },
     "execution_count": 4,
     "metadata": {},
     "output_type": "execute_result"
    }
   ],
   "source": [
    "# load dataset\n",
    "dataset_original = pd.read_csv (\"Position_Salaries.csv\")\n",
    "dataset = dataset_original\n",
    "dataset.head()"
   ]
  },
  {
   "cell_type": "code",
   "execution_count": 5,
   "metadata": {
    "ExecuteTime": {
     "end_time": "2019-05-02T04:39:38.189528Z",
     "start_time": "2019-05-02T04:39:38.185838Z"
    }
   },
   "outputs": [
    {
     "name": "stdout",
     "output_type": "stream",
     "text": [
      "Dataset has 10 rows and 3 Columns\n"
     ]
    }
   ],
   "source": [
    "print(\"Dataset has {} rows and {} Columns\".format(dataset.shape[0],dataset.shape[1])) "
   ]
  },
  {
   "cell_type": "code",
   "execution_count": 6,
   "metadata": {},
   "outputs": [
    {
     "data": {
      "text/html": [
       "<div>\n",
       "<style scoped>\n",
       "    .dataframe tbody tr th:only-of-type {\n",
       "        vertical-align: middle;\n",
       "    }\n",
       "\n",
       "    .dataframe tbody tr th {\n",
       "        vertical-align: top;\n",
       "    }\n",
       "\n",
       "    .dataframe thead th {\n",
       "        text-align: right;\n",
       "    }\n",
       "</style>\n",
       "<table border=\"1\" class=\"dataframe\">\n",
       "  <thead>\n",
       "    <tr style=\"text-align: right;\">\n",
       "      <th></th>\n",
       "      <th>Position</th>\n",
       "      <th>Level</th>\n",
       "      <th>Salary</th>\n",
       "    </tr>\n",
       "  </thead>\n",
       "  <tbody>\n",
       "    <tr>\n",
       "      <th>1</th>\n",
       "      <td>Junior Consultant</td>\n",
       "      <td>2</td>\n",
       "      <td>50000</td>\n",
       "    </tr>\n",
       "  </tbody>\n",
       "</table>\n",
       "</div>"
      ],
      "text/plain": [
       "            Position  Level  Salary\n",
       "1  Junior Consultant      2   50000"
      ]
     },
     "execution_count": 6,
     "metadata": {},
     "output_type": "execute_result"
    }
   ],
   "source": [
    "dataset.sample()"
   ]
  },
  {
   "cell_type": "code",
   "execution_count": 7,
   "metadata": {
    "ExecuteTime": {
     "end_time": "2019-05-02T04:39:40.329806Z",
     "start_time": "2019-05-02T04:39:40.317776Z"
    }
   },
   "outputs": [
    {
     "name": "stdout",
     "output_type": "stream",
     "text": [
      "<class 'pandas.core.frame.DataFrame'>\n",
      "RangeIndex: 10 entries, 0 to 9\n",
      "Data columns (total 3 columns):\n",
      "Position    10 non-null object\n",
      "Level       10 non-null int64\n",
      "Salary      10 non-null int64\n",
      "dtypes: int64(2), object(1)\n",
      "memory usage: 320.0+ bytes\n"
     ]
    }
   ],
   "source": [
    "# check dataset information\n",
    "dataset.info()"
   ]
  },
  {
   "cell_type": "code",
   "execution_count": 8,
   "metadata": {
    "ExecuteTime": {
     "end_time": "2019-05-02T04:39:46.099337Z",
     "start_time": "2019-05-02T04:39:46.023913Z"
    }
   },
   "outputs": [
    {
     "data": {
      "text/html": [
       "<div>\n",
       "<style scoped>\n",
       "    .dataframe tbody tr th:only-of-type {\n",
       "        vertical-align: middle;\n",
       "    }\n",
       "\n",
       "    .dataframe tbody tr th {\n",
       "        vertical-align: top;\n",
       "    }\n",
       "\n",
       "    .dataframe thead th {\n",
       "        text-align: right;\n",
       "    }\n",
       "</style>\n",
       "<table border=\"1\" class=\"dataframe\">\n",
       "  <thead>\n",
       "    <tr style=\"text-align: right;\">\n",
       "      <th></th>\n",
       "      <th>count</th>\n",
       "      <th>mean</th>\n",
       "      <th>std</th>\n",
       "      <th>min</th>\n",
       "      <th>25%</th>\n",
       "      <th>50%</th>\n",
       "      <th>75%</th>\n",
       "      <th>max</th>\n",
       "    </tr>\n",
       "  </thead>\n",
       "  <tbody>\n",
       "    <tr>\n",
       "      <th>Level</th>\n",
       "      <td>10.0</td>\n",
       "      <td>5.5</td>\n",
       "      <td>3.027650</td>\n",
       "      <td>1.0</td>\n",
       "      <td>3.25</td>\n",
       "      <td>5.5</td>\n",
       "      <td>7.75</td>\n",
       "      <td>10.0</td>\n",
       "    </tr>\n",
       "    <tr>\n",
       "      <th>Salary</th>\n",
       "      <td>10.0</td>\n",
       "      <td>249500.0</td>\n",
       "      <td>299373.883668</td>\n",
       "      <td>45000.0</td>\n",
       "      <td>65000.00</td>\n",
       "      <td>130000.0</td>\n",
       "      <td>275000.00</td>\n",
       "      <td>1000000.0</td>\n",
       "    </tr>\n",
       "  </tbody>\n",
       "</table>\n",
       "</div>"
      ],
      "text/plain": [
       "        count      mean            std      min       25%       50%  \\\n",
       "Level    10.0       5.5       3.027650      1.0      3.25       5.5   \n",
       "Salary   10.0  249500.0  299373.883668  45000.0  65000.00  130000.0   \n",
       "\n",
       "              75%        max  \n",
       "Level        7.75       10.0  \n",
       "Salary  275000.00  1000000.0  "
      ]
     },
     "execution_count": 8,
     "metadata": {},
     "output_type": "execute_result"
    }
   ],
   "source": [
    "dataset.describe().T"
   ]
  },
  {
   "cell_type": "code",
   "execution_count": 9,
   "metadata": {
    "ExecuteTime": {
     "end_time": "2019-05-02T04:39:49.335697Z",
     "start_time": "2019-05-02T04:39:49.326117Z"
    }
   },
   "outputs": [
    {
     "data": {
      "text/plain": [
       "Position    0\n",
       "Level       0\n",
       "Salary      0\n",
       "dtype: int64"
      ]
     },
     "execution_count": 9,
     "metadata": {},
     "output_type": "execute_result"
    }
   ],
   "source": [
    "# handling missing data if nessesary\n",
    "\"\"\"\n",
    "if missing values are present\n",
    "imputer = Imputer(missing_values=0, axis=0)\n",
    "imputer = imputer.fit(x_data[:, 3:16])\n",
    "\"\"\"\n",
    "dataset.isnull().sum()"
   ]
  },
  {
   "cell_type": "code",
   "execution_count": 10,
   "metadata": {
    "ExecuteTime": {
     "end_time": "2019-05-02T04:39:51.853440Z",
     "start_time": "2019-05-02T04:39:51.844042Z"
    }
   },
   "outputs": [
    {
     "data": {
      "text/plain": [
       "Position    Business Analyst\n",
       "Level                      1\n",
       "Salary                 45000\n",
       "dtype: object"
      ]
     },
     "execution_count": 10,
     "metadata": {},
     "output_type": "execute_result"
    }
   ],
   "source": [
    "# check for minimum dataset\n",
    "dataset.min()"
   ]
  },
  {
   "cell_type": "code",
   "execution_count": 11,
   "metadata": {
    "ExecuteTime": {
     "end_time": "2019-05-02T04:40:07.232915Z",
     "start_time": "2019-05-02T04:40:07.191396Z"
    }
   },
   "outputs": [],
   "source": [
    "# # Handle Missing data\n",
    "# def handle_min_values(dataset):\n",
    "#     # replace min values by mean\n",
    "#     dataset.replace(0, dataset.mean(), inplace=True)\n",
    "#     return dataset\n",
    "\n",
    "# dataset = handle_min_values(dataset)"
   ]
  },
  {
   "cell_type": "code",
   "execution_count": 12,
   "metadata": {
    "ExecuteTime": {
     "end_time": "2019-05-02T04:40:53.240716Z",
     "start_time": "2019-05-02T04:40:53.233122Z"
    }
   },
   "outputs": [],
   "source": [
    "# #check dataset replace with mean or not\n",
    "# dataset.min()"
   ]
  },
  {
   "cell_type": "code",
   "execution_count": 13,
   "metadata": {
    "ExecuteTime": {
     "end_time": "2019-05-01T19:17:53.754583Z",
     "start_time": "2019-05-01T19:17:53.736752Z"
    }
   },
   "outputs": [],
   "source": [
    "# # seperate fetures and label\n",
    "# x_data = dataset.iloc[:, :-1].values\n",
    "# y_data = dataset.iloc[:, 1].values"
   ]
  },
  {
   "cell_type": "code",
   "execution_count": 14,
   "metadata": {
    "ExecuteTime": {
     "end_time": "2019-05-01T19:17:55.464594Z",
     "start_time": "2019-05-01T19:17:55.355917Z"
    }
   },
   "outputs": [],
   "source": [
    "# # handle categorical data\n",
    "# def handle_categorical_data(x_data):\n",
    "#     #encode categorical data\n",
    "#     label_encod = LabelEncoder()\n",
    "#     x_data[:, 1] = label_encod.fit_transform(x_data[:, 1])\n",
    "    \n",
    "#     # one hot encoding\n",
    "#     onehotencode = OneHotEncoder(categorical_features= [1])\n",
    "#     x_data = onehotencode.fit_transform(x_data).toarray()\n",
    "    \n",
    "#     return x_data\n",
    "    \n",
    "# x_data = handle_categorical_data(x_data)"
   ]
  },
  {
   "cell_type": "code",
   "execution_count": 15,
   "metadata": {
    "ExecuteTime": {
     "end_time": "2019-05-01T19:19:11.279465Z",
     "start_time": "2019-05-01T19:19:11.275304Z"
    }
   },
   "outputs": [],
   "source": [
    "# #convert numpy.ndarray to DataFrame\n",
    "# x_data = pd.DataFrame(x_data)\n",
    "# x_data.shape"
   ]
  },
  {
   "cell_type": "code",
   "execution_count": 16,
   "metadata": {},
   "outputs": [],
   "source": [
    "# create directory to store csv files\n",
    "os.mkdir(\"CSV_files\")"
   ]
  },
  {
   "cell_type": "code",
   "execution_count": 51,
   "metadata": {
    "ExecuteTime": {
     "end_time": "2019-05-01T19:18:11.195666Z",
     "start_time": "2019-05-01T19:18:04.320494Z"
    }
   },
   "outputs": [
    {
     "name": "stdout",
     "output_type": "stream",
     "text": [
      "train :  (7, 3)  test :  (3, 3)\n",
      "train_data :  (4, 3)  crossV_data :  (3, 3)\n"
     ]
    }
   ],
   "source": [
    "# split dataset \n",
    "\n",
    "def splitdata(dataset):\n",
    "    # split train and test data\n",
    "    train, test = train_test_split(dataset,test_size = 0.30, random_state=0)\n",
    "    print(\"train : \", train.shape, \" test : \", test.shape)\n",
    "\n",
    "    # saving datasets into csv files\n",
    "    test.to_csv('CSV_files/test_file.csv',index=False,encoding='utf-8')\n",
    "\n",
    "    # divide train data into train and cross validation \n",
    "    train_data, crossV_data = train_test_split(train,test_size = 0.30,random_state=0)\n",
    "    \n",
    "     #load data into csv for train and cross validation\n",
    "    train_data.to_csv('CSV_files/train_file.csv',index=False,encoding='utf-8')\n",
    "    crossV_data.to_csv('CSV_files/CValidation_file.csv',index=False,encoding='utf-8')\n",
    "    \n",
    "    print(\"train_data : \", train_data.shape, \" crossV_data : \", crossV_data.shape)\n",
    "\n",
    "splitdata(dataset)"
   ]
  },
  {
   "cell_type": "code",
   "execution_count": 52,
   "metadata": {
    "ExecuteTime": {
     "end_time": "2019-05-01T19:18:11.206852Z",
     "start_time": "2019-05-01T19:18:11.197751Z"
    }
   },
   "outputs": [
    {
     "name": "stdout",
     "output_type": "stream",
     "text": [
      "Dataset has 4 rows and 3 Columns\n"
     ]
    }
   ],
   "source": [
    "# load dataset\n",
    "train_dataset = pd.read_csv (\"CSV_files/train_file.csv\")\n",
    "print(\"Dataset has {} rows and {} Columns\".format(train_dataset.shape[0],train_dataset.shape[1])) "
   ]
  },
  {
   "cell_type": "code",
   "execution_count": 53,
   "metadata": {
    "ExecuteTime": {
     "end_time": "2019-05-01T19:18:11.218060Z",
     "start_time": "2019-05-01T19:18:11.209040Z"
    }
   },
   "outputs": [
    {
     "data": {
      "text/html": [
       "<div>\n",
       "<style scoped>\n",
       "    .dataframe tbody tr th:only-of-type {\n",
       "        vertical-align: middle;\n",
       "    }\n",
       "\n",
       "    .dataframe tbody tr th {\n",
       "        vertical-align: top;\n",
       "    }\n",
       "\n",
       "    .dataframe thead th {\n",
       "        text-align: right;\n",
       "    }\n",
       "</style>\n",
       "<table border=\"1\" class=\"dataframe\">\n",
       "  <thead>\n",
       "    <tr style=\"text-align: right;\">\n",
       "      <th></th>\n",
       "      <th>Position</th>\n",
       "      <th>Level</th>\n",
       "      <th>Salary</th>\n",
       "    </tr>\n",
       "  </thead>\n",
       "  <tbody>\n",
       "    <tr>\n",
       "      <th>0</th>\n",
       "      <td>Senior Partner</td>\n",
       "      <td>8</td>\n",
       "      <td>300000</td>\n",
       "    </tr>\n",
       "    <tr>\n",
       "      <th>1</th>\n",
       "      <td>CEO</td>\n",
       "      <td>10</td>\n",
       "      <td>1000000</td>\n",
       "    </tr>\n",
       "    <tr>\n",
       "      <th>2</th>\n",
       "      <td>Business Analyst</td>\n",
       "      <td>1</td>\n",
       "      <td>45000</td>\n",
       "    </tr>\n",
       "    <tr>\n",
       "      <th>3</th>\n",
       "      <td>Manager</td>\n",
       "      <td>4</td>\n",
       "      <td>80000</td>\n",
       "    </tr>\n",
       "  </tbody>\n",
       "</table>\n",
       "</div>"
      ],
      "text/plain": [
       "           Position  Level   Salary\n",
       "0    Senior Partner      8   300000\n",
       "1               CEO     10  1000000\n",
       "2  Business Analyst      1    45000\n",
       "3           Manager      4    80000"
      ]
     },
     "execution_count": 53,
     "metadata": {},
     "output_type": "execute_result"
    }
   ],
   "source": [
    "train_dataset.head()"
   ]
  },
  {
   "cell_type": "code",
   "execution_count": 62,
   "metadata": {
    "ExecuteTime": {
     "end_time": "2019-05-01T19:18:11.256290Z",
     "start_time": "2019-05-01T19:18:11.230486Z"
    }
   },
   "outputs": [
    {
     "name": "stdout",
     "output_type": "stream",
     "text": [
      "(4, 1) (4,)\n",
      "\n",
      "Module created\n",
      "\n",
      "Pikle file created\n",
      "y_predict value for 6.5 is  [262616.66666667]\n",
      "\n",
      "\n",
      " y_prediction: [495683.33333333 789683.33333333  75133.33333333  90183.33333333]\n",
      "\n",
      " Accuracy train by acc_r2 85.85964723459429\n"
     ]
    },
    {
     "data": {
      "image/png": "[encoded data removed]",
      "text/plain": [
       "<Figure size 432x288 with 1 Axes>"
      ]
     },
     "metadata": {
      "needs_background": "light"
     },
     "output_type": "display_data"
    }
   ],
   "source": [
    "class RandomForest():\n",
    "    \n",
    "    def create_module(self,x_train,y_train):\n",
    "        \n",
    "        # fitting simple LR to the training set\n",
    "        regression = RandomForestRegressor(n_estimators= 300 ,random_state=0)\n",
    "    #      regression.fit(x_train_data, y_train_data)\n",
    "        regression.fit(x_train,y_train)\n",
    "        \"\"\"\n",
    "        output-\n",
    "        LinearRegression(copy_X=True, fit_intercept=True, n_jobs=None,\n",
    "             normalize=False)\n",
    "        \"\"\"\n",
    "        return regression\n",
    "    \n",
    "    def create_piklefile(self,regression):\n",
    "        # dump train model pickle file\n",
    "        file = open('RandomForestModule.pkl', 'wb')\n",
    "        pickle.dump(regression,file)\n",
    "        file.close()          \n",
    "        \n",
    "    \n",
    "    def y_prediction(self,x_train,regression):\n",
    "        # predicting the test set result\n",
    "        y_predict = regression.predict(x_train)\n",
    "        print(\"y_predict value for 6.5 is \", regression.predict(np.array(6.5).reshape(-1,1)))\n",
    "        return y_predict\n",
    "    \n",
    "    def accuracy(self,y_predict_train,y_train):\n",
    "        # accuracy using r2 score\n",
    "        acc_r2 = r2_score(y_train, y_predict_train)*100      \n",
    "#         acc_r2 = (1-error)*100\n",
    "  \n",
    "        total_error = mean_absolute_error(y_train, y_predict_train)\n",
    "        mean_ab=( 1- (total_error / len(y_train))) *100\n",
    "        \n",
    "        mean_sq  = mean_squared_error(y_train, y_predict_train) \n",
    "\n",
    "        mean_sq_log = mean_squared_log_error(y_train, y_predict_train)  \n",
    "    \n",
    "        median_ab_error = median_absolute_error(y_train, y_predict_train)\n",
    "        \n",
    "        return acc_r2,mean_ab,mean_sq,mean_sq_log, median_ab_error\n",
    "    \n",
    "\n",
    "    \n",
    "    def visualization(self,x_train,y_train,regression):\n",
    "        # Visualization the Decision Tree result (for higher resolution & smoother curve)\n",
    "        x_grid = np.arange(min(x_train), max(x_train), 0.01)\n",
    "        x_grid = x_grid.reshape((len(x_grid),1))\n",
    "        \n",
    "        plt.scatter(x_train,y_train, color = 'red')\n",
    "#         plt.plot(x_grid,regression.predict(x_grid), color = 'blue')\n",
    "        # reshape x_grid or not both will give same ploting\n",
    "        plt.plot(x_grid,regression.predict(x_grid.reshape(-1,1)), color = 'blue')\n",
    "        plt.title(\"Truth or bluff(Decision tree algorithm)\")\n",
    "        plt.xlabel(\"Position Level\")\n",
    "        plt.ylabel(\"Salary\")\n",
    "        plt.show()\n",
    "        \n",
    "\n",
    "def main():\n",
    "    #class obj created\n",
    "    obj  = RandomForest()\n",
    "    \n",
    "    # seperate fetures and label\n",
    "    # here we taking only 2 columns level and salary\n",
    "    x_train = train_dataset.iloc[:,1:2].values\n",
    "    y_train = train_dataset.iloc[:,2].values  \n",
    "    \n",
    "#     y_train = y_train.reshape(-1, 1)\n",
    "    print(x_train.shape, y_train.shape)\n",
    "    regression = obj.create_module(x_train,y_train)\n",
    "    print(\"\\nModule created\")\n",
    "    \n",
    "    obj.create_piklefile(regression)\n",
    "    print(\"\\nPikle file created\")\n",
    "    \n",
    "    y_train_pre = obj.y_prediction(x_train,regression)\n",
    "    print(\"\\n\\n y_prediction:\",y_train_pre)\n",
    "    \n",
    "    acc_r2,mean_ab,mean_sq,mean_sq_log, median_ab_error = obj.accuracy(y_train_pre,y_train)\n",
    "    print(\"\\n Accuracy train by acc_r2\", acc_r2)\n",
    "#     print(\"\\n Accuracy train by mean_ab\", mean_ab)\n",
    "#     print(\"\\n Accuracy train by mean_sq\", mean_sq)\n",
    "#     print(\"\\n Accuracy train by mean_sq_log\", mean_sq_log)\n",
    "#     print(\"\\n Accuracy train by median_ab_error\", median_ab_error)\n",
    "    \n",
    "    \n",
    "    \n",
    "    obj.visualization(x_train,y_train, regression)\n",
    "\n",
    "if __name__ == '__main__':\n",
    "    main()\n"
   ]
  },
  {
   "cell_type": "code",
   "execution_count": 59,
   "metadata": {},
   "outputs": [
    {
     "name": "stdout",
     "output_type": "stream",
     "text": [
      "Dataset has 3 rows and 3 Columns\n"
     ]
    }
   ],
   "source": [
    "# Cross Validation\n",
    "\n",
    "# load dataset\n",
    "CV_dataset = pd.read_csv (\"CSV_files/CValidation_file.csv\")\n",
    "print(\"Dataset has {} rows and {} Columns\".format(CV_dataset.shape[0],CV_dataset.shape[1])) "
   ]
  },
  {
   "cell_type": "code",
   "execution_count": 60,
   "metadata": {},
   "outputs": [],
   "source": [
    "#     #cross validation\n",
    "# file1 = open('SimpleLRModulefile.pkl', 'rb')\n",
    "# reg1 = pickle.load(file1)"
   ]
  },
  {
   "cell_type": "code",
   "execution_count": 65,
   "metadata": {},
   "outputs": [
    {
     "name": "stdout",
     "output_type": "stream",
     "text": [
      "y_predict value for 6.5 is  [262616.66666667]\n",
      "\n",
      "\n",
      " y_prediction: [175350.         262616.66666667  75133.33333333]\n",
      "\n",
      " Accuracy train by acc_r2 55.470109523809505\n"
     ]
    },
    {
     "data": {
      "image/png": "[encoded data removed]",
      "text/plain": [
       "<Figure size 432x288 with 1 Axes>"
      ]
     },
     "metadata": {
      "needs_background": "light"
     },
     "output_type": "display_data"
    }
   ],
   "source": [
    "class Cross_validation():\n",
    "           \n",
    "    def y_prediction(self,regression, x_train):\n",
    "        # predicting the test set result\n",
    "        y_predict = regression.predict(x_train.reshape(-1,1))\n",
    "        print(\"y_predict value for 6.5 is \", regression.predict(np.array(6.5).reshape(-1,1)))\n",
    "        return y_predict\n",
    "        \n",
    "#         # predicting the test set result\n",
    "#         return regression.predict(x_train)\n",
    "    \n",
    "    def accuracy(self,y_predict_train,y_train):\n",
    "        # acc using r2\n",
    "        acc_r2 = r2_score(y_train, y_predict_train)*100\n",
    "\n",
    "        return acc_r2\n",
    "    \n",
    "    def visualization(self,x_test,y_test, regression):\n",
    "        # Visualization the Decision Tree result (for higher resolution & smoother curve)\n",
    "        x_grid = np.arange(min(x_test), max(x_test), 0.01)\n",
    "        x_grid = x_grid.reshape((len(x_grid),1))\n",
    "        \n",
    "        plt.scatter(x_test,y_test, color = 'red')\n",
    "#         plt.plot(x_grid,regression.predict(x_grid), color = 'blue')\n",
    "        # reshape x_grid or not both will give same ploting\n",
    "        plt.plot(x_grid,regression.predict(x_grid.reshape(-1,1)), color = 'blue')\n",
    "        plt.title(\"Truth or bluff(Decision tree algorithm)\")\n",
    "        plt.xlabel(\"Position Level\")\n",
    "        plt.ylabel(\"Salary\")\n",
    "        plt.show()\n",
    "        \n",
    "\n",
    "def main():\n",
    "    #class obj created\n",
    "    obj  = Cross_validation()\n",
    "    \n",
    "    # seperate fetures and label\n",
    "    x_cv = CV_dataset.iloc[:,1:2].values\n",
    "    y_cv = CV_dataset.iloc[:,2].values\n",
    " \n",
    "    #     print(x_cv.shape,y_cv.shape)\n",
    "    #cross validation\n",
    "    file1 = open('RandomForestModule.pkl', 'rb')\n",
    "    reg1 = pickle.load(file1)\n",
    "    \n",
    "    # y_prediction ( cross validation)   \n",
    "    y_cv_pre = obj.y_prediction(reg1, x_cv)\n",
    "    print(\"\\n\\n y_prediction:\",y_cv_pre)\n",
    "    \n",
    "    acc_r2= obj.accuracy(y_cv_pre,y_cv)\n",
    "    print(\"\\n Accuracy train by acc_r2\", acc_r2)\n",
    "#     print(\"\\n Accuracy train by median_ab_error\", median_ab_error)\n",
    "\n",
    "    obj.visualization(x_cv, y_cv, reg1)\n",
    "\n",
    "if __name__ == '__main__':\n",
    "    main()\n"
   ]
  },
  {
   "cell_type": "code",
   "execution_count": null,
   "metadata": {},
   "outputs": [],
   "source": [
    "# Here decision tree gives to large or to small accuracy bcoz of overfitting and small amount of dataset"
   ]
  },
  {
   "cell_type": "code",
   "execution_count": null,
   "metadata": {},
   "outputs": [],
   "source": []
  }
 ],
 "metadata": {
  "kernelspec": {
   "display_name": "Python 3",
   "language": "python",
   "name": "python3"
  },
  "language_info": {
   "codemirror_mode": {
    "name": "ipython",
    "version": 3
   },
   "file_extension": ".py",
   "mimetype": "text/x-python",
   "name": "python",
   "nbconvert_exporter": "python",
   "pygments_lexer": "ipython3",
   "version": "3.7.2"
  }
 },
 "nbformat": 4,
 "nbformat_minor": 2
}
