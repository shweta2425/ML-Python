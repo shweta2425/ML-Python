{
 "cells": [
  {
   "cell_type": "code",
   "execution_count": 1,
   "metadata": {},
   "outputs": [],
   "source": [
    "import numpy as np\n",
    "import matplotlib.pyplot as plt\n",
    "from matplotlib import pyplot as plt  \n",
    "import pandas as pd\n",
    "\n",
    "#imputer to handle missing data \n",
    "from sklearn.preprocessing import Imputer\n",
    "from sklearn.model_selection import train_test_split\n",
    "from sklearn.linear_model import LinearRegression\n",
    "#o check accuracy\n",
    "from sklearn.metrics import accuracy_score\n",
    "# to check accuracy\n",
    "from sklearn.metrics import *\n",
    "\n",
    "import pickle \n",
    "\n",
    "# ignore warnings\n",
    "import warnings\n",
    "warnings.filterwarnings('ignore')\n",
    "\n",
    "import csv"
   ]
  },
  {
   "cell_type": "code",
   "execution_count": 2,
   "metadata": {},
   "outputs": [
    {
     "name": "stdout",
     "output_type": "stream",
     "text": [
      "Dataset has 5736 rows and 2 Columns\n"
     ]
    }
   ],
   "source": [
    "# load dataset\n",
    "test_dataset = pd.read_csv (\"CSV_files/test_file.csv\")\n",
    "print(\"Dataset has {} rows and {} Columns\".format(test_dataset.shape[0],test_dataset.shape[1])) "
   ]
  },
  {
   "cell_type": "code",
   "execution_count": 9,
   "metadata": {},
   "outputs": [
    {
     "name": "stdout",
     "output_type": "stream",
     "text": [
      "(5736, 1) (5736,)\n",
      "y_predict value for 6.5 is  [6.]\n",
      "\n",
      "\n",
      " y_prediction: [  3.   4. 662. ...   8. 539. 170.]\n",
      "\n",
      "Accuracy train by acc_r2 88.75316105312695\n",
      "\n",
      "Accuracy train by median_ab_error 16.0\n"
     ]
    },
    {
     "data": {
      "image/png": "[encoded data removed]",
      "text/plain": [
       "<Figure size 432x288 with 1 Axes>"
      ]
     },
     "metadata": {
      "needs_background": "light"
     },
     "output_type": "display_data"
    }
   ],
   "source": [
    "class Testing():\n",
    "           \n",
    "    def y_prediction(self,regression, x_test):\n",
    "        # predicting the test set result\n",
    "        y_predict = regression.predict(x_test.reshape(-1,1))\n",
    "        print(\"y_predict value for 6.5 is \", regression.predict(np.array(6.5).reshape(-1,1)))\n",
    "        return y_predict\n",
    "        \n",
    "#         # predicting the test set result\n",
    "#         return regression.predict(x_train)\n",
    "    \n",
    "    def accuracy(self,y_predict_train,y_train):\n",
    "        # acc using r2\n",
    "        acc_r2 = r2_score(y_train, y_predict_train)*100    \n",
    "#         acc_r2 = (1-error)*100\n",
    "        \n",
    "        # using median_ab_error\n",
    "        median_ab_error = median_absolute_error(y_train, y_predict_train)\n",
    "        return acc_r2, median_ab_error\n",
    "    \n",
    "    def visualization(self,x_test,y_test, regression):\n",
    "        # Visualization the Decision Tree result (for higher resolution & smoother curve)\n",
    "        x_grid = np.arange(min(x_test), max(x_test), 0.01)\n",
    "        x_grid = x_grid.reshape((len(x_grid),1))\n",
    "        \n",
    "        plt.scatter(x_test,y_test, color = 'red')\n",
    "#         plt.plot(x_grid,regression.predict(x_grid), color = 'blue')\n",
    "        # reshape x_grid or not both will give same ploting\n",
    "        plt.plot(x_grid,regression.predict(x_grid.reshape(-1,1)), color = 'blue')\n",
    "        plt.title(\"Truth or bluff(Decision tree algorithm)\")\n",
    "        plt.xlabel(\"Position Level\")\n",
    "        plt.ylabel(\"Salary\")\n",
    "        plt.show()\n",
    "        \n",
    "\n",
    "def main():\n",
    "    #class obj created\n",
    "    obj  = Testing()\n",
    "    \n",
    "    # seperate fetures and label\n",
    "    x_test = test_dataset.iloc[:,:1].values\n",
    "    y_test = test_dataset.iloc[:,1].values\n",
    " \n",
    "    print(x_test.shape,y_test.shape)\n",
    "    #cross validation\n",
    "    file1 = open('DecisionTreeModule2nd.pkl', 'rb')\n",
    "    reg1 = pickle.load(file1)\n",
    "    \n",
    "    # y_prediction ( cross validation)   \n",
    "    y_test_pre = obj.y_prediction(reg1, x_test)\n",
    "    print(\"\\n\\n y_prediction:\",y_test_pre)\n",
    "    \n",
    "    acc_r2, median_ab_error = obj.accuracy(y_test_pre,y_test)\n",
    "    print(\"\\nAccuracy train by acc_r2\", acc_r2)\n",
    "    print(\"\\nAccuracy train by median_ab_error\", median_ab_error)\n",
    "\n",
    "    obj.visualization(x_test,y_test,reg1)\n",
    "\n",
    "if __name__ == '__main__':\n",
    "    main()\n"
   ]
  },
  {
   "cell_type": "code",
   "execution_count": null,
   "metadata": {},
   "outputs": [],
   "source": []
  }
 ],
 "metadata": {
  "kernelspec": {
   "display_name": "Python 3",
   "language": "python",
   "name": "python3"
  },
  "language_info": {
   "codemirror_mode": {
    "name": "ipython",
    "version": 3
   },
   "file_extension": ".py",
   "mimetype": "text/x-python",
   "name": "python",
   "nbconvert_exporter": "python",
   "pygments_lexer": "ipython3",
   "version": "3.7.2"
  }
 },
 "nbformat": 4,
 "nbformat_minor": 2
}
