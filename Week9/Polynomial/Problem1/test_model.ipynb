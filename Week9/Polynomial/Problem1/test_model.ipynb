
{
 "cells": [
  {
   "cell_type": "code",
   "execution_count": 51,
   "metadata": {
    "ExecuteTime": {
     "end_time": "2019-05-02T12:39:03.825110Z",
     "start_time": "2019-05-02T12:39:03.821696Z"
    }
   },
   "outputs": [],
   "source": [
    "# import libraries\n",
    "import pandas.api.types as ptypes\n",
    "import pandas as pd\n",
    "import numpy as np\n",
    "import seaborn as sb\n",
    "from matplotlib import pyplot as plt\n",
    "from sklearn.model_selection import train_test_split \n",
    "from sklearn.linear_model import LinearRegression  \n",
    "import pickle\n",
    "import sklearn"
   ]
  },
  {
   "cell_type": "code",
   "execution_count": 52,
   "metadata": {
    "ExecuteTime": {
     "end_time": "2019-05-02T12:39:04.214874Z",
     "start_time": "2019-05-02T12:39:04.204766Z"
    }
   },
   "outputs": [
    {
     "data": {
      "text/html": [
       "<div>\n",
       "<style scoped>\n",
       "    .dataframe tbody tr th:only-of-type {\n",
       "        vertical-align: middle;\n",
       "    }\n",
       "\n",
       "    .dataframe tbody tr th {\n",
       "        vertical-align: top;\n",
       "    }\n",
       "\n",
       "    .dataframe thead th {\n",
       "        text-align: right;\n",
       "    }\n",
       "</style>\n",
       "<table border=\"1\" class=\"dataframe\">\n",
       "  <thead>\n",
       "    <tr style=\"text-align: right;\">\n",
       "      <th></th>\n",
       "      <th>Level</th>\n",
       "      <th>Salary</th>\n",
       "    </tr>\n",
       "  </thead>\n",
       "  <tbody>\n",
       "    <tr>\n",
       "      <th>0</th>\n",
       "      <td>9</td>\n",
       "      <td>500000</td>\n",
       "    </tr>\n",
       "    <tr>\n",
       "      <th>1</th>\n",
       "      <td>7</td>\n",
       "      <td>200000</td>\n",
       "    </tr>\n",
       "    <tr>\n",
       "      <th>2</th>\n",
       "      <td>5</td>\n",
       "      <td>110000</td>\n",
       "    </tr>\n",
       "  </tbody>\n",
       "</table>\n",
       "</div>"
      ],
      "text/plain": [
       "   Level  Salary\n",
       "0      9  500000\n",
       "1      7  200000\n",
       "2      5  110000"
      ]
     },
     "execution_count": 52,
     "metadata": {},
     "output_type": "execute_result"
    }
   ],
   "source": [
    "# read file\n",
    "df_original=pd.read_csv(\"test_data.csv\")\n",
    "\n",
    "df =df_original\n",
    "df.head()"
   ]
  },
  {
   "cell_type": "code",
   "execution_count": 53,
   "metadata": {
    "ExecuteTime": {
     "end_time": "2019-05-02T12:39:04.660172Z",
     "start_time": "2019-05-02T12:39:04.656879Z"
    }
   },
   "outputs": [],
   "source": [
    "# separate labels and features\n",
    "x_test=df.iloc[:,:-1].values\n",
    "y_test=df.iloc[:,1].values"
   ]
  },
  {
   "cell_type": "code",
   "execution_count": 54,
   "metadata": {
    "ExecuteTime": {
     "end_time": "2019-05-02T12:39:05.127774Z",
     "start_time": "2019-05-02T12:39:05.121748Z"
    }
   },
   "outputs": [],
   "source": [
    "# reading the pickle file\n",
    "\n",
    "fileObject = open('train_data.pkl','rb')  \n",
    "poly_reg = pickle.load(fileObject)\n",
    "lin_reg2 = pickle.load(fileObject)  \n",
    "\n"
   ]
  },
  {
   "cell_type": "code",
   "execution_count": 55,
   "metadata": {
    "ExecuteTime": {
     "end_time": "2019-05-02T12:39:05.525371Z",
     "start_time": "2019-05-02T12:39:05.522790Z"
    }
   },
   "outputs": [],
   "source": [
    "# getting the prediction values on train model\n",
    "# y_pred=lin_reg2.predict(poly_reg.fit_transform(x_test))"
   ]
  },
  {
   "cell_type": "code",
   "execution_count": 56,
   "metadata": {
    "ExecuteTime": {
     "end_time": "2019-05-02T12:39:05.882170Z",
     "start_time": "2019-05-02T12:39:05.879725Z"
    }
   },
   "outputs": [],
   "source": [
    "\n",
    "# pd.DataFrame({'Actual': y_test, 'Predicted': y_pred})                                "
   ]
  },
  {
   "cell_type": "code",
   "execution_count": 57,
   "metadata": {
    "ExecuteTime": {
     "end_time": "2019-05-02T12:39:06.575498Z",
     "start_time": "2019-05-02T12:39:06.396094Z"
    }
   },
   "outputs": [
    {
     "name": "stdout",
     "output_type": "stream",
     "text": [
      "Accuracy of test data = 93.41495268570031\n"
     ]
    },
    {
     "data": {
      "image/png": "[encoded data removed]",
      "text/plain": [
       "<Figure size 432x288 with 1 Axes>"
      ]
     },
     "metadata": {
      "needs_background": "light"
     },
     "output_type": "display_data"
    }
   ],
   "source": [
    "class PolynomialRegression:\n",
    "    \n",
    "    def get_predictions(self,x_test):\n",
    "        \n",
    "        # getting the prediction values on train model\n",
    "        y_pred=lin_reg2.predict(poly_reg.fit_transform(x_test))\n",
    "        \n",
    "        return y_pred\n",
    "    \n",
    "    def get_accuracy(self,y_pred,y_test):        \n",
    "\n",
    "        Accuracy = sklearn.metrics.r2_score(y_test,y_pred)*100\n",
    "        return Accuracy\n",
    "\n",
    "    \n",
    "    def visualize_cvset(self):\n",
    "        # visualizing the testing set result\n",
    "        x_grid=np.arange(min(x_test),max(x_test),0.1)\n",
    "        x_grid=x_grid.reshape((len(x_grid),1))\n",
    "        plt.scatter(x_test,y_test,color='red')\n",
    "        plt.plot(x_grid,lin_reg2.predict(poly_reg.fit_transform(x_grid)),color='blue')\n",
    "        plt.title('predict salary  based on position (Testing Set)')\n",
    "        plt.xlabel('Level')\n",
    "        plt.ylabel('Salary')\n",
    "        plt.show()\n",
    "    \n",
    "\n",
    "    \n",
    "def main():\n",
    "    # creates class object \n",
    "    obj = PolynomialRegression()\n",
    "    y_pred=obj.get_predictions(x_test)\n",
    "    acc_test=obj.get_accuracy(y_pred,y_test)\n",
    "    print(\"Accuracy of test data =\",acc_test)\n",
    "    \n",
    "    obj.visualize_cvset()\n",
    "if __name__ == '__main__':\n",
    "    main()\n",
    "    \n"
   ]
  },
  {
   "cell_type": "code",
   "execution_count": null,
   "metadata": {},
   "outputs": [],
   "source": []
  }
 ],
 "metadata": {
  "kernelspec": {
   "display_name": "Python 3",
   "language": "python",
   "name": "python3"
  },
  "language_info": {
   "codemirror_mode": {
    "name": "ipython",
    "version": 3
   },
   "file_extension": ".py",
   "mimetype": "text/x-python",
   "name": "python",
   "nbconvert_exporter": "python",
   "pygments_lexer": "ipython3",
   "version": "3.5.6"
  }
 },
 "nbformat": 4,
 "nbformat_minor": 2
}
