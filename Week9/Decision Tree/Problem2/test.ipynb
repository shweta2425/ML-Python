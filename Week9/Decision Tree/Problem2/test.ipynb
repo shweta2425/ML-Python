{
 "cells": [
  {
   "cell_type": "code",
   "execution_count": 1,
   "metadata": {},
   "outputs": [],
   "source": [
    "# import libraries\n",
    "import pandas.api.types as ptypes\n",
    "import pandas as pd\n",
    "import numpy as np\n",
    "import seaborn as sb\n",
    "from matplotlib import pyplot as plt\n",
    "from sklearn.model_selection import train_test_split \n",
    "from sklearn.linear_model import LinearRegression  \n",
    "import pickle\n",
    "import sklearn\n",
    "from sklearn.metrics import mean_absolute_error\n",
    "from sklearn.preprocessing import PolynomialFeatures\n",
    "from sklearn.tree import DecisionTreeRegressor\n"
   ]
  },
  {
   "cell_type": "code",
   "execution_count": 2,
   "metadata": {},
   "outputs": [
    {
     "data": {
      "text/html": [
       "<div>\n",
       "<style scoped>\n",
       "    .dataframe tbody tr th:only-of-type {\n",
       "        vertical-align: middle;\n",
       "    }\n",
       "\n",
       "    .dataframe tbody tr th {\n",
       "        vertical-align: top;\n",
       "    }\n",
       "\n",
       "    .dataframe thead th {\n",
       "        text-align: right;\n",
       "    }\n",
       "</style>\n",
       "<table border=\"1\" class=\"dataframe\">\n",
       "  <thead>\n",
       "    <tr style=\"text-align: right;\">\n",
       "      <th></th>\n",
       "      <th>registered</th>\n",
       "      <th>cnt</th>\n",
       "    </tr>\n",
       "  </thead>\n",
       "  <tbody>\n",
       "    <tr>\n",
       "      <th>0</th>\n",
       "      <td>112</td>\n",
       "      <td>125</td>\n",
       "    </tr>\n",
       "    <tr>\n",
       "      <th>1</th>\n",
       "      <td>143</td>\n",
       "      <td>170</td>\n",
       "    </tr>\n",
       "    <tr>\n",
       "      <th>2</th>\n",
       "      <td>243</td>\n",
       "      <td>413</td>\n",
       "    </tr>\n",
       "    <tr>\n",
       "      <th>3</th>\n",
       "      <td>216</td>\n",
       "      <td>247</td>\n",
       "    </tr>\n",
       "    <tr>\n",
       "      <th>4</th>\n",
       "      <td>30</td>\n",
       "      <td>48</td>\n",
       "    </tr>\n",
       "  </tbody>\n",
       "</table>\n",
       "</div>"
      ],
      "text/plain": [
       "   registered  cnt\n",
       "0         112  125\n",
       "1         143  170\n",
       "2         243  413\n",
       "3         216  247\n",
       "4          30   48"
      ]
     },
     "execution_count": 2,
     "metadata": {},
     "output_type": "execute_result"
    }
   ],
   "source": [
    "# read file\n",
    "df_original=pd.read_csv(\"test_data.csv\")\n",
    "\n",
    "df =df_original\n",
    "df.head()"
   ]
  },
  {
   "cell_type": "code",
   "execution_count": 3,
   "metadata": {},
   "outputs": [],
   "source": [
    "# separate labels and features\n",
    "x_test=df.iloc[:,:-1].values\n",
    "y_test=df.iloc[:,1].values"
   ]
  },
  {
   "cell_type": "code",
   "execution_count": 4,
   "metadata": {},
   "outputs": [],
   "source": [
    "# reading the pickle file\n",
    "\n",
    "fileObject = open('train_data.pkl','rb')  \n",
    "regressor = pickle.load(fileObject)"
   ]
  },
  {
   "cell_type": "code",
   "execution_count": 5,
   "metadata": {},
   "outputs": [
    {
     "name": "stdout",
     "output_type": "stream",
     "text": [
      "Accuracy of test data = 94.49646216220432\n"
     ]
    },
    {
     "data": {
      "image/png": "[encoded data removed]",
      "text/plain": [
       "<Figure size 432x288 with 1 Axes>"
      ]
     },
     "metadata": {
      "needs_background": "light"
     },
     "output_type": "display_data"
    }
   ],
   "source": [
    "class DecisionTree:\n",
    "    \n",
    "    def get_predictions(self,x_test):\n",
    "        \n",
    "        # getting the prediction values on train model\n",
    "        y_pred = regressor.predict(x_test)\n",
    "        return y_pred\n",
    "    \n",
    "    def get_accuracy(self,y_pred,y_test):        \n",
    "\n",
    "        Accuracy = sklearn.metrics.r2_score(y_test,y_pred)*100\n",
    "        return Accuracy\n",
    "\n",
    "    \n",
    "    def visualize_cvset(self):\n",
    "        # visualizing the testing set result\n",
    "        x_grid=np.arange(min(x_test),max(x_test),0.1)\n",
    "        x_grid=x_grid.reshape((len(x_grid),1))\n",
    "        plt.scatter(x_test,y_test,color='red')\n",
    "        plt.plot(x_grid,regressor.predict(x_grid),color='blue')\n",
    "        plt.title('predict salary  based on position')\n",
    "        plt.xlabel('Level')\n",
    "        plt.ylabel('Salary')\n",
    "        plt.show()\n",
    "    \n",
    "\n",
    "    \n",
    "def main():\n",
    "    # creates class object \n",
    "    obj = DecisionTree()\n",
    "    y_pred=obj.get_predictions(x_test)\n",
    "    acc_test=obj.get_accuracy(y_pred,y_test)\n",
    "    print(\"Accuracy of test data =\",acc_test)\n",
    "    \n",
    "    obj.visualize_cvset()\n",
    "if __name__ == '__main__':\n",
    "    main()\n",
    "    \n"
   ]
  },
  {
   "cell_type": "code",
   "execution_count": null,
   "metadata": {},
   "outputs": [],
   "source": []
  }
 ],
 "metadata": {
  "kernelspec": {
   "display_name": "Python 3",
   "language": "python",
   "name": "python3"
  },
  "language_info": {
   "codemirror_mode": {
    "name": "ipython",
    "version": 3
   },
   "file_extension": ".py",
   "mimetype": "text/x-python",
   "name": "python",
   "nbconvert_exporter": "python",
   "pygments_lexer": "ipython3",
   "version": "3.7.2"
  }
 },
 "nbformat": 4,
 "nbformat_minor": 2
}
