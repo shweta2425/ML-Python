{
 "cells": [
  {
   "cell_type": "code",
   "execution_count": 1,
   "metadata": {},
   "outputs": [],
   "source": [
    "import numpy as np\n",
    "import pandas as pd\n",
    "import os\n",
    "import cv2"
   ]
  },
  {
   "cell_type": "code",
   "execution_count": 2,
   "metadata": {},
   "outputs": [
    {
     "data": {
      "text/html": [
       "<div>\n",
       "<style>\n",
       "    .dataframe thead tr:only-child th {\n",
       "        text-align: right;\n",
       "    }\n",
       "\n",
       "    .dataframe thead th {\n",
       "        text-align: left;\n",
       "    }\n",
       "\n",
       "    .dataframe tbody tr th {\n",
       "        vertical-align: top;\n",
       "    }\n",
       "</style>\n",
       "<table border=\"1\" class=\"dataframe\">\n",
       "  <thead>\n",
       "    <tr style=\"text-align: right;\">\n",
       "      <th></th>\n",
       "      <th>ID</th>\n",
       "      <th>Class</th>\n",
       "    </tr>\n",
       "  </thead>\n",
       "  <tbody>\n",
       "    <tr>\n",
       "      <th>0</th>\n",
       "      <td>377.jpg</td>\n",
       "      <td>MIDDLE</td>\n",
       "    </tr>\n",
       "    <tr>\n",
       "      <th>1</th>\n",
       "      <td>17814.jpg</td>\n",
       "      <td>YOUNG</td>\n",
       "    </tr>\n",
       "    <tr>\n",
       "      <th>2</th>\n",
       "      <td>21283.jpg</td>\n",
       "      <td>MIDDLE</td>\n",
       "    </tr>\n",
       "    <tr>\n",
       "      <th>3</th>\n",
       "      <td>16496.jpg</td>\n",
       "      <td>YOUNG</td>\n",
       "    </tr>\n",
       "    <tr>\n",
       "      <th>4</th>\n",
       "      <td>4487.jpg</td>\n",
       "      <td>MIDDLE</td>\n",
       "    </tr>\n",
       "  </tbody>\n",
       "</table>\n",
       "</div>"
      ],
      "text/plain": [
       "          ID   Class\n",
       "0    377.jpg  MIDDLE\n",
       "1  17814.jpg   YOUNG\n",
       "2  21283.jpg  MIDDLE\n",
       "3  16496.jpg   YOUNG\n",
       "4   4487.jpg  MIDDLE"
      ]
     },
     "execution_count": 2,
     "metadata": {},
     "output_type": "execute_result"
    }
   ],
   "source": [
    "\n",
    "train=pd.read_csv('Dataset/train.csv')\n",
    "train.head()"
   ]
  },
  {
   "cell_type": "code",
   "execution_count": 3,
   "metadata": {},
   "outputs": [
    {
     "data": {
      "text/html": [
       "<div>\n",
       "<style>\n",
       "    .dataframe thead tr:only-child th {\n",
       "        text-align: right;\n",
       "    }\n",
       "\n",
       "    .dataframe thead th {\n",
       "        text-align: left;\n",
       "    }\n",
       "\n",
       "    .dataframe tbody tr th {\n",
       "        vertical-align: top;\n",
       "    }\n",
       "</style>\n",
       "<table border=\"1\" class=\"dataframe\">\n",
       "  <thead>\n",
       "    <tr style=\"text-align: right;\">\n",
       "      <th></th>\n",
       "      <th>ID</th>\n",
       "    </tr>\n",
       "  </thead>\n",
       "  <tbody>\n",
       "    <tr>\n",
       "      <th>0</th>\n",
       "      <td>25321.jpg</td>\n",
       "    </tr>\n",
       "    <tr>\n",
       "      <th>1</th>\n",
       "      <td>989.jpg</td>\n",
       "    </tr>\n",
       "    <tr>\n",
       "      <th>2</th>\n",
       "      <td>19277.jpg</td>\n",
       "    </tr>\n",
       "    <tr>\n",
       "      <th>3</th>\n",
       "      <td>13093.jpg</td>\n",
       "    </tr>\n",
       "    <tr>\n",
       "      <th>4</th>\n",
       "      <td>5367.jpg</td>\n",
       "    </tr>\n",
       "  </tbody>\n",
       "</table>\n",
       "</div>"
      ],
      "text/plain": [
       "          ID\n",
       "0  25321.jpg\n",
       "1    989.jpg\n",
       "2  19277.jpg\n",
       "3  13093.jpg\n",
       "4   5367.jpg"
      ]
     },
     "execution_count": 3,
     "metadata": {},
     "output_type": "execute_result"
    }
   ],
   "source": [
    "test=pd.read_csv('Dataset/test.csv')\n",
    "test.head()"
   ]
  },
  {
   "cell_type": "code",
   "execution_count": 4,
   "metadata": {},
   "outputs": [
    {
     "data": {
      "text/html": [
       "<div>\n",
       "<style>\n",
       "    .dataframe thead tr:only-child th {\n",
       "        text-align: right;\n",
       "    }\n",
       "\n",
       "    .dataframe thead th {\n",
       "        text-align: left;\n",
       "    }\n",
       "\n",
       "    .dataframe tbody tr th {\n",
       "        vertical-align: top;\n",
       "    }\n",
       "</style>\n",
       "<table border=\"1\" class=\"dataframe\">\n",
       "  <thead>\n",
       "    <tr style=\"text-align: right;\">\n",
       "      <th></th>\n",
       "      <th>ID</th>\n",
       "      <th>Class</th>\n",
       "    </tr>\n",
       "  </thead>\n",
       "  <tbody>\n",
       "    <tr>\n",
       "      <th>count</th>\n",
       "      <td>19906</td>\n",
       "      <td>19906</td>\n",
       "    </tr>\n",
       "    <tr>\n",
       "      <th>unique</th>\n",
       "      <td>19906</td>\n",
       "      <td>3</td>\n",
       "    </tr>\n",
       "    <tr>\n",
       "      <th>top</th>\n",
       "      <td>25644.jpg</td>\n",
       "      <td>MIDDLE</td>\n",
       "    </tr>\n",
       "    <tr>\n",
       "      <th>freq</th>\n",
       "      <td>1</td>\n",
       "      <td>10804</td>\n",
       "    </tr>\n",
       "  </tbody>\n",
       "</table>\n",
       "</div>"
      ],
      "text/plain": [
       "               ID   Class\n",
       "count       19906   19906\n",
       "unique      19906       3\n",
       "top     25644.jpg  MIDDLE\n",
       "freq            1   10804"
      ]
     },
     "execution_count": 4,
     "metadata": {},
     "output_type": "execute_result"
    }
   ],
   "source": [
    "train.describe()"
   ]
  },
  {
   "cell_type": "code",
   "execution_count": 5,
   "metadata": {},
   "outputs": [],
   "source": [
    "def image_read(imglist,path):\n",
    "    image_array=[]\n",
    "    for i in imglist:\n",
    "        image=cv2.imread(path+i)\n",
    "        image=cv2.resize(image,(64,64))\n",
    "        image_array.append(image)\n",
    "    image_array=np.array(image_array)    \n",
    "    return image_array"
   ]
  },
  {
   "cell_type": "code",
   "execution_count": 6,
   "metadata": {},
   "outputs": [],
   "source": [
    "train_img_path=\"Train/\"\n",
    "imglist=train['ID']\n",
    "#print(imglist)\n",
    "X_train=image_read(imglist,train_img_path)"
   ]
  },
  {
   "cell_type": "code",
   "execution_count": 77,
   "metadata": {},
   "outputs": [
    {
     "data": {
      "text/plain": [
       "(19906, 64, 64, 3)"
      ]
     },
     "execution_count": 77,
     "metadata": {},
     "output_type": "execute_result"
    }
   ],
   "source": [
    "X_train.shape"
   ]
  },
  {
   "cell_type": "code",
   "execution_count": 7,
   "metadata": {},
   "outputs": [],
   "source": [
    "test_img_path=\"Test/\"\n",
    "imglist1=test['ID']\n",
    "X_test=image_read(imglist1,test_img_path)"
   ]
  },
  {
   "cell_type": "code",
   "execution_count": 8,
   "metadata": {},
   "outputs": [
    {
     "data": {
      "text/plain": [
       "(6636, 64, 64, 3)"
      ]
     },
     "execution_count": 8,
     "metadata": {},
     "output_type": "execute_result"
    }
   ],
   "source": [
    "X_test.shape"
   ]
  },
  {
   "cell_type": "code",
   "execution_count": 10,
   "metadata": {},
   "outputs": [],
   "source": [
    "X_train=X_train/255"
   ]
  },
  {
   "cell_type": "code",
   "execution_count": 11,
   "metadata": {},
   "outputs": [],
   "source": [
    "X_test=X_test/255"
   ]
  },
  {
   "cell_type": "code",
   "execution_count": 12,
   "metadata": {},
   "outputs": [],
   "source": [
    "Y_train=train['Class']\n",
    "Y_train = Y_train.map({'YOUNG': 0, 'MIDDLE': 1, 'OLD': 2})"
   ]
  },
  {
   "cell_type": "code",
   "execution_count": 13,
   "metadata": {},
   "outputs": [],
   "source": [
    "from sklearn.preprocessing import LabelBinarizer \n",
    "label_binarizer = LabelBinarizer()\n",
    "label_binarizer.fit(Y_train)\n",
    "\n",
    "Y_train=label_binarizer.transform(Y_train)\n"
   ]
  },
  {
   "cell_type": "code",
   "execution_count": 33,
   "metadata": {},
   "outputs": [],
   "source": [
    "from sklearn.model_selection import train_test_split\n",
    "X_train, X_valid, Y_train, Y_valid=train_test_split(X_train,Y_train,test_size=0.15, random_state=42)"
   ]
  },
  {
   "cell_type": "code",
   "execution_count": 34,
   "metadata": {},
   "outputs": [
    {
     "data": {
      "text/plain": [
       "(14382, 64, 64, 3)"
      ]
     },
     "execution_count": 34,
     "metadata": {},
     "output_type": "execute_result"
    }
   ],
   "source": [
    "X_train.shape"
   ]
  },
  {
   "cell_type": "code",
   "execution_count": 32,
   "metadata": {},
   "outputs": [],
   "source": [
    "from keras.preprocessing.image import ImageDataGenerator"
   ]
  },
  {
   "cell_type": "code",
   "execution_count": 40,
   "metadata": {},
   "outputs": [],
   "source": [
    "datagen_train = ImageDataGenerator(\n",
    "    width_shift_range=0.2,  # randomly shift images horizontally \n",
    "    height_shift_range=0.2,# randomly shift images vertically \n",
    "    \n",
    "    horizontal_flip=True) # randomly flip images horizontally\n",
    "\n",
    "# fit augmented image generator on data\n",
    "datagen_train.fit(X_train)"
   ]
  },
  {
   "cell_type": "code",
   "execution_count": 41,
   "metadata": {},
   "outputs": [],
   "source": [
    "from keras.layers import Input,InputLayer, Dense, Activation, ZeroPadding2D, BatchNormalization, Flatten, Conv2D\n",
    "from keras.layers import AveragePooling2D, MaxPooling2D, Dropout\n",
    "from keras.models import Sequential,Model\n",
    "from keras.callbacks import ModelCheckpoint"
   ]
  },
  {
   "cell_type": "code",
   "execution_count": 42,
   "metadata": {},
   "outputs": [],
   "source": [
    "inputShape=(64,64,3)\n"
   ]
  },
  {
   "cell_type": "code",
   "execution_count": 43,
   "metadata": {},
   "outputs": [],
   "source": [
    "input = Input(inputShape)\n",
    "#x = Conv2D(32,(3,3),strides = (1,1),name='conv_layer1')(xInput)\n",
    "\n",
    "x = Conv2D(64,(3,3),strides = (1,1),name='layer_conv1',padding='same')(input)\n",
    "x = BatchNormalization()(x)\n",
    "x = Activation('relu')(x)\n",
    "x = MaxPooling2D((2,2),name='maxPool1')(x)\n",
    "#x = Dropout(0.5)(x)\n",
    "\n",
    "x = Conv2D(128,(3,3),strides = (1,1),name='layer_conv2')(x)\n",
    "x = BatchNormalization()(x)\n",
    "x = Activation('relu')(x)\n",
    "x = MaxPooling2D((2,2),name='maxPool2')(x)\n",
    "#x = Dropout(0.5)(x)\n",
    "\n",
    "x = Conv2D(128,(3,3),strides = (1,1),name='layer_conv3')(x)\n",
    "x = BatchNormalization()(x)\n",
    "x = Activation('relu')(x)\n",
    "x = MaxPooling2D((2,2),name='maxPool3')(x)\n",
    "#x = Dropout(0.5)(x)\n",
    "\n",
    "x = Conv2D(64,(3,3),strides = (1,1),name='conv4')(x)\n",
    "x = BatchNormalization()(x)\n",
    "x = Activation('relu')(x)\n",
    "x = MaxPooling2D((2,2),name='maxPool4')(x)\n",
    "\n",
    "\n",
    "x = Flatten()(x)\n",
    "x = Dense(64,activation = 'relu',name='fc0')(x)\n",
    "x = Dropout(0.25)(x)\n",
    "x = Dense(32,activation = 'relu',name='fc1')(x)\n",
    "x = Dropout(0.25)(x)\n",
    "x = Dense(3,activation = 'softmax',name='fc2')(x)\n",
    "\n",
    "model = Model(inputs = input,outputs = x,name='Predict')\n",
    "\n",
    "   "
   ]
  },
  {
   "cell_type": "code",
   "execution_count": 44,
   "metadata": {},
   "outputs": [
    {
     "name": "stdout",
     "output_type": "stream",
     "text": [
      "_________________________________________________________________\n",
      "Layer (type)                 Output Shape              Param #   \n",
      "=================================================================\n",
      "input_4 (InputLayer)         (None, 64, 64, 3)         0         \n",
      "_________________________________________________________________\n",
      "layer_conv1 (Conv2D)         (None, 64, 64, 64)        1792      \n",
      "_________________________________________________________________\n",
      "batch_normalization_13 (Batc (None, 64, 64, 64)        256       \n",
      "_________________________________________________________________\n",
      "activation_13 (Activation)   (None, 64, 64, 64)        0         \n",
      "_________________________________________________________________\n",
      "maxPool1 (MaxPooling2D)      (None, 32, 32, 64)        0         \n",
      "_________________________________________________________________\n",
      "layer_conv2 (Conv2D)         (None, 30, 30, 128)       73856     \n",
      "_________________________________________________________________\n",
      "batch_normalization_14 (Batc (None, 30, 30, 128)       512       \n",
      "_________________________________________________________________\n",
      "activation_14 (Activation)   (None, 30, 30, 128)       0         \n",
      "_________________________________________________________________\n",
      "maxPool2 (MaxPooling2D)      (None, 15, 15, 128)       0         \n",
      "_________________________________________________________________\n",
      "layer_conv3 (Conv2D)         (None, 13, 13, 128)       147584    \n",
      "_________________________________________________________________\n",
      "batch_normalization_15 (Batc (None, 13, 13, 128)       512       \n",
      "_________________________________________________________________\n",
      "activation_15 (Activation)   (None, 13, 13, 128)       0         \n",
      "_________________________________________________________________\n",
      "maxPool3 (MaxPooling2D)      (None, 6, 6, 128)         0         \n",
      "_________________________________________________________________\n",
      "conv4 (Conv2D)               (None, 4, 4, 64)          73792     \n",
      "_________________________________________________________________\n",
      "batch_normalization_16 (Batc (None, 4, 4, 64)          256       \n",
      "_________________________________________________________________\n",
      "activation_16 (Activation)   (None, 4, 4, 64)          0         \n",
      "_________________________________________________________________\n",
      "maxPool4 (MaxPooling2D)      (None, 2, 2, 64)          0         \n",
      "_________________________________________________________________\n",
      "flatten_4 (Flatten)          (None, 256)               0         \n",
      "_________________________________________________________________\n",
      "fc0 (Dense)                  (None, 64)                16448     \n",
      "_________________________________________________________________\n",
      "dropout_7 (Dropout)          (None, 64)                0         \n",
      "_________________________________________________________________\n",
      "fc1 (Dense)                  (None, 32)                2080      \n",
      "_________________________________________________________________\n",
      "dropout_8 (Dropout)          (None, 32)                0         \n",
      "_________________________________________________________________\n",
      "fc2 (Dense)                  (None, 3)                 99        \n",
      "=================================================================\n",
      "Total params: 317,187\n",
      "Trainable params: 316,419\n",
      "Non-trainable params: 768\n",
      "_________________________________________________________________\n"
     ]
    }
   ],
   "source": [
    "model.summary()"
   ]
  },
  {
   "cell_type": "code",
   "execution_count": 28,
   "metadata": {},
   "outputs": [],
   "source": [
    "#model.load_weights('final_weight.h5')"
   ]
  },
  {
   "cell_type": "code",
   "execution_count": 45,
   "metadata": {},
   "outputs": [],
   "source": [
    "model.compile(optimizer='adam', loss='categorical_crossentropy', metrics=['accuracy'])"
   ]
  },
  {
   "cell_type": "code",
   "execution_count": 46,
   "metadata": {},
   "outputs": [],
   "source": [
    "checkpointer = ModelCheckpoint(filepath='cnnweights.best.eda.hdf5', verbose=1, save_best_only=True)\n",
    "\n"
   ]
  },
  {
   "cell_type": "code",
   "execution_count": 48,
   "metadata": {},
   "outputs": [
    {
     "name": "stdout",
     "output_type": "stream",
     "text": [
      "Epoch 1/10\n",
      "14380/14382 [============================>.] - ETA: 0s - loss: 0.7156 - acc: 0.6888Epoch 00001: val_loss improved from inf to 0.58896, saving model to cnnweights.best.eda.hdf5\n",
      "14382/14382 [==============================] - 440s 31ms/step - loss: 0.7155 - acc: 0.6888 - val_loss: 0.5890 - val_acc: 0.7423\n",
      "Epoch 2/10\n",
      "14381/14382 [============================>.] - ETA: 0s - loss: 0.5531 - acc: 0.7708Epoch 00002: val_loss improved from 0.58896 to 0.48710, saving model to cnnweights.best.eda.hdf5\n",
      "14382/14382 [==============================] - 438s 30ms/step - loss: 0.5532 - acc: 0.7708 - val_loss: 0.4871 - val_acc: 0.8042\n",
      "Epoch 3/10\n",
      "14381/14382 [============================>.] - ETA: 0s - loss: 0.4614 - acc: 0.8140Epoch 00003: val_loss improved from 0.48710 to 0.43348, saving model to cnnweights.best.eda.hdf5\n",
      "14382/14382 [==============================] - 435s 30ms/step - loss: 0.4614 - acc: 0.8140 - val_loss: 0.4335 - val_acc: 0.8282\n",
      "Epoch 4/10\n",
      "14381/14382 [============================>.] - ETA: 0s - loss: 0.3978 - acc: 0.8422Epoch 00004: val_loss did not improve\n",
      "14382/14382 [==============================] - 436s 30ms/step - loss: 0.3978 - acc: 0.8422 - val_loss: 0.4886 - val_acc: 0.7994\n",
      "Epoch 5/10\n",
      "14381/14382 [============================>.] - ETA: 0s - loss: 0.3503 - acc: 0.8640Epoch 00005: val_loss did not improve\n",
      "14382/14382 [==============================] - 436s 30ms/step - loss: 0.3503 - acc: 0.8640 - val_loss: 0.4973 - val_acc: 0.8239\n",
      "Epoch 6/10\n",
      "14381/14382 [============================>.] - ETA: 0s - loss: 0.3122 - acc: 0.8793Epoch 00006: val_loss did not improve\n",
      "14382/14382 [==============================] - 436s 30ms/step - loss: 0.3122 - acc: 0.8793 - val_loss: 0.4525 - val_acc: 0.8322\n",
      "Epoch 7/10\n",
      "14381/14382 [============================>.] - ETA: 0s - loss: 0.2859 - acc: 0.8902Epoch 00007: val_loss did not improve\n",
      "14382/14382 [==============================] - 437s 30ms/step - loss: 0.2860 - acc: 0.8901 - val_loss: 0.4468 - val_acc: 0.8491\n",
      "Epoch 8/10\n",
      "14381/14382 [============================>.] - ETA: 0s - loss: 0.2633 - acc: 0.8991Epoch 00008: val_loss did not improve\n",
      "14382/14382 [==============================] - 437s 30ms/step - loss: 0.2633 - acc: 0.8991 - val_loss: 0.4989 - val_acc: 0.8227\n",
      "Epoch 9/10\n",
      "14381/14382 [============================>.] - ETA: 0s - loss: 0.2438 - acc: 0.9083Epoch 00009: val_loss improved from 0.43348 to 0.40506, saving model to cnnweights.best.eda.hdf5\n",
      "14382/14382 [==============================] - 436s 30ms/step - loss: 0.2438 - acc: 0.9083 - val_loss: 0.4051 - val_acc: 0.8684\n",
      "Epoch 10/10\n",
      "14381/14382 [============================>.] - ETA: 0s - loss: 0.2287 - acc: 0.9136Epoch 00010: val_loss did not improve\n",
      "14382/14382 [==============================] - 437s 30ms/step - loss: 0.2287 - acc: 0.9136 - val_loss: 0.4230 - val_acc: 0.8574\n"
     ]
    },
    {
     "data": {
      "text/plain": [
       "<keras.callbacks.History at 0x7f0e1f7db860>"
      ]
     },
     "execution_count": 48,
     "metadata": {},
     "output_type": "execute_result"
    }
   ],
   "source": [
    "model.fit_generator(datagen_train.flow(X_train, Y_train, batch_size=16), validation_data=(X_valid, Y_valid),\n",
    "                          epochs=10,steps_per_epoch=X_train.shape[0],callbacks=[checkpointer], verbose=1)"
   ]
  },
  {
   "cell_type": "code",
   "execution_count": 49,
   "metadata": {},
   "outputs": [
    {
     "data": {
      "text/plain": [
       "(6636, 64, 64, 3)"
      ]
     },
     "execution_count": 49,
     "metadata": {},
     "output_type": "execute_result"
    }
   ],
   "source": [
    "X_test.shape"
   ]
  },
  {
   "cell_type": "code",
   "execution_count": 50,
   "metadata": {
    "scrolled": true
   },
   "outputs": [
    {
     "name": "stdout",
     "output_type": "stream",
     "text": [
      "14382/14382 [==============================] - 7s 500us/step\n",
      "Accuracy : 94.7017104714\n",
      "Total Loss  13.8379451338\n"
     ]
    }
   ],
   "source": [
    "pred=model.evaluate(X_train,Y_train)\n",
    "print(\"Accuracy : \" +str(pred[1]*100))\n",
    "print(\"Total Loss  \" +str(pred[0]*100))"
   ]
  },
  {
   "cell_type": "code",
   "execution_count": 53,
   "metadata": {},
   "outputs": [
    {
     "name": "stdout",
     "output_type": "stream",
     "text": [
      "on valid data\n",
      "2538/2538 [==============================] - 1s 533us/step\n",
      "accuaracy 85.7368006304\n",
      "Total loss 42.302844559\n"
     ]
    }
   ],
   "source": [
    "print(\"on valid data\")\n",
    "pred1=model.evaluate(X_valid,Y_valid)\n",
    "print(\"accuaracy\", str(pred1[1]*100))\n",
    "print(\"Total loss\",str(pred1[0]*100))"
   ]
  },
  {
   "cell_type": "code",
   "execution_count": 54,
   "metadata": {},
   "outputs": [],
   "source": [
    "model.save_weights('final_weight_cnn.h5')"
   ]
  },
  {
   "cell_type": "code",
   "execution_count": 56,
   "metadata": {},
   "outputs": [],
   "source": [
    "predictions = model.predict(X_test)\n",
    "predictions = np.argmax(predictions, axis= 1)"
   ]
  },
  {
   "cell_type": "code",
   "execution_count": 57,
   "metadata": {},
   "outputs": [],
   "source": [
    "classes={0: 'YOUNG', 1: 'MIDDLE', 2: 'OLD'}"
   ]
  },
  {
   "cell_type": "code",
   "execution_count": 58,
   "metadata": {},
   "outputs": [],
   "source": [
    "predicted_class=[classes[x] for x in predictions]"
   ]
  },
  {
   "cell_type": "code",
   "execution_count": 59,
   "metadata": {},
   "outputs": [
    {
     "data": {
      "text/plain": [
       "['MIDDLE', 'YOUNG', 'YOUNG']"
      ]
     },
     "execution_count": 59,
     "metadata": {},
     "output_type": "execute_result"
    }
   ],
   "source": [
    "predicted_class[0:3]"
   ]
  },
  {
   "cell_type": "code",
   "execution_count": 60,
   "metadata": {},
   "outputs": [],
   "source": [
    "sub = pd.DataFrame({\n",
    "    \"Class\": predicted_class,\n",
    "    \"ID\": test['ID']\n",
    "})"
   ]
  },
  {
   "cell_type": "code",
   "execution_count": 61,
   "metadata": {},
   "outputs": [],
   "source": [
    "sub.to_csv(\"cnn_predicted_class.csv\", index=False)"
   ]
  },
  {
   "cell_type": "code",
   "execution_count": null,
   "metadata": {},
   "outputs": [],
   "source": []
  }
 ],
 "metadata": {
  "kernelspec": {
   "display_name": "Python 3",
   "language": "python",
   "name": "python3"
  },
  "language_info": {
   "codemirror_mode": {
    "name": "ipython",
    "version": 3
   },
   "file_extension": ".py",
   "mimetype": "text/x-python",
   "name": "python",
   "nbconvert_exporter": "python",
   "pygments_lexer": "ipython3",
   "version": "3.7.2"
  }
 },
 "nbformat": 4,
 "nbformat_minor": 2
}
