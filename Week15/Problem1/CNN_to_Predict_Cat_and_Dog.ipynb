{
 "cells": [
  {
   "cell_type": "code",
   "execution_count": 1,
   "metadata": {},
   "outputs": [],
   "source": [
    "import theano\n",
    "import tensorflow\n",
    "import numpy as np\n",
    "import matplotlib.pyplot as plt\n",
    "import pandas as pd\n",
    "import pickle\n",
    "\n",
    "from sklearn.preprocessing import LabelEncoder, OneHotEncoder\n",
    "from sklearn.model_selection import train_test_split\n",
    "from sklearn.preprocessing import StandardScaler\n",
    "from sklearn.metrics import roc_curve"
   ]
  },
  {
   "cell_type": "code",
   "execution_count": 2,
   "metadata": {},
   "outputs": [
    {
     "name": "stderr",
     "output_type": "stream",
     "text": [
      "Using TensorFlow backend.\n"
     ]
    }
   ],
   "source": [
    "import keras # Test out Theano when time permits as well\n",
    "from keras.models import Sequential\n",
    "from keras.layers import Dense,MaxPooling2D,Convolution2D,Flatten"
   ]
  },
  {
   "cell_type": "code",
   "execution_count": 3,
   "metadata": {},
   "outputs": [],
   "source": [
    "# Initializing the ANN\n",
    "classifier = Sequential()"
   ]
  },
  {
   "cell_type": "code",
   "execution_count": 4,
   "metadata": {},
   "outputs": [
    {
     "name": "stdout",
     "output_type": "stream",
     "text": [
      "WARNING:tensorflow:From /home/admin1/anaconda3/envs/venv/lib/python3.7/site-packages/tensorflow/python/framework/op_def_library.py:263: colocate_with (from tensorflow.python.framework.ops) is deprecated and will be removed in a future version.\n",
      "Instructions for updating:\n",
      "Colocations handled automatically by placer.\n"
     ]
    },
    {
     "name": "stderr",
     "output_type": "stream",
     "text": [
      "/home/admin1/anaconda3/envs/venv/lib/python3.7/site-packages/ipykernel_launcher.py:3: UserWarning: Update your `Conv2D` call to the Keras 2 API: `Conv2D(32, (3, 3), input_shape=(64, 64, 3..., activation=\"relu\")`\n",
      "  This is separate from the ipykernel package so we can avoid doing imports until\n"
     ]
    }
   ],
   "source": [
    "# step1 - Convolution layer\n",
    "\n",
    "classifier.add(Convolution2D(32,3,3, input_shape =(64,64,3),activation='relu'))\n"
   ]
  },
  {
   "cell_type": "code",
   "execution_count": 5,
   "metadata": {},
   "outputs": [],
   "source": [
    "# step 2 - Pooling layer\n",
    "\n",
    "classifier.add(MaxPooling2D(pool_size=(2,2)))"
   ]
  },
  {
   "cell_type": "code",
   "execution_count": 6,
   "metadata": {},
   "outputs": [
    {
     "name": "stderr",
     "output_type": "stream",
     "text": [
      "/home/admin1/anaconda3/envs/venv/lib/python3.7/site-packages/ipykernel_launcher.py:2: UserWarning: Update your `Conv2D` call to the Keras 2 API: `Conv2D(32, (3, 3), activation=\"relu\")`\n",
      "  \n"
     ]
    }
   ],
   "source": [
    "\n",
    "# classifier.add(Convolution2D(32,3,3,activation='relu'))\n",
    "# classifier.add(MaxPooling2D(pool_size=(2,2)))"
   ]
  },
  {
   "cell_type": "code",
   "execution_count": 7,
   "metadata": {},
   "outputs": [],
   "source": [
    "# step 3 - Flattening\n",
    "\n",
    "classifier.add(Flatten())"
   ]
  },
  {
   "cell_type": "code",
   "execution_count": 8,
   "metadata": {},
   "outputs": [
    {
     "name": "stderr",
     "output_type": "stream",
     "text": [
      "/home/admin1/anaconda3/envs/venv/lib/python3.7/site-packages/ipykernel_launcher.py:3: UserWarning: Update your `Dense` call to the Keras 2 API: `Dense(activation=\"relu\", units=300)`\n",
      "  This is separate from the ipykernel package so we can avoid doing imports until\n",
      "/home/admin1/anaconda3/envs/venv/lib/python3.7/site-packages/ipykernel_launcher.py:4: UserWarning: Update your `Dense` call to the Keras 2 API: `Dense(activation=\"sigmoid\", units=1)`\n",
      "  after removing the cwd from sys.path.\n"
     ]
    }
   ],
   "source": [
    "# step 4 - Full connection\n",
    "\n",
    "classifier.add(Dense(output_dim = 300, activation='relu'))\n",
    "classifier.add(Dense(output_dim = 1, activation='sigmoid'))"
   ]
  },
  {
   "cell_type": "code",
   "execution_count": 9,
   "metadata": {},
   "outputs": [],
   "source": [
    "# step - 5 Compiling the CNN\n",
    "\n",
    "classifier.compile(optimizer='adam', loss='binary_crossentropy', metrics=['accuracy'])"
   ]
  },
  {
   "cell_type": "code",
   "execution_count": 10,
   "metadata": {},
   "outputs": [
    {
     "name": "stdout",
     "output_type": "stream",
     "text": [
      "Found 8000 images belonging to 2 classes.\n",
      "Found 2000 images belonging to 2 classes.\n",
      "WARNING:tensorflow:From /home/admin1/anaconda3/envs/venv/lib/python3.7/site-packages/tensorflow/python/ops/math_ops.py:3066: to_int32 (from tensorflow.python.ops.math_ops) is deprecated and will be removed in a future version.\n",
      "Instructions for updating:\n",
      "Use tf.cast instead.\n",
      "Epoch 1/25\n",
      "80/80 [==============================] - 61s 758ms/step - loss: 0.7044 - acc: 0.5348 - val_loss: 0.6770 - val_acc: 0.5797\n",
      "Epoch 2/25\n",
      "80/80 [==============================] - 50s 630ms/step - loss: 0.6582 - acc: 0.6176 - val_loss: 0.6493 - val_acc: 0.6281\n",
      "Epoch 3/25\n",
      "80/80 [==============================] - 55s 685ms/step - loss: 0.6439 - acc: 0.6348 - val_loss: 0.6340 - val_acc: 0.6719\n",
      "Epoch 4/25\n",
      "80/80 [==============================] - 43s 536ms/step - loss: 0.6156 - acc: 0.6586 - val_loss: 0.5903 - val_acc: 0.7051\n",
      "Epoch 5/25\n",
      "80/80 [==============================] - 42s 524ms/step - loss: 0.5930 - acc: 0.6969 - val_loss: 0.5812 - val_acc: 0.6906\n",
      "Epoch 6/25\n",
      "80/80 [==============================] - 45s 563ms/step - loss: 0.5893 - acc: 0.6891 - val_loss: 0.5675 - val_acc: 0.7234\n",
      "Epoch 7/25\n",
      "80/80 [==============================] - 41s 517ms/step - loss: 0.5752 - acc: 0.6996 - val_loss: 0.5484 - val_acc: 0.7468\n",
      "Epoch 8/25\n",
      "80/80 [==============================] - 48s 602ms/step - loss: 0.5741 - acc: 0.6941 - val_loss: 0.5996 - val_acc: 0.6984\n",
      "Epoch 9/25\n",
      "80/80 [==============================] - 47s 592ms/step - loss: 0.5499 - acc: 0.7223 - val_loss: 0.6069 - val_acc: 0.6953\n",
      "Epoch 10/25\n",
      "80/80 [==============================] - 51s 636ms/step - loss: 0.5462 - acc: 0.7199 - val_loss: 0.5035 - val_acc: 0.7644\n",
      "Epoch 11/25\n",
      "80/80 [==============================] - 46s 570ms/step - loss: 0.5318 - acc: 0.7313 - val_loss: 0.4748 - val_acc: 0.7937\n",
      "Epoch 12/25\n",
      "80/80 [==============================] - 46s 579ms/step - loss: 0.5250 - acc: 0.7355 - val_loss: 0.6347 - val_acc: 0.6703\n",
      "Epoch 13/25\n",
      "80/80 [==============================] - 41s 508ms/step - loss: 0.5059 - acc: 0.7508 - val_loss: 0.5361 - val_acc: 0.7340\n",
      "Epoch 14/25\n",
      "80/80 [==============================] - 45s 568ms/step - loss: 0.5151 - acc: 0.7445 - val_loss: 0.4965 - val_acc: 0.7641\n",
      "Epoch 15/25\n",
      "80/80 [==============================] - 49s 613ms/step - loss: 0.4792 - acc: 0.7598 - val_loss: 0.4606 - val_acc: 0.7828\n",
      "Epoch 16/25\n",
      "80/80 [==============================] - 42s 528ms/step - loss: 0.4970 - acc: 0.7473 - val_loss: 0.5354 - val_acc: 0.7596\n",
      "Epoch 17/25\n",
      "80/80 [==============================] - 40s 505ms/step - loss: 0.4699 - acc: 0.7805 - val_loss: 0.5038 - val_acc: 0.7688\n",
      "Epoch 18/25\n",
      "80/80 [==============================] - 46s 581ms/step - loss: 0.4787 - acc: 0.7664 - val_loss: 0.5700 - val_acc: 0.7094\n",
      "Epoch 19/25\n",
      "80/80 [==============================] - 42s 527ms/step - loss: 0.4724 - acc: 0.7703 - val_loss: 0.4481 - val_acc: 0.7804\n",
      "Epoch 20/25\n",
      "80/80 [==============================] - 41s 517ms/step - loss: 0.4496 - acc: 0.7887 - val_loss: 0.5392 - val_acc: 0.7641\n",
      "Epoch 21/25\n",
      "80/80 [==============================] - 44s 553ms/step - loss: 0.4512 - acc: 0.7844 - val_loss: 0.4576 - val_acc: 0.7688\n",
      "Epoch 22/25\n",
      "80/80 [==============================] - 44s 552ms/step - loss: 0.4572 - acc: 0.7805 - val_loss: 0.5285 - val_acc: 0.7422\n",
      "Epoch 23/25\n",
      "80/80 [==============================] - 37s 459ms/step - loss: 0.4287 - acc: 0.8000 - val_loss: 0.4456 - val_acc: 0.7885\n",
      "Epoch 24/25\n",
      "80/80 [==============================] - 46s 578ms/step - loss: 0.4339 - acc: 0.7914 - val_loss: 0.5187 - val_acc: 0.7531\n",
      "Epoch 25/25\n",
      "80/80 [==============================] - 47s 588ms/step - loss: 0.4545 - acc: 0.7906 - val_loss: 0.4270 - val_acc: 0.8125\n"
     ]
    },
    {
     "data": {
      "text/plain": [
       "<keras.callbacks.History at 0x7f5835cac9e8>"
      ]
     },
     "execution_count": 10,
     "metadata": {},
     "output_type": "execute_result"
    }
   ],
   "source": [
    "# fitting the CNN to our dataset\n",
    "from keras.preprocessing.image import ImageDataGenerator\n",
    "\n",
    "train_datagen = ImageDataGenerator(\n",
    "        rescale=1./255,\n",
    "        shear_range=0.2,\n",
    "        zoom_range=0.2,\n",
    "        horizontal_flip=True)\n",
    "\n",
    "test_datagen = ImageDataGenerator(rescale=1./255)\n",
    "\n",
    "train_set = train_datagen.flow_from_directory(\n",
    "        'dataset/training_set',\n",
    "        target_size=(64, 64),\n",
    "        batch_size=32,\n",
    "        class_mode='binary')\n",
    "\n",
    "test_set = test_datagen.flow_from_directory(\n",
    "        'dataset/test_set',\n",
    "        target_size=(64, 64),\n",
    "        batch_size=32,\n",
    "        class_mode='binary')\n",
    "\n",
    "classifier.fit_generator(\n",
    "        train_set,\n",
    "        steps_per_epoch=80,\n",
    "        epochs=25,\n",
    "        validation_data=test_set,\n",
    "        validation_steps=20)\n"
   ]
  },
  {
   "cell_type": "code",
   "execution_count": 12,
   "metadata": {},
   "outputs": [],
   "source": [
    "# save model\n",
    "file = open('model.pkl', 'wb')\n",
    "pickle.dump(classifier,file)\n",
    "pickle.dump(test_datagen,file)\n",
    "file.close()"
   ]
  },
  {
   "cell_type": "code",
   "execution_count": null,
   "metadata": {},
   "outputs": [],
   "source": []
  }
 ],
 "metadata": {
  "kernelspec": {
   "display_name": "Python 3",
   "language": "python",
   "name": "python3"
  },
  "language_info": {
   "codemirror_mode": {
    "name": "ipython",
    "version": 3
   },
   "file_extension": ".py",
   "mimetype": "text/x-python",
   "name": "python",
   "nbconvert_exporter": "python",
   "pygments_lexer": "ipython3",
   "version": "3.7.2"
  }
 },
 "nbformat": 4,
 "nbformat_minor": 2
}
